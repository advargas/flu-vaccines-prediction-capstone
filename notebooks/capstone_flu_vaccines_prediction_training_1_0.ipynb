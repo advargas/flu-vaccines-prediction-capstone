{
 "cells": [
  {
   "cell_type": "markdown",
   "metadata": {
    "id": "AkL5gXH1yxKE"
   },
   "source": [
    "<style type=\"text/css\">\n",
    "    ol { list-style-type: upper-alpha; }\n",
    "    p { text-align: center; font-weight: bold; }\n",
    "</style>\n",
    "\n",
    "<center>\n",
    "  <img src=https://i.imgur.com/0TSSaqL.png width=\"550\">\n",
    "</center>\n",
    "<center>\n",
    "  <h3>\n",
    "    <b>CAPSTONE</b><br/>\n",
    "    <b>Predict H1N1 and Seasonal Flu Vaccines</b><br/>\n",
    "    <b>GRUPO 3 - Modeling</b>\n",
    "  </h3>\n",
    "</center>"
   ]
  },
  {
   "cell_type": "markdown",
   "metadata": {
    "id": "86KHQg1n38h8"
   },
   "source": [
    "# Contexto\n",
    "\n",
    "El objetivo es predecir si una persona fue vacunada con la vacuna H1N1 o gripe estacional, de acuerdo a información compartida acerca de su contexto, opiniones y comportamientos a nivel salud.\n",
    "\n",
    "Después de la fase de EDA (Exploratory Data Analysis), nos quedamos con 32 de las 36 características iniciales:\n",
    "\n",
    "For all binary variables: 0 = No; 1 = Yes.\n",
    "\n",
    "*   `h1n1_concern` - Level of concern about the H1N1 flu.\n",
    "  *   0 = Not at all concerned; 1 = Not very concerned; 2 = Somewhat concerned; 3 = Very concerned.\n",
    "*   `h1n1_knowledge` - Level of knowledge about H1N1 flu.\n",
    "  *   0 = No knowledge; 1 = A little knowledge; 2 = A lot of knowledge.\n",
    "*   `behavioral_antiviral_meds` - Has taken antiviral medications. (binary)\n",
    "*   `behavioral_avoidance` - Has avoided close contact with others with flu-like symptoms. (binary)\n",
    "*   `behavioral_face_mask` - Has bought a face mask. (binary)\n",
    "*   `behavioral_wash_hands` - Has frequently washed hands or used hand sanitizer. (binary)\n",
    "*   `behavioral_large_gatherings` - Has reduced time at large gatherings. (binary)\n",
    "*   `behavioral_outside_home` - Has reduced contact with people outside of own household. (binary)\n",
    "*   `behavioral_touch_face` - Has avoided touching eyes, nose, or mouth. (binary)\n",
    "*   `doctor_recc_h1n1` - H1N1 flu vaccine was recommended by doctor. (binary)\n",
    "*   `doctor_recc_seasonal` - Seasonal flu vaccine was recommended by doctor. (binary)\n",
    "*   `chronic_med_condition` - Has any of the following chronic medical conditions: asthma or an other lung condition, diabetes, a heart condition, a kidney condition, sickle cell anemia or other anemia, a neurological or neuromuscular condition, a liver condition, or a weakened immune system caused by a chronic illness or by medicines taken for a chronic illness. (binary)\n",
    "*   `child_under_6_months` - Has regular close contact with a child under the age of six months. (binary)\n",
    "*   `health_worker` - Is a healthcare worker. (binary)\n",
    "*   `health_insurance` - Has health insurance. (binary)\n",
    "*   `opinion_h1n1_vacc_effective` - Respondent's opinion about H1N1 vaccine effectiveness.\n",
    "  *   1 = Not at all effective; 2 = Not very effective; 3 = Don't know; 4 = Somewhat effective; 5 = Very effective.\n",
    "*   `opinion_h1n1_risk` - Respondent's opinion about risk of getting sick with H1N1 flu without vaccine.\n",
    "  *   1 = Very Low; 2 = Somewhat low; 3 = Don't know; 4 = Somewhat high; 5 = Very high.\n",
    "*   `opinion_h1n1_sick_from_vacc` - Respondent's worry of getting sick from taking H1N1 vaccine.\n",
    "  *   1 = Not at all worried; 2 = Not very worried; 3 = Don't know; 4 = Somewhat worried; 5 = Very worried.\n",
    "*   `opinion_seas_vacc_effective` - Respondent's opinion about seasonal flu vaccine effectiveness.\n",
    "  *   1 = Not at all effective; 2 = Not very effective; 3 = Don't know; 4 = Somewhat effective; 5 = Very effective.\n",
    "*   `opinion_seas_risk` - Respondent's opinion about risk of getting sick with seasonal flu without vaccine.\n",
    "  *   1 = Very Low; 2 = Somewhat low; 3 = Don't know; 4 = Somewhat high; 5 = Very high.\n",
    "*   `opinion_seas_sick_from_vacc` - Respondent's worry of getting sick from taking seasonal flu vaccine.\n",
    "     1 = Not at all worried; 2 = Not very worried; 3 = Don't know; 4 = Somewhat worried; 5 = Very worried.\n",
    "*   `age_group` - Age group of respondent.\n",
    "*   `education` - Self-reported education level.\n",
    "*   `race` - Race of respondent.\n",
    "*   `sex` - Sex of respondent.\n",
    "*   `income_poverty` - Household annual income of respondent with respect to 2008 Census poverty thresholds.\n",
    "*   `marital_status` - Marital status of respondent.\n",
    "*   `rent_or_own` - Housing situation of respondent.\n",
    "*   `employment_status` - Employment status of respondent.\n",
    "*   `census_msa` - Respondent's residence within metropolitan statistical areas (MSA) as defined by the U.S. Census.\n",
    "*   `household_adults` - Number of other adults in household, top-coded to 3.\n",
    "*   `household_children` - Number of children in household, top-coded to 3."
   ]
  },
  {
   "cell_type": "markdown",
   "metadata": {
    "id": "x6bPUjrIYOJD"
   },
   "source": [
    "# 1. Preparación"
   ]
  },
  {
   "cell_type": "markdown",
   "metadata": {
    "id": "wtvW7aBjMZIQ"
   },
   "source": [
    "En esta fase vamos a cargar y preparar el dataset resultante de la fase de EDA (Exploratory Data Analysis).\n",
    "\n",
    "Primero importamos las librerías necesarias."
   ]
  },
  {
   "cell_type": "code",
   "execution_count": 1,
   "metadata": {
    "id": "D7Yb-ynBMhMn"
   },
   "outputs": [],
   "source": [
    "import pandas as pd\n",
    "import numpy as np\n",
    "import matplotlib.pyplot as plt\n",
    "import seaborn as sns\n",
    "\n",
    "from sklearn.preprocessing import StandardScaler\n",
    "from sklearn.impute import SimpleImputer\n",
    "from sklearn.compose import ColumnTransformer\n",
    "\n",
    "from sklearn.naive_bayes import GaussianNB\n",
    "from sklearn.linear_model import LogisticRegression\n",
    "from sklearn.neighbors import KNeighborsClassifier\n",
    "from sklearn.tree import DecisionTreeClassifier\n",
    "from sklearn.ensemble import RandomForestClassifier\n",
    "from sklearn.svm import SVC\n",
    "\n",
    "from sklearn.model_selection import GridSearchCV\n",
    "from sklearn.model_selection import StratifiedKFold\n",
    "from sklearn.model_selection import train_test_split\n",
    "\n",
    "from sklearn.pipeline import Pipeline\n",
    "from sklearn.multioutput import MultiOutputClassifier\n",
    "\n",
    "from sklearn.metrics import accuracy_score, precision_score, recall_score, classification_report\n",
    "from sklearn.metrics import roc_curve, roc_auc_score\n",
    "\n",
    "import warnings\n",
    "warnings.filterwarnings('ignore')\n",
    "warnings.simplefilter('ignore')\n",
    "\n",
    "plt.style.use('ggplot')\n",
    "\n",
    "RANDOM_SEED = 42    # Set a random seed for reproducibility!"
   ]
  },
  {
   "cell_type": "code",
   "execution_count": 2,
   "metadata": {
    "id": "3pMCATHpLjSv"
   },
   "outputs": [],
   "source": [
    "def print_metrics(y_test, y_pred_result):\n",
    "  print(\"Accuracy:\", \"{:10.4f}\".format(accuracy_score(y_test, y_pred_result, normalize=True)))\n",
    "  print(\"Precision:\", \"{:10.4f}\".format(precision_score(y_test, y_pred_result)))\n",
    "  print(\"Recall:\", \"{:10.4f}\".format(recall_score(y_test, y_pred_result)))\n",
    "  print(\"\\n\", classification_report(y_test, y_pred_result))"
   ]
  },
  {
   "cell_type": "code",
   "execution_count": 3,
   "metadata": {
    "id": "kidWW-GTLhf2"
   },
   "outputs": [],
   "source": [
    "def plot_roc(y_true, y_score, label_name, ax):\n",
    "    fpr, tpr, thresholds = roc_curve(y_true, y_score)\n",
    "    ax.plot(fpr, tpr)\n",
    "    ax.plot([0, 1], [0, 1], color='grey', linestyle='--')\n",
    "    ax.set_ylabel('TPR')\n",
    "    ax.set_xlabel('FPR')\n",
    "    ax.set_title(\n",
    "        f\"{label_name}: AUC = {roc_auc_score(y_true, y_score):.4f}\"\n",
    ")"
   ]
  },
  {
   "cell_type": "markdown",
   "metadata": {
    "id": "o86NsICJLMzY"
   },
   "source": [
    "Cargamos el dataset y exploramos su estructura y datos."
   ]
  },
  {
   "cell_type": "code",
   "execution_count": 4,
   "metadata": {
    "colab": {
     "base_uri": "https://localhost:8080/",
     "height": 287
    },
    "id": "M8t8Qi9_LRIj",
    "outputId": "dd6d6c81-1059-4fe8-ae09-fdcae30fa971"
   },
   "outputs": [
    {
     "data": {
      "text/html": [
       "<div>\n",
       "<style scoped>\n",
       "    .dataframe tbody tr th:only-of-type {\n",
       "        vertical-align: middle;\n",
       "    }\n",
       "\n",
       "    .dataframe tbody tr th {\n",
       "        vertical-align: top;\n",
       "    }\n",
       "\n",
       "    .dataframe thead th {\n",
       "        text-align: right;\n",
       "    }\n",
       "</style>\n",
       "<table border=\"1\" class=\"dataframe\">\n",
       "  <thead>\n",
       "    <tr style=\"text-align: right;\">\n",
       "      <th></th>\n",
       "      <th>h1n1_concern</th>\n",
       "      <th>h1n1_knowledge</th>\n",
       "      <th>behavioral_antiviral_meds</th>\n",
       "      <th>behavioral_avoidance</th>\n",
       "      <th>behavioral_face_mask</th>\n",
       "      <th>behavioral_wash_hands</th>\n",
       "      <th>behavioral_large_gatherings</th>\n",
       "      <th>behavioral_outside_home</th>\n",
       "      <th>behavioral_touch_face</th>\n",
       "      <th>doctor_recc_h1n1</th>\n",
       "      <th>...</th>\n",
       "      <th>age_group</th>\n",
       "      <th>education</th>\n",
       "      <th>race</th>\n",
       "      <th>sex</th>\n",
       "      <th>marital_status</th>\n",
       "      <th>rent_or_own</th>\n",
       "      <th>employment_status</th>\n",
       "      <th>census_msa</th>\n",
       "      <th>household_adults</th>\n",
       "      <th>household_children</th>\n",
       "    </tr>\n",
       "    <tr>\n",
       "      <th>respondent_id</th>\n",
       "      <th></th>\n",
       "      <th></th>\n",
       "      <th></th>\n",
       "      <th></th>\n",
       "      <th></th>\n",
       "      <th></th>\n",
       "      <th></th>\n",
       "      <th></th>\n",
       "      <th></th>\n",
       "      <th></th>\n",
       "      <th></th>\n",
       "      <th></th>\n",
       "      <th></th>\n",
       "      <th></th>\n",
       "      <th></th>\n",
       "      <th></th>\n",
       "      <th></th>\n",
       "      <th></th>\n",
       "      <th></th>\n",
       "      <th></th>\n",
       "      <th></th>\n",
       "    </tr>\n",
       "  </thead>\n",
       "  <tbody>\n",
       "    <tr>\n",
       "      <th>0</th>\n",
       "      <td>1.0</td>\n",
       "      <td>0.0</td>\n",
       "      <td>0.0</td>\n",
       "      <td>0.0</td>\n",
       "      <td>0.0</td>\n",
       "      <td>0.0</td>\n",
       "      <td>0.0</td>\n",
       "      <td>1.0</td>\n",
       "      <td>1.0</td>\n",
       "      <td>0.0</td>\n",
       "      <td>...</td>\n",
       "      <td>3</td>\n",
       "      <td>1</td>\n",
       "      <td>3</td>\n",
       "      <td>0</td>\n",
       "      <td>1</td>\n",
       "      <td>0</td>\n",
       "      <td>1</td>\n",
       "      <td>2</td>\n",
       "      <td>0.0</td>\n",
       "      <td>0.0</td>\n",
       "    </tr>\n",
       "    <tr>\n",
       "      <th>1</th>\n",
       "      <td>3.0</td>\n",
       "      <td>2.0</td>\n",
       "      <td>0.0</td>\n",
       "      <td>1.0</td>\n",
       "      <td>0.0</td>\n",
       "      <td>1.0</td>\n",
       "      <td>0.0</td>\n",
       "      <td>1.0</td>\n",
       "      <td>1.0</td>\n",
       "      <td>0.0</td>\n",
       "      <td>...</td>\n",
       "      <td>1</td>\n",
       "      <td>0</td>\n",
       "      <td>3</td>\n",
       "      <td>1</td>\n",
       "      <td>1</td>\n",
       "      <td>1</td>\n",
       "      <td>0</td>\n",
       "      <td>0</td>\n",
       "      <td>0.0</td>\n",
       "      <td>0.0</td>\n",
       "    </tr>\n",
       "    <tr>\n",
       "      <th>2</th>\n",
       "      <td>1.0</td>\n",
       "      <td>1.0</td>\n",
       "      <td>0.0</td>\n",
       "      <td>1.0</td>\n",
       "      <td>0.0</td>\n",
       "      <td>0.0</td>\n",
       "      <td>0.0</td>\n",
       "      <td>0.0</td>\n",
       "      <td>0.0</td>\n",
       "      <td>0.0</td>\n",
       "      <td>...</td>\n",
       "      <td>0</td>\n",
       "      <td>2</td>\n",
       "      <td>3</td>\n",
       "      <td>1</td>\n",
       "      <td>1</td>\n",
       "      <td>0</td>\n",
       "      <td>0</td>\n",
       "      <td>0</td>\n",
       "      <td>2.0</td>\n",
       "      <td>0.0</td>\n",
       "    </tr>\n",
       "    <tr>\n",
       "      <th>3</th>\n",
       "      <td>1.0</td>\n",
       "      <td>1.0</td>\n",
       "      <td>0.0</td>\n",
       "      <td>1.0</td>\n",
       "      <td>0.0</td>\n",
       "      <td>1.0</td>\n",
       "      <td>1.0</td>\n",
       "      <td>0.0</td>\n",
       "      <td>0.0</td>\n",
       "      <td>0.0</td>\n",
       "      <td>...</td>\n",
       "      <td>4</td>\n",
       "      <td>0</td>\n",
       "      <td>3</td>\n",
       "      <td>0</td>\n",
       "      <td>1</td>\n",
       "      <td>1</td>\n",
       "      <td>1</td>\n",
       "      <td>1</td>\n",
       "      <td>0.0</td>\n",
       "      <td>0.0</td>\n",
       "    </tr>\n",
       "    <tr>\n",
       "      <th>4</th>\n",
       "      <td>2.0</td>\n",
       "      <td>1.0</td>\n",
       "      <td>0.0</td>\n",
       "      <td>1.0</td>\n",
       "      <td>0.0</td>\n",
       "      <td>1.0</td>\n",
       "      <td>1.0</td>\n",
       "      <td>0.0</td>\n",
       "      <td>1.0</td>\n",
       "      <td>0.0</td>\n",
       "      <td>...</td>\n",
       "      <td>2</td>\n",
       "      <td>3</td>\n",
       "      <td>3</td>\n",
       "      <td>0</td>\n",
       "      <td>0</td>\n",
       "      <td>0</td>\n",
       "      <td>0</td>\n",
       "      <td>0</td>\n",
       "      <td>1.0</td>\n",
       "      <td>0.0</td>\n",
       "    </tr>\n",
       "  </tbody>\n",
       "</table>\n",
       "<p>5 rows × 31 columns</p>\n",
       "</div>"
      ],
      "text/plain": [
       "               h1n1_concern  h1n1_knowledge  behavioral_antiviral_meds  \\\n",
       "respondent_id                                                            \n",
       "0                       1.0             0.0                        0.0   \n",
       "1                       3.0             2.0                        0.0   \n",
       "2                       1.0             1.0                        0.0   \n",
       "3                       1.0             1.0                        0.0   \n",
       "4                       2.0             1.0                        0.0   \n",
       "\n",
       "               behavioral_avoidance  behavioral_face_mask  \\\n",
       "respondent_id                                               \n",
       "0                               0.0                   0.0   \n",
       "1                               1.0                   0.0   \n",
       "2                               1.0                   0.0   \n",
       "3                               1.0                   0.0   \n",
       "4                               1.0                   0.0   \n",
       "\n",
       "               behavioral_wash_hands  behavioral_large_gatherings  \\\n",
       "respondent_id                                                       \n",
       "0                                0.0                          0.0   \n",
       "1                                1.0                          0.0   \n",
       "2                                0.0                          0.0   \n",
       "3                                1.0                          1.0   \n",
       "4                                1.0                          1.0   \n",
       "\n",
       "               behavioral_outside_home  behavioral_touch_face  \\\n",
       "respondent_id                                                   \n",
       "0                                  1.0                    1.0   \n",
       "1                                  1.0                    1.0   \n",
       "2                                  0.0                    0.0   \n",
       "3                                  0.0                    0.0   \n",
       "4                                  0.0                    1.0   \n",
       "\n",
       "               doctor_recc_h1n1  ...  age_group  education  race  sex  \\\n",
       "respondent_id                    ...                                    \n",
       "0                           0.0  ...          3          1     3    0   \n",
       "1                           0.0  ...          1          0     3    1   \n",
       "2                           0.0  ...          0          2     3    1   \n",
       "3                           0.0  ...          4          0     3    0   \n",
       "4                           0.0  ...          2          3     3    0   \n",
       "\n",
       "               marital_status  rent_or_own  employment_status  census_msa  \\\n",
       "respondent_id                                                               \n",
       "0                           1            0                  1           2   \n",
       "1                           1            1                  0           0   \n",
       "2                           1            0                  0           0   \n",
       "3                           1            1                  1           1   \n",
       "4                           0            0                  0           0   \n",
       "\n",
       "               household_adults  household_children  \n",
       "respondent_id                                        \n",
       "0                           0.0                 0.0  \n",
       "1                           0.0                 0.0  \n",
       "2                           2.0                 0.0  \n",
       "3                           0.0                 0.0  \n",
       "4                           1.0                 0.0  \n",
       "\n",
       "[5 rows x 31 columns]"
      ]
     },
     "execution_count": 4,
     "metadata": {},
     "output_type": "execute_result"
    }
   ],
   "source": [
    "features_df = pd.read_csv('training_set_features_eda_notnulls.csv', index_col=\"respondent_id\")\n",
    "features_df.head()"
   ]
  },
  {
   "cell_type": "markdown",
   "metadata": {
    "id": "5yT3hei3reRD"
   },
   "source": [
    "El dataset tiene 26707 filas y 32 columnas."
   ]
  },
  {
   "cell_type": "code",
   "execution_count": 5,
   "metadata": {
    "colab": {
     "base_uri": "https://localhost:8080/"
    },
    "id": "71tJbe-d6EY5",
    "outputId": "0c45b687-c138-472d-c1f8-2853da395bec"
   },
   "outputs": [
    {
     "data": {
      "text/plain": [
       "(26707, 31)"
      ]
     },
     "execution_count": 5,
     "metadata": {},
     "output_type": "execute_result"
    }
   ],
   "source": [
    "features_df.shape"
   ]
  },
  {
   "cell_type": "markdown",
   "metadata": {
    "id": "uqY6GmZ5rhnp"
   },
   "source": [
    "Tipos de datos por columna:"
   ]
  },
  {
   "cell_type": "code",
   "execution_count": 6,
   "metadata": {
    "colab": {
     "base_uri": "https://localhost:8080/"
    },
    "id": "HHFAkzPMrieg",
    "outputId": "9114d244-0265-4f36-f8ab-66ebd2beb6c3"
   },
   "outputs": [
    {
     "data": {
      "text/plain": [
       "h1n1_concern                   float64\n",
       "h1n1_knowledge                 float64\n",
       "behavioral_antiviral_meds      float64\n",
       "behavioral_avoidance           float64\n",
       "behavioral_face_mask           float64\n",
       "behavioral_wash_hands          float64\n",
       "behavioral_large_gatherings    float64\n",
       "behavioral_outside_home        float64\n",
       "behavioral_touch_face          float64\n",
       "doctor_recc_h1n1               float64\n",
       "doctor_recc_seasonal           float64\n",
       "chronic_med_condition          float64\n",
       "child_under_6_months           float64\n",
       "health_worker                  float64\n",
       "health_insurance               float64\n",
       "opinion_h1n1_vacc_effective    float64\n",
       "opinion_h1n1_risk              float64\n",
       "opinion_h1n1_sick_from_vacc    float64\n",
       "opinion_seas_vacc_effective    float64\n",
       "opinion_seas_risk              float64\n",
       "opinion_seas_sick_from_vacc    float64\n",
       "age_group                        int64\n",
       "education                        int64\n",
       "race                             int64\n",
       "sex                              int64\n",
       "marital_status                   int64\n",
       "rent_or_own                      int64\n",
       "employment_status                int64\n",
       "census_msa                       int64\n",
       "household_adults               float64\n",
       "household_children             float64\n",
       "dtype: object"
      ]
     },
     "execution_count": 6,
     "metadata": {},
     "output_type": "execute_result"
    }
   ],
   "source": [
    "features_df.dtypes"
   ]
  },
  {
   "cell_type": "code",
   "execution_count": 7,
   "metadata": {
    "colab": {
     "base_uri": "https://localhost:8080/",
     "height": 350
    },
    "id": "9OJu2tmWQski",
    "outputId": "d3f8f95e-5d47-4176-ef5a-9f5a3f31e1ca"
   },
   "outputs": [
    {
     "data": {
      "text/html": [
       "<div>\n",
       "<style scoped>\n",
       "    .dataframe tbody tr th:only-of-type {\n",
       "        vertical-align: middle;\n",
       "    }\n",
       "\n",
       "    .dataframe tbody tr th {\n",
       "        vertical-align: top;\n",
       "    }\n",
       "\n",
       "    .dataframe thead th {\n",
       "        text-align: right;\n",
       "    }\n",
       "</style>\n",
       "<table border=\"1\" class=\"dataframe\">\n",
       "  <thead>\n",
       "    <tr style=\"text-align: right;\">\n",
       "      <th></th>\n",
       "      <th>h1n1_concern</th>\n",
       "      <th>h1n1_knowledge</th>\n",
       "      <th>behavioral_antiviral_meds</th>\n",
       "      <th>behavioral_avoidance</th>\n",
       "      <th>behavioral_face_mask</th>\n",
       "      <th>behavioral_wash_hands</th>\n",
       "      <th>behavioral_large_gatherings</th>\n",
       "      <th>behavioral_outside_home</th>\n",
       "      <th>behavioral_touch_face</th>\n",
       "      <th>doctor_recc_h1n1</th>\n",
       "      <th>...</th>\n",
       "      <th>age_group</th>\n",
       "      <th>education</th>\n",
       "      <th>race</th>\n",
       "      <th>sex</th>\n",
       "      <th>marital_status</th>\n",
       "      <th>rent_or_own</th>\n",
       "      <th>employment_status</th>\n",
       "      <th>census_msa</th>\n",
       "      <th>household_adults</th>\n",
       "      <th>household_children</th>\n",
       "    </tr>\n",
       "  </thead>\n",
       "  <tbody>\n",
       "    <tr>\n",
       "      <th>count</th>\n",
       "      <td>26707.000000</td>\n",
       "      <td>26707.000000</td>\n",
       "      <td>26707.000000</td>\n",
       "      <td>26707.000000</td>\n",
       "      <td>26707.000000</td>\n",
       "      <td>26707.000000</td>\n",
       "      <td>26707.000000</td>\n",
       "      <td>26707.000000</td>\n",
       "      <td>26707.000000</td>\n",
       "      <td>26707.000000</td>\n",
       "      <td>...</td>\n",
       "      <td>26707.000000</td>\n",
       "      <td>26707.000000</td>\n",
       "      <td>26707.000000</td>\n",
       "      <td>26707.000000</td>\n",
       "      <td>26707.000000</td>\n",
       "      <td>26707.000000</td>\n",
       "      <td>26707.000000</td>\n",
       "      <td>26707.000000</td>\n",
       "      <td>26707.000000</td>\n",
       "      <td>26707.000000</td>\n",
       "    </tr>\n",
       "    <tr>\n",
       "      <th>mean</th>\n",
       "      <td>1.619800</td>\n",
       "      <td>1.261392</td>\n",
       "      <td>0.048714</td>\n",
       "      <td>0.727749</td>\n",
       "      <td>0.068933</td>\n",
       "      <td>0.825888</td>\n",
       "      <td>0.357472</td>\n",
       "      <td>0.336279</td>\n",
       "      <td>0.678811</td>\n",
       "      <td>0.202494</td>\n",
       "      <td>...</td>\n",
       "      <td>2.186131</td>\n",
       "      <td>1.741117</td>\n",
       "      <td>2.570300</td>\n",
       "      <td>0.406223</td>\n",
       "      <td>0.439735</td>\n",
       "      <td>0.222002</td>\n",
       "      <td>0.491894</td>\n",
       "      <td>0.833489</td>\n",
       "      <td>0.887558</td>\n",
       "      <td>0.529599</td>\n",
       "    </tr>\n",
       "    <tr>\n",
       "      <th>std</th>\n",
       "      <td>0.909016</td>\n",
       "      <td>0.617047</td>\n",
       "      <td>0.215273</td>\n",
       "      <td>0.445127</td>\n",
       "      <td>0.253345</td>\n",
       "      <td>0.379213</td>\n",
       "      <td>0.479264</td>\n",
       "      <td>0.472444</td>\n",
       "      <td>0.466942</td>\n",
       "      <td>0.401866</td>\n",
       "      <td>...</td>\n",
       "      <td>1.457320</td>\n",
       "      <td>1.073989</td>\n",
       "      <td>0.923226</td>\n",
       "      <td>0.491136</td>\n",
       "      <td>0.496364</td>\n",
       "      <td>0.415600</td>\n",
       "      <td>0.598964</td>\n",
       "      <td>0.823313</td>\n",
       "      <td>0.749980</td>\n",
       "      <td>0.925264</td>\n",
       "    </tr>\n",
       "    <tr>\n",
       "      <th>min</th>\n",
       "      <td>0.000000</td>\n",
       "      <td>0.000000</td>\n",
       "      <td>0.000000</td>\n",
       "      <td>0.000000</td>\n",
       "      <td>0.000000</td>\n",
       "      <td>0.000000</td>\n",
       "      <td>0.000000</td>\n",
       "      <td>0.000000</td>\n",
       "      <td>0.000000</td>\n",
       "      <td>0.000000</td>\n",
       "      <td>...</td>\n",
       "      <td>0.000000</td>\n",
       "      <td>0.000000</td>\n",
       "      <td>0.000000</td>\n",
       "      <td>0.000000</td>\n",
       "      <td>0.000000</td>\n",
       "      <td>0.000000</td>\n",
       "      <td>0.000000</td>\n",
       "      <td>0.000000</td>\n",
       "      <td>0.000000</td>\n",
       "      <td>0.000000</td>\n",
       "    </tr>\n",
       "    <tr>\n",
       "      <th>25%</th>\n",
       "      <td>1.000000</td>\n",
       "      <td>1.000000</td>\n",
       "      <td>0.000000</td>\n",
       "      <td>0.000000</td>\n",
       "      <td>0.000000</td>\n",
       "      <td>1.000000</td>\n",
       "      <td>0.000000</td>\n",
       "      <td>0.000000</td>\n",
       "      <td>0.000000</td>\n",
       "      <td>0.000000</td>\n",
       "      <td>...</td>\n",
       "      <td>1.000000</td>\n",
       "      <td>1.000000</td>\n",
       "      <td>3.000000</td>\n",
       "      <td>0.000000</td>\n",
       "      <td>0.000000</td>\n",
       "      <td>0.000000</td>\n",
       "      <td>0.000000</td>\n",
       "      <td>0.000000</td>\n",
       "      <td>0.000000</td>\n",
       "      <td>0.000000</td>\n",
       "    </tr>\n",
       "    <tr>\n",
       "      <th>50%</th>\n",
       "      <td>2.000000</td>\n",
       "      <td>1.000000</td>\n",
       "      <td>0.000000</td>\n",
       "      <td>1.000000</td>\n",
       "      <td>0.000000</td>\n",
       "      <td>1.000000</td>\n",
       "      <td>0.000000</td>\n",
       "      <td>0.000000</td>\n",
       "      <td>1.000000</td>\n",
       "      <td>0.000000</td>\n",
       "      <td>...</td>\n",
       "      <td>2.000000</td>\n",
       "      <td>2.000000</td>\n",
       "      <td>3.000000</td>\n",
       "      <td>0.000000</td>\n",
       "      <td>0.000000</td>\n",
       "      <td>0.000000</td>\n",
       "      <td>0.000000</td>\n",
       "      <td>1.000000</td>\n",
       "      <td>1.000000</td>\n",
       "      <td>0.000000</td>\n",
       "    </tr>\n",
       "    <tr>\n",
       "      <th>75%</th>\n",
       "      <td>2.000000</td>\n",
       "      <td>2.000000</td>\n",
       "      <td>0.000000</td>\n",
       "      <td>1.000000</td>\n",
       "      <td>0.000000</td>\n",
       "      <td>1.000000</td>\n",
       "      <td>1.000000</td>\n",
       "      <td>1.000000</td>\n",
       "      <td>1.000000</td>\n",
       "      <td>0.000000</td>\n",
       "      <td>...</td>\n",
       "      <td>4.000000</td>\n",
       "      <td>3.000000</td>\n",
       "      <td>3.000000</td>\n",
       "      <td>1.000000</td>\n",
       "      <td>1.000000</td>\n",
       "      <td>0.000000</td>\n",
       "      <td>1.000000</td>\n",
       "      <td>2.000000</td>\n",
       "      <td>1.000000</td>\n",
       "      <td>1.000000</td>\n",
       "    </tr>\n",
       "    <tr>\n",
       "      <th>max</th>\n",
       "      <td>3.000000</td>\n",
       "      <td>2.000000</td>\n",
       "      <td>1.000000</td>\n",
       "      <td>1.000000</td>\n",
       "      <td>1.000000</td>\n",
       "      <td>1.000000</td>\n",
       "      <td>1.000000</td>\n",
       "      <td>1.000000</td>\n",
       "      <td>1.000000</td>\n",
       "      <td>1.000000</td>\n",
       "      <td>...</td>\n",
       "      <td>4.000000</td>\n",
       "      <td>3.000000</td>\n",
       "      <td>3.000000</td>\n",
       "      <td>1.000000</td>\n",
       "      <td>1.000000</td>\n",
       "      <td>1.000000</td>\n",
       "      <td>2.000000</td>\n",
       "      <td>2.000000</td>\n",
       "      <td>3.000000</td>\n",
       "      <td>3.000000</td>\n",
       "    </tr>\n",
       "  </tbody>\n",
       "</table>\n",
       "<p>8 rows × 31 columns</p>\n",
       "</div>"
      ],
      "text/plain": [
       "       h1n1_concern  h1n1_knowledge  behavioral_antiviral_meds  \\\n",
       "count  26707.000000    26707.000000               26707.000000   \n",
       "mean       1.619800        1.261392                   0.048714   \n",
       "std        0.909016        0.617047                   0.215273   \n",
       "min        0.000000        0.000000                   0.000000   \n",
       "25%        1.000000        1.000000                   0.000000   \n",
       "50%        2.000000        1.000000                   0.000000   \n",
       "75%        2.000000        2.000000                   0.000000   \n",
       "max        3.000000        2.000000                   1.000000   \n",
       "\n",
       "       behavioral_avoidance  behavioral_face_mask  behavioral_wash_hands  \\\n",
       "count          26707.000000          26707.000000           26707.000000   \n",
       "mean               0.727749              0.068933               0.825888   \n",
       "std                0.445127              0.253345               0.379213   \n",
       "min                0.000000              0.000000               0.000000   \n",
       "25%                0.000000              0.000000               1.000000   \n",
       "50%                1.000000              0.000000               1.000000   \n",
       "75%                1.000000              0.000000               1.000000   \n",
       "max                1.000000              1.000000               1.000000   \n",
       "\n",
       "       behavioral_large_gatherings  behavioral_outside_home  \\\n",
       "count                 26707.000000             26707.000000   \n",
       "mean                      0.357472                 0.336279   \n",
       "std                       0.479264                 0.472444   \n",
       "min                       0.000000                 0.000000   \n",
       "25%                       0.000000                 0.000000   \n",
       "50%                       0.000000                 0.000000   \n",
       "75%                       1.000000                 1.000000   \n",
       "max                       1.000000                 1.000000   \n",
       "\n",
       "       behavioral_touch_face  doctor_recc_h1n1  ...     age_group  \\\n",
       "count           26707.000000      26707.000000  ...  26707.000000   \n",
       "mean                0.678811          0.202494  ...      2.186131   \n",
       "std                 0.466942          0.401866  ...      1.457320   \n",
       "min                 0.000000          0.000000  ...      0.000000   \n",
       "25%                 0.000000          0.000000  ...      1.000000   \n",
       "50%                 1.000000          0.000000  ...      2.000000   \n",
       "75%                 1.000000          0.000000  ...      4.000000   \n",
       "max                 1.000000          1.000000  ...      4.000000   \n",
       "\n",
       "          education          race           sex  marital_status   rent_or_own  \\\n",
       "count  26707.000000  26707.000000  26707.000000    26707.000000  26707.000000   \n",
       "mean       1.741117      2.570300      0.406223        0.439735      0.222002   \n",
       "std        1.073989      0.923226      0.491136        0.496364      0.415600   \n",
       "min        0.000000      0.000000      0.000000        0.000000      0.000000   \n",
       "25%        1.000000      3.000000      0.000000        0.000000      0.000000   \n",
       "50%        2.000000      3.000000      0.000000        0.000000      0.000000   \n",
       "75%        3.000000      3.000000      1.000000        1.000000      0.000000   \n",
       "max        3.000000      3.000000      1.000000        1.000000      1.000000   \n",
       "\n",
       "       employment_status    census_msa  household_adults  household_children  \n",
       "count       26707.000000  26707.000000      26707.000000        26707.000000  \n",
       "mean            0.491894      0.833489          0.887558            0.529599  \n",
       "std             0.598964      0.823313          0.749980            0.925264  \n",
       "min             0.000000      0.000000          0.000000            0.000000  \n",
       "25%             0.000000      0.000000          0.000000            0.000000  \n",
       "50%             0.000000      1.000000          1.000000            0.000000  \n",
       "75%             1.000000      2.000000          1.000000            1.000000  \n",
       "max             2.000000      2.000000          3.000000            3.000000  \n",
       "\n",
       "[8 rows x 31 columns]"
      ]
     },
     "execution_count": 7,
     "metadata": {},
     "output_type": "execute_result"
    }
   ],
   "source": [
    "features_df.describe()"
   ]
  },
  {
   "cell_type": "code",
   "execution_count": 8,
   "metadata": {
    "colab": {
     "base_uri": "https://localhost:8080/",
     "height": 238
    },
    "id": "fLHaCdTyBgIS",
    "outputId": "f26aea32-1f8a-49b8-ec45-21b4a28d59ae"
   },
   "outputs": [
    {
     "data": {
      "text/html": [
       "<div>\n",
       "<style scoped>\n",
       "    .dataframe tbody tr th:only-of-type {\n",
       "        vertical-align: middle;\n",
       "    }\n",
       "\n",
       "    .dataframe tbody tr th {\n",
       "        vertical-align: top;\n",
       "    }\n",
       "\n",
       "    .dataframe thead th {\n",
       "        text-align: right;\n",
       "    }\n",
       "</style>\n",
       "<table border=\"1\" class=\"dataframe\">\n",
       "  <thead>\n",
       "    <tr style=\"text-align: right;\">\n",
       "      <th></th>\n",
       "      <th>h1n1_vaccine</th>\n",
       "      <th>seasonal_vaccine</th>\n",
       "    </tr>\n",
       "    <tr>\n",
       "      <th>respondent_id</th>\n",
       "      <th></th>\n",
       "      <th></th>\n",
       "    </tr>\n",
       "  </thead>\n",
       "  <tbody>\n",
       "    <tr>\n",
       "      <th>0</th>\n",
       "      <td>0</td>\n",
       "      <td>0</td>\n",
       "    </tr>\n",
       "    <tr>\n",
       "      <th>1</th>\n",
       "      <td>0</td>\n",
       "      <td>1</td>\n",
       "    </tr>\n",
       "    <tr>\n",
       "      <th>2</th>\n",
       "      <td>0</td>\n",
       "      <td>0</td>\n",
       "    </tr>\n",
       "    <tr>\n",
       "      <th>3</th>\n",
       "      <td>0</td>\n",
       "      <td>1</td>\n",
       "    </tr>\n",
       "    <tr>\n",
       "      <th>4</th>\n",
       "      <td>0</td>\n",
       "      <td>0</td>\n",
       "    </tr>\n",
       "  </tbody>\n",
       "</table>\n",
       "</div>"
      ],
      "text/plain": [
       "               h1n1_vaccine  seasonal_vaccine\n",
       "respondent_id                                \n",
       "0                         0                 0\n",
       "1                         0                 1\n",
       "2                         0                 0\n",
       "3                         0                 1\n",
       "4                         0                 0"
      ]
     },
     "execution_count": 8,
     "metadata": {},
     "output_type": "execute_result"
    }
   ],
   "source": [
    "labels_df = pd.read_csv(\"training_set_labels.csv\", index_col=\"respondent_id\")\n",
    "labels_df.head()"
   ]
  },
  {
   "cell_type": "markdown",
   "metadata": {
    "id": "kUlAn5B0SjQN"
   },
   "source": [
    "# Split training y evaluation set"
   ]
  },
  {
   "cell_type": "code",
   "execution_count": 9,
   "metadata": {
    "id": "A961Fkp9Gg4F"
   },
   "outputs": [],
   "source": [
    "X_train, X_eval, y_train, y_eval = train_test_split(\n",
    "    features_df,\n",
    "    labels_df,\n",
    "    test_size=0.33,\n",
    "    shuffle=True,\n",
    "    stratify=labels_df,\n",
    "    random_state=RANDOM_SEED\n",
    ")\n",
    "\n",
    "y_train_h1n1 = y_train[['h1n1_vaccine']].copy()\n",
    "y_train_seasonal = y_train[['seasonal_vaccine']].copy()\n",
    "y_eval_h1n1 = y_eval[['h1n1_vaccine']].copy()\n",
    "y_eval_seasonal = y_eval[['seasonal_vaccine']].copy()"
   ]
  },
  {
   "cell_type": "markdown",
   "metadata": {
    "id": "QOmceo7nm2X0"
   },
   "source": [
    "# 2. Hyperparameters tuning con GridSearchCV"
   ]
  },
  {
   "cell_type": "code",
   "execution_count": 10,
   "metadata": {},
   "outputs": [],
   "source": [
    "params_result = pd.DataFrame()"
   ]
  },
  {
   "cell_type": "markdown",
   "metadata": {
    "id": "13DLmiSYP9iX"
   },
   "source": [
    "## Naive Bayes"
   ]
  },
  {
   "cell_type": "markdown",
   "metadata": {},
   "source": [
    "### H1N1"
   ]
  },
  {
   "cell_type": "code",
   "execution_count": 11,
   "metadata": {
    "colab": {
     "base_uri": "https://localhost:8080/"
    },
    "id": "OZCGCO7LA33H",
    "outputId": "69c6ad78-b784-48c8-8bce-0874fb3af9d0"
   },
   "outputs": [
    {
     "name": "stdout",
     "output_type": "stream",
     "text": [
      "Fitting 10 folds for each of 100 candidates, totalling 1000 fits\n",
      "GaussianNB(var_smoothing=0.02310129700083159)\n"
     ]
    }
   ],
   "source": [
    "param_grid_nb = {\n",
    "    'var_smoothing': np.logspace(0,-9, num=100)\n",
    "}\n",
    "\n",
    "naive_h1n1_grid = GridSearchCV(estimator=GaussianNB(), param_grid=param_grid_nb, scoring=\"roc_auc\", verbose=1, cv=10, n_jobs=-1)\n",
    "naive_h1n1_grid.fit(X_train, y_train_h1n1.values.ravel())\n",
    "\n",
    "print(naive_h1n1_grid.best_estimator_)"
   ]
  },
  {
   "cell_type": "code",
   "execution_count": 12,
   "metadata": {},
   "outputs": [
    {
     "data": {
      "text/html": [
       "<div>\n",
       "<style scoped>\n",
       "    .dataframe tbody tr th:only-of-type {\n",
       "        vertical-align: middle;\n",
       "    }\n",
       "\n",
       "    .dataframe tbody tr th {\n",
       "        vertical-align: top;\n",
       "    }\n",
       "\n",
       "    .dataframe thead th {\n",
       "        text-align: right;\n",
       "    }\n",
       "</style>\n",
       "<table border=\"1\" class=\"dataframe\">\n",
       "  <thead>\n",
       "    <tr style=\"text-align: right;\">\n",
       "      <th></th>\n",
       "      <th>estimator</th>\n",
       "      <th>target</th>\n",
       "      <th>params</th>\n",
       "      <th>score</th>\n",
       "    </tr>\n",
       "  </thead>\n",
       "  <tbody>\n",
       "    <tr>\n",
       "      <th>var_smoothing</th>\n",
       "      <td>naive</td>\n",
       "      <td>h1n1</td>\n",
       "      <td>0.023101</td>\n",
       "      <td>0.807653</td>\n",
       "    </tr>\n",
       "  </tbody>\n",
       "</table>\n",
       "</div>"
      ],
      "text/plain": [
       "              estimator target    params     score\n",
       "var_smoothing     naive   h1n1  0.023101  0.807653"
      ]
     },
     "execution_count": 12,
     "metadata": {},
     "output_type": "execute_result"
    }
   ],
   "source": [
    "naive_params_result = pd.DataFrame({'estimator':'naive','target':'h1n1',\n",
    "                                    'params':naive_h1n1_grid.best_params_,\n",
    "                                    'score':naive_h1n1_grid.best_score_})\n",
    "params_result = pd.concat([params_result, naive_params_result])\n",
    "naive_params_result"
   ]
  },
  {
   "cell_type": "markdown",
   "metadata": {},
   "source": [
    "### Seasonal"
   ]
  },
  {
   "cell_type": "code",
   "execution_count": 13,
   "metadata": {
    "colab": {
     "base_uri": "https://localhost:8080/"
    },
    "id": "RRWQjz5kIN3L",
    "outputId": "eb284db2-ec40-49f9-913f-64dc330ee708"
   },
   "outputs": [
    {
     "name": "stdout",
     "output_type": "stream",
     "text": [
      "Fitting 10 folds for each of 100 candidates, totalling 1000 fits\n",
      "GaussianNB(var_smoothing=0.08111308307896872)\n"
     ]
    }
   ],
   "source": [
    "param_grid_nb = {\n",
    "    'var_smoothing': np.logspace(0,-9, num=100)\n",
    "}\n",
    "\n",
    "naive_seasonal_grid = GridSearchCV(estimator=GaussianNB(), param_grid=param_grid_nb, scoring=\"roc_auc\", verbose=1, cv=10, n_jobs=-1)\n",
    "naive_seasonal_grid.fit(X_train, y_train_seasonal.values.ravel())\n",
    "\n",
    "print(naive_seasonal_grid.best_estimator_)"
   ]
  },
  {
   "cell_type": "code",
   "execution_count": 14,
   "metadata": {},
   "outputs": [
    {
     "data": {
      "text/html": [
       "<div>\n",
       "<style scoped>\n",
       "    .dataframe tbody tr th:only-of-type {\n",
       "        vertical-align: middle;\n",
       "    }\n",
       "\n",
       "    .dataframe tbody tr th {\n",
       "        vertical-align: top;\n",
       "    }\n",
       "\n",
       "    .dataframe thead th {\n",
       "        text-align: right;\n",
       "    }\n",
       "</style>\n",
       "<table border=\"1\" class=\"dataframe\">\n",
       "  <thead>\n",
       "    <tr style=\"text-align: right;\">\n",
       "      <th></th>\n",
       "      <th>estimator</th>\n",
       "      <th>target</th>\n",
       "      <th>params</th>\n",
       "      <th>score</th>\n",
       "    </tr>\n",
       "  </thead>\n",
       "  <tbody>\n",
       "    <tr>\n",
       "      <th>var_smoothing</th>\n",
       "      <td>naive</td>\n",
       "      <td>seasonal</td>\n",
       "      <td>0.081113</td>\n",
       "      <td>0.812989</td>\n",
       "    </tr>\n",
       "  </tbody>\n",
       "</table>\n",
       "</div>"
      ],
      "text/plain": [
       "              estimator    target    params     score\n",
       "var_smoothing     naive  seasonal  0.081113  0.812989"
      ]
     },
     "execution_count": 14,
     "metadata": {},
     "output_type": "execute_result"
    }
   ],
   "source": [
    "naive_params_result = pd.DataFrame({'estimator':'naive','target':'seasonal',\n",
    "                            'params':naive_seasonal_grid.best_params_,\n",
    "                            'score':naive_seasonal_grid.best_score_})\n",
    "params_result = pd.concat([params_result, naive_params_result])\n",
    "naive_params_result"
   ]
  },
  {
   "cell_type": "markdown",
   "metadata": {
    "id": "vNoLimeGQCY_"
   },
   "source": [
    "## Logistic Regression"
   ]
  },
  {
   "cell_type": "markdown",
   "metadata": {},
   "source": [
    "### H1N1"
   ]
  },
  {
   "cell_type": "code",
   "execution_count": 15,
   "metadata": {
    "colab": {
     "base_uri": "https://localhost:8080/"
    },
    "id": "86iiWkq_IYmI",
    "outputId": "bde78646-2f12-4d87-b0d0-48048806633d"
   },
   "outputs": [
    {
     "name": "stdout",
     "output_type": "stream",
     "text": [
      "Fitting 10 folds for each of 144 candidates, totalling 1440 fits\n",
      "LogisticRegression(C=0.5, multi_class='multinomial', penalty='l1',\n",
      "                   solver='saga')\n"
     ]
    }
   ],
   "source": [
    "param_grid = {\n",
    "    'penalty': ['l1', 'l2','elasticnet'],\n",
    "    'C': [0.1, 0.2, 0.5, 1, 2, 5, 10, 100],\n",
    "    'solver': ['lbfgs','saga'],\n",
    "    'multi_class': ['auto', 'ovr', 'multinomial']\n",
    "}\n",
    "\n",
    "lr = LogisticRegression()\n",
    "lr_h1n1_grid = GridSearchCV(lr, param_grid, cv=10, scoring=\"roc_auc\", verbose=1)\n",
    "lr_h1n1_grid.fit(X_train, y_train_h1n1.values.ravel())\n",
    "\n",
    "print(lr_h1n1_grid.best_estimator_)"
   ]
  },
  {
   "cell_type": "code",
   "execution_count": 16,
   "metadata": {},
   "outputs": [
    {
     "data": {
      "text/html": [
       "<div>\n",
       "<style scoped>\n",
       "    .dataframe tbody tr th:only-of-type {\n",
       "        vertical-align: middle;\n",
       "    }\n",
       "\n",
       "    .dataframe tbody tr th {\n",
       "        vertical-align: top;\n",
       "    }\n",
       "\n",
       "    .dataframe thead th {\n",
       "        text-align: right;\n",
       "    }\n",
       "</style>\n",
       "<table border=\"1\" class=\"dataframe\">\n",
       "  <thead>\n",
       "    <tr style=\"text-align: right;\">\n",
       "      <th></th>\n",
       "      <th>estimator</th>\n",
       "      <th>target</th>\n",
       "      <th>params</th>\n",
       "      <th>score</th>\n",
       "    </tr>\n",
       "  </thead>\n",
       "  <tbody>\n",
       "    <tr>\n",
       "      <th>C</th>\n",
       "      <td>lr</td>\n",
       "      <td>h1n1</td>\n",
       "      <td>0.5</td>\n",
       "      <td>0.851211</td>\n",
       "    </tr>\n",
       "    <tr>\n",
       "      <th>multi_class</th>\n",
       "      <td>lr</td>\n",
       "      <td>h1n1</td>\n",
       "      <td>multinomial</td>\n",
       "      <td>0.851211</td>\n",
       "    </tr>\n",
       "    <tr>\n",
       "      <th>penalty</th>\n",
       "      <td>lr</td>\n",
       "      <td>h1n1</td>\n",
       "      <td>l1</td>\n",
       "      <td>0.851211</td>\n",
       "    </tr>\n",
       "    <tr>\n",
       "      <th>solver</th>\n",
       "      <td>lr</td>\n",
       "      <td>h1n1</td>\n",
       "      <td>saga</td>\n",
       "      <td>0.851211</td>\n",
       "    </tr>\n",
       "  </tbody>\n",
       "</table>\n",
       "</div>"
      ],
      "text/plain": [
       "            estimator target       params     score\n",
       "C                  lr   h1n1          0.5  0.851211\n",
       "multi_class        lr   h1n1  multinomial  0.851211\n",
       "penalty            lr   h1n1           l1  0.851211\n",
       "solver             lr   h1n1         saga  0.851211"
      ]
     },
     "execution_count": 16,
     "metadata": {},
     "output_type": "execute_result"
    }
   ],
   "source": [
    "lr_params_result = pd.DataFrame({'estimator':'lr','target':'h1n1',\n",
    "                                 'params':lr_h1n1_grid.best_params_,\n",
    "                                 'score':lr_h1n1_grid.best_score_})\n",
    "params_result = pd.concat([params_result, lr_params_result])\n",
    "lr_params_result"
   ]
  },
  {
   "cell_type": "markdown",
   "metadata": {},
   "source": [
    "### Seasonal"
   ]
  },
  {
   "cell_type": "code",
   "execution_count": 17,
   "metadata": {
    "colab": {
     "base_uri": "https://localhost:8080/"
    },
    "id": "H4sM7SoqTRJP",
    "outputId": "f5922e3e-2670-47b2-8e2d-7c830a6f129c"
   },
   "outputs": [
    {
     "name": "stdout",
     "output_type": "stream",
     "text": [
      "LogisticRegression(C=0.1)\n"
     ]
    }
   ],
   "source": [
    "param_grid = {\n",
    "    'penalty': ['l1', 'l2','elasticnet'],\n",
    "    'C': [0.1, 0.2, 0.5, 1, 2, 5, 10, 100],\n",
    "    'solver': ['lbfgs','saga'],\n",
    "    'multi_class': ['auto', 'ovr', 'multinomial']\n",
    "}\n",
    "\n",
    "lr = LogisticRegression()\n",
    "lr_seasonal_grid = GridSearchCV(lr, param_grid, cv=10)\n",
    "lr_seasonal_grid.fit(X_train, y_train_seasonal)\n",
    "\n",
    "print(lr_seasonal_grid.best_estimator_)"
   ]
  },
  {
   "cell_type": "code",
   "execution_count": 18,
   "metadata": {},
   "outputs": [
    {
     "data": {
      "text/html": [
       "<div>\n",
       "<style scoped>\n",
       "    .dataframe tbody tr th:only-of-type {\n",
       "        vertical-align: middle;\n",
       "    }\n",
       "\n",
       "    .dataframe tbody tr th {\n",
       "        vertical-align: top;\n",
       "    }\n",
       "\n",
       "    .dataframe thead th {\n",
       "        text-align: right;\n",
       "    }\n",
       "</style>\n",
       "<table border=\"1\" class=\"dataframe\">\n",
       "  <thead>\n",
       "    <tr style=\"text-align: right;\">\n",
       "      <th></th>\n",
       "      <th>estimator</th>\n",
       "      <th>target</th>\n",
       "      <th>params</th>\n",
       "      <th>score</th>\n",
       "    </tr>\n",
       "  </thead>\n",
       "  <tbody>\n",
       "    <tr>\n",
       "      <th>C</th>\n",
       "      <td>lr</td>\n",
       "      <td>seasonal</td>\n",
       "      <td>0.1</td>\n",
       "      <td>0.771699</td>\n",
       "    </tr>\n",
       "    <tr>\n",
       "      <th>multi_class</th>\n",
       "      <td>lr</td>\n",
       "      <td>seasonal</td>\n",
       "      <td>auto</td>\n",
       "      <td>0.771699</td>\n",
       "    </tr>\n",
       "    <tr>\n",
       "      <th>penalty</th>\n",
       "      <td>lr</td>\n",
       "      <td>seasonal</td>\n",
       "      <td>l2</td>\n",
       "      <td>0.771699</td>\n",
       "    </tr>\n",
       "    <tr>\n",
       "      <th>solver</th>\n",
       "      <td>lr</td>\n",
       "      <td>seasonal</td>\n",
       "      <td>lbfgs</td>\n",
       "      <td>0.771699</td>\n",
       "    </tr>\n",
       "  </tbody>\n",
       "</table>\n",
       "</div>"
      ],
      "text/plain": [
       "            estimator    target params     score\n",
       "C                  lr  seasonal    0.1  0.771699\n",
       "multi_class        lr  seasonal   auto  0.771699\n",
       "penalty            lr  seasonal     l2  0.771699\n",
       "solver             lr  seasonal  lbfgs  0.771699"
      ]
     },
     "execution_count": 18,
     "metadata": {},
     "output_type": "execute_result"
    }
   ],
   "source": [
    "lr_params_result = pd.DataFrame({'estimator':'lr','target':'seasonal',\n",
    "                                 'params':lr_seasonal_grid.best_params_,\n",
    "                                 'score':lr_seasonal_grid.best_score_})\n",
    "params_result = pd.concat([params_result, lr_params_result])\n",
    "lr_params_result"
   ]
  },
  {
   "cell_type": "markdown",
   "metadata": {
    "id": "XpUqOVCIRNJ1"
   },
   "source": [
    "## SVM"
   ]
  },
  {
   "cell_type": "markdown",
   "metadata": {},
   "source": [
    "### H1N1"
   ]
  },
  {
   "cell_type": "code",
   "execution_count": 19,
   "metadata": {
    "id": "r5TLjnFyIzZn"
   },
   "outputs": [
    {
     "name": "stdout",
     "output_type": "stream",
     "text": [
      "Fitting 5 folds for each of 9 candidates, totalling 45 fits\n",
      "[CV 1/5] END ........C=0.1, gamma=1, kernel=rbf;, score=0.733 total time=  43.2s\n",
      "[CV 2/5] END ........C=0.1, gamma=1, kernel=rbf;, score=0.729 total time=  41.8s\n",
      "[CV 3/5] END ........C=0.1, gamma=1, kernel=rbf;, score=0.749 total time=  42.5s\n",
      "[CV 4/5] END ........C=0.1, gamma=1, kernel=rbf;, score=0.728 total time=  42.6s\n",
      "[CV 5/5] END ........C=0.1, gamma=1, kernel=rbf;, score=0.729 total time=  42.7s\n",
      "[CV 1/5] END ......C=0.1, gamma=0.1, kernel=rbf;, score=0.835 total time=  10.0s\n",
      "[CV 2/5] END ......C=0.1, gamma=0.1, kernel=rbf;, score=0.810 total time=   9.7s\n",
      "[CV 3/5] END ......C=0.1, gamma=0.1, kernel=rbf;, score=0.842 total time=   9.9s\n",
      "[CV 4/5] END ......C=0.1, gamma=0.1, kernel=rbf;, score=0.824 total time=   9.9s\n",
      "[CV 5/5] END ......C=0.1, gamma=0.1, kernel=rbf;, score=0.824 total time=   9.9s\n",
      "[CV 1/5] END .....C=0.1, gamma=0.01, kernel=rbf;, score=0.849 total time=   8.5s\n",
      "[CV 2/5] END .....C=0.1, gamma=0.01, kernel=rbf;, score=0.834 total time=   8.5s\n",
      "[CV 3/5] END .....C=0.1, gamma=0.01, kernel=rbf;, score=0.857 total time=   8.5s\n",
      "[CV 4/5] END .....C=0.1, gamma=0.01, kernel=rbf;, score=0.837 total time=   8.5s\n",
      "[CV 5/5] END .....C=0.1, gamma=0.01, kernel=rbf;, score=0.846 total time=   8.5s\n",
      "[CV 1/5] END ..........C=1, gamma=1, kernel=rbf;, score=0.732 total time=  47.9s\n",
      "[CV 2/5] END ..........C=1, gamma=1, kernel=rbf;, score=0.729 total time=  49.2s\n",
      "[CV 3/5] END ..........C=1, gamma=1, kernel=rbf;, score=0.749 total time=  48.0s\n",
      "[CV 4/5] END ..........C=1, gamma=1, kernel=rbf;, score=0.728 total time=  47.6s\n",
      "[CV 5/5] END ..........C=1, gamma=1, kernel=rbf;, score=0.728 total time=  47.8s\n",
      "[CV 1/5] END ........C=1, gamma=0.1, kernel=rbf;, score=0.844 total time=  10.8s\n",
      "[CV 2/5] END ........C=1, gamma=0.1, kernel=rbf;, score=0.809 total time=  10.7s\n",
      "[CV 3/5] END ........C=1, gamma=0.1, kernel=rbf;, score=0.838 total time=  10.9s\n",
      "[CV 4/5] END ........C=1, gamma=0.1, kernel=rbf;, score=0.820 total time=  10.9s\n",
      "[CV 5/5] END ........C=1, gamma=0.1, kernel=rbf;, score=0.828 total time=  10.9s\n",
      "[CV 1/5] END .......C=1, gamma=0.01, kernel=rbf;, score=0.854 total time=   7.9s\n",
      "[CV 2/5] END .......C=1, gamma=0.01, kernel=rbf;, score=0.836 total time=   7.8s\n",
      "[CV 3/5] END .......C=1, gamma=0.01, kernel=rbf;, score=0.862 total time=   8.0s\n",
      "[CV 4/5] END .......C=1, gamma=0.01, kernel=rbf;, score=0.844 total time=   7.7s\n",
      "[CV 5/5] END .......C=1, gamma=0.01, kernel=rbf;, score=0.853 total time=   7.9s\n",
      "[CV 1/5] END .........C=10, gamma=1, kernel=rbf;, score=0.732 total time= 1.2min\n",
      "[CV 2/5] END .........C=10, gamma=1, kernel=rbf;, score=0.728 total time= 1.2min\n",
      "[CV 3/5] END .........C=10, gamma=1, kernel=rbf;, score=0.748 total time= 1.2min\n",
      "[CV 4/5] END .........C=10, gamma=1, kernel=rbf;, score=0.727 total time= 1.2min\n",
      "[CV 5/5] END .........C=10, gamma=1, kernel=rbf;, score=0.727 total time= 1.2min\n",
      "[CV 1/5] END .......C=10, gamma=0.1, kernel=rbf;, score=0.806 total time=  30.4s\n",
      "[CV 2/5] END .......C=10, gamma=0.1, kernel=rbf;, score=0.786 total time=  34.1s\n",
      "[CV 3/5] END .......C=10, gamma=0.1, kernel=rbf;, score=0.807 total time=  30.5s\n",
      "[CV 4/5] END .......C=10, gamma=0.1, kernel=rbf;, score=0.790 total time=  34.0s\n",
      "[CV 5/5] END .......C=10, gamma=0.1, kernel=rbf;, score=0.802 total time=  30.3s\n",
      "[CV 1/5] END ......C=10, gamma=0.01, kernel=rbf;, score=0.845 total time=   8.9s\n",
      "[CV 2/5] END ......C=10, gamma=0.01, kernel=rbf;, score=0.821 total time=   8.8s\n",
      "[CV 3/5] END ......C=10, gamma=0.01, kernel=rbf;, score=0.845 total time=   8.9s\n",
      "[CV 4/5] END ......C=10, gamma=0.01, kernel=rbf;, score=0.833 total time=   8.8s\n",
      "[CV 5/5] END ......C=10, gamma=0.01, kernel=rbf;, score=0.846 total time=   8.9s\n",
      "{'C': 1, 'gamma': 0.01, 'kernel': 'rbf'}\n",
      "SVC(C=1, gamma=0.01)\n",
      "0.8495039289439147\n"
     ]
    }
   ],
   "source": [
    "# defining parameter range\n",
    "param_grid = {'C': [0.1, 1, 10],\n",
    "              'gamma': [1, 0.1, 0.01],\n",
    "              'kernel': ['rbf']}\n",
    "\n",
    "svm_h1n1_grid = GridSearchCV(SVC(), param_grid, refit = True, scoring=\"roc_auc\", verbose = 3)\n",
    "\n",
    "# fitting the model for grid search\n",
    "svm_h1n1_grid.fit(X_train, y_train_h1n1)\n",
    "\n",
    "# print best parameter after tuning\n",
    "print(svm_h1n1_grid.best_params_)\n",
    "\n",
    "# print how our model looks after hyper-parameter tuning\n",
    "print(svm_h1n1_grid.best_estimator_)\n",
    "\n",
    "# print best_score after hyper-parameter tuning\n",
    "print(svm_h1n1_grid.best_score_)"
   ]
  },
  {
   "cell_type": "code",
   "execution_count": 20,
   "metadata": {},
   "outputs": [
    {
     "data": {
      "text/html": [
       "<div>\n",
       "<style scoped>\n",
       "    .dataframe tbody tr th:only-of-type {\n",
       "        vertical-align: middle;\n",
       "    }\n",
       "\n",
       "    .dataframe tbody tr th {\n",
       "        vertical-align: top;\n",
       "    }\n",
       "\n",
       "    .dataframe thead th {\n",
       "        text-align: right;\n",
       "    }\n",
       "</style>\n",
       "<table border=\"1\" class=\"dataframe\">\n",
       "  <thead>\n",
       "    <tr style=\"text-align: right;\">\n",
       "      <th></th>\n",
       "      <th>estimator</th>\n",
       "      <th>target</th>\n",
       "      <th>params</th>\n",
       "      <th>score</th>\n",
       "    </tr>\n",
       "  </thead>\n",
       "  <tbody>\n",
       "    <tr>\n",
       "      <th>C</th>\n",
       "      <td>svm</td>\n",
       "      <td>h1n1</td>\n",
       "      <td>1</td>\n",
       "      <td>0.849504</td>\n",
       "    </tr>\n",
       "    <tr>\n",
       "      <th>gamma</th>\n",
       "      <td>svm</td>\n",
       "      <td>h1n1</td>\n",
       "      <td>0.01</td>\n",
       "      <td>0.849504</td>\n",
       "    </tr>\n",
       "    <tr>\n",
       "      <th>kernel</th>\n",
       "      <td>svm</td>\n",
       "      <td>h1n1</td>\n",
       "      <td>rbf</td>\n",
       "      <td>0.849504</td>\n",
       "    </tr>\n",
       "  </tbody>\n",
       "</table>\n",
       "</div>"
      ],
      "text/plain": [
       "       estimator target params     score\n",
       "C            svm   h1n1      1  0.849504\n",
       "gamma        svm   h1n1   0.01  0.849504\n",
       "kernel       svm   h1n1    rbf  0.849504"
      ]
     },
     "execution_count": 20,
     "metadata": {},
     "output_type": "execute_result"
    }
   ],
   "source": [
    "svm_params_result = pd.DataFrame({'estimator':'svm','target':'h1n1',\n",
    "                                  'params':svm_h1n1_grid.best_params_,\n",
    "                                  'score':svm_h1n1_grid.best_score_})\n",
    "params_result = pd.concat([params_result, svm_params_result])\n",
    "svm_params_result"
   ]
  },
  {
   "cell_type": "markdown",
   "metadata": {},
   "source": [
    "### Seasonal"
   ]
  },
  {
   "cell_type": "code",
   "execution_count": 21,
   "metadata": {
    "id": "JWK_6FLeTbln"
   },
   "outputs": [
    {
     "name": "stdout",
     "output_type": "stream",
     "text": [
      "Fitting 5 folds for each of 9 candidates, totalling 45 fits\n",
      "[CV 1/5] END ........C=0.1, gamma=1, kernel=rbf;, score=0.764 total time= 5.5min\n",
      "[CV 2/5] END ........C=0.1, gamma=1, kernel=rbf;, score=0.741 total time=11.3min\n",
      "[CV 3/5] END ........C=0.1, gamma=1, kernel=rbf;, score=0.750 total time=  33.4s\n",
      "[CV 4/5] END ........C=0.1, gamma=1, kernel=rbf;, score=0.745 total time=  33.6s\n",
      "[CV 5/5] END ........C=0.1, gamma=1, kernel=rbf;, score=0.761 total time=  33.5s\n",
      "[CV 1/5] END ......C=0.1, gamma=0.1, kernel=rbf;, score=0.845 total time=  13.7s\n",
      "[CV 2/5] END ......C=0.1, gamma=0.1, kernel=rbf;, score=0.838 total time=  13.6s\n",
      "[CV 3/5] END ......C=0.1, gamma=0.1, kernel=rbf;, score=0.834 total time=  13.6s\n",
      "[CV 4/5] END ......C=0.1, gamma=0.1, kernel=rbf;, score=0.835 total time=  13.6s\n",
      "[CV 5/5] END ......C=0.1, gamma=0.1, kernel=rbf;, score=0.850 total time=  13.8s\n",
      "[CV 1/5] END .....C=0.1, gamma=0.01, kernel=rbf;, score=0.847 total time=  12.6s\n",
      "[CV 2/5] END .....C=0.1, gamma=0.01, kernel=rbf;, score=0.843 total time=  12.5s\n",
      "[CV 3/5] END .....C=0.1, gamma=0.01, kernel=rbf;, score=0.843 total time=  12.6s\n",
      "[CV 4/5] END .....C=0.1, gamma=0.01, kernel=rbf;, score=0.842 total time=  12.6s\n",
      "[CV 5/5] END .....C=0.1, gamma=0.01, kernel=rbf;, score=0.855 total time=  12.7s\n",
      "[CV 1/5] END ..........C=1, gamma=1, kernel=rbf;, score=0.764 total time=  42.1s\n",
      "[CV 2/5] END ..........C=1, gamma=1, kernel=rbf;, score=0.741 total time=  42.2s\n",
      "[CV 3/5] END ..........C=1, gamma=1, kernel=rbf;, score=0.750 total time=  42.3s\n",
      "[CV 4/5] END ..........C=1, gamma=1, kernel=rbf;, score=0.745 total time=  42.5s\n",
      "[CV 5/5] END ..........C=1, gamma=1, kernel=rbf;, score=0.761 total time=  42.3s\n",
      "[CV 1/5] END ........C=1, gamma=0.1, kernel=rbf;, score=0.849 total time=  14.2s\n",
      "[CV 2/5] END ........C=1, gamma=0.1, kernel=rbf;, score=0.838 total time=  14.2s\n",
      "[CV 3/5] END ........C=1, gamma=0.1, kernel=rbf;, score=0.833 total time=  14.1s\n",
      "[CV 4/5] END ........C=1, gamma=0.1, kernel=rbf;, score=0.835 total time=  14.7s\n",
      "[CV 5/5] END ........C=1, gamma=0.1, kernel=rbf;, score=0.846 total time=  14.3s\n",
      "[CV 1/5] END .......C=1, gamma=0.01, kernel=rbf;, score=0.854 total time=  11.8s\n",
      "[CV 2/5] END .......C=1, gamma=0.01, kernel=rbf;, score=0.852 total time=  11.7s\n",
      "[CV 3/5] END .......C=1, gamma=0.01, kernel=rbf;, score=0.849 total time=  11.6s\n",
      "[CV 4/5] END .......C=1, gamma=0.01, kernel=rbf;, score=0.849 total time=  11.7s\n",
      "[CV 5/5] END .......C=1, gamma=0.01, kernel=rbf;, score=0.859 total time=  11.8s\n",
      "[CV 1/5] END .........C=10, gamma=1, kernel=rbf;, score=0.762 total time= 1.1min\n",
      "[CV 2/5] END .........C=10, gamma=1, kernel=rbf;, score=0.740 total time= 1.1min\n",
      "[CV 3/5] END .........C=10, gamma=1, kernel=rbf;, score=0.747 total time= 1.1min\n",
      "[CV 4/5] END .........C=10, gamma=1, kernel=rbf;, score=0.742 total time= 1.1min\n",
      "[CV 5/5] END .........C=10, gamma=1, kernel=rbf;, score=0.759 total time= 1.1min\n",
      "[CV 1/5] END .......C=10, gamma=0.1, kernel=rbf;, score=0.805 total time=  54.2s\n",
      "[CV 2/5] END .......C=10, gamma=0.1, kernel=rbf;, score=0.800 total time=  52.1s\n",
      "[CV 3/5] END .......C=10, gamma=0.1, kernel=rbf;, score=0.792 total time=  50.2s\n",
      "[CV 4/5] END .......C=10, gamma=0.1, kernel=rbf;, score=0.796 total time=  50.4s\n",
      "[CV 5/5] END .......C=10, gamma=0.1, kernel=rbf;, score=0.795 total time=  51.4s\n",
      "[CV 1/5] END ......C=10, gamma=0.01, kernel=rbf;, score=0.854 total time=  12.6s\n",
      "[CV 2/5] END ......C=10, gamma=0.01, kernel=rbf;, score=0.852 total time=  12.6s\n",
      "[CV 3/5] END ......C=10, gamma=0.01, kernel=rbf;, score=0.846 total time=  12.4s\n",
      "[CV 4/5] END ......C=10, gamma=0.01, kernel=rbf;, score=0.848 total time=  12.9s\n",
      "[CV 5/5] END ......C=10, gamma=0.01, kernel=rbf;, score=0.857 total time=  12.6s\n",
      "{'C': 1, 'gamma': 0.01, 'kernel': 'rbf'}\n",
      "SVC(C=1, gamma=0.01)\n"
     ]
    }
   ],
   "source": [
    "# defining parameter range\n",
    "param_grid = {'C': [0.1, 1, 10],\n",
    "              'gamma': [1, 0.1, 0.01],\n",
    "              'kernel': ['rbf']}\n",
    "\n",
    "svm_seasonal_grid = GridSearchCV(SVC(), param_grid, refit = True, scoring=\"roc_auc\", verbose = 3)\n",
    "\n",
    "# fitting the model for grid search\n",
    "svm_seasonal_grid.fit(X_train, y_train_seasonal)\n",
    "\n",
    "# print best parameter after tuning\n",
    "print(svm_seasonal_grid.best_params_)\n",
    "\n",
    "# print how our model looks after hyper-parameter tuning\n",
    "print(svm_seasonal_grid.best_estimator_)"
   ]
  },
  {
   "cell_type": "code",
   "execution_count": 22,
   "metadata": {},
   "outputs": [
    {
     "data": {
      "text/html": [
       "<div>\n",
       "<style scoped>\n",
       "    .dataframe tbody tr th:only-of-type {\n",
       "        vertical-align: middle;\n",
       "    }\n",
       "\n",
       "    .dataframe tbody tr th {\n",
       "        vertical-align: top;\n",
       "    }\n",
       "\n",
       "    .dataframe thead th {\n",
       "        text-align: right;\n",
       "    }\n",
       "</style>\n",
       "<table border=\"1\" class=\"dataframe\">\n",
       "  <thead>\n",
       "    <tr style=\"text-align: right;\">\n",
       "      <th></th>\n",
       "      <th>estimator</th>\n",
       "      <th>target</th>\n",
       "      <th>params</th>\n",
       "      <th>score</th>\n",
       "    </tr>\n",
       "  </thead>\n",
       "  <tbody>\n",
       "    <tr>\n",
       "      <th>C</th>\n",
       "      <td>svm</td>\n",
       "      <td>seasonal</td>\n",
       "      <td>1</td>\n",
       "      <td>0.85279</td>\n",
       "    </tr>\n",
       "    <tr>\n",
       "      <th>gamma</th>\n",
       "      <td>svm</td>\n",
       "      <td>seasonal</td>\n",
       "      <td>0.01</td>\n",
       "      <td>0.85279</td>\n",
       "    </tr>\n",
       "    <tr>\n",
       "      <th>kernel</th>\n",
       "      <td>svm</td>\n",
       "      <td>seasonal</td>\n",
       "      <td>rbf</td>\n",
       "      <td>0.85279</td>\n",
       "    </tr>\n",
       "  </tbody>\n",
       "</table>\n",
       "</div>"
      ],
      "text/plain": [
       "       estimator    target params    score\n",
       "C            svm  seasonal      1  0.85279\n",
       "gamma        svm  seasonal   0.01  0.85279\n",
       "kernel       svm  seasonal    rbf  0.85279"
      ]
     },
     "execution_count": 22,
     "metadata": {},
     "output_type": "execute_result"
    }
   ],
   "source": [
    "svm_params_result = pd.DataFrame({'estimator':'svm','target':'seasonal',\n",
    "                                  'params':svm_seasonal_grid.best_params_,\n",
    "                                  'score':svm_seasonal_grid.best_score_})\n",
    "params_result = pd.concat([params_result, svm_params_result])\n",
    "svm_params_result"
   ]
  },
  {
   "cell_type": "markdown",
   "metadata": {},
   "source": [
    "## DecisionTreeClassifier"
   ]
  },
  {
   "cell_type": "markdown",
   "metadata": {},
   "source": [
    "### H1N1"
   ]
  },
  {
   "cell_type": "code",
   "execution_count": 23,
   "metadata": {},
   "outputs": [
    {
     "name": "stdout",
     "output_type": "stream",
     "text": [
      "Fitting 5 folds for each of 90 candidates, totalling 450 fits\n",
      "DecisionTreeClassifier(ccp_alpha=0.001, criterion='entropy', max_depth=6,\n",
      "                       max_features='log2', random_state=42)\n"
     ]
    }
   ],
   "source": [
    "param_grid = {\n",
    "    'max_features': ['auto', 'sqrt', 'log2'],\n",
    "    'ccp_alpha': [0.1, .01, .001],\n",
    "    'max_depth' : [5, 6, 7, 8, 9],\n",
    "    'criterion' :['gini', 'entropy']\n",
    "}\n",
    "\n",
    "dt = DecisionTreeClassifier(random_state=RANDOM_SEED)\n",
    "dt_h1n1_grid = GridSearchCV(dt, param_grid, cv=5, scoring=\"roc_auc\", verbose=1, n_jobs=-1)\n",
    "dt_h1n1_grid.fit(X_train, y_train_h1n1)\n",
    "\n",
    "print(dt_h1n1_grid.best_estimator_)"
   ]
  },
  {
   "cell_type": "code",
   "execution_count": 24,
   "metadata": {},
   "outputs": [
    {
     "data": {
      "text/html": [
       "<div>\n",
       "<style scoped>\n",
       "    .dataframe tbody tr th:only-of-type {\n",
       "        vertical-align: middle;\n",
       "    }\n",
       "\n",
       "    .dataframe tbody tr th {\n",
       "        vertical-align: top;\n",
       "    }\n",
       "\n",
       "    .dataframe thead th {\n",
       "        text-align: right;\n",
       "    }\n",
       "</style>\n",
       "<table border=\"1\" class=\"dataframe\">\n",
       "  <thead>\n",
       "    <tr style=\"text-align: right;\">\n",
       "      <th></th>\n",
       "      <th>estimator</th>\n",
       "      <th>target</th>\n",
       "      <th>params</th>\n",
       "      <th>score</th>\n",
       "    </tr>\n",
       "  </thead>\n",
       "  <tbody>\n",
       "    <tr>\n",
       "      <th>ccp_alpha</th>\n",
       "      <td>dt</td>\n",
       "      <td>h1n1</td>\n",
       "      <td>0.001</td>\n",
       "      <td>0.789579</td>\n",
       "    </tr>\n",
       "    <tr>\n",
       "      <th>criterion</th>\n",
       "      <td>dt</td>\n",
       "      <td>h1n1</td>\n",
       "      <td>entropy</td>\n",
       "      <td>0.789579</td>\n",
       "    </tr>\n",
       "    <tr>\n",
       "      <th>max_depth</th>\n",
       "      <td>dt</td>\n",
       "      <td>h1n1</td>\n",
       "      <td>6</td>\n",
       "      <td>0.789579</td>\n",
       "    </tr>\n",
       "    <tr>\n",
       "      <th>max_features</th>\n",
       "      <td>dt</td>\n",
       "      <td>h1n1</td>\n",
       "      <td>log2</td>\n",
       "      <td>0.789579</td>\n",
       "    </tr>\n",
       "  </tbody>\n",
       "</table>\n",
       "</div>"
      ],
      "text/plain": [
       "             estimator target   params     score\n",
       "ccp_alpha           dt   h1n1    0.001  0.789579\n",
       "criterion           dt   h1n1  entropy  0.789579\n",
       "max_depth           dt   h1n1        6  0.789579\n",
       "max_features        dt   h1n1     log2  0.789579"
      ]
     },
     "execution_count": 24,
     "metadata": {},
     "output_type": "execute_result"
    }
   ],
   "source": [
    "df_params_result = pd.DataFrame({'estimator':'dt','target':'h1n1',\n",
    "                                 'params':dt_h1n1_grid.best_params_,\n",
    "                                 'score':dt_h1n1_grid.best_score_})\n",
    "params_result = pd.concat([params_result, df_params_result])\n",
    "df_params_result"
   ]
  },
  {
   "cell_type": "markdown",
   "metadata": {},
   "source": [
    "### Seasonal"
   ]
  },
  {
   "cell_type": "code",
   "execution_count": 25,
   "metadata": {},
   "outputs": [
    {
     "name": "stdout",
     "output_type": "stream",
     "text": [
      "Fitting 5 folds for each of 90 candidates, totalling 450 fits\n",
      "DecisionTreeClassifier(ccp_alpha=0.001, criterion='entropy', max_depth=7,\n",
      "                       max_features='auto', random_state=42)\n"
     ]
    }
   ],
   "source": [
    "param_grid = {\n",
    "    'max_features': ['auto', 'sqrt', 'log2'],\n",
    "    'ccp_alpha': [0.1, .01, .001],\n",
    "    'max_depth' : [5, 6, 7, 8, 9],\n",
    "    'criterion' :['gini', 'entropy']\n",
    "}\n",
    "\n",
    "dt = DecisionTreeClassifier(random_state=RANDOM_SEED)\n",
    "dt_seasonal_grid = GridSearchCV(dt, param_grid, cv=5, scoring=\"roc_auc\", verbose=1, n_jobs=-1)\n",
    "dt_seasonal_grid.fit(X_train, y_train_seasonal)\n",
    "\n",
    "print(dt_seasonal_grid.best_estimator_)"
   ]
  },
  {
   "cell_type": "code",
   "execution_count": 26,
   "metadata": {},
   "outputs": [
    {
     "data": {
      "text/html": [
       "<div>\n",
       "<style scoped>\n",
       "    .dataframe tbody tr th:only-of-type {\n",
       "        vertical-align: middle;\n",
       "    }\n",
       "\n",
       "    .dataframe tbody tr th {\n",
       "        vertical-align: top;\n",
       "    }\n",
       "\n",
       "    .dataframe thead th {\n",
       "        text-align: right;\n",
       "    }\n",
       "</style>\n",
       "<table border=\"1\" class=\"dataframe\">\n",
       "  <thead>\n",
       "    <tr style=\"text-align: right;\">\n",
       "      <th></th>\n",
       "      <th>estimator</th>\n",
       "      <th>target</th>\n",
       "      <th>params</th>\n",
       "      <th>score</th>\n",
       "    </tr>\n",
       "  </thead>\n",
       "  <tbody>\n",
       "    <tr>\n",
       "      <th>ccp_alpha</th>\n",
       "      <td>dt</td>\n",
       "      <td>seasonal</td>\n",
       "      <td>0.001</td>\n",
       "      <td>0.779136</td>\n",
       "    </tr>\n",
       "    <tr>\n",
       "      <th>criterion</th>\n",
       "      <td>dt</td>\n",
       "      <td>seasonal</td>\n",
       "      <td>entropy</td>\n",
       "      <td>0.779136</td>\n",
       "    </tr>\n",
       "    <tr>\n",
       "      <th>max_depth</th>\n",
       "      <td>dt</td>\n",
       "      <td>seasonal</td>\n",
       "      <td>7</td>\n",
       "      <td>0.779136</td>\n",
       "    </tr>\n",
       "    <tr>\n",
       "      <th>max_features</th>\n",
       "      <td>dt</td>\n",
       "      <td>seasonal</td>\n",
       "      <td>auto</td>\n",
       "      <td>0.779136</td>\n",
       "    </tr>\n",
       "  </tbody>\n",
       "</table>\n",
       "</div>"
      ],
      "text/plain": [
       "             estimator    target   params     score\n",
       "ccp_alpha           dt  seasonal    0.001  0.779136\n",
       "criterion           dt  seasonal  entropy  0.779136\n",
       "max_depth           dt  seasonal        7  0.779136\n",
       "max_features        dt  seasonal     auto  0.779136"
      ]
     },
     "execution_count": 26,
     "metadata": {},
     "output_type": "execute_result"
    }
   ],
   "source": [
    "df_params_result = pd.DataFrame({'estimator':'dt','target':'seasonal',\n",
    "                                 'params':dt_seasonal_grid.best_params_,\n",
    "                                 'score':dt_seasonal_grid.best_score_})\n",
    "params_result = pd.concat([params_result, df_params_result])\n",
    "df_params_result"
   ]
  },
  {
   "cell_type": "markdown",
   "metadata": {},
   "source": [
    "## KNeighbors"
   ]
  },
  {
   "cell_type": "markdown",
   "metadata": {},
   "source": [
    "### H1N1"
   ]
  },
  {
   "cell_type": "code",
   "execution_count": 27,
   "metadata": {},
   "outputs": [
    {
     "name": "stdout",
     "output_type": "stream",
     "text": [
      "Fitting 5 folds for each of 30 candidates, totalling 150 fits\n",
      "KNeighborsClassifier(n_neighbors=30)\n"
     ]
    }
   ],
   "source": [
    "param_grid = {\n",
    "    'n_neighbors': list(range(1, 31))\n",
    "}\n",
    "\n",
    "kn = KNeighborsClassifier()\n",
    "kn_h1n1_grid = GridSearchCV(kn, param_grid, cv=5, scoring=\"roc_auc\", verbose=1, n_jobs=-1)\n",
    "kn_h1n1_grid.fit(X_train, y_train_h1n1.values.ravel())\n",
    "\n",
    "print(kn_h1n1_grid.best_estimator_)"
   ]
  },
  {
   "cell_type": "code",
   "execution_count": 28,
   "metadata": {},
   "outputs": [
    {
     "data": {
      "text/html": [
       "<div>\n",
       "<style scoped>\n",
       "    .dataframe tbody tr th:only-of-type {\n",
       "        vertical-align: middle;\n",
       "    }\n",
       "\n",
       "    .dataframe tbody tr th {\n",
       "        vertical-align: top;\n",
       "    }\n",
       "\n",
       "    .dataframe thead th {\n",
       "        text-align: right;\n",
       "    }\n",
       "</style>\n",
       "<table border=\"1\" class=\"dataframe\">\n",
       "  <thead>\n",
       "    <tr style=\"text-align: right;\">\n",
       "      <th></th>\n",
       "      <th>estimator</th>\n",
       "      <th>target</th>\n",
       "      <th>params</th>\n",
       "      <th>score</th>\n",
       "    </tr>\n",
       "  </thead>\n",
       "  <tbody>\n",
       "    <tr>\n",
       "      <th>n_neighbors</th>\n",
       "      <td>kn</td>\n",
       "      <td>h1n1</td>\n",
       "      <td>30</td>\n",
       "      <td>0.798086</td>\n",
       "    </tr>\n",
       "  </tbody>\n",
       "</table>\n",
       "</div>"
      ],
      "text/plain": [
       "            estimator target  params     score\n",
       "n_neighbors        kn   h1n1      30  0.798086"
      ]
     },
     "execution_count": 28,
     "metadata": {},
     "output_type": "execute_result"
    }
   ],
   "source": [
    "kn_params_result = pd.DataFrame({'estimator':'kn','target':'h1n1',\n",
    "                                 'params':kn_h1n1_grid.best_params_,\n",
    "                                 'score':kn_h1n1_grid.best_score_})\n",
    "params_result = pd.concat([params_result, kn_params_result])\n",
    "kn_params_result"
   ]
  },
  {
   "cell_type": "markdown",
   "metadata": {},
   "source": [
    "### Seasonal"
   ]
  },
  {
   "cell_type": "code",
   "execution_count": 29,
   "metadata": {},
   "outputs": [
    {
     "name": "stdout",
     "output_type": "stream",
     "text": [
      "Fitting 5 folds for each of 30 candidates, totalling 150 fits\n",
      "KNeighborsClassifier(n_neighbors=30)\n"
     ]
    }
   ],
   "source": [
    "param_grid = {\n",
    "    'n_neighbors': list(range(1, 31))\n",
    "}\n",
    "\n",
    "kn = KNeighborsClassifier()\n",
    "kn_seasonal_grid = GridSearchCV(kn, param_grid, cv=5, scoring=\"roc_auc\", verbose=1, n_jobs=-1)\n",
    "kn_seasonal_grid.fit(X_train, y_train_seasonal.values.ravel())\n",
    "\n",
    "print(kn_seasonal_grid.best_estimator_)"
   ]
  },
  {
   "cell_type": "code",
   "execution_count": 30,
   "metadata": {},
   "outputs": [
    {
     "data": {
      "text/html": [
       "<div>\n",
       "<style scoped>\n",
       "    .dataframe tbody tr th:only-of-type {\n",
       "        vertical-align: middle;\n",
       "    }\n",
       "\n",
       "    .dataframe tbody tr th {\n",
       "        vertical-align: top;\n",
       "    }\n",
       "\n",
       "    .dataframe thead th {\n",
       "        text-align: right;\n",
       "    }\n",
       "</style>\n",
       "<table border=\"1\" class=\"dataframe\">\n",
       "  <thead>\n",
       "    <tr style=\"text-align: right;\">\n",
       "      <th></th>\n",
       "      <th>estimator</th>\n",
       "      <th>target</th>\n",
       "      <th>params</th>\n",
       "      <th>score</th>\n",
       "    </tr>\n",
       "  </thead>\n",
       "  <tbody>\n",
       "    <tr>\n",
       "      <th>n_neighbors</th>\n",
       "      <td>kn</td>\n",
       "      <td>seasonal</td>\n",
       "      <td>30</td>\n",
       "      <td>0.822603</td>\n",
       "    </tr>\n",
       "  </tbody>\n",
       "</table>\n",
       "</div>"
      ],
      "text/plain": [
       "            estimator    target  params     score\n",
       "n_neighbors        kn  seasonal      30  0.822603"
      ]
     },
     "execution_count": 30,
     "metadata": {},
     "output_type": "execute_result"
    }
   ],
   "source": [
    "kn_params_result = pd.DataFrame({'estimator':'kn','target':'seasonal',\n",
    "                                 'params':kn_seasonal_grid.best_params_,\n",
    "                                 'score':kn_seasonal_grid.best_score_})\n",
    "params_result = pd.concat([params_result, kn_params_result])\n",
    "kn_params_result"
   ]
  },
  {
   "cell_type": "markdown",
   "metadata": {},
   "source": [
    "## RandomForest"
   ]
  },
  {
   "cell_type": "markdown",
   "metadata": {},
   "source": [
    "### H1N1"
   ]
  },
  {
   "cell_type": "code",
   "execution_count": 31,
   "metadata": {},
   "outputs": [
    {
     "name": "stdout",
     "output_type": "stream",
     "text": [
      "Fitting 5 folds for each of 60 candidates, totalling 300 fits\n",
      "RandomForestClassifier(criterion='entropy', max_depth=8, n_estimators=500,\n",
      "                       random_state=42)\n"
     ]
    }
   ],
   "source": [
    "param_grid = {\n",
    "    'n_estimators': [200, 500],\n",
    "    'max_features': ['auto', 'sqrt', 'log2'],\n",
    "    'max_depth': [4, 5, 6, 7, 8],\n",
    "    'criterion': ['gini', 'entropy']\n",
    "}\n",
    "\n",
    "rf = RandomForestClassifier(random_state=RANDOM_SEED)\n",
    "rf_h1n1_grid = GridSearchCV(rf, param_grid, cv=5, scoring=\"roc_auc\", verbose=1, n_jobs=-1)\n",
    "rf_h1n1_grid.fit(X_train, y_train_h1n1.values.ravel())\n",
    "\n",
    "print(rf_h1n1_grid.best_estimator_)"
   ]
  },
  {
   "cell_type": "code",
   "execution_count": 32,
   "metadata": {},
   "outputs": [
    {
     "data": {
      "text/html": [
       "<div>\n",
       "<style scoped>\n",
       "    .dataframe tbody tr th:only-of-type {\n",
       "        vertical-align: middle;\n",
       "    }\n",
       "\n",
       "    .dataframe tbody tr th {\n",
       "        vertical-align: top;\n",
       "    }\n",
       "\n",
       "    .dataframe thead th {\n",
       "        text-align: right;\n",
       "    }\n",
       "</style>\n",
       "<table border=\"1\" class=\"dataframe\">\n",
       "  <thead>\n",
       "    <tr style=\"text-align: right;\">\n",
       "      <th></th>\n",
       "      <th>estimator</th>\n",
       "      <th>target</th>\n",
       "      <th>params</th>\n",
       "      <th>score</th>\n",
       "    </tr>\n",
       "  </thead>\n",
       "  <tbody>\n",
       "    <tr>\n",
       "      <th>criterion</th>\n",
       "      <td>rf</td>\n",
       "      <td>h1n1</td>\n",
       "      <td>entropy</td>\n",
       "      <td>0.852567</td>\n",
       "    </tr>\n",
       "    <tr>\n",
       "      <th>max_depth</th>\n",
       "      <td>rf</td>\n",
       "      <td>h1n1</td>\n",
       "      <td>8</td>\n",
       "      <td>0.852567</td>\n",
       "    </tr>\n",
       "    <tr>\n",
       "      <th>max_features</th>\n",
       "      <td>rf</td>\n",
       "      <td>h1n1</td>\n",
       "      <td>auto</td>\n",
       "      <td>0.852567</td>\n",
       "    </tr>\n",
       "    <tr>\n",
       "      <th>n_estimators</th>\n",
       "      <td>rf</td>\n",
       "      <td>h1n1</td>\n",
       "      <td>500</td>\n",
       "      <td>0.852567</td>\n",
       "    </tr>\n",
       "  </tbody>\n",
       "</table>\n",
       "</div>"
      ],
      "text/plain": [
       "             estimator target   params     score\n",
       "criterion           rf   h1n1  entropy  0.852567\n",
       "max_depth           rf   h1n1        8  0.852567\n",
       "max_features        rf   h1n1     auto  0.852567\n",
       "n_estimators        rf   h1n1      500  0.852567"
      ]
     },
     "execution_count": 32,
     "metadata": {},
     "output_type": "execute_result"
    }
   ],
   "source": [
    "rf_params_result = pd.DataFrame({'estimator':'rf','target':'h1n1',\n",
    "                                 'params':rf_h1n1_grid.best_params_,\n",
    "                                 'score':rf_h1n1_grid.best_score_})\n",
    "params_result = pd.concat([params_result, rf_params_result])\n",
    "rf_params_result"
   ]
  },
  {
   "cell_type": "markdown",
   "metadata": {},
   "source": [
    "### Seasonal"
   ]
  },
  {
   "cell_type": "code",
   "execution_count": 33,
   "metadata": {},
   "outputs": [
    {
     "name": "stdout",
     "output_type": "stream",
     "text": [
      "Fitting 5 folds for each of 60 candidates, totalling 300 fits\n",
      "RandomForestClassifier(criterion='entropy', max_depth=8, n_estimators=500,\n",
      "                       random_state=42)\n"
     ]
    }
   ],
   "source": [
    "param_grid = {\n",
    "    'n_estimators': [200, 500],\n",
    "    'max_features': ['auto', 'sqrt', 'log2'],\n",
    "    'max_depth': [4, 5, 6, 7, 8],\n",
    "    'criterion': ['gini', 'entropy']\n",
    "}\n",
    "\n",
    "rf = RandomForestClassifier(random_state=RANDOM_SEED)\n",
    "rf_seasonal_grid = GridSearchCV(rf, param_grid, cv=5, scoring=\"roc_auc\", verbose=1, n_jobs=-1)\n",
    "rf_seasonal_grid.fit(X_train, y_train_seasonal.values.ravel())\n",
    "\n",
    "print(rf_seasonal_grid.best_estimator_)"
   ]
  },
  {
   "cell_type": "code",
   "execution_count": 34,
   "metadata": {},
   "outputs": [
    {
     "data": {
      "text/html": [
       "<div>\n",
       "<style scoped>\n",
       "    .dataframe tbody tr th:only-of-type {\n",
       "        vertical-align: middle;\n",
       "    }\n",
       "\n",
       "    .dataframe tbody tr th {\n",
       "        vertical-align: top;\n",
       "    }\n",
       "\n",
       "    .dataframe thead th {\n",
       "        text-align: right;\n",
       "    }\n",
       "</style>\n",
       "<table border=\"1\" class=\"dataframe\">\n",
       "  <thead>\n",
       "    <tr style=\"text-align: right;\">\n",
       "      <th></th>\n",
       "      <th>estimator</th>\n",
       "      <th>target</th>\n",
       "      <th>params</th>\n",
       "      <th>score</th>\n",
       "    </tr>\n",
       "  </thead>\n",
       "  <tbody>\n",
       "    <tr>\n",
       "      <th>criterion</th>\n",
       "      <td>rf</td>\n",
       "      <td>seasonal</td>\n",
       "      <td>entropy</td>\n",
       "      <td>0.850182</td>\n",
       "    </tr>\n",
       "    <tr>\n",
       "      <th>max_depth</th>\n",
       "      <td>rf</td>\n",
       "      <td>seasonal</td>\n",
       "      <td>8</td>\n",
       "      <td>0.850182</td>\n",
       "    </tr>\n",
       "    <tr>\n",
       "      <th>max_features</th>\n",
       "      <td>rf</td>\n",
       "      <td>seasonal</td>\n",
       "      <td>auto</td>\n",
       "      <td>0.850182</td>\n",
       "    </tr>\n",
       "    <tr>\n",
       "      <th>n_estimators</th>\n",
       "      <td>rf</td>\n",
       "      <td>seasonal</td>\n",
       "      <td>500</td>\n",
       "      <td>0.850182</td>\n",
       "    </tr>\n",
       "  </tbody>\n",
       "</table>\n",
       "</div>"
      ],
      "text/plain": [
       "             estimator    target   params     score\n",
       "criterion           rf  seasonal  entropy  0.850182\n",
       "max_depth           rf  seasonal        8  0.850182\n",
       "max_features        rf  seasonal     auto  0.850182\n",
       "n_estimators        rf  seasonal      500  0.850182"
      ]
     },
     "execution_count": 34,
     "metadata": {},
     "output_type": "execute_result"
    }
   ],
   "source": [
    "rf_params_result = pd.DataFrame({'estimator':'rf','target':'seasonal',\n",
    "                                 'params':rf_seasonal_grid.best_params_,\n",
    "                                 'score':rf_seasonal_grid.best_score_})\n",
    "params_result = pd.concat([params_result, rf_params_result])\n",
    "rf_params_result"
   ]
  },
  {
   "cell_type": "markdown",
   "metadata": {},
   "source": [
    "# 3. Training models"
   ]
  },
  {
   "cell_type": "markdown",
   "metadata": {},
   "source": [
    "**Mejor algoritmo H1N1:**\n",
    "\n",
    "SVM:\n",
    "* {'C': 10, 'gamma': 0.01, 'kernel': 'rbf'}\n",
    "* SVC(C=10, gamma=0.01)\n",
    "* Score: 0.852121\n",
    "\n",
    "LogisticRegression:\n",
    "* LogisticRegression(C=0.1, solver='saga')\n",
    "* Score: 0.850612\n",
    "\n",
    "**Mejor algoritmo Seasonal:**\n",
    "\n",
    "RandomForest:\n",
    "* RandomForestClassifier(max_depth=8, n_estimators=500, random_state=42)\n",
    "* Score: 0.775052\n",
    "* {'C': 10, 'gamma': 0.01, 'kernel': 'rbf'}\n",
    "\n",
    "SVM:\n",
    "* SVC(C=10, gamma=0.01)\n",
    "* Score: 0.77494"
   ]
  },
  {
   "cell_type": "code",
   "execution_count": 35,
   "metadata": {},
   "outputs": [
    {
     "data": {
      "text/html": [
       "<div>\n",
       "<style scoped>\n",
       "    .dataframe tbody tr th:only-of-type {\n",
       "        vertical-align: middle;\n",
       "    }\n",
       "\n",
       "    .dataframe tbody tr th {\n",
       "        vertical-align: top;\n",
       "    }\n",
       "\n",
       "    .dataframe thead th {\n",
       "        text-align: right;\n",
       "    }\n",
       "</style>\n",
       "<table border=\"1\" class=\"dataframe\">\n",
       "  <thead>\n",
       "    <tr style=\"text-align: right;\">\n",
       "      <th></th>\n",
       "      <th>estimator</th>\n",
       "      <th>target</th>\n",
       "      <th>params</th>\n",
       "      <th>score</th>\n",
       "    </tr>\n",
       "  </thead>\n",
       "  <tbody>\n",
       "    <tr>\n",
       "      <th>n_estimators</th>\n",
       "      <td>rf</td>\n",
       "      <td>h1n1</td>\n",
       "      <td>500</td>\n",
       "      <td>0.852567</td>\n",
       "    </tr>\n",
       "    <tr>\n",
       "      <th>criterion</th>\n",
       "      <td>rf</td>\n",
       "      <td>h1n1</td>\n",
       "      <td>entropy</td>\n",
       "      <td>0.852567</td>\n",
       "    </tr>\n",
       "    <tr>\n",
       "      <th>max_features</th>\n",
       "      <td>rf</td>\n",
       "      <td>h1n1</td>\n",
       "      <td>auto</td>\n",
       "      <td>0.852567</td>\n",
       "    </tr>\n",
       "    <tr>\n",
       "      <th>max_depth</th>\n",
       "      <td>rf</td>\n",
       "      <td>h1n1</td>\n",
       "      <td>8</td>\n",
       "      <td>0.852567</td>\n",
       "    </tr>\n",
       "    <tr>\n",
       "      <th>multi_class</th>\n",
       "      <td>lr</td>\n",
       "      <td>h1n1</td>\n",
       "      <td>multinomial</td>\n",
       "      <td>0.851211</td>\n",
       "    </tr>\n",
       "    <tr>\n",
       "      <th>penalty</th>\n",
       "      <td>lr</td>\n",
       "      <td>h1n1</td>\n",
       "      <td>l1</td>\n",
       "      <td>0.851211</td>\n",
       "    </tr>\n",
       "    <tr>\n",
       "      <th>solver</th>\n",
       "      <td>lr</td>\n",
       "      <td>h1n1</td>\n",
       "      <td>saga</td>\n",
       "      <td>0.851211</td>\n",
       "    </tr>\n",
       "    <tr>\n",
       "      <th>C</th>\n",
       "      <td>lr</td>\n",
       "      <td>h1n1</td>\n",
       "      <td>0.5</td>\n",
       "      <td>0.851211</td>\n",
       "    </tr>\n",
       "    <tr>\n",
       "      <th>C</th>\n",
       "      <td>svm</td>\n",
       "      <td>h1n1</td>\n",
       "      <td>1</td>\n",
       "      <td>0.849504</td>\n",
       "    </tr>\n",
       "    <tr>\n",
       "      <th>gamma</th>\n",
       "      <td>svm</td>\n",
       "      <td>h1n1</td>\n",
       "      <td>0.01</td>\n",
       "      <td>0.849504</td>\n",
       "    </tr>\n",
       "    <tr>\n",
       "      <th>kernel</th>\n",
       "      <td>svm</td>\n",
       "      <td>h1n1</td>\n",
       "      <td>rbf</td>\n",
       "      <td>0.849504</td>\n",
       "    </tr>\n",
       "    <tr>\n",
       "      <th>var_smoothing</th>\n",
       "      <td>naive</td>\n",
       "      <td>h1n1</td>\n",
       "      <td>0.023101</td>\n",
       "      <td>0.807653</td>\n",
       "    </tr>\n",
       "    <tr>\n",
       "      <th>n_neighbors</th>\n",
       "      <td>kn</td>\n",
       "      <td>h1n1</td>\n",
       "      <td>30</td>\n",
       "      <td>0.798086</td>\n",
       "    </tr>\n",
       "    <tr>\n",
       "      <th>max_features</th>\n",
       "      <td>dt</td>\n",
       "      <td>h1n1</td>\n",
       "      <td>log2</td>\n",
       "      <td>0.789579</td>\n",
       "    </tr>\n",
       "    <tr>\n",
       "      <th>max_depth</th>\n",
       "      <td>dt</td>\n",
       "      <td>h1n1</td>\n",
       "      <td>6</td>\n",
       "      <td>0.789579</td>\n",
       "    </tr>\n",
       "    <tr>\n",
       "      <th>criterion</th>\n",
       "      <td>dt</td>\n",
       "      <td>h1n1</td>\n",
       "      <td>entropy</td>\n",
       "      <td>0.789579</td>\n",
       "    </tr>\n",
       "    <tr>\n",
       "      <th>ccp_alpha</th>\n",
       "      <td>dt</td>\n",
       "      <td>h1n1</td>\n",
       "      <td>0.001</td>\n",
       "      <td>0.789579</td>\n",
       "    </tr>\n",
       "  </tbody>\n",
       "</table>\n",
       "</div>"
      ],
      "text/plain": [
       "              estimator target       params     score\n",
       "n_estimators         rf   h1n1          500  0.852567\n",
       "criterion            rf   h1n1      entropy  0.852567\n",
       "max_features         rf   h1n1         auto  0.852567\n",
       "max_depth            rf   h1n1            8  0.852567\n",
       "multi_class          lr   h1n1  multinomial  0.851211\n",
       "penalty              lr   h1n1           l1  0.851211\n",
       "solver               lr   h1n1         saga  0.851211\n",
       "C                    lr   h1n1          0.5  0.851211\n",
       "C                   svm   h1n1            1  0.849504\n",
       "gamma               svm   h1n1         0.01  0.849504\n",
       "kernel              svm   h1n1          rbf  0.849504\n",
       "var_smoothing     naive   h1n1     0.023101  0.807653\n",
       "n_neighbors          kn   h1n1           30  0.798086\n",
       "max_features         dt   h1n1         log2  0.789579\n",
       "max_depth            dt   h1n1            6  0.789579\n",
       "criterion            dt   h1n1      entropy  0.789579\n",
       "ccp_alpha            dt   h1n1        0.001  0.789579"
      ]
     },
     "execution_count": 35,
     "metadata": {},
     "output_type": "execute_result"
    }
   ],
   "source": [
    "params_result[params_result['target'] == 'h1n1'].sort_values(by=\"score\", ascending=False)"
   ]
  },
  {
   "cell_type": "code",
   "execution_count": 36,
   "metadata": {},
   "outputs": [
    {
     "data": {
      "text/html": [
       "<div>\n",
       "<style scoped>\n",
       "    .dataframe tbody tr th:only-of-type {\n",
       "        vertical-align: middle;\n",
       "    }\n",
       "\n",
       "    .dataframe tbody tr th {\n",
       "        vertical-align: top;\n",
       "    }\n",
       "\n",
       "    .dataframe thead th {\n",
       "        text-align: right;\n",
       "    }\n",
       "</style>\n",
       "<table border=\"1\" class=\"dataframe\">\n",
       "  <thead>\n",
       "    <tr style=\"text-align: right;\">\n",
       "      <th></th>\n",
       "      <th>estimator</th>\n",
       "      <th>target</th>\n",
       "      <th>params</th>\n",
       "      <th>score</th>\n",
       "    </tr>\n",
       "  </thead>\n",
       "  <tbody>\n",
       "    <tr>\n",
       "      <th>C</th>\n",
       "      <td>svm</td>\n",
       "      <td>seasonal</td>\n",
       "      <td>1</td>\n",
       "      <td>0.852790</td>\n",
       "    </tr>\n",
       "    <tr>\n",
       "      <th>gamma</th>\n",
       "      <td>svm</td>\n",
       "      <td>seasonal</td>\n",
       "      <td>0.01</td>\n",
       "      <td>0.852790</td>\n",
       "    </tr>\n",
       "    <tr>\n",
       "      <th>kernel</th>\n",
       "      <td>svm</td>\n",
       "      <td>seasonal</td>\n",
       "      <td>rbf</td>\n",
       "      <td>0.852790</td>\n",
       "    </tr>\n",
       "    <tr>\n",
       "      <th>n_estimators</th>\n",
       "      <td>rf</td>\n",
       "      <td>seasonal</td>\n",
       "      <td>500</td>\n",
       "      <td>0.850182</td>\n",
       "    </tr>\n",
       "    <tr>\n",
       "      <th>max_features</th>\n",
       "      <td>rf</td>\n",
       "      <td>seasonal</td>\n",
       "      <td>auto</td>\n",
       "      <td>0.850182</td>\n",
       "    </tr>\n",
       "    <tr>\n",
       "      <th>max_depth</th>\n",
       "      <td>rf</td>\n",
       "      <td>seasonal</td>\n",
       "      <td>8</td>\n",
       "      <td>0.850182</td>\n",
       "    </tr>\n",
       "    <tr>\n",
       "      <th>criterion</th>\n",
       "      <td>rf</td>\n",
       "      <td>seasonal</td>\n",
       "      <td>entropy</td>\n",
       "      <td>0.850182</td>\n",
       "    </tr>\n",
       "    <tr>\n",
       "      <th>n_neighbors</th>\n",
       "      <td>kn</td>\n",
       "      <td>seasonal</td>\n",
       "      <td>30</td>\n",
       "      <td>0.822603</td>\n",
       "    </tr>\n",
       "    <tr>\n",
       "      <th>var_smoothing</th>\n",
       "      <td>naive</td>\n",
       "      <td>seasonal</td>\n",
       "      <td>0.081113</td>\n",
       "      <td>0.812989</td>\n",
       "    </tr>\n",
       "    <tr>\n",
       "      <th>criterion</th>\n",
       "      <td>dt</td>\n",
       "      <td>seasonal</td>\n",
       "      <td>entropy</td>\n",
       "      <td>0.779136</td>\n",
       "    </tr>\n",
       "    <tr>\n",
       "      <th>max_depth</th>\n",
       "      <td>dt</td>\n",
       "      <td>seasonal</td>\n",
       "      <td>7</td>\n",
       "      <td>0.779136</td>\n",
       "    </tr>\n",
       "    <tr>\n",
       "      <th>max_features</th>\n",
       "      <td>dt</td>\n",
       "      <td>seasonal</td>\n",
       "      <td>auto</td>\n",
       "      <td>0.779136</td>\n",
       "    </tr>\n",
       "    <tr>\n",
       "      <th>ccp_alpha</th>\n",
       "      <td>dt</td>\n",
       "      <td>seasonal</td>\n",
       "      <td>0.001</td>\n",
       "      <td>0.779136</td>\n",
       "    </tr>\n",
       "    <tr>\n",
       "      <th>C</th>\n",
       "      <td>lr</td>\n",
       "      <td>seasonal</td>\n",
       "      <td>0.1</td>\n",
       "      <td>0.771699</td>\n",
       "    </tr>\n",
       "    <tr>\n",
       "      <th>solver</th>\n",
       "      <td>lr</td>\n",
       "      <td>seasonal</td>\n",
       "      <td>lbfgs</td>\n",
       "      <td>0.771699</td>\n",
       "    </tr>\n",
       "    <tr>\n",
       "      <th>penalty</th>\n",
       "      <td>lr</td>\n",
       "      <td>seasonal</td>\n",
       "      <td>l2</td>\n",
       "      <td>0.771699</td>\n",
       "    </tr>\n",
       "    <tr>\n",
       "      <th>multi_class</th>\n",
       "      <td>lr</td>\n",
       "      <td>seasonal</td>\n",
       "      <td>auto</td>\n",
       "      <td>0.771699</td>\n",
       "    </tr>\n",
       "  </tbody>\n",
       "</table>\n",
       "</div>"
      ],
      "text/plain": [
       "              estimator    target    params     score\n",
       "C                   svm  seasonal         1  0.852790\n",
       "gamma               svm  seasonal      0.01  0.852790\n",
       "kernel              svm  seasonal       rbf  0.852790\n",
       "n_estimators         rf  seasonal       500  0.850182\n",
       "max_features         rf  seasonal      auto  0.850182\n",
       "max_depth            rf  seasonal         8  0.850182\n",
       "criterion            rf  seasonal   entropy  0.850182\n",
       "n_neighbors          kn  seasonal        30  0.822603\n",
       "var_smoothing     naive  seasonal  0.081113  0.812989\n",
       "criterion            dt  seasonal   entropy  0.779136\n",
       "max_depth            dt  seasonal         7  0.779136\n",
       "max_features         dt  seasonal      auto  0.779136\n",
       "ccp_alpha            dt  seasonal     0.001  0.779136\n",
       "C                    lr  seasonal       0.1  0.771699\n",
       "solver               lr  seasonal     lbfgs  0.771699\n",
       "penalty              lr  seasonal        l2  0.771699\n",
       "multi_class          lr  seasonal      auto  0.771699"
      ]
     },
     "execution_count": 36,
     "metadata": {},
     "output_type": "execute_result"
    }
   ],
   "source": [
    "params_result[params_result['target'] == 'seasonal'].sort_values(by=\"score\", ascending=False)"
   ]
  },
  {
   "cell_type": "code",
   "execution_count": 37,
   "metadata": {
    "colab": {
     "base_uri": "https://localhost:8080/"
    },
    "id": "Rjl2Lj35Jv9b",
    "outputId": "db5f122c-c7c5-41ac-df0e-3f0b61d6d9bb"
   },
   "outputs": [
    {
     "name": "stdout",
     "output_type": "stream",
     "text": [
      "['h1n1_concern' 'h1n1_knowledge' 'behavioral_antiviral_meds'\n",
      " 'behavioral_avoidance' 'behavioral_face_mask' 'behavioral_wash_hands'\n",
      " 'behavioral_large_gatherings' 'behavioral_outside_home'\n",
      " 'behavioral_touch_face' 'doctor_recc_h1n1' 'doctor_recc_seasonal'\n",
      " 'chronic_med_condition' 'child_under_6_months' 'health_worker'\n",
      " 'health_insurance' 'opinion_h1n1_vacc_effective' 'opinion_h1n1_risk'\n",
      " 'opinion_h1n1_sick_from_vacc' 'opinion_seas_vacc_effective'\n",
      " 'opinion_seas_risk' 'opinion_seas_sick_from_vacc' 'age_group' 'education'\n",
      " 'race' 'sex' 'marital_status' 'rent_or_own' 'employment_status'\n",
      " 'census_msa' 'household_adults' 'household_children']\n"
     ]
    }
   ],
   "source": [
    "numeric_cols = features_df.columns[features_df.dtypes != \"object\"].values\n",
    "print(numeric_cols)"
   ]
  },
  {
   "cell_type": "code",
   "execution_count": 38,
   "metadata": {
    "id": "4IOqF5LIJWUC"
   },
   "outputs": [],
   "source": [
    "# chain preprocessing into a Pipeline object\n",
    "# each step is a tuple of (name you chose, sklearn transformer)\n",
    "numeric_preprocessing_steps = Pipeline([\n",
    "    ('standard_scaler', StandardScaler()),\n",
    "    ('simple_imputer', SimpleImputer(strategy='median'))\n",
    "])\n",
    "\n",
    "# create the preprocessor stage of final pipeline\n",
    "# each entry in the transformer list is a tuple of\n",
    "# (name you choose, sklearn transformer, list of columns)\n",
    "preprocessor = ColumnTransformer(\n",
    "    transformers = [\n",
    "        (\"numeric\", numeric_preprocessing_steps, numeric_cols)\n",
    "    ],\n",
    "    remainder = \"drop\"\n",
    ")"
   ]
  },
  {
   "cell_type": "markdown",
   "metadata": {},
   "source": [
    "## H1N1"
   ]
  },
  {
   "cell_type": "markdown",
   "metadata": {},
   "source": [
    "### Algoritmo 1: RandomForest"
   ]
  },
  {
   "cell_type": "code",
   "execution_count": 96,
   "metadata": {
    "colab": {
     "base_uri": "https://localhost:8080/",
     "height": 293
    },
    "id": "PZkCzCyPMb6f",
    "outputId": "ca159d78-995c-4e11-893a-0b664aed9f85"
   },
   "outputs": [
    {
     "data": {
      "text/plain": [
       "Pipeline(steps=[('preprocessor',\n",
       "                 ColumnTransformer(transformers=[('numeric',\n",
       "                                                  Pipeline(steps=[('standard_scaler',\n",
       "                                                                   StandardScaler()),\n",
       "                                                                  ('simple_imputer',\n",
       "                                                                   SimpleImputer(strategy='median'))]),\n",
       "                                                  array(['h1n1_concern', 'h1n1_knowledge', 'behavioral_antiviral_meds',\n",
       "       'behavioral_avoidance', 'behavioral_face_mask',\n",
       "       'behavioral_wash_hands', 'behavioral_large_gatherings',\n",
       "       '...\n",
       "       'health_insurance', 'opinion_h1n1_vacc_effective',\n",
       "       'opinion_h1n1_risk', 'opinion_h1n1_sick_from_vacc',\n",
       "       'opinion_seas_vacc_effective', 'opinion_seas_risk',\n",
       "       'opinion_seas_sick_from_vacc', 'age_group', 'education', 'race',\n",
       "       'sex', 'marital_status', 'rent_or_own', 'employment_status',\n",
       "       'census_msa', 'household_adults', 'household_children'],\n",
       "      dtype=object))])),\n",
       "                ('estimator', RandomForestClassifier(random_state=42))])"
      ]
     },
     "execution_count": 96,
     "metadata": {},
     "output_type": "execute_result"
    }
   ],
   "source": [
    "estimator = RandomForestClassifier(random_state=RANDOM_SEED)\n",
    "\n",
    "full_pipeline = Pipeline([\n",
    "    (\"preprocessor\", preprocessor),\n",
    "    (\"estimator\", estimator),\n",
    "])\n",
    "\n",
    "full_pipeline"
   ]
  },
  {
   "cell_type": "code",
   "execution_count": 97,
   "metadata": {
    "colab": {
     "base_uri": "https://localhost:8080/"
    },
    "id": "9dowNfn8KDDa",
    "outputId": "6b4d64a4-ffaf-4698-f1f3-60b00f9b77ff"
   },
   "outputs": [
    {
     "data": {
      "text/plain": [
       "array([[0.92, 0.08],\n",
       "       [0.11, 0.89],\n",
       "       [0.99, 0.01],\n",
       "       ...,\n",
       "       [0.19, 0.81],\n",
       "       [0.88, 0.12],\n",
       "       [0.69, 0.31]])"
      ]
     },
     "execution_count": 97,
     "metadata": {},
     "output_type": "execute_result"
    }
   ],
   "source": [
    "# Train model\n",
    "full_pipeline.fit(X_train, y_train_h1n1)\n",
    "\n",
    "# Predict on evaluation set\n",
    "preds_rf_h1n1 = full_pipeline.predict_proba(X_eval)\n",
    "preds_rf_h1n1"
   ]
  },
  {
   "cell_type": "code",
   "execution_count": 99,
   "metadata": {
    "colab": {
     "base_uri": "https://localhost:8080/"
    },
    "id": "Rz7fT-Q9Kk9B",
    "outputId": "85b3c006-a25d-4965-f816-1e67d81b3500"
   },
   "outputs": [
    {
     "name": "stdout",
     "output_type": "stream",
     "text": [
      "Accuracy:     0.8510\n",
      "Precision:     0.7476\n",
      "Recall:     0.4509\n",
      "\n",
      "               precision    recall  f1-score   support\n",
      "\n",
      "           0       0.87      0.96      0.91      6942\n",
      "           1       0.75      0.45      0.56      1872\n",
      "\n",
      "    accuracy                           0.85      8814\n",
      "   macro avg       0.81      0.70      0.74      8814\n",
      "weighted avg       0.84      0.85      0.84      8814\n",
      "\n"
     ]
    }
   ],
   "source": [
    "print_metrics(y_eval_h1n1, preds_rf_h1n1[:, 1].round())"
   ]
  },
  {
   "cell_type": "code",
   "execution_count": 100,
   "metadata": {},
   "outputs": [
    {
     "name": "stdout",
     "output_type": "stream",
     "text": [
      "AUC = 0.8549726427\n"
     ]
    }
   ],
   "source": [
    "print(f\"AUC = {roc_auc_score(y_eval_h1n1, preds_rf_h1n1[:, 1]):.10f}\")"
   ]
  },
  {
   "cell_type": "code",
   "execution_count": 103,
   "metadata": {
    "colab": {
     "base_uri": "https://localhost:8080/",
     "height": 255
    },
    "id": "_RRdcgFmM8nf",
    "outputId": "43f5f3a7-2c42-4d17-c766-b4a9283d71a5"
   },
   "outputs": [
    {
     "name": "stdout",
     "output_type": "stream",
     "text": [
      "y_preds.shape: (8814, 1)\n"
     ]
    },
    {
     "data": {
      "text/html": [
       "<div>\n",
       "<style scoped>\n",
       "    .dataframe tbody tr th:only-of-type {\n",
       "        vertical-align: middle;\n",
       "    }\n",
       "\n",
       "    .dataframe tbody tr th {\n",
       "        vertical-align: top;\n",
       "    }\n",
       "\n",
       "    .dataframe thead th {\n",
       "        text-align: right;\n",
       "    }\n",
       "</style>\n",
       "<table border=\"1\" class=\"dataframe\">\n",
       "  <thead>\n",
       "    <tr style=\"text-align: right;\">\n",
       "      <th></th>\n",
       "      <th>h1n1_vaccine</th>\n",
       "    </tr>\n",
       "    <tr>\n",
       "      <th>respondent_id</th>\n",
       "      <th></th>\n",
       "    </tr>\n",
       "  </thead>\n",
       "  <tbody>\n",
       "    <tr>\n",
       "      <th>6368</th>\n",
       "      <td>0.08</td>\n",
       "    </tr>\n",
       "    <tr>\n",
       "      <th>12566</th>\n",
       "      <td>0.89</td>\n",
       "    </tr>\n",
       "    <tr>\n",
       "      <th>13996</th>\n",
       "      <td>0.01</td>\n",
       "    </tr>\n",
       "    <tr>\n",
       "      <th>12769</th>\n",
       "      <td>0.47</td>\n",
       "    </tr>\n",
       "    <tr>\n",
       "      <th>16915</th>\n",
       "      <td>0.03</td>\n",
       "    </tr>\n",
       "  </tbody>\n",
       "</table>\n",
       "</div>"
      ],
      "text/plain": [
       "               h1n1_vaccine\n",
       "respondent_id              \n",
       "6368                   0.08\n",
       "12566                  0.89\n",
       "13996                  0.01\n",
       "12769                  0.47\n",
       "16915                  0.03"
      ]
     },
     "execution_count": 103,
     "metadata": {},
     "output_type": "execute_result"
    }
   ],
   "source": [
    "y_preds_rf_h1n1 = pd.DataFrame(\n",
    "    {\n",
    "        \"h1n1_vaccine\": preds_rf_h1n1[:, 1],\n",
    "    },\n",
    "    index = y_eval_h1n1.index\n",
    ")\n",
    "print(\"y_preds.shape:\", y_preds_rf_h1n1.shape)\n",
    "y_preds_rf_h1n1.head()"
   ]
  },
  {
   "cell_type": "code",
   "execution_count": 104,
   "metadata": {
    "colab": {
     "base_uri": "https://localhost:8080/",
     "height": 357
    },
    "id": "UjrMPDJwNEkF",
    "outputId": "0f781bc0-82d0-4271-c385-b42fef2147fb"
   },
   "outputs": [
    {
     "data": {
      "image/png": "[encoded data removed]",
      "text/plain": [
       "<Figure size 500x350 with 1 Axes>"
      ]
     },
     "metadata": {},
     "output_type": "display_data"
    }
   ],
   "source": [
    "fig, ax = plt.subplots(1, 1, figsize=(5, 3.5))\n",
    "\n",
    "plot_roc(\n",
    "    y_eval_h1n1['h1n1_vaccine'],\n",
    "    y_preds_rf_h1n1['h1n1_vaccine'],\n",
    "    'h1n1_vaccine',\n",
    "    ax=ax\n",
    ")\n",
    "fig.tight_layout()"
   ]
  },
  {
   "cell_type": "markdown",
   "metadata": {},
   "source": [
    "### Algoritmo 2: LogisticRegression"
   ]
  },
  {
   "cell_type": "code",
   "execution_count": 45,
   "metadata": {
    "colab": {
     "base_uri": "https://localhost:8080/",
     "height": 293
    },
    "id": "PZkCzCyPMb6f",
    "outputId": "ca159d78-995c-4e11-893a-0b664aed9f85"
   },
   "outputs": [
    {
     "data": {
      "text/plain": [
       "Pipeline(steps=[('preprocessor',\n",
       "                 ColumnTransformer(transformers=[('numeric',\n",
       "                                                  Pipeline(steps=[('standard_scaler',\n",
       "                                                                   StandardScaler()),\n",
       "                                                                  ('simple_imputer',\n",
       "                                                                   SimpleImputer(strategy='median'))]),\n",
       "                                                  array(['h1n1_concern', 'h1n1_knowledge', 'behavioral_antiviral_meds',\n",
       "       'behavioral_avoidance', 'behavioral_face_mask',\n",
       "       'behavioral_wash_hands', 'behavioral_large_gatherings',\n",
       "       '...\n",
       "       'health_insurance', 'opinion_h1n1_vacc_effective',\n",
       "       'opinion_h1n1_risk', 'opinion_h1n1_sick_from_vacc',\n",
       "       'opinion_seas_vacc_effective', 'opinion_seas_risk',\n",
       "       'opinion_seas_sick_from_vacc', 'age_group', 'education', 'race',\n",
       "       'sex', 'marital_status', 'rent_or_own', 'employment_status',\n",
       "       'census_msa', 'household_adults', 'household_children'],\n",
       "      dtype=object))])),\n",
       "                ('estimator', LogisticRegression(C=0.1, solver='saga'))])"
      ]
     },
     "execution_count": 45,
     "metadata": {},
     "output_type": "execute_result"
    }
   ],
   "source": [
    "estimator = LogisticRegression(C=0.1, solver='saga')\n",
    "\n",
    "full_pipeline = Pipeline([\n",
    "    (\"preprocessor\", preprocessor),\n",
    "    (\"estimator\", estimator),\n",
    "])\n",
    "\n",
    "full_pipeline"
   ]
  },
  {
   "cell_type": "code",
   "execution_count": 46,
   "metadata": {
    "colab": {
     "base_uri": "https://localhost:8080/"
    },
    "id": "9dowNfn8KDDa",
    "outputId": "6b4d64a4-ffaf-4698-f1f3-60b00f9b77ff"
   },
   "outputs": [
    {
     "data": {
      "text/plain": [
       "array([[0.9653178 , 0.0346822 ],\n",
       "       [0.13953813, 0.86046187],\n",
       "       [0.91704359, 0.08295641],\n",
       "       ...,\n",
       "       [0.11920677, 0.88079323],\n",
       "       [0.9769164 , 0.0230836 ],\n",
       "       [0.62252576, 0.37747424]])"
      ]
     },
     "execution_count": 46,
     "metadata": {},
     "output_type": "execute_result"
    }
   ],
   "source": [
    "# Train model\n",
    "full_pipeline.fit(X_train, y_train_h1n1)\n",
    "\n",
    "# Predict on evaluation set\n",
    "preds_lr_h1n1 = full_pipeline.predict_proba(X_eval)\n",
    "preds_lr_h1n1"
   ]
  },
  {
   "cell_type": "code",
   "execution_count": 47,
   "metadata": {
    "colab": {
     "base_uri": "https://localhost:8080/"
    },
    "id": "Wn9WydwLLBQA",
    "outputId": "8c91b88f-f85c-4dcd-f627-effbcd68e051"
   },
   "outputs": [
    {
     "name": "stdout",
     "output_type": "stream",
     "text": [
      "Accuracy:     0.8486\n",
      "Precision:     0.7118\n",
      "Recall:     0.4829\n",
      "\n",
      "               precision    recall  f1-score   support\n",
      "\n",
      "           0       0.87      0.95      0.91      6942\n",
      "           1       0.71      0.48      0.58      1872\n",
      "\n",
      "    accuracy                           0.85      8814\n",
      "   macro avg       0.79      0.72      0.74      8814\n",
      "weighted avg       0.84      0.85      0.84      8814\n",
      "\n"
     ]
    }
   ],
   "source": [
    "# Classification metrics can't handle a mix of binary and continuous targets\n",
    "print_metrics(y_eval_h1n1, preds_lr_h1n1[:, 1].round())"
   ]
  },
  {
   "cell_type": "code",
   "execution_count": 48,
   "metadata": {},
   "outputs": [
    {
     "name": "stdout",
     "output_type": "stream",
     "text": [
      "AUC = 0.8550639056\n"
     ]
    }
   ],
   "source": [
    "print(f\"AUC = {roc_auc_score(y_eval_h1n1, preds_lr_h1n1[:, 1]):.10f}\")"
   ]
  },
  {
   "cell_type": "code",
   "execution_count": 49,
   "metadata": {
    "colab": {
     "base_uri": "https://localhost:8080/",
     "height": 255
    },
    "id": "_RRdcgFmM8nf",
    "outputId": "43f5f3a7-2c42-4d17-c766-b4a9283d71a5"
   },
   "outputs": [
    {
     "name": "stdout",
     "output_type": "stream",
     "text": [
      "y_preds.shape: (8814, 1)\n"
     ]
    },
    {
     "data": {
      "text/html": [
       "<div>\n",
       "<style scoped>\n",
       "    .dataframe tbody tr th:only-of-type {\n",
       "        vertical-align: middle;\n",
       "    }\n",
       "\n",
       "    .dataframe tbody tr th {\n",
       "        vertical-align: top;\n",
       "    }\n",
       "\n",
       "    .dataframe thead th {\n",
       "        text-align: right;\n",
       "    }\n",
       "</style>\n",
       "<table border=\"1\" class=\"dataframe\">\n",
       "  <thead>\n",
       "    <tr style=\"text-align: right;\">\n",
       "      <th></th>\n",
       "      <th>h1n1_vaccine</th>\n",
       "    </tr>\n",
       "    <tr>\n",
       "      <th>respondent_id</th>\n",
       "      <th></th>\n",
       "    </tr>\n",
       "  </thead>\n",
       "  <tbody>\n",
       "    <tr>\n",
       "      <th>6368</th>\n",
       "      <td>0.034682</td>\n",
       "    </tr>\n",
       "    <tr>\n",
       "      <th>12566</th>\n",
       "      <td>0.860462</td>\n",
       "    </tr>\n",
       "    <tr>\n",
       "      <th>13996</th>\n",
       "      <td>0.082956</td>\n",
       "    </tr>\n",
       "    <tr>\n",
       "      <th>12769</th>\n",
       "      <td>0.381408</td>\n",
       "    </tr>\n",
       "    <tr>\n",
       "      <th>16915</th>\n",
       "      <td>0.032032</td>\n",
       "    </tr>\n",
       "  </tbody>\n",
       "</table>\n",
       "</div>"
      ],
      "text/plain": [
       "               h1n1_vaccine\n",
       "respondent_id              \n",
       "6368               0.034682\n",
       "12566              0.860462\n",
       "13996              0.082956\n",
       "12769              0.381408\n",
       "16915              0.032032"
      ]
     },
     "execution_count": 49,
     "metadata": {},
     "output_type": "execute_result"
    }
   ],
   "source": [
    "y_preds_lr_h1n1 = pd.DataFrame(\n",
    "    {\n",
    "        \"h1n1_vaccine\": preds_lr_h1n1[:, 1]\n",
    "    },\n",
    "    index = y_eval_h1n1.index\n",
    ")\n",
    "print(\"y_preds.shape:\", y_preds_lr_h1n1.shape)\n",
    "y_preds_lr_h1n1.head()"
   ]
  },
  {
   "cell_type": "code",
   "execution_count": 50,
   "metadata": {
    "colab": {
     "base_uri": "https://localhost:8080/",
     "height": 357
    },
    "id": "UjrMPDJwNEkF",
    "outputId": "0f781bc0-82d0-4271-c385-b42fef2147fb"
   },
   "outputs": [
    {
     "data": {
      "image/png": "[encoded data removed]",
      "text/plain": [
       "<Figure size 500x350 with 1 Axes>"
      ]
     },
     "metadata": {},
     "output_type": "display_data"
    }
   ],
   "source": [
    "fig, ax = plt.subplots(1, 1, figsize=(5, 3.5))\n",
    "\n",
    "plot_roc(\n",
    "    y_eval['h1n1_vaccine'],\n",
    "    y_preds_lr_h1n1['h1n1_vaccine'],\n",
    "    'h1n1_vaccine',\n",
    "    ax=ax\n",
    ")\n",
    "fig.tight_layout()"
   ]
  },
  {
   "cell_type": "markdown",
   "metadata": {},
   "source": [
    "### Algoritmo 3: SVM"
   ]
  },
  {
   "cell_type": "code",
   "execution_count": 105,
   "metadata": {
    "colab": {
     "base_uri": "https://localhost:8080/",
     "height": 293
    },
    "id": "PZkCzCyPMb6f",
    "outputId": "ca159d78-995c-4e11-893a-0b664aed9f85"
   },
   "outputs": [
    {
     "data": {
      "text/plain": [
       "Pipeline(steps=[('preprocessor',\n",
       "                 ColumnTransformer(transformers=[('numeric',\n",
       "                                                  Pipeline(steps=[('standard_scaler',\n",
       "                                                                   StandardScaler()),\n",
       "                                                                  ('simple_imputer',\n",
       "                                                                   SimpleImputer(strategy='median'))]),\n",
       "                                                  array(['h1n1_concern', 'h1n1_knowledge', 'behavioral_antiviral_meds',\n",
       "       'behavioral_avoidance', 'behavioral_face_mask',\n",
       "       'behavioral_wash_hands', 'behavioral_large_gatherings',\n",
       "       '...\n",
       "       'health_insurance', 'opinion_h1n1_vacc_effective',\n",
       "       'opinion_h1n1_risk', 'opinion_h1n1_sick_from_vacc',\n",
       "       'opinion_seas_vacc_effective', 'opinion_seas_risk',\n",
       "       'opinion_seas_sick_from_vacc', 'age_group', 'education', 'race',\n",
       "       'sex', 'marital_status', 'rent_or_own', 'employment_status',\n",
       "       'census_msa', 'household_adults', 'household_children'],\n",
       "      dtype=object))])),\n",
       "                ('estimator', SVC(C=10, gamma=0.01, probability=True))])"
      ]
     },
     "execution_count": 105,
     "metadata": {},
     "output_type": "execute_result"
    }
   ],
   "source": [
    "estimator = SVC(C=10, gamma=0.01, kernel='rbf', probability=True)\n",
    "\n",
    "full_pipeline = Pipeline([\n",
    "    (\"preprocessor\", preprocessor),\n",
    "    (\"estimator\", estimator),\n",
    "])\n",
    "\n",
    "full_pipeline"
   ]
  },
  {
   "cell_type": "code",
   "execution_count": 106,
   "metadata": {
    "colab": {
     "base_uri": "https://localhost:8080/"
    },
    "id": "9dowNfn8KDDa",
    "outputId": "6b4d64a4-ffaf-4698-f1f3-60b00f9b77ff"
   },
   "outputs": [
    {
     "data": {
      "text/plain": [
       "array([[0.93981393, 0.06018607],\n",
       "       [0.04820784, 0.95179216],\n",
       "       [0.87882138, 0.12117862],\n",
       "       ...,\n",
       "       [0.08194392, 0.91805608],\n",
       "       [0.91364851, 0.08635149],\n",
       "       [0.66752482, 0.33247518]])"
      ]
     },
     "execution_count": 106,
     "metadata": {},
     "output_type": "execute_result"
    }
   ],
   "source": [
    "# Train model\n",
    "full_pipeline.fit(X_train, y_train_h1n1)\n",
    "\n",
    "# Predict on evaluation set\n",
    "preds_svm_h1n1 = full_pipeline.predict_proba(X_eval)\n",
    "preds_svm_h1n1"
   ]
  },
  {
   "cell_type": "code",
   "execution_count": 107,
   "metadata": {
    "colab": {
     "base_uri": "https://localhost:8080/"
    },
    "id": "Wn9WydwLLBQA",
    "outputId": "8c91b88f-f85c-4dcd-f627-effbcd68e051"
   },
   "outputs": [
    {
     "name": "stdout",
     "output_type": "stream",
     "text": [
      "Accuracy:     0.8508\n",
      "Precision:     0.7591\n",
      "Recall:     0.4359\n",
      "\n",
      "               precision    recall  f1-score   support\n",
      "\n",
      "           0       0.86      0.96      0.91      6942\n",
      "           1       0.76      0.44      0.55      1872\n",
      "\n",
      "    accuracy                           0.85      8814\n",
      "   macro avg       0.81      0.70      0.73      8814\n",
      "weighted avg       0.84      0.85      0.83      8814\n",
      "\n"
     ]
    }
   ],
   "source": [
    "# Classification metrics can't handle a mix of binary and continuous targets\n",
    "print_metrics(y_eval_h1n1, preds_svm_h1n1[:, 1].round())"
   ]
  },
  {
   "cell_type": "code",
   "execution_count": 108,
   "metadata": {},
   "outputs": [
    {
     "name": "stdout",
     "output_type": "stream",
     "text": [
      "AUC = 0.8252598761\n"
     ]
    }
   ],
   "source": [
    "print(f\"AUC = {roc_auc_score(y_eval_h1n1, preds_svm_h1n1[:, 1]):.10f}\")"
   ]
  },
  {
   "cell_type": "code",
   "execution_count": 109,
   "metadata": {
    "colab": {
     "base_uri": "https://localhost:8080/",
     "height": 255
    },
    "id": "_RRdcgFmM8nf",
    "outputId": "43f5f3a7-2c42-4d17-c766-b4a9283d71a5"
   },
   "outputs": [
    {
     "name": "stdout",
     "output_type": "stream",
     "text": [
      "y_preds.shape: (8814, 1)\n"
     ]
    },
    {
     "data": {
      "text/html": [
       "<div>\n",
       "<style scoped>\n",
       "    .dataframe tbody tr th:only-of-type {\n",
       "        vertical-align: middle;\n",
       "    }\n",
       "\n",
       "    .dataframe tbody tr th {\n",
       "        vertical-align: top;\n",
       "    }\n",
       "\n",
       "    .dataframe thead th {\n",
       "        text-align: right;\n",
       "    }\n",
       "</style>\n",
       "<table border=\"1\" class=\"dataframe\">\n",
       "  <thead>\n",
       "    <tr style=\"text-align: right;\">\n",
       "      <th></th>\n",
       "      <th>h1n1_vaccine</th>\n",
       "    </tr>\n",
       "    <tr>\n",
       "      <th>respondent_id</th>\n",
       "      <th></th>\n",
       "    </tr>\n",
       "  </thead>\n",
       "  <tbody>\n",
       "    <tr>\n",
       "      <th>6368</th>\n",
       "      <td>0.060186</td>\n",
       "    </tr>\n",
       "    <tr>\n",
       "      <th>12566</th>\n",
       "      <td>0.951792</td>\n",
       "    </tr>\n",
       "    <tr>\n",
       "      <th>13996</th>\n",
       "      <td>0.121179</td>\n",
       "    </tr>\n",
       "    <tr>\n",
       "      <th>12769</th>\n",
       "      <td>0.605218</td>\n",
       "    </tr>\n",
       "    <tr>\n",
       "      <th>16915</th>\n",
       "      <td>0.089002</td>\n",
       "    </tr>\n",
       "  </tbody>\n",
       "</table>\n",
       "</div>"
      ],
      "text/plain": [
       "               h1n1_vaccine\n",
       "respondent_id              \n",
       "6368               0.060186\n",
       "12566              0.951792\n",
       "13996              0.121179\n",
       "12769              0.605218\n",
       "16915              0.089002"
      ]
     },
     "execution_count": 109,
     "metadata": {},
     "output_type": "execute_result"
    }
   ],
   "source": [
    "y_preds_svm_h1n1 = pd.DataFrame(\n",
    "    {\n",
    "        \"h1n1_vaccine\": preds_svm_h1n1[:, 1]\n",
    "    },\n",
    "    index = y_eval_h1n1.index\n",
    ")\n",
    "print(\"y_preds.shape:\", y_preds_svm_h1n1.shape)\n",
    "y_preds_svm_h1n1.head()"
   ]
  },
  {
   "cell_type": "code",
   "execution_count": 110,
   "metadata": {
    "colab": {
     "base_uri": "https://localhost:8080/",
     "height": 357
    },
    "id": "UjrMPDJwNEkF",
    "outputId": "0f781bc0-82d0-4271-c385-b42fef2147fb"
   },
   "outputs": [
    {
     "data": {
      "image/png": "[encoded data removed]",
      "text/plain": [
       "<Figure size 500x350 with 1 Axes>"
      ]
     },
     "metadata": {},
     "output_type": "display_data"
    }
   ],
   "source": [
    "fig, ax = plt.subplots(1, 1, figsize=(5, 3.5))\n",
    "\n",
    "plot_roc(\n",
    "    y_eval['h1n1_vaccine'],\n",
    "    y_preds_svm_h1n1['h1n1_vaccine'],\n",
    "    'h1n1_vaccine',\n",
    "    ax=ax\n",
    ")\n",
    "fig.tight_layout()"
   ]
  },
  {
   "cell_type": "markdown",
   "metadata": {},
   "source": [
    "## Seasonal"
   ]
  },
  {
   "cell_type": "markdown",
   "metadata": {},
   "source": [
    "### Algoritmo 1: RandomForest"
   ]
  },
  {
   "cell_type": "code",
   "execution_count": 111,
   "metadata": {
    "colab": {
     "base_uri": "https://localhost:8080/",
     "height": 293
    },
    "id": "PZkCzCyPMb6f",
    "outputId": "ca159d78-995c-4e11-893a-0b664aed9f85"
   },
   "outputs": [
    {
     "data": {
      "text/plain": [
       "Pipeline(steps=[('preprocessor',\n",
       "                 ColumnTransformer(transformers=[('numeric',\n",
       "                                                  Pipeline(steps=[('standard_scaler',\n",
       "                                                                   StandardScaler()),\n",
       "                                                                  ('simple_imputer',\n",
       "                                                                   SimpleImputer(strategy='median'))]),\n",
       "                                                  array(['h1n1_concern', 'h1n1_knowledge', 'behavioral_antiviral_meds',\n",
       "       'behavioral_avoidance', 'behavioral_face_mask',\n",
       "       'behavioral_wash_hands', 'behavioral_large_gatherings',\n",
       "       '...\n",
       "       'health_insurance', 'opinion_h1n1_vacc_effective',\n",
       "       'opinion_h1n1_risk', 'opinion_h1n1_sick_from_vacc',\n",
       "       'opinion_seas_vacc_effective', 'opinion_seas_risk',\n",
       "       'opinion_seas_sick_from_vacc', 'age_group', 'education', 'race',\n",
       "       'sex', 'marital_status', 'rent_or_own', 'employment_status',\n",
       "       'census_msa', 'household_adults', 'household_children'],\n",
       "      dtype=object))])),\n",
       "                ('estimator', RandomForestClassifier(random_state=42))])"
      ]
     },
     "execution_count": 111,
     "metadata": {},
     "output_type": "execute_result"
    }
   ],
   "source": [
    "estimator = RandomForestClassifier(random_state=RANDOM_SEED)\n",
    "\n",
    "full_pipeline = Pipeline([\n",
    "    (\"preprocessor\", preprocessor),\n",
    "    (\"estimator\", estimator),\n",
    "])\n",
    "\n",
    "full_pipeline"
   ]
  },
  {
   "cell_type": "code",
   "execution_count": 112,
   "metadata": {
    "colab": {
     "base_uri": "https://localhost:8080/"
    },
    "id": "9dowNfn8KDDa",
    "outputId": "6b4d64a4-ffaf-4698-f1f3-60b00f9b77ff"
   },
   "outputs": [
    {
     "data": {
      "text/plain": [
       "array([[0.89, 0.11],\n",
       "       [0.06, 0.94],\n",
       "       [0.8 , 0.2 ],\n",
       "       ...,\n",
       "       [0.17, 0.83],\n",
       "       [0.46, 0.54],\n",
       "       [0.63, 0.37]])"
      ]
     },
     "execution_count": 112,
     "metadata": {},
     "output_type": "execute_result"
    }
   ],
   "source": [
    "# Train model\n",
    "full_pipeline.fit(X_train, y_train_seasonal)\n",
    "\n",
    "# Predict on evaluation set\n",
    "preds_rf_seasonal = full_pipeline.predict_proba(X_eval)\n",
    "preds_rf_seasonal"
   ]
  },
  {
   "cell_type": "code",
   "execution_count": 113,
   "metadata": {
    "colab": {
     "base_uri": "https://localhost:8080/"
    },
    "id": "Rz7fT-Q9Kk9B",
    "outputId": "85b3c006-a25d-4965-f816-1e67d81b3500"
   },
   "outputs": [
    {
     "name": "stdout",
     "output_type": "stream",
     "text": [
      "Accuracy:     0.7751\n",
      "Precision:     0.7737\n",
      "Recall:     0.7308\n",
      "\n",
      "               precision    recall  f1-score   support\n",
      "\n",
      "           0       0.78      0.81      0.79      4710\n",
      "           1       0.77      0.73      0.75      4104\n",
      "\n",
      "    accuracy                           0.78      8814\n",
      "   macro avg       0.77      0.77      0.77      8814\n",
      "weighted avg       0.78      0.78      0.77      8814\n",
      "\n"
     ]
    }
   ],
   "source": [
    "print_metrics(y_eval_seasonal, preds_rf_seasonal[:, 1].round())"
   ]
  },
  {
   "cell_type": "code",
   "execution_count": 114,
   "metadata": {},
   "outputs": [
    {
     "name": "stdout",
     "output_type": "stream",
     "text": [
      "AUC = 0.8511341791\n"
     ]
    }
   ],
   "source": [
    "print(f\"AUC = {roc_auc_score(y_eval_seasonal, preds_rf_seasonal[:, 1]):.10f}\")"
   ]
  },
  {
   "cell_type": "code",
   "execution_count": 115,
   "metadata": {
    "colab": {
     "base_uri": "https://localhost:8080/",
     "height": 255
    },
    "id": "_RRdcgFmM8nf",
    "outputId": "43f5f3a7-2c42-4d17-c766-b4a9283d71a5"
   },
   "outputs": [
    {
     "name": "stdout",
     "output_type": "stream",
     "text": [
      "y_preds.shape: (8814, 1)\n"
     ]
    },
    {
     "data": {
      "text/html": [
       "<div>\n",
       "<style scoped>\n",
       "    .dataframe tbody tr th:only-of-type {\n",
       "        vertical-align: middle;\n",
       "    }\n",
       "\n",
       "    .dataframe tbody tr th {\n",
       "        vertical-align: top;\n",
       "    }\n",
       "\n",
       "    .dataframe thead th {\n",
       "        text-align: right;\n",
       "    }\n",
       "</style>\n",
       "<table border=\"1\" class=\"dataframe\">\n",
       "  <thead>\n",
       "    <tr style=\"text-align: right;\">\n",
       "      <th></th>\n",
       "      <th>seasonal_vaccine</th>\n",
       "    </tr>\n",
       "    <tr>\n",
       "      <th>respondent_id</th>\n",
       "      <th></th>\n",
       "    </tr>\n",
       "  </thead>\n",
       "  <tbody>\n",
       "    <tr>\n",
       "      <th>6368</th>\n",
       "      <td>0.11</td>\n",
       "    </tr>\n",
       "    <tr>\n",
       "      <th>12566</th>\n",
       "      <td>0.94</td>\n",
       "    </tr>\n",
       "    <tr>\n",
       "      <th>13996</th>\n",
       "      <td>0.20</td>\n",
       "    </tr>\n",
       "    <tr>\n",
       "      <th>12769</th>\n",
       "      <td>0.88</td>\n",
       "    </tr>\n",
       "    <tr>\n",
       "      <th>16915</th>\n",
       "      <td>0.04</td>\n",
       "    </tr>\n",
       "  </tbody>\n",
       "</table>\n",
       "</div>"
      ],
      "text/plain": [
       "               seasonal_vaccine\n",
       "respondent_id                  \n",
       "6368                       0.11\n",
       "12566                      0.94\n",
       "13996                      0.20\n",
       "12769                      0.88\n",
       "16915                      0.04"
      ]
     },
     "execution_count": 115,
     "metadata": {},
     "output_type": "execute_result"
    }
   ],
   "source": [
    "y_preds_rf_seasonal = pd.DataFrame(\n",
    "    {\n",
    "        \"seasonal_vaccine\": preds_rf_seasonal[:, 1],\n",
    "    },\n",
    "    index = y_eval_seasonal.index\n",
    ")\n",
    "print(\"y_preds.shape:\", y_preds_rf_seasonal.shape)\n",
    "y_preds_rf_seasonal.head()"
   ]
  },
  {
   "cell_type": "code",
   "execution_count": 116,
   "metadata": {
    "colab": {
     "base_uri": "https://localhost:8080/",
     "height": 357
    },
    "id": "UjrMPDJwNEkF",
    "outputId": "0f781bc0-82d0-4271-c385-b42fef2147fb"
   },
   "outputs": [
    {
     "data": {
      "image/png": "[encoded data removed]",
      "text/plain": [
       "<Figure size 500x350 with 1 Axes>"
      ]
     },
     "metadata": {},
     "output_type": "display_data"
    }
   ],
   "source": [
    "fig, ax = plt.subplots(1, 1, figsize=(5, 3.5))\n",
    "\n",
    "plot_roc(\n",
    "    y_eval_seasonal['seasonal_vaccine'],\n",
    "    y_preds_rf_seasonal['seasonal_vaccine'],\n",
    "    'seasonal_vaccine',\n",
    "    ax=ax\n",
    ")\n",
    "fig.tight_layout()"
   ]
  },
  {
   "cell_type": "markdown",
   "metadata": {},
   "source": [
    "### Algoritmo 2: SVM"
   ]
  },
  {
   "cell_type": "code",
   "execution_count": 117,
   "metadata": {
    "colab": {
     "base_uri": "https://localhost:8080/",
     "height": 293
    },
    "id": "PZkCzCyPMb6f",
    "outputId": "ca159d78-995c-4e11-893a-0b664aed9f85"
   },
   "outputs": [
    {
     "data": {
      "text/plain": [
       "Pipeline(steps=[('preprocessor',\n",
       "                 ColumnTransformer(transformers=[('numeric',\n",
       "                                                  Pipeline(steps=[('standard_scaler',\n",
       "                                                                   StandardScaler()),\n",
       "                                                                  ('simple_imputer',\n",
       "                                                                   SimpleImputer(strategy='median'))]),\n",
       "                                                  array(['h1n1_concern', 'h1n1_knowledge', 'behavioral_antiviral_meds',\n",
       "       'behavioral_avoidance', 'behavioral_face_mask',\n",
       "       'behavioral_wash_hands', 'behavioral_large_gatherings',\n",
       "       '...\n",
       "       'health_insurance', 'opinion_h1n1_vacc_effective',\n",
       "       'opinion_h1n1_risk', 'opinion_h1n1_sick_from_vacc',\n",
       "       'opinion_seas_vacc_effective', 'opinion_seas_risk',\n",
       "       'opinion_seas_sick_from_vacc', 'age_group', 'education', 'race',\n",
       "       'sex', 'marital_status', 'rent_or_own', 'employment_status',\n",
       "       'census_msa', 'household_adults', 'household_children'],\n",
       "      dtype=object))])),\n",
       "                ('estimator', SVC(C=10, gamma=0.01, probability=True))])"
      ]
     },
     "execution_count": 117,
     "metadata": {},
     "output_type": "execute_result"
    }
   ],
   "source": [
    "estimator = SVC(C=10, gamma=0.01, kernel='rbf', probability=True)\n",
    "\n",
    "full_pipeline = Pipeline([\n",
    "    (\"preprocessor\", preprocessor),\n",
    "    (\"estimator\", estimator),\n",
    "])\n",
    "\n",
    "full_pipeline"
   ]
  },
  {
   "cell_type": "code",
   "execution_count": 118,
   "metadata": {
    "colab": {
     "base_uri": "https://localhost:8080/"
    },
    "id": "9dowNfn8KDDa",
    "outputId": "6b4d64a4-ffaf-4698-f1f3-60b00f9b77ff"
   },
   "outputs": [
    {
     "data": {
      "text/plain": [
       "array([[0.84425544, 0.15574456],\n",
       "       [0.09828081, 0.90171919],\n",
       "       [0.82632333, 0.17367667],\n",
       "       ...,\n",
       "       [0.10744149, 0.89255851],\n",
       "       [0.4444834 , 0.5555166 ],\n",
       "       [0.54481271, 0.45518729]])"
      ]
     },
     "execution_count": 118,
     "metadata": {},
     "output_type": "execute_result"
    }
   ],
   "source": [
    "# Train model\n",
    "full_pipeline.fit(X_train, y_train_seasonal)\n",
    "\n",
    "# Predict on evaluation set\n",
    "preds_svm_seasonal = full_pipeline.predict_proba(X_eval)\n",
    "preds_svm_seasonal"
   ]
  },
  {
   "cell_type": "code",
   "execution_count": 119,
   "metadata": {
    "colab": {
     "base_uri": "https://localhost:8080/"
    },
    "id": "Rz7fT-Q9Kk9B",
    "outputId": "85b3c006-a25d-4965-f816-1e67d81b3500"
   },
   "outputs": [
    {
     "name": "stdout",
     "output_type": "stream",
     "text": [
      "Accuracy:     0.7779\n",
      "Precision:     0.7833\n",
      "Recall:     0.7230\n",
      "\n",
      "               precision    recall  f1-score   support\n",
      "\n",
      "           0       0.77      0.83      0.80      4710\n",
      "           1       0.78      0.72      0.75      4104\n",
      "\n",
      "    accuracy                           0.78      8814\n",
      "   macro avg       0.78      0.77      0.78      8814\n",
      "weighted avg       0.78      0.78      0.78      8814\n",
      "\n"
     ]
    }
   ],
   "source": [
    "print_metrics(y_eval_seasonal, preds_svm_seasonal[:, 1].round())"
   ]
  },
  {
   "cell_type": "code",
   "execution_count": 120,
   "metadata": {},
   "outputs": [
    {
     "name": "stdout",
     "output_type": "stream",
     "text": [
      "AUC = 0.8511341791\n"
     ]
    }
   ],
   "source": [
    "print(f\"AUC = {roc_auc_score(y_eval_seasonal, preds_rf_seasonal[:, 1]):.10f}\")"
   ]
  },
  {
   "cell_type": "code",
   "execution_count": 121,
   "metadata": {
    "colab": {
     "base_uri": "https://localhost:8080/",
     "height": 255
    },
    "id": "_RRdcgFmM8nf",
    "outputId": "43f5f3a7-2c42-4d17-c766-b4a9283d71a5"
   },
   "outputs": [
    {
     "name": "stdout",
     "output_type": "stream",
     "text": [
      "y_preds.shape: (8814, 1)\n"
     ]
    },
    {
     "data": {
      "text/html": [
       "<div>\n",
       "<style scoped>\n",
       "    .dataframe tbody tr th:only-of-type {\n",
       "        vertical-align: middle;\n",
       "    }\n",
       "\n",
       "    .dataframe tbody tr th {\n",
       "        vertical-align: top;\n",
       "    }\n",
       "\n",
       "    .dataframe thead th {\n",
       "        text-align: right;\n",
       "    }\n",
       "</style>\n",
       "<table border=\"1\" class=\"dataframe\">\n",
       "  <thead>\n",
       "    <tr style=\"text-align: right;\">\n",
       "      <th></th>\n",
       "      <th>seasonal_vaccine</th>\n",
       "    </tr>\n",
       "    <tr>\n",
       "      <th>respondent_id</th>\n",
       "      <th></th>\n",
       "    </tr>\n",
       "  </thead>\n",
       "  <tbody>\n",
       "    <tr>\n",
       "      <th>6368</th>\n",
       "      <td>0.155745</td>\n",
       "    </tr>\n",
       "    <tr>\n",
       "      <th>12566</th>\n",
       "      <td>0.901719</td>\n",
       "    </tr>\n",
       "    <tr>\n",
       "      <th>13996</th>\n",
       "      <td>0.173677</td>\n",
       "    </tr>\n",
       "    <tr>\n",
       "      <th>12769</th>\n",
       "      <td>0.837357</td>\n",
       "    </tr>\n",
       "    <tr>\n",
       "      <th>16915</th>\n",
       "      <td>0.120676</td>\n",
       "    </tr>\n",
       "  </tbody>\n",
       "</table>\n",
       "</div>"
      ],
      "text/plain": [
       "               seasonal_vaccine\n",
       "respondent_id                  \n",
       "6368                   0.155745\n",
       "12566                  0.901719\n",
       "13996                  0.173677\n",
       "12769                  0.837357\n",
       "16915                  0.120676"
      ]
     },
     "execution_count": 121,
     "metadata": {},
     "output_type": "execute_result"
    }
   ],
   "source": [
    "y_preds_svm_seasonal = pd.DataFrame(\n",
    "    {\n",
    "        \"seasonal_vaccine\": preds_svm_seasonal[:, 1],\n",
    "    },\n",
    "    index = y_eval_seasonal.index\n",
    ")\n",
    "print(\"y_preds.shape:\", y_preds_svm_seasonal.shape)\n",
    "y_preds_svm_seasonal.head()"
   ]
  },
  {
   "cell_type": "code",
   "execution_count": 122,
   "metadata": {
    "colab": {
     "base_uri": "https://localhost:8080/",
     "height": 357
    },
    "id": "UjrMPDJwNEkF",
    "outputId": "0f781bc0-82d0-4271-c385-b42fef2147fb"
   },
   "outputs": [
    {
     "data": {
      "image/png": "[encoded data removed]",
      "text/plain": [
       "<Figure size 500x350 with 1 Axes>"
      ]
     },
     "metadata": {},
     "output_type": "display_data"
    }
   ],
   "source": [
    "fig, ax = plt.subplots(1, 1, figsize=(5, 3.5))\n",
    "\n",
    "plot_roc(\n",
    "    y_eval_seasonal['seasonal_vaccine'],\n",
    "    y_preds_svm_seasonal['seasonal_vaccine'],\n",
    "    'seasonal_vaccine',\n",
    "    ax=ax\n",
    ")\n",
    "fig.tight_layout()"
   ]
  },
  {
   "cell_type": "markdown",
   "metadata": {},
   "source": [
    "## MultiOutputClassifier"
   ]
  },
  {
   "cell_type": "markdown",
   "metadata": {
    "id": "fDMLJQ5gnPO9"
   },
   "source": [
    "### Algoritmo 1: Logistic Regression"
   ]
  },
  {
   "cell_type": "code",
   "execution_count": 123,
   "metadata": {
    "id": "4IOqF5LIJWUC"
   },
   "outputs": [],
   "source": [
    "# chain preprocessing into a Pipeline object\n",
    "# each step is a tuple of (name you chose, sklearn transformer)\n",
    "numeric_preprocessing_steps = Pipeline([\n",
    "    ('standard_scaler', StandardScaler()),\n",
    "    ('simple_imputer', SimpleImputer(strategy='median'))\n",
    "])\n",
    "\n",
    "# create the preprocessor stage of final pipeline\n",
    "# each entry in the transformer list is a tuple of\n",
    "# (name you choose, sklearn transformer, list of columns)\n",
    "preprocessor = ColumnTransformer(\n",
    "    transformers = [\n",
    "        (\"numeric\", numeric_preprocessing_steps, numeric_cols)\n",
    "    ],\n",
    "    remainder = \"drop\"\n",
    ")"
   ]
  },
  {
   "cell_type": "code",
   "execution_count": 124,
   "metadata": {
    "colab": {
     "base_uri": "https://localhost:8080/",
     "height": 293
    },
    "id": "PZkCzCyPMb6f",
    "outputId": "ca159d78-995c-4e11-893a-0b664aed9f85"
   },
   "outputs": [
    {
     "data": {
      "text/plain": [
       "Pipeline(steps=[('preprocessor',\n",
       "                 ColumnTransformer(transformers=[('numeric',\n",
       "                                                  Pipeline(steps=[('standard_scaler',\n",
       "                                                                   StandardScaler()),\n",
       "                                                                  ('simple_imputer',\n",
       "                                                                   SimpleImputer(strategy='median'))]),\n",
       "                                                  array(['h1n1_concern', 'h1n1_knowledge', 'behavioral_antiviral_meds',\n",
       "       'behavioral_avoidance', 'behavioral_face_mask',\n",
       "       'behavioral_wash_hands', 'behavioral_large_gatherings',\n",
       "       '...\n",
       "       'opinion_h1n1_risk', 'opinion_h1n1_sick_from_vacc',\n",
       "       'opinion_seas_vacc_effective', 'opinion_seas_risk',\n",
       "       'opinion_seas_sick_from_vacc', 'age_group', 'education', 'race',\n",
       "       'sex', 'marital_status', 'rent_or_own', 'employment_status',\n",
       "       'census_msa', 'household_adults', 'household_children'],\n",
       "      dtype=object))])),\n",
       "                ('estimators',\n",
       "                 MultiOutputClassifier(estimator=LogisticRegression(C=0.1)))])"
      ]
     },
     "execution_count": 124,
     "metadata": {},
     "output_type": "execute_result"
    }
   ],
   "source": [
    "estimators = MultiOutputClassifier(\n",
    "    estimator=LogisticRegression(penalty=\"l2\", C=0.1)\n",
    ")\n",
    "\n",
    "full_pipeline = Pipeline([\n",
    "    (\"preprocessor\", preprocessor),\n",
    "    (\"estimators\", estimators),\n",
    "])\n",
    "\n",
    "full_pipeline"
   ]
  },
  {
   "cell_type": "code",
   "execution_count": 125,
   "metadata": {
    "colab": {
     "base_uri": "https://localhost:8080/"
    },
    "id": "9dowNfn8KDDa",
    "outputId": "6b4d64a4-ffaf-4698-f1f3-60b00f9b77ff"
   },
   "outputs": [
    {
     "data": {
      "text/plain": [
       "[array([[0.96531948, 0.03468052],\n",
       "        [0.13953551, 0.86046449],\n",
       "        [0.9170468 , 0.0829532 ],\n",
       "        ...,\n",
       "        [0.11921511, 0.88078489],\n",
       "        [0.9769162 , 0.0230838 ],\n",
       "        [0.62253245, 0.37746755]]),\n",
       " array([[0.98402611, 0.01597389],\n",
       "        [0.04680904, 0.95319096],\n",
       "        [0.90109947, 0.09890053],\n",
       "        ...,\n",
       "        [0.11852452, 0.88147548],\n",
       "        [0.59434918, 0.40565082],\n",
       "        [0.53027615, 0.46972385]])]"
      ]
     },
     "execution_count": 125,
     "metadata": {},
     "output_type": "execute_result"
    }
   ],
   "source": [
    "# Train model\n",
    "full_pipeline.fit(X_train, y_train)\n",
    "\n",
    "# Predict on evaluation set\n",
    "preds_lr_multi = full_pipeline.predict_proba(X_eval)\n",
    "preds_lr_multi"
   ]
  },
  {
   "cell_type": "code",
   "execution_count": 126,
   "metadata": {
    "colab": {
     "base_uri": "https://localhost:8080/"
    },
    "id": "Wn9WydwLLBQA",
    "outputId": "8c91b88f-f85c-4dcd-f627-effbcd68e051"
   },
   "outputs": [
    {
     "name": "stdout",
     "output_type": "stream",
     "text": [
      "Accuracy:     0.8486\n",
      "Precision:     0.7118\n",
      "Recall:     0.4829\n",
      "\n",
      "               precision    recall  f1-score   support\n",
      "\n",
      "           0       0.87      0.95      0.91      6942\n",
      "           1       0.71      0.48      0.58      1872\n",
      "\n",
      "    accuracy                           0.85      8814\n",
      "   macro avg       0.79      0.72      0.74      8814\n",
      "weighted avg       0.84      0.85      0.84      8814\n",
      "\n"
     ]
    }
   ],
   "source": [
    "# Classification metrics can't handle a mix of binary and continuous targets\n",
    "print_metrics(y_eval_h1n1, preds_lr_multi[0][:, 1].round())"
   ]
  },
  {
   "cell_type": "code",
   "execution_count": 127,
   "metadata": {
    "colab": {
     "base_uri": "https://localhost:8080/"
    },
    "id": "Rz7fT-Q9Kk9B",
    "outputId": "85b3c006-a25d-4965-f816-1e67d81b3500"
   },
   "outputs": [
    {
     "name": "stdout",
     "output_type": "stream",
     "text": [
      "Accuracy:     0.7771\n",
      "Precision:     0.7757\n",
      "Recall:     0.7332\n",
      "\n",
      "               precision    recall  f1-score   support\n",
      "\n",
      "           0       0.78      0.82      0.80      4710\n",
      "           1       0.78      0.73      0.75      4104\n",
      "\n",
      "    accuracy                           0.78      8814\n",
      "   macro avg       0.78      0.77      0.78      8814\n",
      "weighted avg       0.78      0.78      0.78      8814\n",
      "\n"
     ]
    }
   ],
   "source": [
    "print_metrics(y_eval_seasonal, preds_lr_multi[1][:, 1].round())"
   ]
  },
  {
   "cell_type": "code",
   "execution_count": 128,
   "metadata": {},
   "outputs": [
    {
     "name": "stdout",
     "output_type": "stream",
     "text": [
      "AUC = 0.8550659063\n"
     ]
    }
   ],
   "source": [
    "print(f\"AUC = {roc_auc_score(y_eval_h1n1, preds_lr_multi[0][:, 1]):.10f}\")"
   ]
  },
  {
   "cell_type": "code",
   "execution_count": 129,
   "metadata": {},
   "outputs": [
    {
     "name": "stdout",
     "output_type": "stream",
     "text": [
      "AUC = 0.8518290374\n"
     ]
    }
   ],
   "source": [
    "print(f\"AUC = {roc_auc_score(y_eval_seasonal, preds_lr_multi[1][:, 1]):.10f}\")"
   ]
  },
  {
   "cell_type": "code",
   "execution_count": 130,
   "metadata": {
    "colab": {
     "base_uri": "https://localhost:8080/",
     "height": 255
    },
    "id": "_RRdcgFmM8nf",
    "outputId": "43f5f3a7-2c42-4d17-c766-b4a9283d71a5"
   },
   "outputs": [
    {
     "name": "stdout",
     "output_type": "stream",
     "text": [
      "y_preds.shape: (8814, 2)\n"
     ]
    },
    {
     "data": {
      "text/html": [
       "<div>\n",
       "<style scoped>\n",
       "    .dataframe tbody tr th:only-of-type {\n",
       "        vertical-align: middle;\n",
       "    }\n",
       "\n",
       "    .dataframe tbody tr th {\n",
       "        vertical-align: top;\n",
       "    }\n",
       "\n",
       "    .dataframe thead th {\n",
       "        text-align: right;\n",
       "    }\n",
       "</style>\n",
       "<table border=\"1\" class=\"dataframe\">\n",
       "  <thead>\n",
       "    <tr style=\"text-align: right;\">\n",
       "      <th></th>\n",
       "      <th>h1n1_vaccine</th>\n",
       "      <th>seasonal_vaccine</th>\n",
       "    </tr>\n",
       "    <tr>\n",
       "      <th>respondent_id</th>\n",
       "      <th></th>\n",
       "      <th></th>\n",
       "    </tr>\n",
       "  </thead>\n",
       "  <tbody>\n",
       "    <tr>\n",
       "      <th>6368</th>\n",
       "      <td>0.034681</td>\n",
       "      <td>0.015974</td>\n",
       "    </tr>\n",
       "    <tr>\n",
       "      <th>12566</th>\n",
       "      <td>0.860464</td>\n",
       "      <td>0.953191</td>\n",
       "    </tr>\n",
       "    <tr>\n",
       "      <th>13996</th>\n",
       "      <td>0.082953</td>\n",
       "      <td>0.098901</td>\n",
       "    </tr>\n",
       "    <tr>\n",
       "      <th>12769</th>\n",
       "      <td>0.381398</td>\n",
       "      <td>0.980363</td>\n",
       "    </tr>\n",
       "    <tr>\n",
       "      <th>16915</th>\n",
       "      <td>0.032032</td>\n",
       "      <td>0.122910</td>\n",
       "    </tr>\n",
       "  </tbody>\n",
       "</table>\n",
       "</div>"
      ],
      "text/plain": [
       "               h1n1_vaccine  seasonal_vaccine\n",
       "respondent_id                                \n",
       "6368               0.034681          0.015974\n",
       "12566              0.860464          0.953191\n",
       "13996              0.082953          0.098901\n",
       "12769              0.381398          0.980363\n",
       "16915              0.032032          0.122910"
      ]
     },
     "execution_count": 130,
     "metadata": {},
     "output_type": "execute_result"
    }
   ],
   "source": [
    "y_preds_lr_multi = pd.DataFrame(\n",
    "    {\n",
    "        \"h1n1_vaccine\": preds_lr_multi[0][:, 1],\n",
    "        \"seasonal_vaccine\": preds_lr_multi[1][:, 1],\n",
    "    },\n",
    "    index = y_eval.index\n",
    ")\n",
    "print(\"y_preds.shape:\", y_preds_lr_multi.shape)\n",
    "y_preds_lr_multi.head()"
   ]
  },
  {
   "cell_type": "code",
   "execution_count": 131,
   "metadata": {
    "colab": {
     "base_uri": "https://localhost:8080/",
     "height": 357
    },
    "id": "UjrMPDJwNEkF",
    "outputId": "0f781bc0-82d0-4271-c385-b42fef2147fb"
   },
   "outputs": [
    {
     "data": {
      "image/png": "[encoded data removed]",
      "text/plain": [
       "<Figure size 700x350 with 2 Axes>"
      ]
     },
     "metadata": {},
     "output_type": "display_data"
    }
   ],
   "source": [
    "fig, ax = plt.subplots(1, 2, figsize=(7, 3.5))\n",
    "\n",
    "plot_roc(\n",
    "    y_eval['h1n1_vaccine'],\n",
    "    y_preds_lr_multi['h1n1_vaccine'],\n",
    "    'h1n1_vaccine',\n",
    "    ax=ax[0]\n",
    ")\n",
    "plot_roc(\n",
    "    y_eval['seasonal_vaccine'],\n",
    "    y_preds_lr_multi['seasonal_vaccine'],\n",
    "    'seasonal_vaccine',\n",
    "    ax=ax[1]\n",
    ")\n",
    "fig.tight_layout()"
   ]
  },
  {
   "cell_type": "markdown",
   "metadata": {
    "id": "MUP62RmKnUFN"
   },
   "source": [
    "### Algoritmo 2: Naive Bayes"
   ]
  },
  {
   "cell_type": "code",
   "execution_count": 132,
   "metadata": {
    "colab": {
     "base_uri": "https://localhost:8080/",
     "height": 293
    },
    "id": "7fPKXl-PKMXF",
    "outputId": "06f4819f-9d1e-4304-d8c5-2227bf2a9c75"
   },
   "outputs": [
    {
     "data": {
      "text/plain": [
       "Pipeline(steps=[('preprocessor',\n",
       "                 ColumnTransformer(transformers=[('numeric',\n",
       "                                                  Pipeline(steps=[('standard_scaler',\n",
       "                                                                   StandardScaler()),\n",
       "                                                                  ('simple_imputer',\n",
       "                                                                   SimpleImputer(strategy='median'))]),\n",
       "                                                  array(['h1n1_concern', 'h1n1_knowledge', 'behavioral_antiviral_meds',\n",
       "       'behavioral_avoidance', 'behavioral_face_mask',\n",
       "       'behavioral_wash_hands', 'behavioral_large_gatherings',\n",
       "       '...\n",
       "       'opinion_h1n1_risk', 'opinion_h1n1_sick_from_vacc',\n",
       "       'opinion_seas_vacc_effective', 'opinion_seas_risk',\n",
       "       'opinion_seas_sick_from_vacc', 'age_group', 'education', 'race',\n",
       "       'sex', 'marital_status', 'rent_or_own', 'employment_status',\n",
       "       'census_msa', 'household_adults', 'household_children'],\n",
       "      dtype=object))])),\n",
       "                ('estimators',\n",
       "                 MultiOutputClassifier(estimator=GaussianNB(var_smoothing=0.15199110829529336)))])"
      ]
     },
     "execution_count": 132,
     "metadata": {},
     "output_type": "execute_result"
    }
   ],
   "source": [
    "estimators = MultiOutputClassifier(\n",
    "    estimator=GaussianNB(var_smoothing=0.15199110829529336)\n",
    ")\n",
    "\n",
    "full_pipeline = Pipeline([\n",
    "    (\"preprocessor\", preprocessor),\n",
    "    (\"estimators\", estimators),\n",
    "])\n",
    "\n",
    "full_pipeline"
   ]
  },
  {
   "cell_type": "code",
   "execution_count": 133,
   "metadata": {
    "colab": {
     "base_uri": "https://localhost:8080/"
    },
    "id": "Xov5UsdiKcXc",
    "outputId": "7e814865-2187-44a4-9e8f-c8f8691bf2c1"
   },
   "outputs": [
    {
     "data": {
      "text/plain": [
       "[array([[9.98289731e-01, 1.71026896e-03],\n",
       "        [1.03289434e-03, 9.98967106e-01],\n",
       "        [9.99978421e-01, 2.15793205e-05],\n",
       "        ...,\n",
       "        [2.42050696e-04, 9.99757949e-01],\n",
       "        [6.08832557e-01, 3.91167443e-01],\n",
       "        [9.48987991e-01, 5.10120088e-02]]),\n",
       " array([[9.99930884e-01, 6.91160052e-05],\n",
       "        [6.56092372e-05, 9.99934391e-01],\n",
       "        [9.99881095e-01, 1.18905225e-04],\n",
       "        ...,\n",
       "        [1.65831479e-04, 9.99834169e-01],\n",
       "        [6.18240273e-02, 9.38175973e-01],\n",
       "        [6.31503924e-01, 3.68496076e-01]])]"
      ]
     },
     "execution_count": 133,
     "metadata": {},
     "output_type": "execute_result"
    }
   ],
   "source": [
    "# Train model\n",
    "full_pipeline.fit(X_train, y_train)\n",
    "\n",
    "# Predict on evaluation set\n",
    "preds_naive_multi = full_pipeline.predict_proba(X_eval)\n",
    "preds_naive_multi"
   ]
  },
  {
   "cell_type": "code",
   "execution_count": 134,
   "metadata": {
    "colab": {
     "base_uri": "https://localhost:8080/"
    },
    "id": "StjDzTp2Kg_q",
    "outputId": "d6646130-3a43-4801-e6d1-9f0e06f3e74b"
   },
   "outputs": [
    {
     "name": "stdout",
     "output_type": "stream",
     "text": [
      "Accuracy:     0.7944\n",
      "Precision:     0.5136\n",
      "Recall:     0.6063\n",
      "\n",
      "               precision    recall  f1-score   support\n",
      "\n",
      "           0       0.89      0.85      0.87      6942\n",
      "           1       0.51      0.61      0.56      1872\n",
      "\n",
      "    accuracy                           0.79      8814\n",
      "   macro avg       0.70      0.73      0.71      8814\n",
      "weighted avg       0.81      0.79      0.80      8814\n",
      "\n"
     ]
    }
   ],
   "source": [
    "print_metrics(y_eval_h1n1, preds_naive_multi[0][:, 1].round())"
   ]
  },
  {
   "cell_type": "code",
   "execution_count": 135,
   "metadata": {},
   "outputs": [
    {
     "name": "stdout",
     "output_type": "stream",
     "text": [
      "AUC = 0.8113408997\n"
     ]
    }
   ],
   "source": [
    "print(f\"AUC = {roc_auc_score(y_eval_h1n1, preds_naive_multi[0][:, 1]):.10f}\")"
   ]
  },
  {
   "cell_type": "code",
   "execution_count": 136,
   "metadata": {
    "colab": {
     "base_uri": "https://localhost:8080/"
    },
    "id": "fwFykvp9Kr7H",
    "outputId": "1069cfe2-35f7-4ed0-c47c-6bee92763121"
   },
   "outputs": [
    {
     "name": "stdout",
     "output_type": "stream",
     "text": [
      "Accuracy:     0.7391\n",
      "Precision:     0.7197\n",
      "Recall:     0.7200\n",
      "\n",
      "               precision    recall  f1-score   support\n",
      "\n",
      "           0       0.76      0.76      0.76      4710\n",
      "           1       0.72      0.72      0.72      4104\n",
      "\n",
      "    accuracy                           0.74      8814\n",
      "   macro avg       0.74      0.74      0.74      8814\n",
      "weighted avg       0.74      0.74      0.74      8814\n",
      "\n"
     ]
    }
   ],
   "source": [
    "print_metrics(y_eval_seasonal, preds_naive_multi[1][:, 1].round())"
   ]
  },
  {
   "cell_type": "code",
   "execution_count": 137,
   "metadata": {},
   "outputs": [
    {
     "name": "stdout",
     "output_type": "stream",
     "text": [
      "AUC = 0.8089138865\n"
     ]
    }
   ],
   "source": [
    "print(f\"AUC = {roc_auc_score(y_eval_seasonal, preds_naive_multi[1][:, 1]):.10f}\")"
   ]
  },
  {
   "cell_type": "code",
   "execution_count": 138,
   "metadata": {
    "colab": {
     "base_uri": "https://localhost:8080/",
     "height": 255
    },
    "id": "_IMzq4baMpSY",
    "outputId": "7440ccb2-fa3d-4e84-ea4a-fee3859f8510"
   },
   "outputs": [
    {
     "name": "stdout",
     "output_type": "stream",
     "text": [
      "y_preds.shape: (8814, 2)\n"
     ]
    },
    {
     "data": {
      "text/html": [
       "<div>\n",
       "<style scoped>\n",
       "    .dataframe tbody tr th:only-of-type {\n",
       "        vertical-align: middle;\n",
       "    }\n",
       "\n",
       "    .dataframe tbody tr th {\n",
       "        vertical-align: top;\n",
       "    }\n",
       "\n",
       "    .dataframe thead th {\n",
       "        text-align: right;\n",
       "    }\n",
       "</style>\n",
       "<table border=\"1\" class=\"dataframe\">\n",
       "  <thead>\n",
       "    <tr style=\"text-align: right;\">\n",
       "      <th></th>\n",
       "      <th>h1n1_vaccine</th>\n",
       "      <th>seasonal_vaccine</th>\n",
       "    </tr>\n",
       "    <tr>\n",
       "      <th>respondent_id</th>\n",
       "      <th></th>\n",
       "      <th></th>\n",
       "    </tr>\n",
       "  </thead>\n",
       "  <tbody>\n",
       "    <tr>\n",
       "      <th>6368</th>\n",
       "      <td>0.001710</td>\n",
       "      <td>0.000069</td>\n",
       "    </tr>\n",
       "    <tr>\n",
       "      <th>12566</th>\n",
       "      <td>0.998967</td>\n",
       "      <td>0.999934</td>\n",
       "    </tr>\n",
       "    <tr>\n",
       "      <th>13996</th>\n",
       "      <td>0.000022</td>\n",
       "      <td>0.000119</td>\n",
       "    </tr>\n",
       "    <tr>\n",
       "      <th>12769</th>\n",
       "      <td>0.973996</td>\n",
       "      <td>0.998371</td>\n",
       "    </tr>\n",
       "    <tr>\n",
       "      <th>16915</th>\n",
       "      <td>0.006494</td>\n",
       "      <td>0.088242</td>\n",
       "    </tr>\n",
       "  </tbody>\n",
       "</table>\n",
       "</div>"
      ],
      "text/plain": [
       "               h1n1_vaccine  seasonal_vaccine\n",
       "respondent_id                                \n",
       "6368               0.001710          0.000069\n",
       "12566              0.998967          0.999934\n",
       "13996              0.000022          0.000119\n",
       "12769              0.973996          0.998371\n",
       "16915              0.006494          0.088242"
      ]
     },
     "execution_count": 138,
     "metadata": {},
     "output_type": "execute_result"
    }
   ],
   "source": [
    "y_preds_naive_multi = pd.DataFrame(\n",
    "    {\n",
    "        \"h1n1_vaccine\": preds_naive_multi[0][:, 1],\n",
    "        \"seasonal_vaccine\": preds_naive_multi[1][:, 1],\n",
    "    },\n",
    "    index = y_eval.index\n",
    ")\n",
    "print(\"y_preds.shape:\", y_preds_naive_multi.shape)\n",
    "y_preds_naive_multi.head()"
   ]
  },
  {
   "cell_type": "code",
   "execution_count": 139,
   "metadata": {
    "colab": {
     "base_uri": "https://localhost:8080/",
     "height": 357
    },
    "id": "57kh3AB1MfQw",
    "outputId": "01146153-7f6f-4c28-d72a-f828c8b30491"
   },
   "outputs": [
    {
     "data": {
      "image/png": "[encoded data removed]",
      "text/plain": [
       "<Figure size 700x350 with 2 Axes>"
      ]
     },
     "metadata": {},
     "output_type": "display_data"
    }
   ],
   "source": [
    "fig, ax = plt.subplots(1, 2, figsize=(7, 3.5))\n",
    "\n",
    "plot_roc(\n",
    "    y_eval['h1n1_vaccine'],\n",
    "    y_preds_naive_multi['h1n1_vaccine'],\n",
    "    'h1n1_vaccine',\n",
    "    ax=ax[0]\n",
    ")\n",
    "plot_roc(\n",
    "    y_eval['seasonal_vaccine'],\n",
    "    y_preds_naive_multi['seasonal_vaccine'],\n",
    "    'seasonal_vaccine',\n",
    "    ax=ax[1]\n",
    ")\n",
    "fig.tight_layout()"
   ]
  },
  {
   "cell_type": "markdown",
   "metadata": {
    "id": "f6VVY8uanW_F"
   },
   "source": [
    "### Algoritmo 3: SVM"
   ]
  },
  {
   "cell_type": "code",
   "execution_count": 140,
   "metadata": {
    "colab": {
     "base_uri": "https://localhost:8080/",
     "height": 316
    },
    "id": "g4bKA2PAOZ3A",
    "outputId": "3482dc1d-7985-41d6-9f0b-5d2f0ac13289"
   },
   "outputs": [
    {
     "data": {
      "text/plain": [
       "Pipeline(steps=[('preprocessor',\n",
       "                 ColumnTransformer(transformers=[('numeric',\n",
       "                                                  Pipeline(steps=[('standard_scaler',\n",
       "                                                                   StandardScaler()),\n",
       "                                                                  ('simple_imputer',\n",
       "                                                                   SimpleImputer(strategy='median'))]),\n",
       "                                                  array(['h1n1_concern', 'h1n1_knowledge', 'behavioral_antiviral_meds',\n",
       "       'behavioral_avoidance', 'behavioral_face_mask',\n",
       "       'behavioral_wash_hands', 'behavioral_large_gatherings',\n",
       "       '...\n",
       "       'opinion_h1n1_risk', 'opinion_h1n1_sick_from_vacc',\n",
       "       'opinion_seas_vacc_effective', 'opinion_seas_risk',\n",
       "       'opinion_seas_sick_from_vacc', 'age_group', 'education', 'race',\n",
       "       'sex', 'marital_status', 'rent_or_own', 'employment_status',\n",
       "       'census_msa', 'household_adults', 'household_children'],\n",
       "      dtype=object))])),\n",
       "                ('estimators',\n",
       "                 MultiOutputClassifier(estimator=SVC(C=0.1, gamma=0.1,\n",
       "                                                     probability=True)))])"
      ]
     },
     "execution_count": 140,
     "metadata": {},
     "output_type": "execute_result"
    }
   ],
   "source": [
    "estimators = MultiOutputClassifier(\n",
    "    estimator=SVC(C=0.1, kernel='rbf', gamma=0.1, probability=True)\n",
    ")\n",
    "\n",
    "full_pipeline = Pipeline([\n",
    "    (\"preprocessor\", preprocessor),\n",
    "    (\"estimators\", estimators),\n",
    "])\n",
    "\n",
    "full_pipeline"
   ]
  },
  {
   "cell_type": "code",
   "execution_count": 141,
   "metadata": {
    "colab": {
     "base_uri": "https://localhost:8080/"
    },
    "id": "lm8KRj3dUNwS",
    "outputId": "164f8d65-ab91-4e94-b5fe-29bd02aa31f3"
   },
   "outputs": [
    {
     "data": {
      "text/plain": [
       "[array([[0.84481519, 0.15518481],\n",
       "        [0.02123558, 0.97876442],\n",
       "        [0.87177254, 0.12822746],\n",
       "        ...,\n",
       "        [0.34174931, 0.65825069],\n",
       "        [0.85182751, 0.14817249],\n",
       "        [0.78405954, 0.21594046]]),\n",
       " array([[0.65812185, 0.34187815],\n",
       "        [0.09561001, 0.90438999],\n",
       "        [0.85777792, 0.14222208],\n",
       "        ...,\n",
       "        [0.28013766, 0.71986234],\n",
       "        [0.56664635, 0.43335365],\n",
       "        [0.48949321, 0.51050679]])]"
      ]
     },
     "execution_count": 141,
     "metadata": {},
     "output_type": "execute_result"
    }
   ],
   "source": [
    "# Train model\n",
    "full_pipeline.fit(X_train, y_train)\n",
    "\n",
    "# Predict on evaluation set\n",
    "preds_svm_multi = full_pipeline.predict_proba(X_eval)\n",
    "preds_svm_multi"
   ]
  },
  {
   "cell_type": "code",
   "execution_count": 142,
   "metadata": {
    "colab": {
     "base_uri": "https://localhost:8080/"
    },
    "id": "azp_0KwbUTfc",
    "outputId": "6aff0f53-4516-43b0-d065-9649ee64816f"
   },
   "outputs": [
    {
     "name": "stdout",
     "output_type": "stream",
     "text": [
      "Accuracy:     0.8319\n",
      "Precision:     0.7226\n",
      "Recall:     0.3381\n",
      "\n",
      "               precision    recall  f1-score   support\n",
      "\n",
      "           0       0.84      0.96      0.90      6942\n",
      "           1       0.72      0.34      0.46      1872\n",
      "\n",
      "    accuracy                           0.83      8814\n",
      "   macro avg       0.78      0.65      0.68      8814\n",
      "weighted avg       0.82      0.83      0.81      8814\n",
      "\n"
     ]
    }
   ],
   "source": [
    "print_metrics(y_eval_h1n1, preds_svm_multi[0][:, 1].round())"
   ]
  },
  {
   "cell_type": "code",
   "execution_count": 143,
   "metadata": {},
   "outputs": [
    {
     "name": "stdout",
     "output_type": "stream",
     "text": [
      "AUC = 0.8320769680\n"
     ]
    }
   ],
   "source": [
    "print(f\"AUC = {roc_auc_score(y_eval_h1n1, preds_svm_multi[0][:, 1]):.10f}\")"
   ]
  },
  {
   "cell_type": "code",
   "execution_count": 144,
   "metadata": {
    "colab": {
     "base_uri": "https://localhost:8080/"
    },
    "id": "Axh9URbeUVUp",
    "outputId": "1c9692b0-e6f2-4202-9fae-28633efc364e"
   },
   "outputs": [
    {
     "name": "stdout",
     "output_type": "stream",
     "text": [
      "Accuracy:     0.7656\n",
      "Precision:     0.7815\n",
      "Recall:     0.6893\n",
      "\n",
      "               precision    recall  f1-score   support\n",
      "\n",
      "           0       0.75      0.83      0.79      4710\n",
      "           1       0.78      0.69      0.73      4104\n",
      "\n",
      "    accuracy                           0.77      8814\n",
      "   macro avg       0.77      0.76      0.76      8814\n",
      "weighted avg       0.77      0.77      0.76      8814\n",
      "\n"
     ]
    }
   ],
   "source": [
    "print_metrics(y_eval_seasonal, preds_svm_multi[1][:, 1].round())"
   ]
  },
  {
   "cell_type": "code",
   "execution_count": 145,
   "metadata": {},
   "outputs": [
    {
     "name": "stdout",
     "output_type": "stream",
     "text": [
      "AUC = 0.8356905696\n"
     ]
    }
   ],
   "source": [
    "print(f\"AUC = {roc_auc_score(y_eval_seasonal, preds_svm_multi[1][:, 1]):.10f}\")"
   ]
  },
  {
   "cell_type": "code",
   "execution_count": 146,
   "metadata": {
    "colab": {
     "base_uri": "https://localhost:8080/",
     "height": 255
    },
    "id": "_MR0nSt2Ucfu",
    "outputId": "511fff65-f6b8-4e02-e4df-2127426a0525"
   },
   "outputs": [
    {
     "name": "stdout",
     "output_type": "stream",
     "text": [
      "y_preds.shape: (8814, 2)\n"
     ]
    },
    {
     "data": {
      "text/html": [
       "<div>\n",
       "<style scoped>\n",
       "    .dataframe tbody tr th:only-of-type {\n",
       "        vertical-align: middle;\n",
       "    }\n",
       "\n",
       "    .dataframe tbody tr th {\n",
       "        vertical-align: top;\n",
       "    }\n",
       "\n",
       "    .dataframe thead th {\n",
       "        text-align: right;\n",
       "    }\n",
       "</style>\n",
       "<table border=\"1\" class=\"dataframe\">\n",
       "  <thead>\n",
       "    <tr style=\"text-align: right;\">\n",
       "      <th></th>\n",
       "      <th>h1n1_vaccine</th>\n",
       "      <th>seasonal_vaccine</th>\n",
       "    </tr>\n",
       "    <tr>\n",
       "      <th>respondent_id</th>\n",
       "      <th></th>\n",
       "      <th></th>\n",
       "    </tr>\n",
       "  </thead>\n",
       "  <tbody>\n",
       "    <tr>\n",
       "      <th>6368</th>\n",
       "      <td>0.155185</td>\n",
       "      <td>0.341878</td>\n",
       "    </tr>\n",
       "    <tr>\n",
       "      <th>12566</th>\n",
       "      <td>0.978764</td>\n",
       "      <td>0.904390</td>\n",
       "    </tr>\n",
       "    <tr>\n",
       "      <th>13996</th>\n",
       "      <td>0.128227</td>\n",
       "      <td>0.142222</td>\n",
       "    </tr>\n",
       "    <tr>\n",
       "      <th>12769</th>\n",
       "      <td>0.370440</td>\n",
       "      <td>0.747121</td>\n",
       "    </tr>\n",
       "    <tr>\n",
       "      <th>16915</th>\n",
       "      <td>0.107949</td>\n",
       "      <td>0.071385</td>\n",
       "    </tr>\n",
       "  </tbody>\n",
       "</table>\n",
       "</div>"
      ],
      "text/plain": [
       "               h1n1_vaccine  seasonal_vaccine\n",
       "respondent_id                                \n",
       "6368               0.155185          0.341878\n",
       "12566              0.978764          0.904390\n",
       "13996              0.128227          0.142222\n",
       "12769              0.370440          0.747121\n",
       "16915              0.107949          0.071385"
      ]
     },
     "execution_count": 146,
     "metadata": {},
     "output_type": "execute_result"
    }
   ],
   "source": [
    "y_preds_svm_multi = pd.DataFrame(\n",
    "    {\n",
    "        \"h1n1_vaccine\": preds_svm_multi[0][:, 1],\n",
    "        \"seasonal_vaccine\": preds_svm_multi[1][:, 1],\n",
    "    },\n",
    "    index = y_eval.index\n",
    ")\n",
    "print(\"y_preds.shape:\", y_preds_svm_multi.shape)\n",
    "y_preds_svm_multi.head()"
   ]
  },
  {
   "cell_type": "code",
   "execution_count": 147,
   "metadata": {
    "colab": {
     "base_uri": "https://localhost:8080/",
     "height": 357
    },
    "id": "pRk6qSkHUlLj",
    "outputId": "3f87a6df-8b67-43a1-d6d1-16a533822085"
   },
   "outputs": [
    {
     "data": {
      "image/png": "[encoded data removed]",
      "text/plain": [
       "<Figure size 700x350 with 2 Axes>"
      ]
     },
     "metadata": {},
     "output_type": "display_data"
    }
   ],
   "source": [
    "fig, ax = plt.subplots(1, 2, figsize=(7, 3.5))\n",
    "\n",
    "plot_roc(\n",
    "    y_eval['h1n1_vaccine'],\n",
    "    y_preds_svm_multi['h1n1_vaccine'],\n",
    "    'h1n1_vaccine',\n",
    "    ax=ax[0]\n",
    ")\n",
    "plot_roc(\n",
    "    y_eval['seasonal_vaccine'],\n",
    "    y_preds_svm_multi['seasonal_vaccine'],\n",
    "    'seasonal_vaccine',\n",
    "    ax=ax[1]\n",
    ")\n",
    "fig.tight_layout()"
   ]
  },
  {
   "cell_type": "markdown",
   "metadata": {
    "id": "f6VVY8uanW_F"
   },
   "source": [
    "### Algoritmo 4: RandomForest"
   ]
  },
  {
   "cell_type": "code",
   "execution_count": 148,
   "metadata": {
    "colab": {
     "base_uri": "https://localhost:8080/",
     "height": 316
    },
    "id": "g4bKA2PAOZ3A",
    "outputId": "3482dc1d-7985-41d6-9f0b-5d2f0ac13289"
   },
   "outputs": [
    {
     "data": {
      "text/plain": [
       "Pipeline(steps=[('preprocessor',\n",
       "                 ColumnTransformer(transformers=[('numeric',\n",
       "                                                  Pipeline(steps=[('standard_scaler',\n",
       "                                                                   StandardScaler()),\n",
       "                                                                  ('simple_imputer',\n",
       "                                                                   SimpleImputer(strategy='median'))]),\n",
       "                                                  array(['h1n1_concern', 'h1n1_knowledge', 'behavioral_antiviral_meds',\n",
       "       'behavioral_avoidance', 'behavioral_face_mask',\n",
       "       'behavioral_wash_hands', 'behavioral_large_gatherings',\n",
       "       '...\n",
       "       'opinion_h1n1_risk', 'opinion_h1n1_sick_from_vacc',\n",
       "       'opinion_seas_vacc_effective', 'opinion_seas_risk',\n",
       "       'opinion_seas_sick_from_vacc', 'age_group', 'education', 'race',\n",
       "       'sex', 'marital_status', 'rent_or_own', 'employment_status',\n",
       "       'census_msa', 'household_adults', 'household_children'],\n",
       "      dtype=object))])),\n",
       "                ('estimators',\n",
       "                 MultiOutputClassifier(estimator=RandomForestClassifier(random_state=42)))])"
      ]
     },
     "execution_count": 148,
     "metadata": {},
     "output_type": "execute_result"
    }
   ],
   "source": [
    "estimators = MultiOutputClassifier(\n",
    "    estimator=RandomForestClassifier(random_state=RANDOM_SEED)\n",
    ")\n",
    "\n",
    "full_pipeline = Pipeline([\n",
    "    (\"preprocessor\", preprocessor),\n",
    "    (\"estimators\", estimators),\n",
    "])\n",
    "\n",
    "full_pipeline"
   ]
  },
  {
   "cell_type": "code",
   "execution_count": 149,
   "metadata": {
    "colab": {
     "base_uri": "https://localhost:8080/"
    },
    "id": "lm8KRj3dUNwS",
    "outputId": "164f8d65-ab91-4e94-b5fe-29bd02aa31f3"
   },
   "outputs": [
    {
     "data": {
      "text/plain": [
       "[array([[0.92, 0.08],\n",
       "        [0.11, 0.89],\n",
       "        [0.99, 0.01],\n",
       "        ...,\n",
       "        [0.19, 0.81],\n",
       "        [0.88, 0.12],\n",
       "        [0.69, 0.31]]),\n",
       " array([[0.89, 0.11],\n",
       "        [0.06, 0.94],\n",
       "        [0.8 , 0.2 ],\n",
       "        ...,\n",
       "        [0.17, 0.83],\n",
       "        [0.46, 0.54],\n",
       "        [0.63, 0.37]])]"
      ]
     },
     "execution_count": 149,
     "metadata": {},
     "output_type": "execute_result"
    }
   ],
   "source": [
    "# Train model\n",
    "full_pipeline.fit(X_train, y_train)\n",
    "\n",
    "# Predict on evaluation set\n",
    "preds_rf_multi = full_pipeline.predict_proba(X_eval)\n",
    "preds_rf_multi"
   ]
  },
  {
   "cell_type": "code",
   "execution_count": 150,
   "metadata": {
    "colab": {
     "base_uri": "https://localhost:8080/"
    },
    "id": "azp_0KwbUTfc",
    "outputId": "6aff0f53-4516-43b0-d065-9649ee64816f"
   },
   "outputs": [
    {
     "name": "stdout",
     "output_type": "stream",
     "text": [
      "Accuracy:     0.8510\n",
      "Precision:     0.7476\n",
      "Recall:     0.4509\n",
      "\n",
      "               precision    recall  f1-score   support\n",
      "\n",
      "           0       0.87      0.96      0.91      6942\n",
      "           1       0.75      0.45      0.56      1872\n",
      "\n",
      "    accuracy                           0.85      8814\n",
      "   macro avg       0.81      0.70      0.74      8814\n",
      "weighted avg       0.84      0.85      0.84      8814\n",
      "\n"
     ]
    }
   ],
   "source": [
    "print_metrics(y_eval_h1n1, preds_rf_multi[0][:, 1].round())"
   ]
  },
  {
   "cell_type": "code",
   "execution_count": 151,
   "metadata": {},
   "outputs": [
    {
     "name": "stdout",
     "output_type": "stream",
     "text": [
      "AUC = 0.8549726427\n"
     ]
    }
   ],
   "source": [
    "print(f\"AUC = {roc_auc_score(y_eval_h1n1, preds_rf_multi[0][:, 1]):.10f}\")"
   ]
  },
  {
   "cell_type": "code",
   "execution_count": 152,
   "metadata": {
    "colab": {
     "base_uri": "https://localhost:8080/"
    },
    "id": "Axh9URbeUVUp",
    "outputId": "1c9692b0-e6f2-4202-9fae-28633efc364e"
   },
   "outputs": [
    {
     "name": "stdout",
     "output_type": "stream",
     "text": [
      "Accuracy:     0.7751\n",
      "Precision:     0.7737\n",
      "Recall:     0.7308\n",
      "\n",
      "               precision    recall  f1-score   support\n",
      "\n",
      "           0       0.78      0.81      0.79      4710\n",
      "           1       0.77      0.73      0.75      4104\n",
      "\n",
      "    accuracy                           0.78      8814\n",
      "   macro avg       0.77      0.77      0.77      8814\n",
      "weighted avg       0.78      0.78      0.77      8814\n",
      "\n"
     ]
    }
   ],
   "source": [
    "print_metrics(y_eval_seasonal, preds_rf_multi[1][:, 1].round())"
   ]
  },
  {
   "cell_type": "code",
   "execution_count": 153,
   "metadata": {},
   "outputs": [
    {
     "name": "stdout",
     "output_type": "stream",
     "text": [
      "AUC = 0.8511341791\n"
     ]
    }
   ],
   "source": [
    "print(f\"AUC = {roc_auc_score(y_eval_seasonal, preds_rf_multi[1][:, 1]):.10f}\")"
   ]
  },
  {
   "cell_type": "code",
   "execution_count": 154,
   "metadata": {
    "colab": {
     "base_uri": "https://localhost:8080/",
     "height": 255
    },
    "id": "_MR0nSt2Ucfu",
    "outputId": "511fff65-f6b8-4e02-e4df-2127426a0525"
   },
   "outputs": [
    {
     "name": "stdout",
     "output_type": "stream",
     "text": [
      "y_preds.shape: (8814, 2)\n"
     ]
    },
    {
     "data": {
      "text/html": [
       "<div>\n",
       "<style scoped>\n",
       "    .dataframe tbody tr th:only-of-type {\n",
       "        vertical-align: middle;\n",
       "    }\n",
       "\n",
       "    .dataframe tbody tr th {\n",
       "        vertical-align: top;\n",
       "    }\n",
       "\n",
       "    .dataframe thead th {\n",
       "        text-align: right;\n",
       "    }\n",
       "</style>\n",
       "<table border=\"1\" class=\"dataframe\">\n",
       "  <thead>\n",
       "    <tr style=\"text-align: right;\">\n",
       "      <th></th>\n",
       "      <th>h1n1_vaccine</th>\n",
       "      <th>seasonal_vaccine</th>\n",
       "    </tr>\n",
       "    <tr>\n",
       "      <th>respondent_id</th>\n",
       "      <th></th>\n",
       "      <th></th>\n",
       "    </tr>\n",
       "  </thead>\n",
       "  <tbody>\n",
       "    <tr>\n",
       "      <th>6368</th>\n",
       "      <td>0.08</td>\n",
       "      <td>0.11</td>\n",
       "    </tr>\n",
       "    <tr>\n",
       "      <th>12566</th>\n",
       "      <td>0.89</td>\n",
       "      <td>0.94</td>\n",
       "    </tr>\n",
       "    <tr>\n",
       "      <th>13996</th>\n",
       "      <td>0.01</td>\n",
       "      <td>0.20</td>\n",
       "    </tr>\n",
       "    <tr>\n",
       "      <th>12769</th>\n",
       "      <td>0.47</td>\n",
       "      <td>0.88</td>\n",
       "    </tr>\n",
       "    <tr>\n",
       "      <th>16915</th>\n",
       "      <td>0.03</td>\n",
       "      <td>0.04</td>\n",
       "    </tr>\n",
       "  </tbody>\n",
       "</table>\n",
       "</div>"
      ],
      "text/plain": [
       "               h1n1_vaccine  seasonal_vaccine\n",
       "respondent_id                                \n",
       "6368                   0.08              0.11\n",
       "12566                  0.89              0.94\n",
       "13996                  0.01              0.20\n",
       "12769                  0.47              0.88\n",
       "16915                  0.03              0.04"
      ]
     },
     "execution_count": 154,
     "metadata": {},
     "output_type": "execute_result"
    }
   ],
   "source": [
    "y_preds_rf_multi = pd.DataFrame(\n",
    "    {\n",
    "        \"h1n1_vaccine\": preds_rf_multi[0][:, 1],\n",
    "        \"seasonal_vaccine\": preds_rf_multi[1][:, 1],\n",
    "    },\n",
    "    index = y_eval.index\n",
    ")\n",
    "print(\"y_preds.shape:\", y_preds_rf_multi.shape)\n",
    "y_preds_rf_multi.head()"
   ]
  },
  {
   "cell_type": "code",
   "execution_count": 155,
   "metadata": {
    "colab": {
     "base_uri": "https://localhost:8080/",
     "height": 357
    },
    "id": "pRk6qSkHUlLj",
    "outputId": "3f87a6df-8b67-43a1-d6d1-16a533822085"
   },
   "outputs": [
    {
     "data": {
      "image/png": "[encoded data removed]",
      "text/plain": [
       "<Figure size 700x350 with 2 Axes>"
      ]
     },
     "metadata": {},
     "output_type": "display_data"
    }
   ],
   "source": [
    "fig, ax = plt.subplots(1, 2, figsize=(7, 3.5))\n",
    "\n",
    "plot_roc(\n",
    "    y_eval['h1n1_vaccine'],\n",
    "    y_preds_rf_multi['h1n1_vaccine'],\n",
    "    'h1n1_vaccine',\n",
    "    ax=ax[0]\n",
    ")\n",
    "plot_roc(\n",
    "    y_eval['seasonal_vaccine'],\n",
    "    y_preds_rf_multi['seasonal_vaccine'],\n",
    "    'seasonal_vaccine',\n",
    "    ax=ax[1]\n",
    ")\n",
    "fig.tight_layout()"
   ]
  }
 ],
 "metadata": {
  "colab": {
   "provenance": [],
   "toc_visible": true
  },
  "kernelspec": {
   "display_name": "Python 3 (ipykernel)",
   "language": "python",
   "name": "python3"
  },
  "language_info": {
   "codemirror_mode": {
    "name": "ipython",
    "version": 3
   },
   "file_extension": ".py",
   "mimetype": "text/x-python",
   "name": "python",
   "nbconvert_exporter": "python",
   "pygments_lexer": "ipython3",
   "version": "3.9.13"
  }
 },
 "nbformat": 4,
 "nbformat_minor": 4
}
