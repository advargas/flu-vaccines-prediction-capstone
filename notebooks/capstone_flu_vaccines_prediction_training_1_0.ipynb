{
 "cells": [
  {
   "cell_type": "markdown",
   "metadata": {
    "id": "AkL5gXH1yxKE"
   },
   "source": [
    "<style type=\"text/css\">\n",
    "    ol { list-style-type: upper-alpha; }\n",
    "    p { text-align: center; font-weight: bold; }\n",
    "</style>\n",
    "\n",
    "<center>\n",
    "  <img src=https://i.imgur.com/0TSSaqL.png width=\"550\">\n",
    "</center>\n",
    "<center>\n",
    "  <h3>\n",
    "    <b>CAPSTONE</b><br/>\n",
    "    <b>Predict H1N1 and Seasonal Flu Vaccines</b><br/>\n",
    "    <b>GRUPO 3 - Modeling</b>\n",
    "  </h3>\n",
    "</center>"
   ]
  },
  {
   "cell_type": "markdown",
   "metadata": {
    "id": "86KHQg1n38h8"
   },
   "source": [
    "# Contexto\n",
    "\n",
    "El objetivo es predecir si una persona fue vacunada con la vacuna H1N1 o gripe estacional, de acuerdo a información compartida acerca de su contexto, opiniones y comportamientos a nivel salud.\n",
    "\n",
    "Después de la fase de EDA (Exploratory Data Analysis), nos quedamos con 32 de las 36 características iniciales:\n",
    "\n",
    "For all binary variables: 0 = No; 1 = Yes.\n",
    "\n",
    "*   `h1n1_concern` - Level of concern about the H1N1 flu.\n",
    "  *   0 = Not at all concerned; 1 = Not very concerned; 2 = Somewhat concerned; 3 = Very concerned.\n",
    "*   `h1n1_knowledge` - Level of knowledge about H1N1 flu.\n",
    "  *   0 = No knowledge; 1 = A little knowledge; 2 = A lot of knowledge.\n",
    "*   `behavioral_antiviral_meds` - Has taken antiviral medications. (binary)\n",
    "*   `behavioral_avoidance` - Has avoided close contact with others with flu-like symptoms. (binary)\n",
    "*   `behavioral_face_mask` - Has bought a face mask. (binary)\n",
    "*   `behavioral_wash_hands` - Has frequently washed hands or used hand sanitizer. (binary)\n",
    "*   `behavioral_large_gatherings` - Has reduced time at large gatherings. (binary)\n",
    "*   `behavioral_outside_home` - Has reduced contact with people outside of own household. (binary)\n",
    "*   `behavioral_touch_face` - Has avoided touching eyes, nose, or mouth. (binary)\n",
    "*   `doctor_recc_h1n1` - H1N1 flu vaccine was recommended by doctor. (binary)\n",
    "*   `doctor_recc_seasonal` - Seasonal flu vaccine was recommended by doctor. (binary)\n",
    "*   `chronic_med_condition` - Has any of the following chronic medical conditions: asthma or an other lung condition, diabetes, a heart condition, a kidney condition, sickle cell anemia or other anemia, a neurological or neuromuscular condition, a liver condition, or a weakened immune system caused by a chronic illness or by medicines taken for a chronic illness. (binary)\n",
    "*   `child_under_6_months` - Has regular close contact with a child under the age of six months. (binary)\n",
    "*   `health_worker` - Is a healthcare worker. (binary)\n",
    "*   `health_insurance` - Has health insurance. (binary)\n",
    "*   `opinion_h1n1_vacc_effective` - Respondent's opinion about H1N1 vaccine effectiveness.\n",
    "  *   1 = Not at all effective; 2 = Not very effective; 3 = Don't know; 4 = Somewhat effective; 5 = Very effective.\n",
    "*   `opinion_h1n1_risk` - Respondent's opinion about risk of getting sick with H1N1 flu without vaccine.\n",
    "  *   1 = Very Low; 2 = Somewhat low; 3 = Don't know; 4 = Somewhat high; 5 = Very high.\n",
    "*   `opinion_h1n1_sick_from_vacc` - Respondent's worry of getting sick from taking H1N1 vaccine.\n",
    "  *   1 = Not at all worried; 2 = Not very worried; 3 = Don't know; 4 = Somewhat worried; 5 = Very worried.\n",
    "*   `opinion_seas_vacc_effective` - Respondent's opinion about seasonal flu vaccine effectiveness.\n",
    "  *   1 = Not at all effective; 2 = Not very effective; 3 = Don't know; 4 = Somewhat effective; 5 = Very effective.\n",
    "*   `opinion_seas_risk` - Respondent's opinion about risk of getting sick with seasonal flu without vaccine.\n",
    "  *   1 = Very Low; 2 = Somewhat low; 3 = Don't know; 4 = Somewhat high; 5 = Very high.\n",
    "*   `opinion_seas_sick_from_vacc` - Respondent's worry of getting sick from taking seasonal flu vaccine.\n",
    "     1 = Not at all worried; 2 = Not very worried; 3 = Don't know; 4 = Somewhat worried; 5 = Very worried.\n",
    "*   `age_group` - Age group of respondent.\n",
    "*   `education` - Self-reported education level.\n",
    "*   `race` - Race of respondent.\n",
    "*   `sex` - Sex of respondent.\n",
    "*   `income_poverty` - Household annual income of respondent with respect to 2008 Census poverty thresholds.\n",
    "*   `marital_status` - Marital status of respondent.\n",
    "*   `rent_or_own` - Housing situation of respondent.\n",
    "*   `employment_status` - Employment status of respondent.\n",
    "*   `census_msa` - Respondent's residence within metropolitan statistical areas (MSA) as defined by the U.S. Census.\n",
    "*   `household_adults` - Number of other adults in household, top-coded to 3.\n",
    "*   `household_children` - Number of children in household, top-coded to 3."
   ]
  },
  {
   "cell_type": "markdown",
   "metadata": {
    "id": "x6bPUjrIYOJD"
   },
   "source": [
    "# 1. Preparación"
   ]
  },
  {
   "cell_type": "markdown",
   "metadata": {
    "id": "wtvW7aBjMZIQ"
   },
   "source": [
    "En esta fase vamos a cargar y preparar el dataset resultante de la fase de EDA (Exploratory Data Analysis).\n",
    "\n",
    "Primero importamos las librerías necesarias."
   ]
  },
  {
   "cell_type": "code",
   "execution_count": 222,
   "metadata": {
    "id": "D7Yb-ynBMhMn"
   },
   "outputs": [],
   "source": [
    "import pandas as pd\n",
    "import numpy as np\n",
    "import matplotlib.pyplot as plt\n",
    "import seaborn as sns\n",
    "\n",
    "from sklearn.preprocessing import StandardScaler\n",
    "from sklearn.impute import SimpleImputer\n",
    "from sklearn.compose import ColumnTransformer\n",
    "\n",
    "from sklearn.naive_bayes import GaussianNB\n",
    "from sklearn.linear_model import LogisticRegression\n",
    "from sklearn.neighbors import KNeighborsClassifier\n",
    "from sklearn.tree import DecisionTreeClassifier\n",
    "from sklearn.ensemble import RandomForestClassifier\n",
    "from sklearn.svm import SVC\n",
    "\n",
    "from sklearn.model_selection import GridSearchCV\n",
    "from sklearn.model_selection import StratifiedKFold\n",
    "from sklearn.model_selection import train_test_split\n",
    "\n",
    "from sklearn.pipeline import Pipeline\n",
    "from sklearn.multioutput import MultiOutputClassifier\n",
    "\n",
    "from sklearn.metrics import accuracy_score, precision_score, recall_score, classification_report\n",
    "from sklearn.metrics import roc_curve, roc_auc_score\n",
    "from sklearn.metrics import confusion_matrix, ConfusionMatrixDisplay\n",
    "\n",
    "import warnings\n",
    "warnings.filterwarnings('ignore')\n",
    "warnings.simplefilter('ignore')\n",
    "\n",
    "plt.style.use('ggplot')\n",
    "\n",
    "RANDOM_SEED = 42    # Set a random seed for reproducibility!"
   ]
  },
  {
   "cell_type": "code",
   "execution_count": 112,
   "metadata": {
    "id": "3pMCATHpLjSv"
   },
   "outputs": [],
   "source": [
    "def print_metrics(y_test, y_pred_result):\n",
    "  print(\"Accuracy:\", \"{:10.4f}\".format(accuracy_score(y_test, y_pred_result, normalize=True)))\n",
    "  print(\"Precision:\", \"{:10.4f}\".format(precision_score(y_test, y_pred_result)))\n",
    "  print(\"Recall:\", \"{:10.4f}\".format(recall_score(y_test, y_pred_result)))\n",
    "  print(\"\\n\", classification_report(y_test, y_pred_result))"
   ]
  },
  {
   "cell_type": "code",
   "execution_count": 113,
   "metadata": {
    "id": "kidWW-GTLhf2"
   },
   "outputs": [],
   "source": [
    "def plot_roc(y_true, y_score, label_name, ax):\n",
    "    fpr, tpr, thresholds = roc_curve(y_true, y_score)\n",
    "    ax.plot(fpr, tpr)\n",
    "    ax.plot([0, 1], [0, 1], color='grey', linestyle='--')\n",
    "    ax.set_ylabel('TPR')\n",
    "    ax.set_xlabel('FPR')\n",
    "    ax.set_title(\n",
    "        f\"{label_name}: AUC = {roc_auc_score(y_true, y_score):.4f}\"\n",
    ")"
   ]
  },
  {
   "cell_type": "markdown",
   "metadata": {
    "id": "o86NsICJLMzY"
   },
   "source": [
    "Cargamos el dataset y exploramos su estructura y datos."
   ]
  },
  {
   "cell_type": "code",
   "execution_count": 114,
   "metadata": {
    "colab": {
     "base_uri": "https://localhost:8080/",
     "height": 287
    },
    "id": "M8t8Qi9_LRIj",
    "outputId": "dd6d6c81-1059-4fe8-ae09-fdcae30fa971"
   },
   "outputs": [
    {
     "data": {
      "text/html": [
       "<div>\n",
       "<style scoped>\n",
       "    .dataframe tbody tr th:only-of-type {\n",
       "        vertical-align: middle;\n",
       "    }\n",
       "\n",
       "    .dataframe tbody tr th {\n",
       "        vertical-align: top;\n",
       "    }\n",
       "\n",
       "    .dataframe thead th {\n",
       "        text-align: right;\n",
       "    }\n",
       "</style>\n",
       "<table border=\"1\" class=\"dataframe\">\n",
       "  <thead>\n",
       "    <tr style=\"text-align: right;\">\n",
       "      <th></th>\n",
       "      <th>h1n1_concern</th>\n",
       "      <th>h1n1_knowledge</th>\n",
       "      <th>behavioral_antiviral_meds</th>\n",
       "      <th>behavioral_avoidance</th>\n",
       "      <th>behavioral_face_mask</th>\n",
       "      <th>behavioral_wash_hands</th>\n",
       "      <th>behavioral_large_gatherings</th>\n",
       "      <th>behavioral_outside_home</th>\n",
       "      <th>behavioral_touch_face</th>\n",
       "      <th>doctor_recc_h1n1</th>\n",
       "      <th>...</th>\n",
       "      <th>marital_status_0</th>\n",
       "      <th>marital_status_1</th>\n",
       "      <th>rent_or_own_0</th>\n",
       "      <th>rent_or_own_1</th>\n",
       "      <th>employment_status_0</th>\n",
       "      <th>employment_status_1</th>\n",
       "      <th>employment_status_2</th>\n",
       "      <th>census_msa_0</th>\n",
       "      <th>census_msa_1</th>\n",
       "      <th>census_msa_2</th>\n",
       "    </tr>\n",
       "    <tr>\n",
       "      <th>respondent_id</th>\n",
       "      <th></th>\n",
       "      <th></th>\n",
       "      <th></th>\n",
       "      <th></th>\n",
       "      <th></th>\n",
       "      <th></th>\n",
       "      <th></th>\n",
       "      <th></th>\n",
       "      <th></th>\n",
       "      <th></th>\n",
       "      <th></th>\n",
       "      <th></th>\n",
       "      <th></th>\n",
       "      <th></th>\n",
       "      <th></th>\n",
       "      <th></th>\n",
       "      <th></th>\n",
       "      <th></th>\n",
       "      <th></th>\n",
       "      <th></th>\n",
       "      <th></th>\n",
       "    </tr>\n",
       "  </thead>\n",
       "  <tbody>\n",
       "    <tr>\n",
       "      <th>0</th>\n",
       "      <td>1.0</td>\n",
       "      <td>0.0</td>\n",
       "      <td>0.0</td>\n",
       "      <td>0.0</td>\n",
       "      <td>0.0</td>\n",
       "      <td>0.0</td>\n",
       "      <td>0.0</td>\n",
       "      <td>1.0</td>\n",
       "      <td>1.0</td>\n",
       "      <td>0.0</td>\n",
       "      <td>...</td>\n",
       "      <td>0.0</td>\n",
       "      <td>1.0</td>\n",
       "      <td>1.0</td>\n",
       "      <td>0.0</td>\n",
       "      <td>0.0</td>\n",
       "      <td>1.0</td>\n",
       "      <td>0.0</td>\n",
       "      <td>0.0</td>\n",
       "      <td>0.0</td>\n",
       "      <td>1.0</td>\n",
       "    </tr>\n",
       "    <tr>\n",
       "      <th>1</th>\n",
       "      <td>3.0</td>\n",
       "      <td>2.0</td>\n",
       "      <td>0.0</td>\n",
       "      <td>1.0</td>\n",
       "      <td>0.0</td>\n",
       "      <td>1.0</td>\n",
       "      <td>0.0</td>\n",
       "      <td>1.0</td>\n",
       "      <td>1.0</td>\n",
       "      <td>0.0</td>\n",
       "      <td>...</td>\n",
       "      <td>0.0</td>\n",
       "      <td>1.0</td>\n",
       "      <td>0.0</td>\n",
       "      <td>1.0</td>\n",
       "      <td>1.0</td>\n",
       "      <td>0.0</td>\n",
       "      <td>0.0</td>\n",
       "      <td>1.0</td>\n",
       "      <td>0.0</td>\n",
       "      <td>0.0</td>\n",
       "    </tr>\n",
       "    <tr>\n",
       "      <th>2</th>\n",
       "      <td>1.0</td>\n",
       "      <td>1.0</td>\n",
       "      <td>0.0</td>\n",
       "      <td>1.0</td>\n",
       "      <td>0.0</td>\n",
       "      <td>0.0</td>\n",
       "      <td>0.0</td>\n",
       "      <td>0.0</td>\n",
       "      <td>0.0</td>\n",
       "      <td>0.0</td>\n",
       "      <td>...</td>\n",
       "      <td>0.0</td>\n",
       "      <td>1.0</td>\n",
       "      <td>1.0</td>\n",
       "      <td>0.0</td>\n",
       "      <td>1.0</td>\n",
       "      <td>0.0</td>\n",
       "      <td>0.0</td>\n",
       "      <td>1.0</td>\n",
       "      <td>0.0</td>\n",
       "      <td>0.0</td>\n",
       "    </tr>\n",
       "    <tr>\n",
       "      <th>3</th>\n",
       "      <td>1.0</td>\n",
       "      <td>1.0</td>\n",
       "      <td>0.0</td>\n",
       "      <td>1.0</td>\n",
       "      <td>0.0</td>\n",
       "      <td>1.0</td>\n",
       "      <td>1.0</td>\n",
       "      <td>0.0</td>\n",
       "      <td>0.0</td>\n",
       "      <td>0.0</td>\n",
       "      <td>...</td>\n",
       "      <td>0.0</td>\n",
       "      <td>1.0</td>\n",
       "      <td>0.0</td>\n",
       "      <td>1.0</td>\n",
       "      <td>0.0</td>\n",
       "      <td>1.0</td>\n",
       "      <td>0.0</td>\n",
       "      <td>0.0</td>\n",
       "      <td>1.0</td>\n",
       "      <td>0.0</td>\n",
       "    </tr>\n",
       "    <tr>\n",
       "      <th>4</th>\n",
       "      <td>2.0</td>\n",
       "      <td>1.0</td>\n",
       "      <td>0.0</td>\n",
       "      <td>1.0</td>\n",
       "      <td>0.0</td>\n",
       "      <td>1.0</td>\n",
       "      <td>1.0</td>\n",
       "      <td>0.0</td>\n",
       "      <td>1.0</td>\n",
       "      <td>0.0</td>\n",
       "      <td>...</td>\n",
       "      <td>1.0</td>\n",
       "      <td>0.0</td>\n",
       "      <td>1.0</td>\n",
       "      <td>0.0</td>\n",
       "      <td>1.0</td>\n",
       "      <td>0.0</td>\n",
       "      <td>0.0</td>\n",
       "      <td>1.0</td>\n",
       "      <td>0.0</td>\n",
       "      <td>0.0</td>\n",
       "    </tr>\n",
       "  </tbody>\n",
       "</table>\n",
       "<p>5 rows × 48 columns</p>\n",
       "</div>"
      ],
      "text/plain": [
       "               h1n1_concern  h1n1_knowledge  behavioral_antiviral_meds  \\\n",
       "respondent_id                                                            \n",
       "0                       1.0             0.0                        0.0   \n",
       "1                       3.0             2.0                        0.0   \n",
       "2                       1.0             1.0                        0.0   \n",
       "3                       1.0             1.0                        0.0   \n",
       "4                       2.0             1.0                        0.0   \n",
       "\n",
       "               behavioral_avoidance  behavioral_face_mask  \\\n",
       "respondent_id                                               \n",
       "0                               0.0                   0.0   \n",
       "1                               1.0                   0.0   \n",
       "2                               1.0                   0.0   \n",
       "3                               1.0                   0.0   \n",
       "4                               1.0                   0.0   \n",
       "\n",
       "               behavioral_wash_hands  behavioral_large_gatherings  \\\n",
       "respondent_id                                                       \n",
       "0                                0.0                          0.0   \n",
       "1                                1.0                          0.0   \n",
       "2                                0.0                          0.0   \n",
       "3                                1.0                          1.0   \n",
       "4                                1.0                          1.0   \n",
       "\n",
       "               behavioral_outside_home  behavioral_touch_face  \\\n",
       "respondent_id                                                   \n",
       "0                                  1.0                    1.0   \n",
       "1                                  1.0                    1.0   \n",
       "2                                  0.0                    0.0   \n",
       "3                                  0.0                    0.0   \n",
       "4                                  0.0                    1.0   \n",
       "\n",
       "               doctor_recc_h1n1  ...  marital_status_0  marital_status_1  \\\n",
       "respondent_id                    ...                                       \n",
       "0                           0.0  ...               0.0               1.0   \n",
       "1                           0.0  ...               0.0               1.0   \n",
       "2                           0.0  ...               0.0               1.0   \n",
       "3                           0.0  ...               0.0               1.0   \n",
       "4                           0.0  ...               1.0               0.0   \n",
       "\n",
       "               rent_or_own_0  rent_or_own_1  employment_status_0  \\\n",
       "respondent_id                                                      \n",
       "0                        1.0            0.0                  0.0   \n",
       "1                        0.0            1.0                  1.0   \n",
       "2                        1.0            0.0                  1.0   \n",
       "3                        0.0            1.0                  0.0   \n",
       "4                        1.0            0.0                  1.0   \n",
       "\n",
       "               employment_status_1  employment_status_2  census_msa_0  \\\n",
       "respondent_id                                                           \n",
       "0                              1.0                  0.0           0.0   \n",
       "1                              0.0                  0.0           1.0   \n",
       "2                              0.0                  0.0           1.0   \n",
       "3                              1.0                  0.0           0.0   \n",
       "4                              0.0                  0.0           1.0   \n",
       "\n",
       "               census_msa_1  census_msa_2  \n",
       "respondent_id                              \n",
       "0                       0.0           1.0  \n",
       "1                       0.0           0.0  \n",
       "2                       0.0           0.0  \n",
       "3                       1.0           0.0  \n",
       "4                       0.0           0.0  \n",
       "\n",
       "[5 rows x 48 columns]"
      ]
     },
     "execution_count": 114,
     "metadata": {},
     "output_type": "execute_result"
    }
   ],
   "source": [
    "features_df = pd.read_csv('training_set_features_eda_notnulls.csv', index_col=\"respondent_id\")\n",
    "features_df.head()"
   ]
  },
  {
   "cell_type": "markdown",
   "metadata": {
    "id": "5yT3hei3reRD"
   },
   "source": [
    "El dataset tiene 26707 filas y 48 columnas."
   ]
  },
  {
   "cell_type": "code",
   "execution_count": 115,
   "metadata": {
    "colab": {
     "base_uri": "https://localhost:8080/"
    },
    "id": "71tJbe-d6EY5",
    "outputId": "0c45b687-c138-472d-c1f8-2853da395bec"
   },
   "outputs": [
    {
     "data": {
      "text/plain": [
       "(26707, 48)"
      ]
     },
     "execution_count": 115,
     "metadata": {},
     "output_type": "execute_result"
    }
   ],
   "source": [
    "features_df.shape"
   ]
  },
  {
   "cell_type": "markdown",
   "metadata": {
    "id": "uqY6GmZ5rhnp"
   },
   "source": [
    "Tipos de datos por columna:"
   ]
  },
  {
   "cell_type": "code",
   "execution_count": 116,
   "metadata": {
    "colab": {
     "base_uri": "https://localhost:8080/"
    },
    "id": "HHFAkzPMrieg",
    "outputId": "9114d244-0265-4f36-f8ab-66ebd2beb6c3"
   },
   "outputs": [
    {
     "data": {
      "text/plain": [
       "h1n1_concern                   float64\n",
       "h1n1_knowledge                 float64\n",
       "behavioral_antiviral_meds      float64\n",
       "behavioral_avoidance           float64\n",
       "behavioral_face_mask           float64\n",
       "behavioral_wash_hands          float64\n",
       "behavioral_large_gatherings    float64\n",
       "behavioral_outside_home        float64\n",
       "behavioral_touch_face          float64\n",
       "doctor_recc_h1n1               float64\n",
       "doctor_recc_seasonal           float64\n",
       "chronic_med_condition          float64\n",
       "child_under_6_months           float64\n",
       "health_worker                  float64\n",
       "health_insurance               float64\n",
       "opinion_h1n1_vacc_effective    float64\n",
       "opinion_h1n1_risk              float64\n",
       "opinion_h1n1_sick_from_vacc    float64\n",
       "opinion_seas_vacc_effective    float64\n",
       "opinion_seas_risk              float64\n",
       "opinion_seas_sick_from_vacc    float64\n",
       "household_adults               float64\n",
       "household_children             float64\n",
       "age_group_0                    float64\n",
       "age_group_1                    float64\n",
       "age_group_2                    float64\n",
       "age_group_3                    float64\n",
       "age_group_4                    float64\n",
       "education_0                    float64\n",
       "education_1                    float64\n",
       "education_2                    float64\n",
       "education_3                    float64\n",
       "race_0                         float64\n",
       "race_1                         float64\n",
       "race_2                         float64\n",
       "race_3                         float64\n",
       "sex_0                          float64\n",
       "sex_1                          float64\n",
       "marital_status_0               float64\n",
       "marital_status_1               float64\n",
       "rent_or_own_0                  float64\n",
       "rent_or_own_1                  float64\n",
       "employment_status_0            float64\n",
       "employment_status_1            float64\n",
       "employment_status_2            float64\n",
       "census_msa_0                   float64\n",
       "census_msa_1                   float64\n",
       "census_msa_2                   float64\n",
       "dtype: object"
      ]
     },
     "execution_count": 116,
     "metadata": {},
     "output_type": "execute_result"
    }
   ],
   "source": [
    "features_df.dtypes"
   ]
  },
  {
   "cell_type": "code",
   "execution_count": 117,
   "metadata": {
    "colab": {
     "base_uri": "https://localhost:8080/",
     "height": 350
    },
    "id": "9OJu2tmWQski",
    "outputId": "d3f8f95e-5d47-4176-ef5a-9f5a3f31e1ca"
   },
   "outputs": [
    {
     "data": {
      "text/html": [
       "<div>\n",
       "<style scoped>\n",
       "    .dataframe tbody tr th:only-of-type {\n",
       "        vertical-align: middle;\n",
       "    }\n",
       "\n",
       "    .dataframe tbody tr th {\n",
       "        vertical-align: top;\n",
       "    }\n",
       "\n",
       "    .dataframe thead th {\n",
       "        text-align: right;\n",
       "    }\n",
       "</style>\n",
       "<table border=\"1\" class=\"dataframe\">\n",
       "  <thead>\n",
       "    <tr style=\"text-align: right;\">\n",
       "      <th></th>\n",
       "      <th>h1n1_concern</th>\n",
       "      <th>h1n1_knowledge</th>\n",
       "      <th>behavioral_antiviral_meds</th>\n",
       "      <th>behavioral_avoidance</th>\n",
       "      <th>behavioral_face_mask</th>\n",
       "      <th>behavioral_wash_hands</th>\n",
       "      <th>behavioral_large_gatherings</th>\n",
       "      <th>behavioral_outside_home</th>\n",
       "      <th>behavioral_touch_face</th>\n",
       "      <th>doctor_recc_h1n1</th>\n",
       "      <th>...</th>\n",
       "      <th>marital_status_0</th>\n",
       "      <th>marital_status_1</th>\n",
       "      <th>rent_or_own_0</th>\n",
       "      <th>rent_or_own_1</th>\n",
       "      <th>employment_status_0</th>\n",
       "      <th>employment_status_1</th>\n",
       "      <th>employment_status_2</th>\n",
       "      <th>census_msa_0</th>\n",
       "      <th>census_msa_1</th>\n",
       "      <th>census_msa_2</th>\n",
       "    </tr>\n",
       "  </thead>\n",
       "  <tbody>\n",
       "    <tr>\n",
       "      <th>count</th>\n",
       "      <td>26707.000000</td>\n",
       "      <td>26707.000000</td>\n",
       "      <td>26707.000000</td>\n",
       "      <td>26707.000000</td>\n",
       "      <td>26707.000000</td>\n",
       "      <td>26707.000000</td>\n",
       "      <td>26707.000000</td>\n",
       "      <td>26707.000000</td>\n",
       "      <td>26707.000000</td>\n",
       "      <td>26707.000000</td>\n",
       "      <td>...</td>\n",
       "      <td>26707.000000</td>\n",
       "      <td>26707.000000</td>\n",
       "      <td>26707.000000</td>\n",
       "      <td>26707.000000</td>\n",
       "      <td>26707.000000</td>\n",
       "      <td>26707.000000</td>\n",
       "      <td>26707.000000</td>\n",
       "      <td>26707.000000</td>\n",
       "      <td>26707.000000</td>\n",
       "      <td>26707.000000</td>\n",
       "    </tr>\n",
       "    <tr>\n",
       "      <th>mean</th>\n",
       "      <td>1.619800</td>\n",
       "      <td>1.261392</td>\n",
       "      <td>0.048714</td>\n",
       "      <td>0.727749</td>\n",
       "      <td>0.068933</td>\n",
       "      <td>0.825888</td>\n",
       "      <td>0.357472</td>\n",
       "      <td>0.336279</td>\n",
       "      <td>0.678811</td>\n",
       "      <td>0.202494</td>\n",
       "      <td>...</td>\n",
       "      <td>0.560265</td>\n",
       "      <td>0.439735</td>\n",
       "      <td>0.777998</td>\n",
       "      <td>0.222002</td>\n",
       "      <td>0.562512</td>\n",
       "      <td>0.383083</td>\n",
       "      <td>0.054405</td>\n",
       "      <td>0.436028</td>\n",
       "      <td>0.294455</td>\n",
       "      <td>0.269517</td>\n",
       "    </tr>\n",
       "    <tr>\n",
       "      <th>std</th>\n",
       "      <td>0.909016</td>\n",
       "      <td>0.617047</td>\n",
       "      <td>0.215273</td>\n",
       "      <td>0.445127</td>\n",
       "      <td>0.253345</td>\n",
       "      <td>0.379213</td>\n",
       "      <td>0.479264</td>\n",
       "      <td>0.472444</td>\n",
       "      <td>0.466942</td>\n",
       "      <td>0.401866</td>\n",
       "      <td>...</td>\n",
       "      <td>0.496364</td>\n",
       "      <td>0.496364</td>\n",
       "      <td>0.415600</td>\n",
       "      <td>0.415600</td>\n",
       "      <td>0.496086</td>\n",
       "      <td>0.486147</td>\n",
       "      <td>0.226820</td>\n",
       "      <td>0.495900</td>\n",
       "      <td>0.455806</td>\n",
       "      <td>0.443717</td>\n",
       "    </tr>\n",
       "    <tr>\n",
       "      <th>min</th>\n",
       "      <td>0.000000</td>\n",
       "      <td>0.000000</td>\n",
       "      <td>0.000000</td>\n",
       "      <td>0.000000</td>\n",
       "      <td>0.000000</td>\n",
       "      <td>0.000000</td>\n",
       "      <td>0.000000</td>\n",
       "      <td>0.000000</td>\n",
       "      <td>0.000000</td>\n",
       "      <td>0.000000</td>\n",
       "      <td>...</td>\n",
       "      <td>0.000000</td>\n",
       "      <td>0.000000</td>\n",
       "      <td>0.000000</td>\n",
       "      <td>0.000000</td>\n",
       "      <td>0.000000</td>\n",
       "      <td>0.000000</td>\n",
       "      <td>0.000000</td>\n",
       "      <td>0.000000</td>\n",
       "      <td>0.000000</td>\n",
       "      <td>0.000000</td>\n",
       "    </tr>\n",
       "    <tr>\n",
       "      <th>25%</th>\n",
       "      <td>1.000000</td>\n",
       "      <td>1.000000</td>\n",
       "      <td>0.000000</td>\n",
       "      <td>0.000000</td>\n",
       "      <td>0.000000</td>\n",
       "      <td>1.000000</td>\n",
       "      <td>0.000000</td>\n",
       "      <td>0.000000</td>\n",
       "      <td>0.000000</td>\n",
       "      <td>0.000000</td>\n",
       "      <td>...</td>\n",
       "      <td>0.000000</td>\n",
       "      <td>0.000000</td>\n",
       "      <td>1.000000</td>\n",
       "      <td>0.000000</td>\n",
       "      <td>0.000000</td>\n",
       "      <td>0.000000</td>\n",
       "      <td>0.000000</td>\n",
       "      <td>0.000000</td>\n",
       "      <td>0.000000</td>\n",
       "      <td>0.000000</td>\n",
       "    </tr>\n",
       "    <tr>\n",
       "      <th>50%</th>\n",
       "      <td>2.000000</td>\n",
       "      <td>1.000000</td>\n",
       "      <td>0.000000</td>\n",
       "      <td>1.000000</td>\n",
       "      <td>0.000000</td>\n",
       "      <td>1.000000</td>\n",
       "      <td>0.000000</td>\n",
       "      <td>0.000000</td>\n",
       "      <td>1.000000</td>\n",
       "      <td>0.000000</td>\n",
       "      <td>...</td>\n",
       "      <td>1.000000</td>\n",
       "      <td>0.000000</td>\n",
       "      <td>1.000000</td>\n",
       "      <td>0.000000</td>\n",
       "      <td>1.000000</td>\n",
       "      <td>0.000000</td>\n",
       "      <td>0.000000</td>\n",
       "      <td>0.000000</td>\n",
       "      <td>0.000000</td>\n",
       "      <td>0.000000</td>\n",
       "    </tr>\n",
       "    <tr>\n",
       "      <th>75%</th>\n",
       "      <td>2.000000</td>\n",
       "      <td>2.000000</td>\n",
       "      <td>0.000000</td>\n",
       "      <td>1.000000</td>\n",
       "      <td>0.000000</td>\n",
       "      <td>1.000000</td>\n",
       "      <td>1.000000</td>\n",
       "      <td>1.000000</td>\n",
       "      <td>1.000000</td>\n",
       "      <td>0.000000</td>\n",
       "      <td>...</td>\n",
       "      <td>1.000000</td>\n",
       "      <td>1.000000</td>\n",
       "      <td>1.000000</td>\n",
       "      <td>0.000000</td>\n",
       "      <td>1.000000</td>\n",
       "      <td>1.000000</td>\n",
       "      <td>0.000000</td>\n",
       "      <td>1.000000</td>\n",
       "      <td>1.000000</td>\n",
       "      <td>1.000000</td>\n",
       "    </tr>\n",
       "    <tr>\n",
       "      <th>max</th>\n",
       "      <td>3.000000</td>\n",
       "      <td>2.000000</td>\n",
       "      <td>1.000000</td>\n",
       "      <td>1.000000</td>\n",
       "      <td>1.000000</td>\n",
       "      <td>1.000000</td>\n",
       "      <td>1.000000</td>\n",
       "      <td>1.000000</td>\n",
       "      <td>1.000000</td>\n",
       "      <td>1.000000</td>\n",
       "      <td>...</td>\n",
       "      <td>1.000000</td>\n",
       "      <td>1.000000</td>\n",
       "      <td>1.000000</td>\n",
       "      <td>1.000000</td>\n",
       "      <td>1.000000</td>\n",
       "      <td>1.000000</td>\n",
       "      <td>1.000000</td>\n",
       "      <td>1.000000</td>\n",
       "      <td>1.000000</td>\n",
       "      <td>1.000000</td>\n",
       "    </tr>\n",
       "  </tbody>\n",
       "</table>\n",
       "<p>8 rows × 48 columns</p>\n",
       "</div>"
      ],
      "text/plain": [
       "       h1n1_concern  h1n1_knowledge  behavioral_antiviral_meds  \\\n",
       "count  26707.000000    26707.000000               26707.000000   \n",
       "mean       1.619800        1.261392                   0.048714   \n",
       "std        0.909016        0.617047                   0.215273   \n",
       "min        0.000000        0.000000                   0.000000   \n",
       "25%        1.000000        1.000000                   0.000000   \n",
       "50%        2.000000        1.000000                   0.000000   \n",
       "75%        2.000000        2.000000                   0.000000   \n",
       "max        3.000000        2.000000                   1.000000   \n",
       "\n",
       "       behavioral_avoidance  behavioral_face_mask  behavioral_wash_hands  \\\n",
       "count          26707.000000          26707.000000           26707.000000   \n",
       "mean               0.727749              0.068933               0.825888   \n",
       "std                0.445127              0.253345               0.379213   \n",
       "min                0.000000              0.000000               0.000000   \n",
       "25%                0.000000              0.000000               1.000000   \n",
       "50%                1.000000              0.000000               1.000000   \n",
       "75%                1.000000              0.000000               1.000000   \n",
       "max                1.000000              1.000000               1.000000   \n",
       "\n",
       "       behavioral_large_gatherings  behavioral_outside_home  \\\n",
       "count                 26707.000000             26707.000000   \n",
       "mean                      0.357472                 0.336279   \n",
       "std                       0.479264                 0.472444   \n",
       "min                       0.000000                 0.000000   \n",
       "25%                       0.000000                 0.000000   \n",
       "50%                       0.000000                 0.000000   \n",
       "75%                       1.000000                 1.000000   \n",
       "max                       1.000000                 1.000000   \n",
       "\n",
       "       behavioral_touch_face  doctor_recc_h1n1  ...  marital_status_0  \\\n",
       "count           26707.000000      26707.000000  ...      26707.000000   \n",
       "mean                0.678811          0.202494  ...          0.560265   \n",
       "std                 0.466942          0.401866  ...          0.496364   \n",
       "min                 0.000000          0.000000  ...          0.000000   \n",
       "25%                 0.000000          0.000000  ...          0.000000   \n",
       "50%                 1.000000          0.000000  ...          1.000000   \n",
       "75%                 1.000000          0.000000  ...          1.000000   \n",
       "max                 1.000000          1.000000  ...          1.000000   \n",
       "\n",
       "       marital_status_1  rent_or_own_0  rent_or_own_1  employment_status_0  \\\n",
       "count      26707.000000   26707.000000   26707.000000         26707.000000   \n",
       "mean           0.439735       0.777998       0.222002             0.562512   \n",
       "std            0.496364       0.415600       0.415600             0.496086   \n",
       "min            0.000000       0.000000       0.000000             0.000000   \n",
       "25%            0.000000       1.000000       0.000000             0.000000   \n",
       "50%            0.000000       1.000000       0.000000             1.000000   \n",
       "75%            1.000000       1.000000       0.000000             1.000000   \n",
       "max            1.000000       1.000000       1.000000             1.000000   \n",
       "\n",
       "       employment_status_1  employment_status_2  census_msa_0  census_msa_1  \\\n",
       "count         26707.000000         26707.000000  26707.000000  26707.000000   \n",
       "mean              0.383083             0.054405      0.436028      0.294455   \n",
       "std               0.486147             0.226820      0.495900      0.455806   \n",
       "min               0.000000             0.000000      0.000000      0.000000   \n",
       "25%               0.000000             0.000000      0.000000      0.000000   \n",
       "50%               0.000000             0.000000      0.000000      0.000000   \n",
       "75%               1.000000             0.000000      1.000000      1.000000   \n",
       "max               1.000000             1.000000      1.000000      1.000000   \n",
       "\n",
       "       census_msa_2  \n",
       "count  26707.000000  \n",
       "mean       0.269517  \n",
       "std        0.443717  \n",
       "min        0.000000  \n",
       "25%        0.000000  \n",
       "50%        0.000000  \n",
       "75%        1.000000  \n",
       "max        1.000000  \n",
       "\n",
       "[8 rows x 48 columns]"
      ]
     },
     "execution_count": 117,
     "metadata": {},
     "output_type": "execute_result"
    }
   ],
   "source": [
    "features_df.describe()"
   ]
  },
  {
   "cell_type": "code",
   "execution_count": 118,
   "metadata": {
    "colab": {
     "base_uri": "https://localhost:8080/",
     "height": 238
    },
    "id": "fLHaCdTyBgIS",
    "outputId": "f26aea32-1f8a-49b8-ec45-21b4a28d59ae"
   },
   "outputs": [
    {
     "data": {
      "text/html": [
       "<div>\n",
       "<style scoped>\n",
       "    .dataframe tbody tr th:only-of-type {\n",
       "        vertical-align: middle;\n",
       "    }\n",
       "\n",
       "    .dataframe tbody tr th {\n",
       "        vertical-align: top;\n",
       "    }\n",
       "\n",
       "    .dataframe thead th {\n",
       "        text-align: right;\n",
       "    }\n",
       "</style>\n",
       "<table border=\"1\" class=\"dataframe\">\n",
       "  <thead>\n",
       "    <tr style=\"text-align: right;\">\n",
       "      <th></th>\n",
       "      <th>h1n1_vaccine</th>\n",
       "      <th>seasonal_vaccine</th>\n",
       "    </tr>\n",
       "    <tr>\n",
       "      <th>respondent_id</th>\n",
       "      <th></th>\n",
       "      <th></th>\n",
       "    </tr>\n",
       "  </thead>\n",
       "  <tbody>\n",
       "    <tr>\n",
       "      <th>0</th>\n",
       "      <td>0</td>\n",
       "      <td>0</td>\n",
       "    </tr>\n",
       "    <tr>\n",
       "      <th>1</th>\n",
       "      <td>0</td>\n",
       "      <td>1</td>\n",
       "    </tr>\n",
       "    <tr>\n",
       "      <th>2</th>\n",
       "      <td>0</td>\n",
       "      <td>0</td>\n",
       "    </tr>\n",
       "    <tr>\n",
       "      <th>3</th>\n",
       "      <td>0</td>\n",
       "      <td>1</td>\n",
       "    </tr>\n",
       "    <tr>\n",
       "      <th>4</th>\n",
       "      <td>0</td>\n",
       "      <td>0</td>\n",
       "    </tr>\n",
       "  </tbody>\n",
       "</table>\n",
       "</div>"
      ],
      "text/plain": [
       "               h1n1_vaccine  seasonal_vaccine\n",
       "respondent_id                                \n",
       "0                         0                 0\n",
       "1                         0                 1\n",
       "2                         0                 0\n",
       "3                         0                 1\n",
       "4                         0                 0"
      ]
     },
     "execution_count": 118,
     "metadata": {},
     "output_type": "execute_result"
    }
   ],
   "source": [
    "labels_df = pd.read_csv(\"training_set_labels.csv\", index_col=\"respondent_id\")\n",
    "labels_df.head()"
   ]
  },
  {
   "cell_type": "markdown",
   "metadata": {
    "id": "kUlAn5B0SjQN"
   },
   "source": [
    "# Split training y evaluation set"
   ]
  },
  {
   "cell_type": "code",
   "execution_count": 119,
   "metadata": {
    "id": "A961Fkp9Gg4F"
   },
   "outputs": [],
   "source": [
    "X_train, X_eval, y_train, y_eval = train_test_split(\n",
    "    features_df,\n",
    "    labels_df,\n",
    "    test_size=0.20,\n",
    "    shuffle=True,\n",
    "    stratify=labels_df,\n",
    "    random_state=RANDOM_SEED\n",
    ")\n",
    "\n",
    "y_train_h1n1 = y_train[['h1n1_vaccine']].copy()\n",
    "y_train_seasonal = y_train[['seasonal_vaccine']].copy()\n",
    "y_eval_h1n1 = y_eval[['h1n1_vaccine']].copy()\n",
    "y_eval_seasonal = y_eval[['seasonal_vaccine']].copy()"
   ]
  },
  {
   "cell_type": "markdown",
   "metadata": {
    "id": "QOmceo7nm2X0"
   },
   "source": [
    "# 2. Hyperparameters tuning con GridSearchCV"
   ]
  },
  {
   "cell_type": "code",
   "execution_count": 10,
   "metadata": {},
   "outputs": [],
   "source": [
    "params_result = pd.DataFrame()"
   ]
  },
  {
   "cell_type": "markdown",
   "metadata": {
    "id": "13DLmiSYP9iX"
   },
   "source": [
    "## Naive Bayes"
   ]
  },
  {
   "cell_type": "markdown",
   "metadata": {},
   "source": [
    "### H1N1"
   ]
  },
  {
   "cell_type": "code",
   "execution_count": 11,
   "metadata": {
    "colab": {
     "base_uri": "https://localhost:8080/"
    },
    "id": "OZCGCO7LA33H",
    "outputId": "69c6ad78-b784-48c8-8bce-0874fb3af9d0"
   },
   "outputs": [
    {
     "name": "stdout",
     "output_type": "stream",
     "text": [
      "Fitting 10 folds for each of 100 candidates, totalling 1000 fits\n",
      "GaussianNB(var_smoothing=0.02848035868435802)\n"
     ]
    }
   ],
   "source": [
    "param_grid_nb = {\n",
    "    'var_smoothing': np.logspace(0,-9, num=100)\n",
    "}\n",
    "\n",
    "naive_h1n1_grid = GridSearchCV(estimator=GaussianNB(), param_grid=param_grid_nb, scoring=\"roc_auc\", verbose=1, cv=10, n_jobs=-1)\n",
    "naive_h1n1_grid.fit(X_train, y_train_h1n1.values.ravel())\n",
    "\n",
    "print(naive_h1n1_grid.best_estimator_)"
   ]
  },
  {
   "cell_type": "code",
   "execution_count": 12,
   "metadata": {},
   "outputs": [
    {
     "data": {
      "text/html": [
       "<div>\n",
       "<style scoped>\n",
       "    .dataframe tbody tr th:only-of-type {\n",
       "        vertical-align: middle;\n",
       "    }\n",
       "\n",
       "    .dataframe tbody tr th {\n",
       "        vertical-align: top;\n",
       "    }\n",
       "\n",
       "    .dataframe thead th {\n",
       "        text-align: right;\n",
       "    }\n",
       "</style>\n",
       "<table border=\"1\" class=\"dataframe\">\n",
       "  <thead>\n",
       "    <tr style=\"text-align: right;\">\n",
       "      <th></th>\n",
       "      <th>estimator</th>\n",
       "      <th>target</th>\n",
       "      <th>params</th>\n",
       "      <th>score</th>\n",
       "    </tr>\n",
       "  </thead>\n",
       "  <tbody>\n",
       "    <tr>\n",
       "      <th>var_smoothing</th>\n",
       "      <td>naive</td>\n",
       "      <td>h1n1</td>\n",
       "      <td>0.02848</td>\n",
       "      <td>0.808018</td>\n",
       "    </tr>\n",
       "  </tbody>\n",
       "</table>\n",
       "</div>"
      ],
      "text/plain": [
       "              estimator target   params     score\n",
       "var_smoothing     naive   h1n1  0.02848  0.808018"
      ]
     },
     "execution_count": 12,
     "metadata": {},
     "output_type": "execute_result"
    }
   ],
   "source": [
    "naive_params_result = pd.DataFrame({'estimator':'naive','target':'h1n1',\n",
    "                                    'params':naive_h1n1_grid.best_params_,\n",
    "                                    'score':naive_h1n1_grid.best_score_})\n",
    "params_result = pd.concat([params_result, naive_params_result])\n",
    "naive_params_result"
   ]
  },
  {
   "cell_type": "markdown",
   "metadata": {},
   "source": [
    "### Seasonal"
   ]
  },
  {
   "cell_type": "code",
   "execution_count": 13,
   "metadata": {
    "colab": {
     "base_uri": "https://localhost:8080/"
    },
    "id": "RRWQjz5kIN3L",
    "outputId": "eb284db2-ec40-49f9-913f-64dc330ee708"
   },
   "outputs": [
    {
     "name": "stdout",
     "output_type": "stream",
     "text": [
      "Fitting 10 folds for each of 100 candidates, totalling 1000 fits\n",
      "GaussianNB(var_smoothing=0.0533669923120631)\n"
     ]
    }
   ],
   "source": [
    "param_grid_nb = {\n",
    "    'var_smoothing': np.logspace(0,-9, num=100)\n",
    "}\n",
    "\n",
    "naive_seasonal_grid = GridSearchCV(estimator=GaussianNB(), param_grid=param_grid_nb, scoring=\"roc_auc\", verbose=1, cv=10, n_jobs=-1)\n",
    "naive_seasonal_grid.fit(X_train, y_train_seasonal.values.ravel())\n",
    "\n",
    "print(naive_seasonal_grid.best_estimator_)"
   ]
  },
  {
   "cell_type": "code",
   "execution_count": 14,
   "metadata": {},
   "outputs": [
    {
     "data": {
      "text/html": [
       "<div>\n",
       "<style scoped>\n",
       "    .dataframe tbody tr th:only-of-type {\n",
       "        vertical-align: middle;\n",
       "    }\n",
       "\n",
       "    .dataframe tbody tr th {\n",
       "        vertical-align: top;\n",
       "    }\n",
       "\n",
       "    .dataframe thead th {\n",
       "        text-align: right;\n",
       "    }\n",
       "</style>\n",
       "<table border=\"1\" class=\"dataframe\">\n",
       "  <thead>\n",
       "    <tr style=\"text-align: right;\">\n",
       "      <th></th>\n",
       "      <th>estimator</th>\n",
       "      <th>target</th>\n",
       "      <th>params</th>\n",
       "      <th>score</th>\n",
       "    </tr>\n",
       "  </thead>\n",
       "  <tbody>\n",
       "    <tr>\n",
       "      <th>var_smoothing</th>\n",
       "      <td>naive</td>\n",
       "      <td>seasonal</td>\n",
       "      <td>0.053367</td>\n",
       "      <td>0.816904</td>\n",
       "    </tr>\n",
       "  </tbody>\n",
       "</table>\n",
       "</div>"
      ],
      "text/plain": [
       "              estimator    target    params     score\n",
       "var_smoothing     naive  seasonal  0.053367  0.816904"
      ]
     },
     "execution_count": 14,
     "metadata": {},
     "output_type": "execute_result"
    }
   ],
   "source": [
    "naive_params_result = pd.DataFrame({'estimator':'naive','target':'seasonal',\n",
    "                            'params':naive_seasonal_grid.best_params_,\n",
    "                            'score':naive_seasonal_grid.best_score_})\n",
    "params_result = pd.concat([params_result, naive_params_result])\n",
    "naive_params_result"
   ]
  },
  {
   "cell_type": "markdown",
   "metadata": {
    "id": "vNoLimeGQCY_"
   },
   "source": [
    "## Logistic Regression"
   ]
  },
  {
   "cell_type": "markdown",
   "metadata": {},
   "source": [
    "### H1N1"
   ]
  },
  {
   "cell_type": "code",
   "execution_count": 15,
   "metadata": {
    "colab": {
     "base_uri": "https://localhost:8080/"
    },
    "id": "86iiWkq_IYmI",
    "outputId": "bde78646-2f12-4d87-b0d0-48048806633d"
   },
   "outputs": [
    {
     "name": "stdout",
     "output_type": "stream",
     "text": [
      "Fitting 10 folds for each of 144 candidates, totalling 1440 fits\n",
      "LogisticRegression(C=0.5, multi_class='multinomial', penalty='l1',\n",
      "                   solver='saga')\n"
     ]
    }
   ],
   "source": [
    "param_grid = {\n",
    "    'penalty': ['l1', 'l2','elasticnet'],\n",
    "    'C': [0.1, 0.2, 0.5, 1, 2, 5, 10, 100],\n",
    "    'solver': ['lbfgs','saga'],\n",
    "    'multi_class': ['auto', 'ovr', 'multinomial']\n",
    "}\n",
    "\n",
    "lr = LogisticRegression()\n",
    "lr_h1n1_grid = GridSearchCV(lr, param_grid, cv=10, scoring=\"roc_auc\", verbose=1)\n",
    "lr_h1n1_grid.fit(X_train, y_train_h1n1.values.ravel())\n",
    "\n",
    "print(lr_h1n1_grid.best_estimator_)"
   ]
  },
  {
   "cell_type": "code",
   "execution_count": 16,
   "metadata": {},
   "outputs": [
    {
     "data": {
      "text/html": [
       "<div>\n",
       "<style scoped>\n",
       "    .dataframe tbody tr th:only-of-type {\n",
       "        vertical-align: middle;\n",
       "    }\n",
       "\n",
       "    .dataframe tbody tr th {\n",
       "        vertical-align: top;\n",
       "    }\n",
       "\n",
       "    .dataframe thead th {\n",
       "        text-align: right;\n",
       "    }\n",
       "</style>\n",
       "<table border=\"1\" class=\"dataframe\">\n",
       "  <thead>\n",
       "    <tr style=\"text-align: right;\">\n",
       "      <th></th>\n",
       "      <th>estimator</th>\n",
       "      <th>target</th>\n",
       "      <th>params</th>\n",
       "      <th>score</th>\n",
       "    </tr>\n",
       "  </thead>\n",
       "  <tbody>\n",
       "    <tr>\n",
       "      <th>C</th>\n",
       "      <td>lr</td>\n",
       "      <td>h1n1</td>\n",
       "      <td>0.5</td>\n",
       "      <td>0.85231</td>\n",
       "    </tr>\n",
       "    <tr>\n",
       "      <th>multi_class</th>\n",
       "      <td>lr</td>\n",
       "      <td>h1n1</td>\n",
       "      <td>multinomial</td>\n",
       "      <td>0.85231</td>\n",
       "    </tr>\n",
       "    <tr>\n",
       "      <th>penalty</th>\n",
       "      <td>lr</td>\n",
       "      <td>h1n1</td>\n",
       "      <td>l1</td>\n",
       "      <td>0.85231</td>\n",
       "    </tr>\n",
       "    <tr>\n",
       "      <th>solver</th>\n",
       "      <td>lr</td>\n",
       "      <td>h1n1</td>\n",
       "      <td>saga</td>\n",
       "      <td>0.85231</td>\n",
       "    </tr>\n",
       "  </tbody>\n",
       "</table>\n",
       "</div>"
      ],
      "text/plain": [
       "            estimator target       params    score\n",
       "C                  lr   h1n1          0.5  0.85231\n",
       "multi_class        lr   h1n1  multinomial  0.85231\n",
       "penalty            lr   h1n1           l1  0.85231\n",
       "solver             lr   h1n1         saga  0.85231"
      ]
     },
     "execution_count": 16,
     "metadata": {},
     "output_type": "execute_result"
    }
   ],
   "source": [
    "lr_params_result = pd.DataFrame({'estimator':'lr','target':'h1n1',\n",
    "                                 'params':lr_h1n1_grid.best_params_,\n",
    "                                 'score':lr_h1n1_grid.best_score_})\n",
    "params_result = pd.concat([params_result, lr_params_result])\n",
    "lr_params_result"
   ]
  },
  {
   "cell_type": "markdown",
   "metadata": {},
   "source": [
    "### Seasonal"
   ]
  },
  {
   "cell_type": "code",
   "execution_count": 17,
   "metadata": {
    "colab": {
     "base_uri": "https://localhost:8080/"
    },
    "id": "H4sM7SoqTRJP",
    "outputId": "f5922e3e-2670-47b2-8e2d-7c830a6f129c"
   },
   "outputs": [
    {
     "name": "stdout",
     "output_type": "stream",
     "text": [
      "LogisticRegression(C=0.5, penalty='l1', solver='saga')\n"
     ]
    }
   ],
   "source": [
    "param_grid = {\n",
    "    'penalty': ['l1', 'l2','elasticnet'],\n",
    "    'C': [0.1, 0.2, 0.5, 1, 2, 5, 10, 100],\n",
    "    'solver': ['lbfgs','saga'],\n",
    "    'multi_class': ['auto', 'ovr', 'multinomial']\n",
    "}\n",
    "\n",
    "lr = LogisticRegression()\n",
    "lr_seasonal_grid = GridSearchCV(lr, param_grid, cv=10)\n",
    "lr_seasonal_grid.fit(X_train, y_train_seasonal)\n",
    "\n",
    "print(lr_seasonal_grid.best_estimator_)"
   ]
  },
  {
   "cell_type": "code",
   "execution_count": 18,
   "metadata": {},
   "outputs": [
    {
     "data": {
      "text/html": [
       "<div>\n",
       "<style scoped>\n",
       "    .dataframe tbody tr th:only-of-type {\n",
       "        vertical-align: middle;\n",
       "    }\n",
       "\n",
       "    .dataframe tbody tr th {\n",
       "        vertical-align: top;\n",
       "    }\n",
       "\n",
       "    .dataframe thead th {\n",
       "        text-align: right;\n",
       "    }\n",
       "</style>\n",
       "<table border=\"1\" class=\"dataframe\">\n",
       "  <thead>\n",
       "    <tr style=\"text-align: right;\">\n",
       "      <th></th>\n",
       "      <th>estimator</th>\n",
       "      <th>target</th>\n",
       "      <th>params</th>\n",
       "      <th>score</th>\n",
       "    </tr>\n",
       "  </thead>\n",
       "  <tbody>\n",
       "    <tr>\n",
       "      <th>C</th>\n",
       "      <td>lr</td>\n",
       "      <td>seasonal</td>\n",
       "      <td>0.5</td>\n",
       "      <td>0.774605</td>\n",
       "    </tr>\n",
       "    <tr>\n",
       "      <th>multi_class</th>\n",
       "      <td>lr</td>\n",
       "      <td>seasonal</td>\n",
       "      <td>auto</td>\n",
       "      <td>0.774605</td>\n",
       "    </tr>\n",
       "    <tr>\n",
       "      <th>penalty</th>\n",
       "      <td>lr</td>\n",
       "      <td>seasonal</td>\n",
       "      <td>l1</td>\n",
       "      <td>0.774605</td>\n",
       "    </tr>\n",
       "    <tr>\n",
       "      <th>solver</th>\n",
       "      <td>lr</td>\n",
       "      <td>seasonal</td>\n",
       "      <td>saga</td>\n",
       "      <td>0.774605</td>\n",
       "    </tr>\n",
       "  </tbody>\n",
       "</table>\n",
       "</div>"
      ],
      "text/plain": [
       "            estimator    target params     score\n",
       "C                  lr  seasonal    0.5  0.774605\n",
       "multi_class        lr  seasonal   auto  0.774605\n",
       "penalty            lr  seasonal     l1  0.774605\n",
       "solver             lr  seasonal   saga  0.774605"
      ]
     },
     "execution_count": 18,
     "metadata": {},
     "output_type": "execute_result"
    }
   ],
   "source": [
    "lr_params_result = pd.DataFrame({'estimator':'lr','target':'seasonal',\n",
    "                                 'params':lr_seasonal_grid.best_params_,\n",
    "                                 'score':lr_seasonal_grid.best_score_})\n",
    "params_result = pd.concat([params_result, lr_params_result])\n",
    "lr_params_result"
   ]
  },
  {
   "cell_type": "markdown",
   "metadata": {
    "id": "XpUqOVCIRNJ1"
   },
   "source": [
    "## SVM"
   ]
  },
  {
   "cell_type": "markdown",
   "metadata": {},
   "source": [
    "### H1N1"
   ]
  },
  {
   "cell_type": "code",
   "execution_count": 19,
   "metadata": {
    "id": "r5TLjnFyIzZn"
   },
   "outputs": [
    {
     "name": "stdout",
     "output_type": "stream",
     "text": [
      "Fitting 5 folds for each of 9 candidates, totalling 45 fits\n",
      "[CV 1/5] END ........C=0.1, gamma=1, kernel=rbf;, score=0.729 total time=  48.9s\n",
      "[CV 2/5] END ........C=0.1, gamma=1, kernel=rbf;, score=0.724 total time=  48.7s\n",
      "[CV 3/5] END ........C=0.1, gamma=1, kernel=rbf;, score=0.732 total time=  47.6s\n",
      "[CV 4/5] END ........C=0.1, gamma=1, kernel=rbf;, score=0.733 total time=  47.9s\n",
      "[CV 5/5] END ........C=0.1, gamma=1, kernel=rbf;, score=0.719 total time=  47.3s\n",
      "[CV 1/5] END ......C=0.1, gamma=0.1, kernel=rbf;, score=0.838 total time=  10.9s\n",
      "[CV 2/5] END ......C=0.1, gamma=0.1, kernel=rbf;, score=0.814 total time=  11.4s\n",
      "[CV 3/5] END ......C=0.1, gamma=0.1, kernel=rbf;, score=0.842 total time=  11.5s\n",
      "[CV 4/5] END ......C=0.1, gamma=0.1, kernel=rbf;, score=0.826 total time=  11.4s\n",
      "[CV 5/5] END ......C=0.1, gamma=0.1, kernel=rbf;, score=0.825 total time=  11.3s\n",
      "[CV 1/5] END .....C=0.1, gamma=0.01, kernel=rbf;, score=0.849 total time=   9.9s\n",
      "[CV 2/5] END .....C=0.1, gamma=0.01, kernel=rbf;, score=0.837 total time=  10.0s\n",
      "[CV 3/5] END .....C=0.1, gamma=0.01, kernel=rbf;, score=0.858 total time=  10.2s\n",
      "[CV 4/5] END .....C=0.1, gamma=0.01, kernel=rbf;, score=0.837 total time=   9.5s\n",
      "[CV 5/5] END .....C=0.1, gamma=0.01, kernel=rbf;, score=0.847 total time=   9.9s\n",
      "[CV 1/5] END ..........C=1, gamma=1, kernel=rbf;, score=0.729 total time=  58.9s\n",
      "[CV 2/5] END ..........C=1, gamma=1, kernel=rbf;, score=0.724 total time=  58.2s\n",
      "[CV 3/5] END ..........C=1, gamma=1, kernel=rbf;, score=0.732 total time=  57.1s\n",
      "[CV 4/5] END ..........C=1, gamma=1, kernel=rbf;, score=0.733 total time=  58.9s\n",
      "[CV 5/5] END ..........C=1, gamma=1, kernel=rbf;, score=0.719 total time=  58.2s\n",
      "[CV 1/5] END ........C=1, gamma=0.1, kernel=rbf;, score=0.843 total time=  12.3s\n",
      "[CV 2/5] END ........C=1, gamma=0.1, kernel=rbf;, score=0.808 total time=  12.5s\n",
      "[CV 3/5] END ........C=1, gamma=0.1, kernel=rbf;, score=0.838 total time=  12.8s\n",
      "[CV 4/5] END ........C=1, gamma=0.1, kernel=rbf;, score=0.823 total time=  12.6s\n",
      "[CV 5/5] END ........C=1, gamma=0.1, kernel=rbf;, score=0.830 total time=17.3min\n",
      "[CV 1/5] END .......C=1, gamma=0.01, kernel=rbf;, score=0.855 total time=   9.3s\n",
      "[CV 2/5] END .......C=1, gamma=0.01, kernel=rbf;, score=0.838 total time=   9.2s\n",
      "[CV 3/5] END .......C=1, gamma=0.01, kernel=rbf;, score=0.863 total time=   9.4s\n",
      "[CV 4/5] END .......C=1, gamma=0.01, kernel=rbf;, score=0.843 total time=   9.2s\n",
      "[CV 5/5] END .......C=1, gamma=0.01, kernel=rbf;, score=0.852 total time=   9.2s\n",
      "[CV 1/5] END .........C=10, gamma=1, kernel=rbf;, score=0.730 total time=33.5min\n",
      "[CV 2/5] END .........C=10, gamma=1, kernel=rbf;, score=0.724 total time=37.0min\n",
      "[CV 3/5] END .........C=10, gamma=1, kernel=rbf;, score=0.732 total time=16.9min\n",
      "[CV 4/5] END .........C=10, gamma=1, kernel=rbf;, score=0.732 total time= 8.8min\n",
      "[CV 5/5] END .........C=10, gamma=1, kernel=rbf;, score=0.719 total time= 1.3min\n",
      "[CV 1/5] END .......C=10, gamma=0.1, kernel=rbf;, score=0.807 total time=  36.4s\n",
      "[CV 2/5] END .......C=10, gamma=0.1, kernel=rbf;, score=0.786 total time=  34.8s\n",
      "[CV 3/5] END .......C=10, gamma=0.1, kernel=rbf;, score=0.812 total time=  35.5s\n",
      "[CV 4/5] END .......C=10, gamma=0.1, kernel=rbf;, score=0.795 total time=  34.5s\n",
      "[CV 5/5] END .......C=10, gamma=0.1, kernel=rbf;, score=0.803 total time=  36.1s\n",
      "[CV 1/5] END ......C=10, gamma=0.01, kernel=rbf;, score=0.848 total time=  10.3s\n",
      "[CV 2/5] END ......C=10, gamma=0.01, kernel=rbf;, score=0.821 total time=  10.1s\n",
      "[CV 3/5] END ......C=10, gamma=0.01, kernel=rbf;, score=0.849 total time=  10.6s\n",
      "[CV 4/5] END ......C=10, gamma=0.01, kernel=rbf;, score=0.830 total time=  10.5s\n",
      "[CV 5/5] END ......C=10, gamma=0.01, kernel=rbf;, score=0.843 total time=  10.5s\n",
      "{'C': 1, 'gamma': 0.01, 'kernel': 'rbf'}\n",
      "SVC(C=1, gamma=0.01)\n",
      "0.8501057456385915\n"
     ]
    }
   ],
   "source": [
    "# defining parameter range\n",
    "param_grid = {'C': [0.1, 1, 10],\n",
    "              'gamma': [1, 0.1, 0.01],\n",
    "              'kernel': ['rbf']}\n",
    "\n",
    "svm_h1n1_grid = GridSearchCV(SVC(), param_grid, refit = True, scoring=\"roc_auc\", verbose = 3)\n",
    "\n",
    "# fitting the model for grid search\n",
    "svm_h1n1_grid.fit(X_train, y_train_h1n1)\n",
    "\n",
    "# print best parameter after tuning\n",
    "print(svm_h1n1_grid.best_params_)\n",
    "\n",
    "# print how our model looks after hyper-parameter tuning\n",
    "print(svm_h1n1_grid.best_estimator_)\n",
    "\n",
    "# print best_score after hyper-parameter tuning\n",
    "print(svm_h1n1_grid.best_score_)"
   ]
  },
  {
   "cell_type": "code",
   "execution_count": 20,
   "metadata": {},
   "outputs": [
    {
     "data": {
      "text/html": [
       "<div>\n",
       "<style scoped>\n",
       "    .dataframe tbody tr th:only-of-type {\n",
       "        vertical-align: middle;\n",
       "    }\n",
       "\n",
       "    .dataframe tbody tr th {\n",
       "        vertical-align: top;\n",
       "    }\n",
       "\n",
       "    .dataframe thead th {\n",
       "        text-align: right;\n",
       "    }\n",
       "</style>\n",
       "<table border=\"1\" class=\"dataframe\">\n",
       "  <thead>\n",
       "    <tr style=\"text-align: right;\">\n",
       "      <th></th>\n",
       "      <th>estimator</th>\n",
       "      <th>target</th>\n",
       "      <th>params</th>\n",
       "      <th>score</th>\n",
       "    </tr>\n",
       "  </thead>\n",
       "  <tbody>\n",
       "    <tr>\n",
       "      <th>C</th>\n",
       "      <td>svm</td>\n",
       "      <td>h1n1</td>\n",
       "      <td>1</td>\n",
       "      <td>0.850106</td>\n",
       "    </tr>\n",
       "    <tr>\n",
       "      <th>gamma</th>\n",
       "      <td>svm</td>\n",
       "      <td>h1n1</td>\n",
       "      <td>0.01</td>\n",
       "      <td>0.850106</td>\n",
       "    </tr>\n",
       "    <tr>\n",
       "      <th>kernel</th>\n",
       "      <td>svm</td>\n",
       "      <td>h1n1</td>\n",
       "      <td>rbf</td>\n",
       "      <td>0.850106</td>\n",
       "    </tr>\n",
       "  </tbody>\n",
       "</table>\n",
       "</div>"
      ],
      "text/plain": [
       "       estimator target params     score\n",
       "C            svm   h1n1      1  0.850106\n",
       "gamma        svm   h1n1   0.01  0.850106\n",
       "kernel       svm   h1n1    rbf  0.850106"
      ]
     },
     "execution_count": 20,
     "metadata": {},
     "output_type": "execute_result"
    }
   ],
   "source": [
    "svm_params_result = pd.DataFrame({'estimator':'svm','target':'h1n1',\n",
    "                                  'params':svm_h1n1_grid.best_params_,\n",
    "                                  'score':svm_h1n1_grid.best_score_})\n",
    "params_result = pd.concat([params_result, svm_params_result])\n",
    "svm_params_result"
   ]
  },
  {
   "cell_type": "markdown",
   "metadata": {},
   "source": [
    "### Seasonal"
   ]
  },
  {
   "cell_type": "code",
   "execution_count": 21,
   "metadata": {
    "id": "JWK_6FLeTbln"
   },
   "outputs": [
    {
     "name": "stdout",
     "output_type": "stream",
     "text": [
      "Fitting 5 folds for each of 9 candidates, totalling 45 fits\n",
      "[CV 1/5] END ........C=0.1, gamma=1, kernel=rbf;, score=0.758 total time=  37.0s\n",
      "[CV 2/5] END ........C=0.1, gamma=1, kernel=rbf;, score=0.738 total time=  36.6s\n",
      "[CV 3/5] END ........C=0.1, gamma=1, kernel=rbf;, score=0.742 total time=  36.0s\n",
      "[CV 4/5] END ........C=0.1, gamma=1, kernel=rbf;, score=0.736 total time=  36.9s\n",
      "[CV 5/5] END ........C=0.1, gamma=1, kernel=rbf;, score=0.742 total time=  36.7s\n",
      "[CV 1/5] END ......C=0.1, gamma=0.1, kernel=rbf;, score=0.845 total time=  16.2s\n",
      "[CV 2/5] END ......C=0.1, gamma=0.1, kernel=rbf;, score=0.840 total time=  16.0s\n",
      "[CV 3/5] END ......C=0.1, gamma=0.1, kernel=rbf;, score=0.838 total time=  15.7s\n",
      "[CV 4/5] END ......C=0.1, gamma=0.1, kernel=rbf;, score=0.837 total time=  15.7s\n",
      "[CV 5/5] END ......C=0.1, gamma=0.1, kernel=rbf;, score=0.851 total time=  15.8s\n",
      "[CV 1/5] END .....C=0.1, gamma=0.01, kernel=rbf;, score=0.845 total time=  14.7s\n",
      "[CV 2/5] END .....C=0.1, gamma=0.01, kernel=rbf;, score=0.846 total time=  14.8s\n",
      "[CV 3/5] END .....C=0.1, gamma=0.01, kernel=rbf;, score=0.845 total time=  14.6s\n",
      "[CV 4/5] END .....C=0.1, gamma=0.01, kernel=rbf;, score=0.843 total time=  14.8s\n",
      "[CV 5/5] END .....C=0.1, gamma=0.01, kernel=rbf;, score=0.855 total time=  14.8s\n",
      "[CV 1/5] END ..........C=1, gamma=1, kernel=rbf;, score=0.758 total time=  44.3s\n",
      "[CV 2/5] END ..........C=1, gamma=1, kernel=rbf;, score=0.738 total time=  44.6s\n",
      "[CV 3/5] END ..........C=1, gamma=1, kernel=rbf;, score=0.742 total time=  44.9s\n",
      "[CV 4/5] END ..........C=1, gamma=1, kernel=rbf;, score=0.737 total time=  44.2s\n",
      "[CV 5/5] END ..........C=1, gamma=1, kernel=rbf;, score=0.742 total time=  45.0s\n",
      "[CV 1/5] END ........C=1, gamma=0.1, kernel=rbf;, score=0.848 total time=  16.5s\n",
      "[CV 2/5] END ........C=1, gamma=0.1, kernel=rbf;, score=0.840 total time=  16.4s\n",
      "[CV 3/5] END ........C=1, gamma=0.1, kernel=rbf;, score=0.836 total time=  16.1s\n",
      "[CV 4/5] END ........C=1, gamma=0.1, kernel=rbf;, score=0.840 total time=  16.5s\n",
      "[CV 5/5] END ........C=1, gamma=0.1, kernel=rbf;, score=0.849 total time=  16.4s\n",
      "[CV 1/5] END .......C=1, gamma=0.01, kernel=rbf;, score=0.855 total time=  13.7s\n",
      "[CV 2/5] END .......C=1, gamma=0.01, kernel=rbf;, score=0.853 total time=  13.1s\n",
      "[CV 3/5] END .......C=1, gamma=0.01, kernel=rbf;, score=0.849 total time=  13.1s\n",
      "[CV 4/5] END .......C=1, gamma=0.01, kernel=rbf;, score=0.851 total time=  13.8s\n",
      "[CV 5/5] END .......C=1, gamma=0.01, kernel=rbf;, score=0.860 total time=  13.7s\n",
      "[CV 1/5] END .........C=10, gamma=1, kernel=rbf;, score=0.758 total time= 1.2min\n",
      "[CV 2/5] END .........C=10, gamma=1, kernel=rbf;, score=0.737 total time= 1.1min\n",
      "[CV 3/5] END .........C=10, gamma=1, kernel=rbf;, score=0.741 total time= 1.1min\n",
      "[CV 4/5] END .........C=10, gamma=1, kernel=rbf;, score=0.738 total time= 1.2min\n",
      "[CV 5/5] END .........C=10, gamma=1, kernel=rbf;, score=0.742 total time= 1.1min\n",
      "[CV 1/5] END .......C=10, gamma=0.1, kernel=rbf;, score=0.809 total time= 1.0min\n",
      "[CV 2/5] END .......C=10, gamma=0.1, kernel=rbf;, score=0.803 total time= 1.0min\n",
      "[CV 3/5] END .......C=10, gamma=0.1, kernel=rbf;, score=0.793 total time= 1.0min\n",
      "[CV 4/5] END .......C=10, gamma=0.1, kernel=rbf;, score=0.796 total time= 1.0min\n",
      "[CV 5/5] END .......C=10, gamma=0.1, kernel=rbf;, score=0.796 total time= 1.0min\n",
      "[CV 1/5] END ......C=10, gamma=0.01, kernel=rbf;, score=0.854 total time=  14.8s\n",
      "[CV 2/5] END ......C=10, gamma=0.01, kernel=rbf;, score=0.852 total time=  14.6s\n",
      "[CV 3/5] END ......C=10, gamma=0.01, kernel=rbf;, score=0.846 total time=  14.4s\n",
      "[CV 4/5] END ......C=10, gamma=0.01, kernel=rbf;, score=0.849 total time=  14.6s\n",
      "[CV 5/5] END ......C=10, gamma=0.01, kernel=rbf;, score=0.859 total time=  14.5s\n",
      "{'C': 1, 'gamma': 0.01, 'kernel': 'rbf'}\n",
      "SVC(C=1, gamma=0.01)\n"
     ]
    }
   ],
   "source": [
    "# defining parameter range\n",
    "param_grid = {'C': [0.1, 1, 10],\n",
    "              'gamma': [1, 0.1, 0.01],\n",
    "              'kernel': ['rbf']}\n",
    "\n",
    "svm_seasonal_grid = GridSearchCV(SVC(), param_grid, refit = True, scoring=\"roc_auc\", verbose = 3)\n",
    "\n",
    "# fitting the model for grid search\n",
    "svm_seasonal_grid.fit(X_train, y_train_seasonal)\n",
    "\n",
    "# print best parameter after tuning\n",
    "print(svm_seasonal_grid.best_params_)\n",
    "\n",
    "# print how our model looks after hyper-parameter tuning\n",
    "print(svm_seasonal_grid.best_estimator_)"
   ]
  },
  {
   "cell_type": "code",
   "execution_count": 22,
   "metadata": {},
   "outputs": [
    {
     "data": {
      "text/html": [
       "<div>\n",
       "<style scoped>\n",
       "    .dataframe tbody tr th:only-of-type {\n",
       "        vertical-align: middle;\n",
       "    }\n",
       "\n",
       "    .dataframe tbody tr th {\n",
       "        vertical-align: top;\n",
       "    }\n",
       "\n",
       "    .dataframe thead th {\n",
       "        text-align: right;\n",
       "    }\n",
       "</style>\n",
       "<table border=\"1\" class=\"dataframe\">\n",
       "  <thead>\n",
       "    <tr style=\"text-align: right;\">\n",
       "      <th></th>\n",
       "      <th>estimator</th>\n",
       "      <th>target</th>\n",
       "      <th>params</th>\n",
       "      <th>score</th>\n",
       "    </tr>\n",
       "  </thead>\n",
       "  <tbody>\n",
       "    <tr>\n",
       "      <th>C</th>\n",
       "      <td>svm</td>\n",
       "      <td>seasonal</td>\n",
       "      <td>1</td>\n",
       "      <td>0.853812</td>\n",
       "    </tr>\n",
       "    <tr>\n",
       "      <th>gamma</th>\n",
       "      <td>svm</td>\n",
       "      <td>seasonal</td>\n",
       "      <td>0.01</td>\n",
       "      <td>0.853812</td>\n",
       "    </tr>\n",
       "    <tr>\n",
       "      <th>kernel</th>\n",
       "      <td>svm</td>\n",
       "      <td>seasonal</td>\n",
       "      <td>rbf</td>\n",
       "      <td>0.853812</td>\n",
       "    </tr>\n",
       "  </tbody>\n",
       "</table>\n",
       "</div>"
      ],
      "text/plain": [
       "       estimator    target params     score\n",
       "C            svm  seasonal      1  0.853812\n",
       "gamma        svm  seasonal   0.01  0.853812\n",
       "kernel       svm  seasonal    rbf  0.853812"
      ]
     },
     "execution_count": 22,
     "metadata": {},
     "output_type": "execute_result"
    }
   ],
   "source": [
    "svm_params_result = pd.DataFrame({'estimator':'svm','target':'seasonal',\n",
    "                                  'params':svm_seasonal_grid.best_params_,\n",
    "                                  'score':svm_seasonal_grid.best_score_})\n",
    "params_result = pd.concat([params_result, svm_params_result])\n",
    "svm_params_result"
   ]
  },
  {
   "cell_type": "markdown",
   "metadata": {},
   "source": [
    "## DecisionTreeClassifier"
   ]
  },
  {
   "cell_type": "markdown",
   "metadata": {},
   "source": [
    "### H1N1"
   ]
  },
  {
   "cell_type": "code",
   "execution_count": 23,
   "metadata": {},
   "outputs": [
    {
     "name": "stdout",
     "output_type": "stream",
     "text": [
      "Fitting 5 folds for each of 90 candidates, totalling 450 fits\n",
      "DecisionTreeClassifier(ccp_alpha=0.001, criterion='entropy', max_depth=7,\n",
      "                       max_features='auto', random_state=42)\n"
     ]
    }
   ],
   "source": [
    "param_grid = {\n",
    "    'max_features': ['auto', 'sqrt', 'log2'],\n",
    "    'ccp_alpha': [0.1, .01, .001],\n",
    "    'max_depth' : [5, 6, 7, 8, 9],\n",
    "    'criterion' :['gini', 'entropy']\n",
    "}\n",
    "\n",
    "dt = DecisionTreeClassifier(random_state=RANDOM_SEED)\n",
    "dt_h1n1_grid = GridSearchCV(dt, param_grid, cv=5, scoring=\"roc_auc\", verbose=1, n_jobs=-1)\n",
    "dt_h1n1_grid.fit(X_train, y_train_h1n1)\n",
    "\n",
    "print(dt_h1n1_grid.best_estimator_)"
   ]
  },
  {
   "cell_type": "code",
   "execution_count": 24,
   "metadata": {},
   "outputs": [
    {
     "data": {
      "text/html": [
       "<div>\n",
       "<style scoped>\n",
       "    .dataframe tbody tr th:only-of-type {\n",
       "        vertical-align: middle;\n",
       "    }\n",
       "\n",
       "    .dataframe tbody tr th {\n",
       "        vertical-align: top;\n",
       "    }\n",
       "\n",
       "    .dataframe thead th {\n",
       "        text-align: right;\n",
       "    }\n",
       "</style>\n",
       "<table border=\"1\" class=\"dataframe\">\n",
       "  <thead>\n",
       "    <tr style=\"text-align: right;\">\n",
       "      <th></th>\n",
       "      <th>estimator</th>\n",
       "      <th>target</th>\n",
       "      <th>params</th>\n",
       "      <th>score</th>\n",
       "    </tr>\n",
       "  </thead>\n",
       "  <tbody>\n",
       "    <tr>\n",
       "      <th>ccp_alpha</th>\n",
       "      <td>dt</td>\n",
       "      <td>h1n1</td>\n",
       "      <td>0.001</td>\n",
       "      <td>0.803148</td>\n",
       "    </tr>\n",
       "    <tr>\n",
       "      <th>criterion</th>\n",
       "      <td>dt</td>\n",
       "      <td>h1n1</td>\n",
       "      <td>entropy</td>\n",
       "      <td>0.803148</td>\n",
       "    </tr>\n",
       "    <tr>\n",
       "      <th>max_depth</th>\n",
       "      <td>dt</td>\n",
       "      <td>h1n1</td>\n",
       "      <td>7</td>\n",
       "      <td>0.803148</td>\n",
       "    </tr>\n",
       "    <tr>\n",
       "      <th>max_features</th>\n",
       "      <td>dt</td>\n",
       "      <td>h1n1</td>\n",
       "      <td>auto</td>\n",
       "      <td>0.803148</td>\n",
       "    </tr>\n",
       "  </tbody>\n",
       "</table>\n",
       "</div>"
      ],
      "text/plain": [
       "             estimator target   params     score\n",
       "ccp_alpha           dt   h1n1    0.001  0.803148\n",
       "criterion           dt   h1n1  entropy  0.803148\n",
       "max_depth           dt   h1n1        7  0.803148\n",
       "max_features        dt   h1n1     auto  0.803148"
      ]
     },
     "execution_count": 24,
     "metadata": {},
     "output_type": "execute_result"
    }
   ],
   "source": [
    "df_params_result = pd.DataFrame({'estimator':'dt','target':'h1n1',\n",
    "                                 'params':dt_h1n1_grid.best_params_,\n",
    "                                 'score':dt_h1n1_grid.best_score_})\n",
    "params_result = pd.concat([params_result, df_params_result])\n",
    "df_params_result"
   ]
  },
  {
   "cell_type": "markdown",
   "metadata": {},
   "source": [
    "### Seasonal"
   ]
  },
  {
   "cell_type": "code",
   "execution_count": 25,
   "metadata": {},
   "outputs": [
    {
     "name": "stdout",
     "output_type": "stream",
     "text": [
      "Fitting 5 folds for each of 90 candidates, totalling 450 fits\n",
      "DecisionTreeClassifier(ccp_alpha=0.001, criterion='entropy', max_depth=9,\n",
      "                       max_features='auto', random_state=42)\n"
     ]
    }
   ],
   "source": [
    "param_grid = {\n",
    "    'max_features': ['auto', 'sqrt', 'log2'],\n",
    "    'ccp_alpha': [0.1, .01, .001],\n",
    "    'max_depth' : [5, 6, 7, 8, 9],\n",
    "    'criterion' :['gini', 'entropy']\n",
    "}\n",
    "\n",
    "dt = DecisionTreeClassifier(random_state=RANDOM_SEED)\n",
    "dt_seasonal_grid = GridSearchCV(dt, param_grid, cv=5, scoring=\"roc_auc\", verbose=1, n_jobs=-1)\n",
    "dt_seasonal_grid.fit(X_train, y_train_seasonal)\n",
    "\n",
    "print(dt_seasonal_grid.best_estimator_)"
   ]
  },
  {
   "cell_type": "code",
   "execution_count": 26,
   "metadata": {},
   "outputs": [
    {
     "data": {
      "text/html": [
       "<div>\n",
       "<style scoped>\n",
       "    .dataframe tbody tr th:only-of-type {\n",
       "        vertical-align: middle;\n",
       "    }\n",
       "\n",
       "    .dataframe tbody tr th {\n",
       "        vertical-align: top;\n",
       "    }\n",
       "\n",
       "    .dataframe thead th {\n",
       "        text-align: right;\n",
       "    }\n",
       "</style>\n",
       "<table border=\"1\" class=\"dataframe\">\n",
       "  <thead>\n",
       "    <tr style=\"text-align: right;\">\n",
       "      <th></th>\n",
       "      <th>estimator</th>\n",
       "      <th>target</th>\n",
       "      <th>params</th>\n",
       "      <th>score</th>\n",
       "    </tr>\n",
       "  </thead>\n",
       "  <tbody>\n",
       "    <tr>\n",
       "      <th>ccp_alpha</th>\n",
       "      <td>dt</td>\n",
       "      <td>seasonal</td>\n",
       "      <td>0.001</td>\n",
       "      <td>0.788398</td>\n",
       "    </tr>\n",
       "    <tr>\n",
       "      <th>criterion</th>\n",
       "      <td>dt</td>\n",
       "      <td>seasonal</td>\n",
       "      <td>entropy</td>\n",
       "      <td>0.788398</td>\n",
       "    </tr>\n",
       "    <tr>\n",
       "      <th>max_depth</th>\n",
       "      <td>dt</td>\n",
       "      <td>seasonal</td>\n",
       "      <td>9</td>\n",
       "      <td>0.788398</td>\n",
       "    </tr>\n",
       "    <tr>\n",
       "      <th>max_features</th>\n",
       "      <td>dt</td>\n",
       "      <td>seasonal</td>\n",
       "      <td>auto</td>\n",
       "      <td>0.788398</td>\n",
       "    </tr>\n",
       "  </tbody>\n",
       "</table>\n",
       "</div>"
      ],
      "text/plain": [
       "             estimator    target   params     score\n",
       "ccp_alpha           dt  seasonal    0.001  0.788398\n",
       "criterion           dt  seasonal  entropy  0.788398\n",
       "max_depth           dt  seasonal        9  0.788398\n",
       "max_features        dt  seasonal     auto  0.788398"
      ]
     },
     "execution_count": 26,
     "metadata": {},
     "output_type": "execute_result"
    }
   ],
   "source": [
    "df_params_result = pd.DataFrame({'estimator':'dt','target':'seasonal',\n",
    "                                 'params':dt_seasonal_grid.best_params_,\n",
    "                                 'score':dt_seasonal_grid.best_score_})\n",
    "params_result = pd.concat([params_result, df_params_result])\n",
    "df_params_result"
   ]
  },
  {
   "cell_type": "markdown",
   "metadata": {},
   "source": [
    "## KNeighbors"
   ]
  },
  {
   "cell_type": "markdown",
   "metadata": {},
   "source": [
    "### H1N1"
   ]
  },
  {
   "cell_type": "code",
   "execution_count": 27,
   "metadata": {},
   "outputs": [
    {
     "name": "stdout",
     "output_type": "stream",
     "text": [
      "Fitting 5 folds for each of 30 candidates, totalling 150 fits\n",
      "KNeighborsClassifier(n_neighbors=30)\n"
     ]
    }
   ],
   "source": [
    "param_grid = {\n",
    "    'n_neighbors': list(range(1, 31))\n",
    "}\n",
    "\n",
    "kn = KNeighborsClassifier()\n",
    "kn_h1n1_grid = GridSearchCV(kn, param_grid, cv=5, scoring=\"roc_auc\", verbose=1, n_jobs=-1)\n",
    "kn_h1n1_grid.fit(X_train, y_train_h1n1.values.ravel())\n",
    "\n",
    "print(kn_h1n1_grid.best_estimator_)"
   ]
  },
  {
   "cell_type": "code",
   "execution_count": 28,
   "metadata": {},
   "outputs": [
    {
     "data": {
      "text/html": [
       "<div>\n",
       "<style scoped>\n",
       "    .dataframe tbody tr th:only-of-type {\n",
       "        vertical-align: middle;\n",
       "    }\n",
       "\n",
       "    .dataframe tbody tr th {\n",
       "        vertical-align: top;\n",
       "    }\n",
       "\n",
       "    .dataframe thead th {\n",
       "        text-align: right;\n",
       "    }\n",
       "</style>\n",
       "<table border=\"1\" class=\"dataframe\">\n",
       "  <thead>\n",
       "    <tr style=\"text-align: right;\">\n",
       "      <th></th>\n",
       "      <th>estimator</th>\n",
       "      <th>target</th>\n",
       "      <th>params</th>\n",
       "      <th>score</th>\n",
       "    </tr>\n",
       "  </thead>\n",
       "  <tbody>\n",
       "    <tr>\n",
       "      <th>n_neighbors</th>\n",
       "      <td>kn</td>\n",
       "      <td>h1n1</td>\n",
       "      <td>30</td>\n",
       "      <td>0.801494</td>\n",
       "    </tr>\n",
       "  </tbody>\n",
       "</table>\n",
       "</div>"
      ],
      "text/plain": [
       "            estimator target  params     score\n",
       "n_neighbors        kn   h1n1      30  0.801494"
      ]
     },
     "execution_count": 28,
     "metadata": {},
     "output_type": "execute_result"
    }
   ],
   "source": [
    "kn_params_result = pd.DataFrame({'estimator':'kn','target':'h1n1',\n",
    "                                 'params':kn_h1n1_grid.best_params_,\n",
    "                                 'score':kn_h1n1_grid.best_score_})\n",
    "params_result = pd.concat([params_result, kn_params_result])\n",
    "kn_params_result"
   ]
  },
  {
   "cell_type": "markdown",
   "metadata": {},
   "source": [
    "### Seasonal"
   ]
  },
  {
   "cell_type": "code",
   "execution_count": 350,
   "metadata": {},
   "outputs": [
    {
     "name": "stdout",
     "output_type": "stream",
     "text": [
      "Fitting 5 folds for each of 30 candidates, totalling 150 fits\n",
      "KNeighborsClassifier(n_neighbors=30)\n"
     ]
    }
   ],
   "source": [
    "param_grid = {\n",
    "    'n_neighbors': list(range(1, 31))\n",
    "}\n",
    "\n",
    "kn = KNeighborsClassifier()\n",
    "kn_seasonal_grid = GridSearchCV(kn, param_grid, cv=5, scoring=\"roc_auc\", verbose=1, n_jobs=-1)\n",
    "kn_seasonal_grid.fit(X_train, y_train_seasonal.values.ravel())\n",
    "\n",
    "print(kn_seasonal_grid.best_estimator_)"
   ]
  },
  {
   "cell_type": "code",
   "execution_count": 351,
   "metadata": {},
   "outputs": [
    {
     "data": {
      "text/html": [
       "<div>\n",
       "<style scoped>\n",
       "    .dataframe tbody tr th:only-of-type {\n",
       "        vertical-align: middle;\n",
       "    }\n",
       "\n",
       "    .dataframe tbody tr th {\n",
       "        vertical-align: top;\n",
       "    }\n",
       "\n",
       "    .dataframe thead th {\n",
       "        text-align: right;\n",
       "    }\n",
       "</style>\n",
       "<table border=\"1\" class=\"dataframe\">\n",
       "  <thead>\n",
       "    <tr style=\"text-align: right;\">\n",
       "      <th></th>\n",
       "      <th>estimator</th>\n",
       "      <th>target</th>\n",
       "      <th>params</th>\n",
       "      <th>score</th>\n",
       "    </tr>\n",
       "  </thead>\n",
       "  <tbody>\n",
       "    <tr>\n",
       "      <th>n_neighbors</th>\n",
       "      <td>kn</td>\n",
       "      <td>seasonal</td>\n",
       "      <td>30</td>\n",
       "      <td>0.823578</td>\n",
       "    </tr>\n",
       "  </tbody>\n",
       "</table>\n",
       "</div>"
      ],
      "text/plain": [
       "            estimator    target  params     score\n",
       "n_neighbors        kn  seasonal      30  0.823578"
      ]
     },
     "execution_count": 351,
     "metadata": {},
     "output_type": "execute_result"
    }
   ],
   "source": [
    "kn_params_result = pd.DataFrame({'estimator':'kn','target':'seasonal',\n",
    "                                 'params':kn_seasonal_grid.best_params_,\n",
    "                                 'score':kn_seasonal_grid.best_score_})\n",
    "params_result = pd.concat([params_result, kn_params_result])\n",
    "kn_params_result"
   ]
  },
  {
   "cell_type": "markdown",
   "metadata": {},
   "source": [
    "## RandomForest"
   ]
  },
  {
   "cell_type": "markdown",
   "metadata": {},
   "source": [
    "### H1N1"
   ]
  },
  {
   "cell_type": "code",
   "execution_count": 31,
   "metadata": {},
   "outputs": [
    {
     "name": "stdout",
     "output_type": "stream",
     "text": [
      "Fitting 5 folds for each of 60 candidates, totalling 300 fits\n",
      "RandomForestClassifier(criterion='entropy', max_depth=8, n_estimators=500,\n",
      "                       random_state=42)\n"
     ]
    }
   ],
   "source": [
    "param_grid = {\n",
    "    'n_estimators': [200, 500],\n",
    "    'max_features': ['auto', 'sqrt', 'log2'],\n",
    "    'max_depth': [4, 5, 6, 7, 8],\n",
    "    'criterion': ['gini', 'entropy']\n",
    "}\n",
    "\n",
    "rf = RandomForestClassifier(random_state=RANDOM_SEED)\n",
    "rf_h1n1_grid = GridSearchCV(rf, param_grid, cv=5, scoring=\"roc_auc\", verbose=1, n_jobs=-1)\n",
    "rf_h1n1_grid.fit(X_train, y_train_h1n1.values.ravel())\n",
    "\n",
    "print(rf_h1n1_grid.best_estimator_)"
   ]
  },
  {
   "cell_type": "code",
   "execution_count": 32,
   "metadata": {},
   "outputs": [
    {
     "data": {
      "text/html": [
       "<div>\n",
       "<style scoped>\n",
       "    .dataframe tbody tr th:only-of-type {\n",
       "        vertical-align: middle;\n",
       "    }\n",
       "\n",
       "    .dataframe tbody tr th {\n",
       "        vertical-align: top;\n",
       "    }\n",
       "\n",
       "    .dataframe thead th {\n",
       "        text-align: right;\n",
       "    }\n",
       "</style>\n",
       "<table border=\"1\" class=\"dataframe\">\n",
       "  <thead>\n",
       "    <tr style=\"text-align: right;\">\n",
       "      <th></th>\n",
       "      <th>estimator</th>\n",
       "      <th>target</th>\n",
       "      <th>params</th>\n",
       "      <th>score</th>\n",
       "    </tr>\n",
       "  </thead>\n",
       "  <tbody>\n",
       "    <tr>\n",
       "      <th>criterion</th>\n",
       "      <td>rf</td>\n",
       "      <td>h1n1</td>\n",
       "      <td>entropy</td>\n",
       "      <td>0.850748</td>\n",
       "    </tr>\n",
       "    <tr>\n",
       "      <th>max_depth</th>\n",
       "      <td>rf</td>\n",
       "      <td>h1n1</td>\n",
       "      <td>8</td>\n",
       "      <td>0.850748</td>\n",
       "    </tr>\n",
       "    <tr>\n",
       "      <th>max_features</th>\n",
       "      <td>rf</td>\n",
       "      <td>h1n1</td>\n",
       "      <td>auto</td>\n",
       "      <td>0.850748</td>\n",
       "    </tr>\n",
       "    <tr>\n",
       "      <th>n_estimators</th>\n",
       "      <td>rf</td>\n",
       "      <td>h1n1</td>\n",
       "      <td>500</td>\n",
       "      <td>0.850748</td>\n",
       "    </tr>\n",
       "  </tbody>\n",
       "</table>\n",
       "</div>"
      ],
      "text/plain": [
       "             estimator target   params     score\n",
       "criterion           rf   h1n1  entropy  0.850748\n",
       "max_depth           rf   h1n1        8  0.850748\n",
       "max_features        rf   h1n1     auto  0.850748\n",
       "n_estimators        rf   h1n1      500  0.850748"
      ]
     },
     "execution_count": 32,
     "metadata": {},
     "output_type": "execute_result"
    }
   ],
   "source": [
    "rf_params_result = pd.DataFrame({'estimator':'rf','target':'h1n1',\n",
    "                                 'params':rf_h1n1_grid.best_params_,\n",
    "                                 'score':rf_h1n1_grid.best_score_})\n",
    "params_result = pd.concat([params_result, rf_params_result])\n",
    "rf_params_result"
   ]
  },
  {
   "cell_type": "markdown",
   "metadata": {},
   "source": [
    "### Seasonal"
   ]
  },
  {
   "cell_type": "code",
   "execution_count": 33,
   "metadata": {},
   "outputs": [
    {
     "name": "stdout",
     "output_type": "stream",
     "text": [
      "Fitting 5 folds for each of 60 candidates, totalling 300 fits\n",
      "RandomForestClassifier(criterion='entropy', max_depth=8, n_estimators=500,\n",
      "                       random_state=42)\n"
     ]
    }
   ],
   "source": [
    "param_grid = {\n",
    "    'n_estimators': [200, 500],\n",
    "    'max_features': ['auto', 'sqrt', 'log2'],\n",
    "    'max_depth': [4, 5, 6, 7, 8],\n",
    "    'criterion': ['gini', 'entropy']\n",
    "}\n",
    "\n",
    "rf = RandomForestClassifier(random_state=RANDOM_SEED)\n",
    "rf_seasonal_grid = GridSearchCV(rf, param_grid, cv=5, scoring=\"roc_auc\", verbose=1, n_jobs=-1)\n",
    "rf_seasonal_grid.fit(X_train, y_train_seasonal.values.ravel())\n",
    "\n",
    "print(rf_seasonal_grid.best_estimator_)"
   ]
  },
  {
   "cell_type": "code",
   "execution_count": 34,
   "metadata": {},
   "outputs": [
    {
     "data": {
      "text/html": [
       "<div>\n",
       "<style scoped>\n",
       "    .dataframe tbody tr th:only-of-type {\n",
       "        vertical-align: middle;\n",
       "    }\n",
       "\n",
       "    .dataframe tbody tr th {\n",
       "        vertical-align: top;\n",
       "    }\n",
       "\n",
       "    .dataframe thead th {\n",
       "        text-align: right;\n",
       "    }\n",
       "</style>\n",
       "<table border=\"1\" class=\"dataframe\">\n",
       "  <thead>\n",
       "    <tr style=\"text-align: right;\">\n",
       "      <th></th>\n",
       "      <th>estimator</th>\n",
       "      <th>target</th>\n",
       "      <th>params</th>\n",
       "      <th>score</th>\n",
       "    </tr>\n",
       "  </thead>\n",
       "  <tbody>\n",
       "    <tr>\n",
       "      <th>criterion</th>\n",
       "      <td>rf</td>\n",
       "      <td>seasonal</td>\n",
       "      <td>entropy</td>\n",
       "      <td>0.848905</td>\n",
       "    </tr>\n",
       "    <tr>\n",
       "      <th>max_depth</th>\n",
       "      <td>rf</td>\n",
       "      <td>seasonal</td>\n",
       "      <td>8</td>\n",
       "      <td>0.848905</td>\n",
       "    </tr>\n",
       "    <tr>\n",
       "      <th>max_features</th>\n",
       "      <td>rf</td>\n",
       "      <td>seasonal</td>\n",
       "      <td>auto</td>\n",
       "      <td>0.848905</td>\n",
       "    </tr>\n",
       "    <tr>\n",
       "      <th>n_estimators</th>\n",
       "      <td>rf</td>\n",
       "      <td>seasonal</td>\n",
       "      <td>500</td>\n",
       "      <td>0.848905</td>\n",
       "    </tr>\n",
       "  </tbody>\n",
       "</table>\n",
       "</div>"
      ],
      "text/plain": [
       "             estimator    target   params     score\n",
       "criterion           rf  seasonal  entropy  0.848905\n",
       "max_depth           rf  seasonal        8  0.848905\n",
       "max_features        rf  seasonal     auto  0.848905\n",
       "n_estimators        rf  seasonal      500  0.848905"
      ]
     },
     "execution_count": 34,
     "metadata": {},
     "output_type": "execute_result"
    }
   ],
   "source": [
    "rf_params_result = pd.DataFrame({'estimator':'rf','target':'seasonal',\n",
    "                                 'params':rf_seasonal_grid.best_params_,\n",
    "                                 'score':rf_seasonal_grid.best_score_})\n",
    "params_result = pd.concat([params_result, rf_params_result])\n",
    "rf_params_result"
   ]
  },
  {
   "cell_type": "markdown",
   "metadata": {},
   "source": [
    "# 3. Training models"
   ]
  },
  {
   "cell_type": "markdown",
   "metadata": {},
   "source": [
    "**Mejor algoritmo H1N1:**\n",
    "\n",
    "* LogisticRegression\n",
    "* RandomForest\n",
    "* SVM\n",
    "\n",
    "**Mejor algoritmo Seasonal:**\n",
    "\n",
    "* SVM\n",
    "* LogisticRegression\n",
    "* K-Neighbors"
   ]
  },
  {
   "cell_type": "code",
   "execution_count": 35,
   "metadata": {},
   "outputs": [
    {
     "data": {
      "text/html": [
       "<div>\n",
       "<style scoped>\n",
       "    .dataframe tbody tr th:only-of-type {\n",
       "        vertical-align: middle;\n",
       "    }\n",
       "\n",
       "    .dataframe tbody tr th {\n",
       "        vertical-align: top;\n",
       "    }\n",
       "\n",
       "    .dataframe thead th {\n",
       "        text-align: right;\n",
       "    }\n",
       "</style>\n",
       "<table border=\"1\" class=\"dataframe\">\n",
       "  <thead>\n",
       "    <tr style=\"text-align: right;\">\n",
       "      <th></th>\n",
       "      <th>estimator</th>\n",
       "      <th>target</th>\n",
       "      <th>params</th>\n",
       "      <th>score</th>\n",
       "    </tr>\n",
       "  </thead>\n",
       "  <tbody>\n",
       "    <tr>\n",
       "      <th>multi_class</th>\n",
       "      <td>lr</td>\n",
       "      <td>h1n1</td>\n",
       "      <td>multinomial</td>\n",
       "      <td>0.852310</td>\n",
       "    </tr>\n",
       "    <tr>\n",
       "      <th>penalty</th>\n",
       "      <td>lr</td>\n",
       "      <td>h1n1</td>\n",
       "      <td>l1</td>\n",
       "      <td>0.852310</td>\n",
       "    </tr>\n",
       "    <tr>\n",
       "      <th>solver</th>\n",
       "      <td>lr</td>\n",
       "      <td>h1n1</td>\n",
       "      <td>saga</td>\n",
       "      <td>0.852310</td>\n",
       "    </tr>\n",
       "    <tr>\n",
       "      <th>C</th>\n",
       "      <td>lr</td>\n",
       "      <td>h1n1</td>\n",
       "      <td>0.5</td>\n",
       "      <td>0.852310</td>\n",
       "    </tr>\n",
       "    <tr>\n",
       "      <th>n_estimators</th>\n",
       "      <td>rf</td>\n",
       "      <td>h1n1</td>\n",
       "      <td>500</td>\n",
       "      <td>0.850748</td>\n",
       "    </tr>\n",
       "    <tr>\n",
       "      <th>criterion</th>\n",
       "      <td>rf</td>\n",
       "      <td>h1n1</td>\n",
       "      <td>entropy</td>\n",
       "      <td>0.850748</td>\n",
       "    </tr>\n",
       "    <tr>\n",
       "      <th>max_features</th>\n",
       "      <td>rf</td>\n",
       "      <td>h1n1</td>\n",
       "      <td>auto</td>\n",
       "      <td>0.850748</td>\n",
       "    </tr>\n",
       "    <tr>\n",
       "      <th>max_depth</th>\n",
       "      <td>rf</td>\n",
       "      <td>h1n1</td>\n",
       "      <td>8</td>\n",
       "      <td>0.850748</td>\n",
       "    </tr>\n",
       "    <tr>\n",
       "      <th>C</th>\n",
       "      <td>svm</td>\n",
       "      <td>h1n1</td>\n",
       "      <td>1</td>\n",
       "      <td>0.850106</td>\n",
       "    </tr>\n",
       "    <tr>\n",
       "      <th>gamma</th>\n",
       "      <td>svm</td>\n",
       "      <td>h1n1</td>\n",
       "      <td>0.01</td>\n",
       "      <td>0.850106</td>\n",
       "    </tr>\n",
       "    <tr>\n",
       "      <th>kernel</th>\n",
       "      <td>svm</td>\n",
       "      <td>h1n1</td>\n",
       "      <td>rbf</td>\n",
       "      <td>0.850106</td>\n",
       "    </tr>\n",
       "    <tr>\n",
       "      <th>var_smoothing</th>\n",
       "      <td>naive</td>\n",
       "      <td>h1n1</td>\n",
       "      <td>0.02848</td>\n",
       "      <td>0.808018</td>\n",
       "    </tr>\n",
       "    <tr>\n",
       "      <th>max_features</th>\n",
       "      <td>dt</td>\n",
       "      <td>h1n1</td>\n",
       "      <td>auto</td>\n",
       "      <td>0.803148</td>\n",
       "    </tr>\n",
       "    <tr>\n",
       "      <th>max_depth</th>\n",
       "      <td>dt</td>\n",
       "      <td>h1n1</td>\n",
       "      <td>7</td>\n",
       "      <td>0.803148</td>\n",
       "    </tr>\n",
       "    <tr>\n",
       "      <th>criterion</th>\n",
       "      <td>dt</td>\n",
       "      <td>h1n1</td>\n",
       "      <td>entropy</td>\n",
       "      <td>0.803148</td>\n",
       "    </tr>\n",
       "    <tr>\n",
       "      <th>ccp_alpha</th>\n",
       "      <td>dt</td>\n",
       "      <td>h1n1</td>\n",
       "      <td>0.001</td>\n",
       "      <td>0.803148</td>\n",
       "    </tr>\n",
       "    <tr>\n",
       "      <th>n_neighbors</th>\n",
       "      <td>kn</td>\n",
       "      <td>h1n1</td>\n",
       "      <td>30</td>\n",
       "      <td>0.801494</td>\n",
       "    </tr>\n",
       "  </tbody>\n",
       "</table>\n",
       "</div>"
      ],
      "text/plain": [
       "              estimator target       params     score\n",
       "multi_class          lr   h1n1  multinomial  0.852310\n",
       "penalty              lr   h1n1           l1  0.852310\n",
       "solver               lr   h1n1         saga  0.852310\n",
       "C                    lr   h1n1          0.5  0.852310\n",
       "n_estimators         rf   h1n1          500  0.850748\n",
       "criterion            rf   h1n1      entropy  0.850748\n",
       "max_features         rf   h1n1         auto  0.850748\n",
       "max_depth            rf   h1n1            8  0.850748\n",
       "C                   svm   h1n1            1  0.850106\n",
       "gamma               svm   h1n1         0.01  0.850106\n",
       "kernel              svm   h1n1          rbf  0.850106\n",
       "var_smoothing     naive   h1n1      0.02848  0.808018\n",
       "max_features         dt   h1n1         auto  0.803148\n",
       "max_depth            dt   h1n1            7  0.803148\n",
       "criterion            dt   h1n1      entropy  0.803148\n",
       "ccp_alpha            dt   h1n1        0.001  0.803148\n",
       "n_neighbors          kn   h1n1           30  0.801494"
      ]
     },
     "execution_count": 35,
     "metadata": {},
     "output_type": "execute_result"
    }
   ],
   "source": [
    "params_result[params_result['target'] == 'h1n1'].sort_values(by=\"score\", ascending=False)"
   ]
  },
  {
   "cell_type": "code",
   "execution_count": 352,
   "metadata": {},
   "outputs": [
    {
     "data": {
      "text/html": [
       "<div>\n",
       "<style scoped>\n",
       "    .dataframe tbody tr th:only-of-type {\n",
       "        vertical-align: middle;\n",
       "    }\n",
       "\n",
       "    .dataframe tbody tr th {\n",
       "        vertical-align: top;\n",
       "    }\n",
       "\n",
       "    .dataframe thead th {\n",
       "        text-align: right;\n",
       "    }\n",
       "</style>\n",
       "<table border=\"1\" class=\"dataframe\">\n",
       "  <thead>\n",
       "    <tr style=\"text-align: right;\">\n",
       "      <th></th>\n",
       "      <th>estimator</th>\n",
       "      <th>target</th>\n",
       "      <th>params</th>\n",
       "      <th>score</th>\n",
       "    </tr>\n",
       "  </thead>\n",
       "  <tbody>\n",
       "    <tr>\n",
       "      <th>C</th>\n",
       "      <td>svm</td>\n",
       "      <td>seasonal</td>\n",
       "      <td>1</td>\n",
       "      <td>0.853812</td>\n",
       "    </tr>\n",
       "    <tr>\n",
       "      <th>gamma</th>\n",
       "      <td>svm</td>\n",
       "      <td>seasonal</td>\n",
       "      <td>0.01</td>\n",
       "      <td>0.853812</td>\n",
       "    </tr>\n",
       "    <tr>\n",
       "      <th>kernel</th>\n",
       "      <td>svm</td>\n",
       "      <td>seasonal</td>\n",
       "      <td>rbf</td>\n",
       "      <td>0.853812</td>\n",
       "    </tr>\n",
       "    <tr>\n",
       "      <th>criterion</th>\n",
       "      <td>rf</td>\n",
       "      <td>seasonal</td>\n",
       "      <td>entropy</td>\n",
       "      <td>0.848905</td>\n",
       "    </tr>\n",
       "    <tr>\n",
       "      <th>n_estimators</th>\n",
       "      <td>rf</td>\n",
       "      <td>seasonal</td>\n",
       "      <td>500</td>\n",
       "      <td>0.848905</td>\n",
       "    </tr>\n",
       "    <tr>\n",
       "      <th>max_features</th>\n",
       "      <td>rf</td>\n",
       "      <td>seasonal</td>\n",
       "      <td>auto</td>\n",
       "      <td>0.848905</td>\n",
       "    </tr>\n",
       "    <tr>\n",
       "      <th>max_depth</th>\n",
       "      <td>rf</td>\n",
       "      <td>seasonal</td>\n",
       "      <td>8</td>\n",
       "      <td>0.848905</td>\n",
       "    </tr>\n",
       "    <tr>\n",
       "      <th>n_neighbors</th>\n",
       "      <td>kn</td>\n",
       "      <td>seasonal</td>\n",
       "      <td>30</td>\n",
       "      <td>0.823578</td>\n",
       "    </tr>\n",
       "    <tr>\n",
       "      <th>var_smoothing</th>\n",
       "      <td>naive</td>\n",
       "      <td>seasonal</td>\n",
       "      <td>0.053367</td>\n",
       "      <td>0.816904</td>\n",
       "    </tr>\n",
       "    <tr>\n",
       "      <th>criterion</th>\n",
       "      <td>dt</td>\n",
       "      <td>seasonal</td>\n",
       "      <td>entropy</td>\n",
       "      <td>0.788398</td>\n",
       "    </tr>\n",
       "    <tr>\n",
       "      <th>max_depth</th>\n",
       "      <td>dt</td>\n",
       "      <td>seasonal</td>\n",
       "      <td>9</td>\n",
       "      <td>0.788398</td>\n",
       "    </tr>\n",
       "    <tr>\n",
       "      <th>max_features</th>\n",
       "      <td>dt</td>\n",
       "      <td>seasonal</td>\n",
       "      <td>auto</td>\n",
       "      <td>0.788398</td>\n",
       "    </tr>\n",
       "    <tr>\n",
       "      <th>ccp_alpha</th>\n",
       "      <td>dt</td>\n",
       "      <td>seasonal</td>\n",
       "      <td>0.001</td>\n",
       "      <td>0.788398</td>\n",
       "    </tr>\n",
       "    <tr>\n",
       "      <th>C</th>\n",
       "      <td>lr</td>\n",
       "      <td>seasonal</td>\n",
       "      <td>0.5</td>\n",
       "      <td>0.774605</td>\n",
       "    </tr>\n",
       "    <tr>\n",
       "      <th>solver</th>\n",
       "      <td>lr</td>\n",
       "      <td>seasonal</td>\n",
       "      <td>saga</td>\n",
       "      <td>0.774605</td>\n",
       "    </tr>\n",
       "    <tr>\n",
       "      <th>penalty</th>\n",
       "      <td>lr</td>\n",
       "      <td>seasonal</td>\n",
       "      <td>l1</td>\n",
       "      <td>0.774605</td>\n",
       "    </tr>\n",
       "    <tr>\n",
       "      <th>multi_class</th>\n",
       "      <td>lr</td>\n",
       "      <td>seasonal</td>\n",
       "      <td>auto</td>\n",
       "      <td>0.774605</td>\n",
       "    </tr>\n",
       "  </tbody>\n",
       "</table>\n",
       "</div>"
      ],
      "text/plain": [
       "              estimator    target    params     score\n",
       "C                   svm  seasonal         1  0.853812\n",
       "gamma               svm  seasonal      0.01  0.853812\n",
       "kernel              svm  seasonal       rbf  0.853812\n",
       "criterion            rf  seasonal   entropy  0.848905\n",
       "n_estimators         rf  seasonal       500  0.848905\n",
       "max_features         rf  seasonal      auto  0.848905\n",
       "max_depth            rf  seasonal         8  0.848905\n",
       "n_neighbors          kn  seasonal        30  0.823578\n",
       "var_smoothing     naive  seasonal  0.053367  0.816904\n",
       "criterion            dt  seasonal   entropy  0.788398\n",
       "max_depth            dt  seasonal         9  0.788398\n",
       "max_features         dt  seasonal      auto  0.788398\n",
       "ccp_alpha            dt  seasonal     0.001  0.788398\n",
       "C                    lr  seasonal       0.5  0.774605\n",
       "solver               lr  seasonal      saga  0.774605\n",
       "penalty              lr  seasonal        l1  0.774605\n",
       "multi_class          lr  seasonal      auto  0.774605"
      ]
     },
     "execution_count": 352,
     "metadata": {},
     "output_type": "execute_result"
    }
   ],
   "source": [
    "params_result[params_result['target'] == 'seasonal'].sort_values(by=\"score\", ascending=False)"
   ]
  },
  {
   "cell_type": "code",
   "execution_count": 37,
   "metadata": {
    "colab": {
     "base_uri": "https://localhost:8080/"
    },
    "id": "Rjl2Lj35Jv9b",
    "outputId": "db5f122c-c7c5-41ac-df0e-3f0b61d6d9bb"
   },
   "outputs": [
    {
     "name": "stdout",
     "output_type": "stream",
     "text": [
      "['h1n1_concern' 'h1n1_knowledge' 'behavioral_antiviral_meds'\n",
      " 'behavioral_avoidance' 'behavioral_face_mask' 'behavioral_wash_hands'\n",
      " 'behavioral_large_gatherings' 'behavioral_outside_home'\n",
      " 'behavioral_touch_face' 'doctor_recc_h1n1' 'doctor_recc_seasonal'\n",
      " 'chronic_med_condition' 'child_under_6_months' 'health_worker'\n",
      " 'health_insurance' 'opinion_h1n1_vacc_effective' 'opinion_h1n1_risk'\n",
      " 'opinion_h1n1_sick_from_vacc' 'opinion_seas_vacc_effective'\n",
      " 'opinion_seas_risk' 'opinion_seas_sick_from_vacc' 'household_adults'\n",
      " 'household_children' 'age_group_0' 'age_group_1' 'age_group_2'\n",
      " 'age_group_3' 'age_group_4' 'education_0' 'education_1' 'education_2'\n",
      " 'education_3' 'race_0' 'race_1' 'race_2' 'race_3' 'sex_0' 'sex_1'\n",
      " 'marital_status_0' 'marital_status_1' 'rent_or_own_0' 'rent_or_own_1'\n",
      " 'employment_status_0' 'employment_status_1' 'employment_status_2'\n",
      " 'census_msa_0' 'census_msa_1' 'census_msa_2']\n"
     ]
    }
   ],
   "source": [
    "numeric_cols = features_df.columns[features_df.dtypes != \"object\"].values\n",
    "print(numeric_cols)"
   ]
  },
  {
   "cell_type": "code",
   "execution_count": 38,
   "metadata": {
    "id": "4IOqF5LIJWUC"
   },
   "outputs": [],
   "source": [
    "# chain preprocessing into a Pipeline object\n",
    "# each step is a tuple of (name you chose, sklearn transformer)\n",
    "numeric_preprocessing_steps = Pipeline([\n",
    "    ('standard_scaler', StandardScaler()),\n",
    "    ('simple_imputer', SimpleImputer(strategy='median'))\n",
    "])\n",
    "\n",
    "# create the preprocessor stage of final pipeline\n",
    "# each entry in the transformer list is a tuple of\n",
    "# (name you choose, sklearn transformer, list of columns)\n",
    "preprocessor = ColumnTransformer(\n",
    "    transformers = [\n",
    "        (\"numeric\", numeric_preprocessing_steps, numeric_cols)\n",
    "    ],\n",
    "    remainder = \"drop\"\n",
    ")"
   ]
  },
  {
   "cell_type": "markdown",
   "metadata": {},
   "source": [
    "## H1N1"
   ]
  },
  {
   "cell_type": "markdown",
   "metadata": {},
   "source": [
    "### Algoritmo 1: LogisticRegression"
   ]
  },
  {
   "cell_type": "code",
   "execution_count": 265,
   "metadata": {
    "colab": {
     "base_uri": "https://localhost:8080/",
     "height": 293
    },
    "id": "PZkCzCyPMb6f",
    "outputId": "ca159d78-995c-4e11-893a-0b664aed9f85"
   },
   "outputs": [
    {
     "data": {
      "text/plain": [
       "Pipeline(steps=[('preprocessor',\n",
       "                 ColumnTransformer(transformers=[('numeric',\n",
       "                                                  Pipeline(steps=[('standard_scaler',\n",
       "                                                                   StandardScaler()),\n",
       "                                                                  ('simple_imputer',\n",
       "                                                                   SimpleImputer(strategy='median'))]),\n",
       "                                                  array(['h1n1_concern', 'h1n1_knowledge', 'behavioral_antiviral_meds',\n",
       "       'behavioral_avoidance', 'behavioral_face_mask',\n",
       "       'behavioral_wash_hands', 'behavioral_large_gatherings',\n",
       "       '...\n",
       "       'education_2', 'education_3', 'race_0', 'race_1', 'race_2',\n",
       "       'race_3', 'sex_0', 'sex_1', 'marital_status_0', 'marital_status_1',\n",
       "       'rent_or_own_0', 'rent_or_own_1', 'employment_status_0',\n",
       "       'employment_status_1', 'employment_status_2', 'census_msa_0',\n",
       "       'census_msa_1', 'census_msa_2'], dtype=object))])),\n",
       "                ('estimator',\n",
       "                 LogisticRegression(C=0.5, multi_class='multinomial',\n",
       "                                    penalty='l1', solver='saga'))])"
      ]
     },
     "execution_count": 265,
     "metadata": {},
     "output_type": "execute_result"
    }
   ],
   "source": [
    "estimator_lr_h1n1 = LogisticRegression(C=0.5, solver='saga', multi_class='multinomial', penalty='l1')\n",
    "\n",
    "full_pipeline = Pipeline([\n",
    "    (\"preprocessor\", preprocessor),\n",
    "    (\"estimator\", estimator_lr_h1n1),\n",
    "])\n",
    "\n",
    "full_pipeline"
   ]
  },
  {
   "cell_type": "code",
   "execution_count": 266,
   "metadata": {
    "colab": {
     "base_uri": "https://localhost:8080/"
    },
    "id": "9dowNfn8KDDa",
    "outputId": "6b4d64a4-ffaf-4698-f1f3-60b00f9b77ff"
   },
   "outputs": [
    {
     "data": {
      "text/plain": [
       "array([[0.98770564, 0.01229436],\n",
       "       [0.53866783, 0.46133217],\n",
       "       [0.90066689, 0.09933311],\n",
       "       ...,\n",
       "       [0.97877608, 0.02122392],\n",
       "       [0.80615216, 0.19384784],\n",
       "       [0.62053549, 0.37946451]])"
      ]
     },
     "execution_count": 266,
     "metadata": {},
     "output_type": "execute_result"
    }
   ],
   "source": [
    "# Train model\n",
    "full_pipeline.fit(X_train, y_train_h1n1)\n",
    "\n",
    "# Predict on evaluation set\n",
    "preds_lr_h1n1 = full_pipeline.predict_proba(X_eval)\n",
    "preds_lr_h1n1"
   ]
  },
  {
   "cell_type": "code",
   "execution_count": 267,
   "metadata": {
    "colab": {
     "base_uri": "https://localhost:8080/"
    },
    "id": "Wn9WydwLLBQA",
    "outputId": "8c91b88f-f85c-4dcd-f627-effbcd68e051"
   },
   "outputs": [
    {
     "name": "stdout",
     "output_type": "stream",
     "text": [
      "Accuracy:     0.8463\n",
      "Precision:     0.6997\n",
      "Recall:     0.4846\n",
      "\n",
      "               precision    recall  f1-score   support\n",
      "\n",
      "           0       0.87      0.94      0.91      4207\n",
      "           1       0.70      0.48      0.57      1135\n",
      "\n",
      "    accuracy                           0.85      5342\n",
      "   macro avg       0.79      0.71      0.74      5342\n",
      "weighted avg       0.84      0.85      0.84      5342\n",
      "\n"
     ]
    }
   ],
   "source": [
    "# Classification metrics can't handle a mix of binary and continuous targets\n",
    "print_metrics(y_eval_h1n1, preds_lr_h1n1[:, 1].round())"
   ]
  },
  {
   "cell_type": "code",
   "execution_count": 270,
   "metadata": {},
   "outputs": [
    {
     "name": "stdout",
     "output_type": "stream",
     "text": [
      "AUC = 0.858524\n"
     ]
    }
   ],
   "source": [
    "print(f\"AUC = {roc_auc_score(y_eval_h1n1, preds_lr_h1n1[:, 1]):.6f}\")"
   ]
  },
  {
   "cell_type": "code",
   "execution_count": 271,
   "metadata": {
    "colab": {
     "base_uri": "https://localhost:8080/",
     "height": 255
    },
    "id": "_RRdcgFmM8nf",
    "outputId": "43f5f3a7-2c42-4d17-c766-b4a9283d71a5"
   },
   "outputs": [
    {
     "name": "stdout",
     "output_type": "stream",
     "text": [
      "y_preds.shape: (5342, 1)\n"
     ]
    },
    {
     "data": {
      "text/html": [
       "<div>\n",
       "<style scoped>\n",
       "    .dataframe tbody tr th:only-of-type {\n",
       "        vertical-align: middle;\n",
       "    }\n",
       "\n",
       "    .dataframe tbody tr th {\n",
       "        vertical-align: top;\n",
       "    }\n",
       "\n",
       "    .dataframe thead th {\n",
       "        text-align: right;\n",
       "    }\n",
       "</style>\n",
       "<table border=\"1\" class=\"dataframe\">\n",
       "  <thead>\n",
       "    <tr style=\"text-align: right;\">\n",
       "      <th></th>\n",
       "      <th>h1n1_vaccine</th>\n",
       "    </tr>\n",
       "    <tr>\n",
       "      <th>respondent_id</th>\n",
       "      <th></th>\n",
       "    </tr>\n",
       "  </thead>\n",
       "  <tbody>\n",
       "    <tr>\n",
       "      <th>22317</th>\n",
       "      <td>0.012294</td>\n",
       "    </tr>\n",
       "    <tr>\n",
       "      <th>1215</th>\n",
       "      <td>0.461332</td>\n",
       "    </tr>\n",
       "    <tr>\n",
       "      <th>10540</th>\n",
       "      <td>0.099333</td>\n",
       "    </tr>\n",
       "    <tr>\n",
       "      <th>7407</th>\n",
       "      <td>0.148432</td>\n",
       "    </tr>\n",
       "    <tr>\n",
       "      <th>14697</th>\n",
       "      <td>0.194859</td>\n",
       "    </tr>\n",
       "  </tbody>\n",
       "</table>\n",
       "</div>"
      ],
      "text/plain": [
       "               h1n1_vaccine\n",
       "respondent_id              \n",
       "22317              0.012294\n",
       "1215               0.461332\n",
       "10540              0.099333\n",
       "7407               0.148432\n",
       "14697              0.194859"
      ]
     },
     "execution_count": 271,
     "metadata": {},
     "output_type": "execute_result"
    }
   ],
   "source": [
    "y_preds_lr_h1n1 = pd.DataFrame(\n",
    "    {\n",
    "        \"h1n1_vaccine\": preds_lr_h1n1[:, 1]\n",
    "    },\n",
    "    index = y_eval_h1n1.index\n",
    ")\n",
    "print(\"y_preds.shape:\", y_preds_lr_h1n1.shape)\n",
    "y_preds_lr_h1n1.head()"
   ]
  },
  {
   "cell_type": "code",
   "execution_count": 272,
   "metadata": {
    "colab": {
     "base_uri": "https://localhost:8080/",
     "height": 357
    },
    "id": "UjrMPDJwNEkF",
    "outputId": "0f781bc0-82d0-4271-c385-b42fef2147fb"
   },
   "outputs": [
    {
     "data": {
      "image/png": "[encoded data removed]",
      "text/plain": [
       "<Figure size 500x350 with 1 Axes>"
      ]
     },
     "metadata": {},
     "output_type": "display_data"
    }
   ],
   "source": [
    "fig, ax = plt.subplots(1, 1, figsize=(5, 3.5))\n",
    "\n",
    "plot_roc(\n",
    "    y_eval['h1n1_vaccine'],\n",
    "    y_preds_lr_h1n1['h1n1_vaccine'],\n",
    "    'h1n1_vaccine',\n",
    "    ax=ax\n",
    ")\n",
    "fig.tight_layout()"
   ]
  },
  {
   "cell_type": "code",
   "execution_count": 273,
   "metadata": {},
   "outputs": [
    {
     "name": "stdout",
     "output_type": "stream",
     "text": [
      "[[3971  236]\n",
      " [ 585  550]]\n"
     ]
    },
    {
     "data": {
      "image/png": "[encoded data removed]",
      "text/plain": [
       "<Figure size 640x480 with 2 Axes>"
      ]
     },
     "metadata": {},
     "output_type": "display_data"
    }
   ],
   "source": [
    "cm = confusion_matrix(y_eval_h1n1, preds_lr_h1n1[:, 1].round())\n",
    "print(cm)\n",
    "\n",
    "disp = ConfusionMatrixDisplay(confusion_matrix=cm, display_labels=estimator_lr_h1n1.classes_)\n",
    "disp.plot()\n",
    "plt.show()"
   ]
  },
  {
   "cell_type": "markdown",
   "metadata": {},
   "source": [
    "### Algoritmo 2: RandomForest"
   ]
  },
  {
   "cell_type": "code",
   "execution_count": 274,
   "metadata": {
    "colab": {
     "base_uri": "https://localhost:8080/",
     "height": 293
    },
    "id": "PZkCzCyPMb6f",
    "outputId": "ca159d78-995c-4e11-893a-0b664aed9f85"
   },
   "outputs": [
    {
     "data": {
      "text/plain": [
       "Pipeline(steps=[('preprocessor',\n",
       "                 ColumnTransformer(transformers=[('numeric',\n",
       "                                                  Pipeline(steps=[('standard_scaler',\n",
       "                                                                   StandardScaler()),\n",
       "                                                                  ('simple_imputer',\n",
       "                                                                   SimpleImputer(strategy='median'))]),\n",
       "                                                  array(['h1n1_concern', 'h1n1_knowledge', 'behavioral_antiviral_meds',\n",
       "       'behavioral_avoidance', 'behavioral_face_mask',\n",
       "       'behavioral_wash_hands', 'behavioral_large_gatherings',\n",
       "       '...\n",
       "       'education_2', 'education_3', 'race_0', 'race_1', 'race_2',\n",
       "       'race_3', 'sex_0', 'sex_1', 'marital_status_0', 'marital_status_1',\n",
       "       'rent_or_own_0', 'rent_or_own_1', 'employment_status_0',\n",
       "       'employment_status_1', 'employment_status_2', 'census_msa_0',\n",
       "       'census_msa_1', 'census_msa_2'], dtype=object))])),\n",
       "                ('estimator',\n",
       "                 RandomForestClassifier(criterion='entropy', max_depth=8,\n",
       "                                        n_estimators=500, random_state=42))])"
      ]
     },
     "execution_count": 274,
     "metadata": {},
     "output_type": "execute_result"
    }
   ],
   "source": [
    "estimator_rf_h1n1 = RandomForestClassifier(n_estimators=500, criterion='entropy', max_features='auto', max_depth=8, random_state=RANDOM_SEED)\n",
    "\n",
    "full_pipeline = Pipeline([\n",
    "    (\"preprocessor\", preprocessor),\n",
    "    (\"estimator\", estimator_rf_h1n1),\n",
    "])\n",
    "\n",
    "full_pipeline"
   ]
  },
  {
   "cell_type": "code",
   "execution_count": 275,
   "metadata": {
    "colab": {
     "base_uri": "https://localhost:8080/"
    },
    "id": "9dowNfn8KDDa",
    "outputId": "6b4d64a4-ffaf-4698-f1f3-60b00f9b77ff"
   },
   "outputs": [
    {
     "data": {
      "text/plain": [
       "array([[0.9377773 , 0.0622227 ],\n",
       "       [0.50187195, 0.49812805],\n",
       "       [0.9104864 , 0.0895136 ],\n",
       "       ...,\n",
       "       [0.94842652, 0.05157348],\n",
       "       [0.71438912, 0.28561088],\n",
       "       [0.63994231, 0.36005769]])"
      ]
     },
     "execution_count": 275,
     "metadata": {},
     "output_type": "execute_result"
    }
   ],
   "source": [
    "# Train model\n",
    "full_pipeline.fit(X_train, y_train_h1n1)\n",
    "\n",
    "# Predict on evaluation set\n",
    "preds_rf_h1n1 = full_pipeline.predict_proba(X_eval)\n",
    "preds_rf_h1n1"
   ]
  },
  {
   "cell_type": "code",
   "execution_count": 276,
   "metadata": {
    "colab": {
     "base_uri": "https://localhost:8080/"
    },
    "id": "Rz7fT-Q9Kk9B",
    "outputId": "85b3c006-a25d-4965-f816-1e67d81b3500"
   },
   "outputs": [
    {
     "name": "stdout",
     "output_type": "stream",
     "text": [
      "Accuracy:     0.8429\n",
      "Precision:     0.7960\n",
      "Recall:     0.3507\n",
      "\n",
      "               precision    recall  f1-score   support\n",
      "\n",
      "           0       0.85      0.98      0.91      4207\n",
      "           1       0.80      0.35      0.49      1135\n",
      "\n",
      "    accuracy                           0.84      5342\n",
      "   macro avg       0.82      0.66      0.70      5342\n",
      "weighted avg       0.84      0.84      0.82      5342\n",
      "\n"
     ]
    }
   ],
   "source": [
    "print_metrics(y_eval_h1n1, preds_rf_h1n1[:, 1].round())"
   ]
  },
  {
   "cell_type": "code",
   "execution_count": 277,
   "metadata": {},
   "outputs": [
    {
     "name": "stdout",
     "output_type": "stream",
     "text": [
      "AUC = 0.857541\n"
     ]
    }
   ],
   "source": [
    "print(f\"AUC = {roc_auc_score(y_eval_h1n1, preds_rf_h1n1[:, 1]):.6f}\")"
   ]
  },
  {
   "cell_type": "code",
   "execution_count": 278,
   "metadata": {
    "colab": {
     "base_uri": "https://localhost:8080/",
     "height": 255
    },
    "id": "_RRdcgFmM8nf",
    "outputId": "43f5f3a7-2c42-4d17-c766-b4a9283d71a5"
   },
   "outputs": [
    {
     "name": "stdout",
     "output_type": "stream",
     "text": [
      "y_preds.shape: (5342, 1)\n"
     ]
    },
    {
     "data": {
      "text/html": [
       "<div>\n",
       "<style scoped>\n",
       "    .dataframe tbody tr th:only-of-type {\n",
       "        vertical-align: middle;\n",
       "    }\n",
       "\n",
       "    .dataframe tbody tr th {\n",
       "        vertical-align: top;\n",
       "    }\n",
       "\n",
       "    .dataframe thead th {\n",
       "        text-align: right;\n",
       "    }\n",
       "</style>\n",
       "<table border=\"1\" class=\"dataframe\">\n",
       "  <thead>\n",
       "    <tr style=\"text-align: right;\">\n",
       "      <th></th>\n",
       "      <th>h1n1_vaccine</th>\n",
       "    </tr>\n",
       "    <tr>\n",
       "      <th>respondent_id</th>\n",
       "      <th></th>\n",
       "    </tr>\n",
       "  </thead>\n",
       "  <tbody>\n",
       "    <tr>\n",
       "      <th>22317</th>\n",
       "      <td>0.062223</td>\n",
       "    </tr>\n",
       "    <tr>\n",
       "      <th>1215</th>\n",
       "      <td>0.498128</td>\n",
       "    </tr>\n",
       "    <tr>\n",
       "      <th>10540</th>\n",
       "      <td>0.089514</td>\n",
       "    </tr>\n",
       "    <tr>\n",
       "      <th>7407</th>\n",
       "      <td>0.188101</td>\n",
       "    </tr>\n",
       "    <tr>\n",
       "      <th>14697</th>\n",
       "      <td>0.206136</td>\n",
       "    </tr>\n",
       "  </tbody>\n",
       "</table>\n",
       "</div>"
      ],
      "text/plain": [
       "               h1n1_vaccine\n",
       "respondent_id              \n",
       "22317              0.062223\n",
       "1215               0.498128\n",
       "10540              0.089514\n",
       "7407               0.188101\n",
       "14697              0.206136"
      ]
     },
     "execution_count": 278,
     "metadata": {},
     "output_type": "execute_result"
    }
   ],
   "source": [
    "y_preds_rf_h1n1 = pd.DataFrame(\n",
    "    {\n",
    "        \"h1n1_vaccine\": preds_rf_h1n1[:, 1],\n",
    "    },\n",
    "    index = y_eval_h1n1.index\n",
    ")\n",
    "print(\"y_preds.shape:\", y_preds_rf_h1n1.shape)\n",
    "y_preds_rf_h1n1.head()"
   ]
  },
  {
   "cell_type": "code",
   "execution_count": 279,
   "metadata": {
    "colab": {
     "base_uri": "https://localhost:8080/",
     "height": 357
    },
    "id": "UjrMPDJwNEkF",
    "outputId": "0f781bc0-82d0-4271-c385-b42fef2147fb"
   },
   "outputs": [
    {
     "data": {
      "image/png": "[encoded data removed]",
      "text/plain": [
       "<Figure size 500x350 with 1 Axes>"
      ]
     },
     "metadata": {},
     "output_type": "display_data"
    }
   ],
   "source": [
    "fig, ax = plt.subplots(1, 1, figsize=(5, 3.5))\n",
    "\n",
    "plot_roc(\n",
    "    y_eval_h1n1['h1n1_vaccine'],\n",
    "    y_preds_rf_h1n1['h1n1_vaccine'],\n",
    "    'h1n1_vaccine',\n",
    "    ax=ax\n",
    ")\n",
    "fig.tight_layout()"
   ]
  },
  {
   "cell_type": "code",
   "execution_count": 280,
   "metadata": {},
   "outputs": [
    {
     "name": "stdout",
     "output_type": "stream",
     "text": [
      "[[4105  102]\n",
      " [ 737  398]]\n"
     ]
    },
    {
     "data": {
      "image/png": "[encoded data removed]",
      "text/plain": [
       "<Figure size 640x480 with 2 Axes>"
      ]
     },
     "metadata": {},
     "output_type": "display_data"
    }
   ],
   "source": [
    "cm = confusion_matrix(y_eval_h1n1, preds_rf_h1n1[:, 1].round())\n",
    "print(cm)\n",
    "\n",
    "disp = ConfusionMatrixDisplay(confusion_matrix=cm, display_labels=estimator_rf_h1n1.classes_)\n",
    "disp.plot()\n",
    "plt.show()"
   ]
  },
  {
   "cell_type": "markdown",
   "metadata": {},
   "source": [
    "### Algoritmo 3: SVM"
   ]
  },
  {
   "cell_type": "code",
   "execution_count": 281,
   "metadata": {
    "colab": {
     "base_uri": "https://localhost:8080/",
     "height": 293
    },
    "id": "PZkCzCyPMb6f",
    "outputId": "ca159d78-995c-4e11-893a-0b664aed9f85"
   },
   "outputs": [
    {
     "data": {
      "text/plain": [
       "Pipeline(steps=[('preprocessor',\n",
       "                 ColumnTransformer(transformers=[('numeric',\n",
       "                                                  Pipeline(steps=[('standard_scaler',\n",
       "                                                                   StandardScaler()),\n",
       "                                                                  ('simple_imputer',\n",
       "                                                                   SimpleImputer(strategy='median'))]),\n",
       "                                                  array(['h1n1_concern', 'h1n1_knowledge', 'behavioral_antiviral_meds',\n",
       "       'behavioral_avoidance', 'behavioral_face_mask',\n",
       "       'behavioral_wash_hands', 'behavioral_large_gatherings',\n",
       "       '...\n",
       "       'age_group_3', 'age_group_4', 'education_0', 'education_1',\n",
       "       'education_2', 'education_3', 'race_0', 'race_1', 'race_2',\n",
       "       'race_3', 'sex_0', 'sex_1', 'marital_status_0', 'marital_status_1',\n",
       "       'rent_or_own_0', 'rent_or_own_1', 'employment_status_0',\n",
       "       'employment_status_1', 'employment_status_2', 'census_msa_0',\n",
       "       'census_msa_1', 'census_msa_2'], dtype=object))])),\n",
       "                ('estimator', SVC(C=1, gamma=0.01, probability=True))])"
      ]
     },
     "execution_count": 281,
     "metadata": {},
     "output_type": "execute_result"
    }
   ],
   "source": [
    "estimator_svm_h1n1 = SVC(C=1, gamma=0.01, kernel='rbf', probability=True)\n",
    "\n",
    "full_pipeline = Pipeline([\n",
    "    (\"preprocessor\", preprocessor),\n",
    "    (\"estimator\", estimator_svm_h1n1),\n",
    "])\n",
    "\n",
    "full_pipeline"
   ]
  },
  {
   "cell_type": "code",
   "execution_count": 282,
   "metadata": {
    "colab": {
     "base_uri": "https://localhost:8080/"
    },
    "id": "9dowNfn8KDDa",
    "outputId": "6b4d64a4-ffaf-4698-f1f3-60b00f9b77ff"
   },
   "outputs": [
    {
     "data": {
      "text/plain": [
       "array([[0.95223957, 0.04776043],\n",
       "       [0.64066621, 0.35933379],\n",
       "       [0.90315463, 0.09684537],\n",
       "       ...,\n",
       "       [0.91059484, 0.08940516],\n",
       "       [0.85882039, 0.14117961],\n",
       "       [0.69975667, 0.30024333]])"
      ]
     },
     "execution_count": 282,
     "metadata": {},
     "output_type": "execute_result"
    }
   ],
   "source": [
    "# Train model\n",
    "full_pipeline.fit(X_train, y_train_h1n1)\n",
    "\n",
    "# Predict on evaluation set\n",
    "preds_svm_h1n1 = full_pipeline.predict_proba(X_eval)\n",
    "preds_svm_h1n1"
   ]
  },
  {
   "cell_type": "code",
   "execution_count": 283,
   "metadata": {
    "colab": {
     "base_uri": "https://localhost:8080/"
    },
    "id": "Wn9WydwLLBQA",
    "outputId": "8c91b88f-f85c-4dcd-f627-effbcd68e051"
   },
   "outputs": [
    {
     "name": "stdout",
     "output_type": "stream",
     "text": [
      "Accuracy:     0.8491\n",
      "Precision:     0.7388\n",
      "Recall:     0.4485\n",
      "\n",
      "               precision    recall  f1-score   support\n",
      "\n",
      "           0       0.87      0.96      0.91      4207\n",
      "           1       0.74      0.45      0.56      1135\n",
      "\n",
      "    accuracy                           0.85      5342\n",
      "   macro avg       0.80      0.70      0.73      5342\n",
      "weighted avg       0.84      0.85      0.83      5342\n",
      "\n"
     ]
    }
   ],
   "source": [
    "# Classification metrics can't handle a mix of binary and continuous targets\n",
    "print_metrics(y_eval_h1n1, preds_svm_h1n1[:, 1].round())"
   ]
  },
  {
   "cell_type": "code",
   "execution_count": 284,
   "metadata": {},
   "outputs": [
    {
     "name": "stdout",
     "output_type": "stream",
     "text": [
      "AUC = 0.847230\n"
     ]
    }
   ],
   "source": [
    "print(f\"AUC = {roc_auc_score(y_eval_h1n1, preds_svm_h1n1[:, 1]):.6f}\")"
   ]
  },
  {
   "cell_type": "code",
   "execution_count": 285,
   "metadata": {
    "colab": {
     "base_uri": "https://localhost:8080/",
     "height": 255
    },
    "id": "_RRdcgFmM8nf",
    "outputId": "43f5f3a7-2c42-4d17-c766-b4a9283d71a5"
   },
   "outputs": [
    {
     "name": "stdout",
     "output_type": "stream",
     "text": [
      "y_preds.shape: (5342, 1)\n"
     ]
    },
    {
     "data": {
      "text/html": [
       "<div>\n",
       "<style scoped>\n",
       "    .dataframe tbody tr th:only-of-type {\n",
       "        vertical-align: middle;\n",
       "    }\n",
       "\n",
       "    .dataframe tbody tr th {\n",
       "        vertical-align: top;\n",
       "    }\n",
       "\n",
       "    .dataframe thead th {\n",
       "        text-align: right;\n",
       "    }\n",
       "</style>\n",
       "<table border=\"1\" class=\"dataframe\">\n",
       "  <thead>\n",
       "    <tr style=\"text-align: right;\">\n",
       "      <th></th>\n",
       "      <th>h1n1_vaccine</th>\n",
       "    </tr>\n",
       "    <tr>\n",
       "      <th>respondent_id</th>\n",
       "      <th></th>\n",
       "    </tr>\n",
       "  </thead>\n",
       "  <tbody>\n",
       "    <tr>\n",
       "      <th>22317</th>\n",
       "      <td>0.047760</td>\n",
       "    </tr>\n",
       "    <tr>\n",
       "      <th>1215</th>\n",
       "      <td>0.359334</td>\n",
       "    </tr>\n",
       "    <tr>\n",
       "      <th>10540</th>\n",
       "      <td>0.096845</td>\n",
       "    </tr>\n",
       "    <tr>\n",
       "      <th>7407</th>\n",
       "      <td>0.133966</td>\n",
       "    </tr>\n",
       "    <tr>\n",
       "      <th>14697</th>\n",
       "      <td>0.126239</td>\n",
       "    </tr>\n",
       "  </tbody>\n",
       "</table>\n",
       "</div>"
      ],
      "text/plain": [
       "               h1n1_vaccine\n",
       "respondent_id              \n",
       "22317              0.047760\n",
       "1215               0.359334\n",
       "10540              0.096845\n",
       "7407               0.133966\n",
       "14697              0.126239"
      ]
     },
     "execution_count": 285,
     "metadata": {},
     "output_type": "execute_result"
    }
   ],
   "source": [
    "y_preds_svm_h1n1 = pd.DataFrame(\n",
    "    {\n",
    "        \"h1n1_vaccine\": preds_svm_h1n1[:, 1]\n",
    "    },\n",
    "    index = y_eval_h1n1.index\n",
    ")\n",
    "print(\"y_preds.shape:\", y_preds_svm_h1n1.shape)\n",
    "y_preds_svm_h1n1.head()"
   ]
  },
  {
   "cell_type": "code",
   "execution_count": 286,
   "metadata": {
    "colab": {
     "base_uri": "https://localhost:8080/",
     "height": 357
    },
    "id": "UjrMPDJwNEkF",
    "outputId": "0f781bc0-82d0-4271-c385-b42fef2147fb"
   },
   "outputs": [
    {
     "data": {
      "image/png": "[encoded data removed]",
      "text/plain": [
       "<Figure size 500x350 with 1 Axes>"
      ]
     },
     "metadata": {},
     "output_type": "display_data"
    }
   ],
   "source": [
    "fig, ax = plt.subplots(1, 1, figsize=(5, 3.5))\n",
    "\n",
    "plot_roc(\n",
    "    y_eval['h1n1_vaccine'],\n",
    "    y_preds_svm_h1n1['h1n1_vaccine'],\n",
    "    'h1n1_vaccine',\n",
    "    ax=ax\n",
    ")\n",
    "fig.tight_layout()"
   ]
  },
  {
   "cell_type": "code",
   "execution_count": 287,
   "metadata": {},
   "outputs": [
    {
     "name": "stdout",
     "output_type": "stream",
     "text": [
      "[[4027  180]\n",
      " [ 626  509]]\n"
     ]
    },
    {
     "data": {
      "image/png": "[encoded data removed]",
      "text/plain": [
       "<Figure size 640x480 with 2 Axes>"
      ]
     },
     "metadata": {},
     "output_type": "display_data"
    }
   ],
   "source": [
    "cm = confusion_matrix(y_eval_h1n1, preds_svm_h1n1[:, 1].round())\n",
    "print(cm)\n",
    "\n",
    "disp = ConfusionMatrixDisplay(confusion_matrix=cm, display_labels=estimator_svm_h1n1.classes_)\n",
    "disp.plot()\n",
    "plt.show()"
   ]
  },
  {
   "cell_type": "markdown",
   "metadata": {},
   "source": [
    "### Algoritmo 4: RandomForest Balanced"
   ]
  },
  {
   "cell_type": "code",
   "execution_count": 288,
   "metadata": {
    "colab": {
     "base_uri": "https://localhost:8080/",
     "height": 293
    },
    "id": "PZkCzCyPMb6f",
    "outputId": "ca159d78-995c-4e11-893a-0b664aed9f85"
   },
   "outputs": [
    {
     "data": {
      "text/plain": [
       "Pipeline(steps=[('preprocessor',\n",
       "                 ColumnTransformer(transformers=[('numeric',\n",
       "                                                  Pipeline(steps=[('standard_scaler',\n",
       "                                                                   StandardScaler()),\n",
       "                                                                  ('simple_imputer',\n",
       "                                                                   SimpleImputer(strategy='median'))]),\n",
       "                                                  array(['h1n1_concern', 'h1n1_knowledge', 'behavioral_antiviral_meds',\n",
       "       'behavioral_avoidance', 'behavioral_face_mask',\n",
       "       'behavioral_wash_hands', 'behavioral_large_gatherings',\n",
       "       '...\n",
       "       'race_3', 'sex_0', 'sex_1', 'marital_status_0', 'marital_status_1',\n",
       "       'rent_or_own_0', 'rent_or_own_1', 'employment_status_0',\n",
       "       'employment_status_1', 'employment_status_2', 'census_msa_0',\n",
       "       'census_msa_1', 'census_msa_2'], dtype=object))])),\n",
       "                ('estimator',\n",
       "                 RandomForestClassifier(class_weight='balanced',\n",
       "                                        criterion='entropy', max_depth=8,\n",
       "                                        n_estimators=500, random_state=42))])"
      ]
     },
     "execution_count": 288,
     "metadata": {},
     "output_type": "execute_result"
    }
   ],
   "source": [
    "estimator_rfb_h1n1 = RandomForestClassifier(n_estimators=500, criterion='entropy', max_features='auto', max_depth=8,\n",
    "                                   class_weight='balanced', random_state=RANDOM_SEED)\n",
    "\n",
    "full_pipeline = Pipeline([\n",
    "    (\"preprocessor\", preprocessor),\n",
    "    (\"estimator\", estimator_rfb_h1n1),\n",
    "])\n",
    "\n",
    "full_pipeline"
   ]
  },
  {
   "cell_type": "code",
   "execution_count": 289,
   "metadata": {
    "colab": {
     "base_uri": "https://localhost:8080/"
    },
    "id": "9dowNfn8KDDa",
    "outputId": "6b4d64a4-ffaf-4698-f1f3-60b00f9b77ff"
   },
   "outputs": [
    {
     "data": {
      "text/plain": [
       "array([[0.80941841, 0.19058159],\n",
       "       [0.2469805 , 0.7530195 ],\n",
       "       [0.74746079, 0.25253921],\n",
       "       ...,\n",
       "       [0.83491022, 0.16508978],\n",
       "       [0.44259169, 0.55740831],\n",
       "       [0.38553217, 0.61446783]])"
      ]
     },
     "execution_count": 289,
     "metadata": {},
     "output_type": "execute_result"
    }
   ],
   "source": [
    "# Train model\n",
    "full_pipeline.fit(X_train, y_train_h1n1)\n",
    "\n",
    "# Predict on evaluation set\n",
    "preds_rfb_h1n1 = full_pipeline.predict_proba(X_eval)\n",
    "preds_rfb_h1n1"
   ]
  },
  {
   "cell_type": "code",
   "execution_count": 290,
   "metadata": {
    "colab": {
     "base_uri": "https://localhost:8080/"
    },
    "id": "Rz7fT-Q9Kk9B",
    "outputId": "85b3c006-a25d-4965-f816-1e67d81b3500"
   },
   "outputs": [
    {
     "name": "stdout",
     "output_type": "stream",
     "text": [
      "Accuracy:     0.8081\n",
      "Precision:     0.5351\n",
      "Recall:     0.7392\n",
      "\n",
      "               precision    recall  f1-score   support\n",
      "\n",
      "           0       0.92      0.83      0.87      4207\n",
      "           1       0.54      0.74      0.62      1135\n",
      "\n",
      "    accuracy                           0.81      5342\n",
      "   macro avg       0.73      0.78      0.75      5342\n",
      "weighted avg       0.84      0.81      0.82      5342\n",
      "\n"
     ]
    }
   ],
   "source": [
    "print_metrics(y_eval_h1n1, preds_rfb_h1n1[:, 1].round())"
   ]
  },
  {
   "cell_type": "code",
   "execution_count": 292,
   "metadata": {},
   "outputs": [
    {
     "name": "stdout",
     "output_type": "stream",
     "text": [
      "AUC = 0.858906\n"
     ]
    }
   ],
   "source": [
    "print(f\"AUC = {roc_auc_score(y_eval_h1n1, preds_rfb_h1n1[:, 1]):.6f}\")"
   ]
  },
  {
   "cell_type": "code",
   "execution_count": 293,
   "metadata": {
    "colab": {
     "base_uri": "https://localhost:8080/",
     "height": 255
    },
    "id": "_RRdcgFmM8nf",
    "outputId": "43f5f3a7-2c42-4d17-c766-b4a9283d71a5"
   },
   "outputs": [
    {
     "name": "stdout",
     "output_type": "stream",
     "text": [
      "y_preds.shape: (5342, 1)\n"
     ]
    },
    {
     "data": {
      "text/html": [
       "<div>\n",
       "<style scoped>\n",
       "    .dataframe tbody tr th:only-of-type {\n",
       "        vertical-align: middle;\n",
       "    }\n",
       "\n",
       "    .dataframe tbody tr th {\n",
       "        vertical-align: top;\n",
       "    }\n",
       "\n",
       "    .dataframe thead th {\n",
       "        text-align: right;\n",
       "    }\n",
       "</style>\n",
       "<table border=\"1\" class=\"dataframe\">\n",
       "  <thead>\n",
       "    <tr style=\"text-align: right;\">\n",
       "      <th></th>\n",
       "      <th>h1n1_vaccine</th>\n",
       "    </tr>\n",
       "    <tr>\n",
       "      <th>respondent_id</th>\n",
       "      <th></th>\n",
       "    </tr>\n",
       "  </thead>\n",
       "  <tbody>\n",
       "    <tr>\n",
       "      <th>22317</th>\n",
       "      <td>0.190582</td>\n",
       "    </tr>\n",
       "    <tr>\n",
       "      <th>1215</th>\n",
       "      <td>0.753019</td>\n",
       "    </tr>\n",
       "    <tr>\n",
       "      <th>10540</th>\n",
       "      <td>0.252539</td>\n",
       "    </tr>\n",
       "    <tr>\n",
       "      <th>7407</th>\n",
       "      <td>0.421833</td>\n",
       "    </tr>\n",
       "    <tr>\n",
       "      <th>14697</th>\n",
       "      <td>0.448260</td>\n",
       "    </tr>\n",
       "  </tbody>\n",
       "</table>\n",
       "</div>"
      ],
      "text/plain": [
       "               h1n1_vaccine\n",
       "respondent_id              \n",
       "22317              0.190582\n",
       "1215               0.753019\n",
       "10540              0.252539\n",
       "7407               0.421833\n",
       "14697              0.448260"
      ]
     },
     "execution_count": 293,
     "metadata": {},
     "output_type": "execute_result"
    }
   ],
   "source": [
    "y_preds_rfb_h1n1 = pd.DataFrame(\n",
    "    {\n",
    "        \"h1n1_vaccine\": preds_rfb_h1n1[:, 1],\n",
    "    },\n",
    "    index = y_eval_h1n1.index\n",
    ")\n",
    "print(\"y_preds.shape:\", y_preds_rfb_h1n1.shape)\n",
    "y_preds_rfb_h1n1.head()"
   ]
  },
  {
   "cell_type": "code",
   "execution_count": 294,
   "metadata": {
    "colab": {
     "base_uri": "https://localhost:8080/",
     "height": 357
    },
    "id": "UjrMPDJwNEkF",
    "outputId": "0f781bc0-82d0-4271-c385-b42fef2147fb"
   },
   "outputs": [
    {
     "data": {
      "image/png": "[encoded data removed]",
      "text/plain": [
       "<Figure size 500x350 with 1 Axes>"
      ]
     },
     "metadata": {},
     "output_type": "display_data"
    }
   ],
   "source": [
    "fig, ax = plt.subplots(1, 1, figsize=(5, 3.5))\n",
    "\n",
    "plot_roc(\n",
    "    y_eval_h1n1['h1n1_vaccine'],\n",
    "    y_preds_rfb_h1n1['h1n1_vaccine'],\n",
    "    'h1n1_vaccine',\n",
    "    ax=ax\n",
    ")\n",
    "fig.tight_layout()"
   ]
  },
  {
   "cell_type": "code",
   "execution_count": 295,
   "metadata": {},
   "outputs": [
    {
     "name": "stdout",
     "output_type": "stream",
     "text": [
      "[[3478  729]\n",
      " [ 296  839]]\n"
     ]
    },
    {
     "data": {
      "image/png": "[encoded data removed]",
      "text/plain": [
       "<Figure size 640x480 with 2 Axes>"
      ]
     },
     "metadata": {},
     "output_type": "display_data"
    }
   ],
   "source": [
    "cm = confusion_matrix(y_eval_h1n1, preds_rfb_h1n1[:, 1].round())\n",
    "print(cm)\n",
    "\n",
    "disp = ConfusionMatrixDisplay(confusion_matrix=cm, display_labels=estimator_rfb_h1n1.classes_)\n",
    "disp.plot()\n",
    "plt.show()"
   ]
  },
  {
   "cell_type": "markdown",
   "metadata": {},
   "source": [
    "## Seasonal"
   ]
  },
  {
   "cell_type": "markdown",
   "metadata": {},
   "source": [
    "### Algoritmo 1: SVM"
   ]
  },
  {
   "cell_type": "code",
   "execution_count": 296,
   "metadata": {
    "colab": {
     "base_uri": "https://localhost:8080/",
     "height": 293
    },
    "id": "PZkCzCyPMb6f",
    "outputId": "ca159d78-995c-4e11-893a-0b664aed9f85"
   },
   "outputs": [
    {
     "data": {
      "text/plain": [
       "Pipeline(steps=[('preprocessor',\n",
       "                 ColumnTransformer(transformers=[('numeric',\n",
       "                                                  Pipeline(steps=[('standard_scaler',\n",
       "                                                                   StandardScaler()),\n",
       "                                                                  ('simple_imputer',\n",
       "                                                                   SimpleImputer(strategy='median'))]),\n",
       "                                                  array(['h1n1_concern', 'h1n1_knowledge', 'behavioral_antiviral_meds',\n",
       "       'behavioral_avoidance', 'behavioral_face_mask',\n",
       "       'behavioral_wash_hands', 'behavioral_large_gatherings',\n",
       "       '...\n",
       "       'age_group_3', 'age_group_4', 'education_0', 'education_1',\n",
       "       'education_2', 'education_3', 'race_0', 'race_1', 'race_2',\n",
       "       'race_3', 'sex_0', 'sex_1', 'marital_status_0', 'marital_status_1',\n",
       "       'rent_or_own_0', 'rent_or_own_1', 'employment_status_0',\n",
       "       'employment_status_1', 'employment_status_2', 'census_msa_0',\n",
       "       'census_msa_1', 'census_msa_2'], dtype=object))])),\n",
       "                ('estimator', SVC(C=1, gamma=0.01, probability=True))])"
      ]
     },
     "execution_count": 296,
     "metadata": {},
     "output_type": "execute_result"
    }
   ],
   "source": [
    "estimator_svm_seasonal = SVC(C=1, gamma=0.01, kernel='rbf', probability=True)\n",
    "\n",
    "full_pipeline = Pipeline([\n",
    "    (\"preprocessor\", preprocessor),\n",
    "    (\"estimator\", estimator_svm_seasonal),\n",
    "])\n",
    "\n",
    "full_pipeline"
   ]
  },
  {
   "cell_type": "code",
   "execution_count": 297,
   "metadata": {
    "colab": {
     "base_uri": "https://localhost:8080/"
    },
    "id": "9dowNfn8KDDa",
    "outputId": "6b4d64a4-ffaf-4698-f1f3-60b00f9b77ff"
   },
   "outputs": [
    {
     "data": {
      "text/plain": [
       "array([[0.60592632, 0.39407368],\n",
       "       [0.16790878, 0.83209122],\n",
       "       [0.83269921, 0.16730079],\n",
       "       ...,\n",
       "       [0.92811689, 0.07188311],\n",
       "       [0.51466138, 0.48533862],\n",
       "       [0.52097095, 0.47902905]])"
      ]
     },
     "execution_count": 297,
     "metadata": {},
     "output_type": "execute_result"
    }
   ],
   "source": [
    "# Train model\n",
    "full_pipeline.fit(X_train, y_train_seasonal)\n",
    "\n",
    "# Predict on evaluation set\n",
    "preds_svm_seasonal = full_pipeline.predict_proba(X_eval)\n",
    "preds_svm_seasonal"
   ]
  },
  {
   "cell_type": "code",
   "execution_count": 298,
   "metadata": {
    "colab": {
     "base_uri": "https://localhost:8080/"
    },
    "id": "Rz7fT-Q9Kk9B",
    "outputId": "85b3c006-a25d-4965-f816-1e67d81b3500"
   },
   "outputs": [
    {
     "name": "stdout",
     "output_type": "stream",
     "text": [
      "Accuracy:     0.7814\n",
      "Precision:     0.7818\n",
      "Recall:     0.7359\n",
      "\n",
      "               precision    recall  f1-score   support\n",
      "\n",
      "           0       0.78      0.82      0.80      2854\n",
      "           1       0.78      0.74      0.76      2488\n",
      "\n",
      "    accuracy                           0.78      5342\n",
      "   macro avg       0.78      0.78      0.78      5342\n",
      "weighted avg       0.78      0.78      0.78      5342\n",
      "\n"
     ]
    }
   ],
   "source": [
    "print_metrics(y_eval_seasonal, preds_svm_seasonal[:, 1].round())"
   ]
  },
  {
   "cell_type": "code",
   "execution_count": 299,
   "metadata": {},
   "outputs": [
    {
     "name": "stdout",
     "output_type": "stream",
     "text": [
      "AUC = 0.855371\n"
     ]
    }
   ],
   "source": [
    "print(f\"AUC = {roc_auc_score(y_eval_seasonal, preds_svm_seasonal[:, 1]):.6f}\")"
   ]
  },
  {
   "cell_type": "code",
   "execution_count": 300,
   "metadata": {
    "colab": {
     "base_uri": "https://localhost:8080/",
     "height": 255
    },
    "id": "_RRdcgFmM8nf",
    "outputId": "43f5f3a7-2c42-4d17-c766-b4a9283d71a5"
   },
   "outputs": [
    {
     "name": "stdout",
     "output_type": "stream",
     "text": [
      "y_preds.shape: (5342, 1)\n"
     ]
    },
    {
     "data": {
      "text/html": [
       "<div>\n",
       "<style scoped>\n",
       "    .dataframe tbody tr th:only-of-type {\n",
       "        vertical-align: middle;\n",
       "    }\n",
       "\n",
       "    .dataframe tbody tr th {\n",
       "        vertical-align: top;\n",
       "    }\n",
       "\n",
       "    .dataframe thead th {\n",
       "        text-align: right;\n",
       "    }\n",
       "</style>\n",
       "<table border=\"1\" class=\"dataframe\">\n",
       "  <thead>\n",
       "    <tr style=\"text-align: right;\">\n",
       "      <th></th>\n",
       "      <th>seasonal_vaccine</th>\n",
       "    </tr>\n",
       "    <tr>\n",
       "      <th>respondent_id</th>\n",
       "      <th></th>\n",
       "    </tr>\n",
       "  </thead>\n",
       "  <tbody>\n",
       "    <tr>\n",
       "      <th>22317</th>\n",
       "      <td>0.394074</td>\n",
       "    </tr>\n",
       "    <tr>\n",
       "      <th>1215</th>\n",
       "      <td>0.832091</td>\n",
       "    </tr>\n",
       "    <tr>\n",
       "      <th>10540</th>\n",
       "      <td>0.167301</td>\n",
       "    </tr>\n",
       "    <tr>\n",
       "      <th>7407</th>\n",
       "      <td>0.199774</td>\n",
       "    </tr>\n",
       "    <tr>\n",
       "      <th>14697</th>\n",
       "      <td>0.220275</td>\n",
       "    </tr>\n",
       "  </tbody>\n",
       "</table>\n",
       "</div>"
      ],
      "text/plain": [
       "               seasonal_vaccine\n",
       "respondent_id                  \n",
       "22317                  0.394074\n",
       "1215                   0.832091\n",
       "10540                  0.167301\n",
       "7407                   0.199774\n",
       "14697                  0.220275"
      ]
     },
     "execution_count": 300,
     "metadata": {},
     "output_type": "execute_result"
    }
   ],
   "source": [
    "y_preds_svm_seasonal = pd.DataFrame(\n",
    "    {\n",
    "        \"seasonal_vaccine\": preds_svm_seasonal[:, 1],\n",
    "    },\n",
    "    index = y_eval_seasonal.index\n",
    ")\n",
    "print(\"y_preds.shape:\", y_preds_svm_seasonal.shape)\n",
    "y_preds_svm_seasonal.head()"
   ]
  },
  {
   "cell_type": "code",
   "execution_count": 301,
   "metadata": {
    "colab": {
     "base_uri": "https://localhost:8080/",
     "height": 357
    },
    "id": "UjrMPDJwNEkF",
    "outputId": "0f781bc0-82d0-4271-c385-b42fef2147fb"
   },
   "outputs": [
    {
     "data": {
      "image/png": "[encoded data removed]",
      "text/plain": [
       "<Figure size 500x350 with 1 Axes>"
      ]
     },
     "metadata": {},
     "output_type": "display_data"
    }
   ],
   "source": [
    "fig, ax = plt.subplots(1, 1, figsize=(5, 3.5))\n",
    "\n",
    "plot_roc(\n",
    "    y_eval_seasonal['seasonal_vaccine'],\n",
    "    y_preds_svm_seasonal['seasonal_vaccine'],\n",
    "    'seasonal_vaccine',\n",
    "    ax=ax\n",
    ")\n",
    "fig.tight_layout()"
   ]
  },
  {
   "cell_type": "code",
   "execution_count": 302,
   "metadata": {},
   "outputs": [
    {
     "name": "stdout",
     "output_type": "stream",
     "text": [
      "[[2343  511]\n",
      " [ 657 1831]]\n"
     ]
    },
    {
     "data": {
      "image/png": "[encoded data removed]",
      "text/plain": [
       "<Figure size 640x480 with 2 Axes>"
      ]
     },
     "metadata": {},
     "output_type": "display_data"
    }
   ],
   "source": [
    "cm = confusion_matrix(y_eval_seasonal, preds_svm_seasonal[:, 1].round())\n",
    "print(cm)\n",
    "\n",
    "disp = ConfusionMatrixDisplay(confusion_matrix=cm, display_labels=estimator_svm_seasonal.classes_)\n",
    "disp.plot()\n",
    "plt.show()"
   ]
  },
  {
   "cell_type": "markdown",
   "metadata": {},
   "source": [
    "### Algoritmo 2: RandomForest"
   ]
  },
  {
   "cell_type": "code",
   "execution_count": 303,
   "metadata": {
    "colab": {
     "base_uri": "https://localhost:8080/",
     "height": 293
    },
    "id": "PZkCzCyPMb6f",
    "outputId": "ca159d78-995c-4e11-893a-0b664aed9f85"
   },
   "outputs": [
    {
     "data": {
      "text/plain": [
       "Pipeline(steps=[('preprocessor',\n",
       "                 ColumnTransformer(transformers=[('numeric',\n",
       "                                                  Pipeline(steps=[('standard_scaler',\n",
       "                                                                   StandardScaler()),\n",
       "                                                                  ('simple_imputer',\n",
       "                                                                   SimpleImputer(strategy='median'))]),\n",
       "                                                  array(['h1n1_concern', 'h1n1_knowledge', 'behavioral_antiviral_meds',\n",
       "       'behavioral_avoidance', 'behavioral_face_mask',\n",
       "       'behavioral_wash_hands', 'behavioral_large_gatherings',\n",
       "       '...\n",
       "       'education_2', 'education_3', 'race_0', 'race_1', 'race_2',\n",
       "       'race_3', 'sex_0', 'sex_1', 'marital_status_0', 'marital_status_1',\n",
       "       'rent_or_own_0', 'rent_or_own_1', 'employment_status_0',\n",
       "       'employment_status_1', 'employment_status_2', 'census_msa_0',\n",
       "       'census_msa_1', 'census_msa_2'], dtype=object))])),\n",
       "                ('estimator',\n",
       "                 RandomForestClassifier(criterion='entropy', max_depth=8,\n",
       "                                        n_estimators=500, random_state=42))])"
      ]
     },
     "execution_count": 303,
     "metadata": {},
     "output_type": "execute_result"
    }
   ],
   "source": [
    "estimator_rf_seasonal = RandomForestClassifier(n_estimators=500, max_features='auto', max_depth=8, criterion='entropy', random_state=RANDOM_SEED)\n",
    "\n",
    "full_pipeline = Pipeline([\n",
    "    (\"preprocessor\", preprocessor),\n",
    "    (\"estimator\", estimator_rf_seasonal),\n",
    "])\n",
    "\n",
    "full_pipeline"
   ]
  },
  {
   "cell_type": "code",
   "execution_count": 304,
   "metadata": {
    "colab": {
     "base_uri": "https://localhost:8080/"
    },
    "id": "9dowNfn8KDDa",
    "outputId": "6b4d64a4-ffaf-4698-f1f3-60b00f9b77ff"
   },
   "outputs": [
    {
     "data": {
      "text/plain": [
       "array([[0.64936741, 0.35063259],\n",
       "       [0.29563974, 0.70436026],\n",
       "       [0.82538033, 0.17461967],\n",
       "       ...,\n",
       "       [0.76817547, 0.23182453],\n",
       "       [0.3836507 , 0.6163493 ],\n",
       "       [0.49005025, 0.50994975]])"
      ]
     },
     "execution_count": 304,
     "metadata": {},
     "output_type": "execute_result"
    }
   ],
   "source": [
    "# Train model\n",
    "full_pipeline.fit(X_train, y_train_seasonal)\n",
    "\n",
    "# Predict on evaluation set\n",
    "preds_rf_seasonal = full_pipeline.predict_proba(X_eval)\n",
    "preds_rf_seasonal"
   ]
  },
  {
   "cell_type": "code",
   "execution_count": 305,
   "metadata": {
    "colab": {
     "base_uri": "https://localhost:8080/"
    },
    "id": "Rz7fT-Q9Kk9B",
    "outputId": "85b3c006-a25d-4965-f816-1e67d81b3500"
   },
   "outputs": [
    {
     "name": "stdout",
     "output_type": "stream",
     "text": [
      "Accuracy:     0.7703\n",
      "Precision:     0.7784\n",
      "Recall:     0.7086\n",
      "\n",
      "               precision    recall  f1-score   support\n",
      "\n",
      "           0       0.76      0.82      0.79      2854\n",
      "           1       0.78      0.71      0.74      2488\n",
      "\n",
      "    accuracy                           0.77      5342\n",
      "   macro avg       0.77      0.77      0.77      5342\n",
      "weighted avg       0.77      0.77      0.77      5342\n",
      "\n"
     ]
    }
   ],
   "source": [
    "print_metrics(y_eval_seasonal, preds_rf_seasonal[:, 1].round())"
   ]
  },
  {
   "cell_type": "code",
   "execution_count": 306,
   "metadata": {},
   "outputs": [
    {
     "name": "stdout",
     "output_type": "stream",
     "text": [
      "AUC = 0.849570\n"
     ]
    }
   ],
   "source": [
    "print(f\"AUC = {roc_auc_score(y_eval_seasonal, preds_rf_seasonal[:, 1]):.6f}\")"
   ]
  },
  {
   "cell_type": "code",
   "execution_count": 307,
   "metadata": {
    "colab": {
     "base_uri": "https://localhost:8080/",
     "height": 255
    },
    "id": "_RRdcgFmM8nf",
    "outputId": "43f5f3a7-2c42-4d17-c766-b4a9283d71a5"
   },
   "outputs": [
    {
     "name": "stdout",
     "output_type": "stream",
     "text": [
      "y_preds.shape: (5342, 1)\n"
     ]
    },
    {
     "data": {
      "text/html": [
       "<div>\n",
       "<style scoped>\n",
       "    .dataframe tbody tr th:only-of-type {\n",
       "        vertical-align: middle;\n",
       "    }\n",
       "\n",
       "    .dataframe tbody tr th {\n",
       "        vertical-align: top;\n",
       "    }\n",
       "\n",
       "    .dataframe thead th {\n",
       "        text-align: right;\n",
       "    }\n",
       "</style>\n",
       "<table border=\"1\" class=\"dataframe\">\n",
       "  <thead>\n",
       "    <tr style=\"text-align: right;\">\n",
       "      <th></th>\n",
       "      <th>seasonal_vaccine</th>\n",
       "    </tr>\n",
       "    <tr>\n",
       "      <th>respondent_id</th>\n",
       "      <th></th>\n",
       "    </tr>\n",
       "  </thead>\n",
       "  <tbody>\n",
       "    <tr>\n",
       "      <th>22317</th>\n",
       "      <td>0.350633</td>\n",
       "    </tr>\n",
       "    <tr>\n",
       "      <th>1215</th>\n",
       "      <td>0.704360</td>\n",
       "    </tr>\n",
       "    <tr>\n",
       "      <th>10540</th>\n",
       "      <td>0.174620</td>\n",
       "    </tr>\n",
       "    <tr>\n",
       "      <th>7407</th>\n",
       "      <td>0.395614</td>\n",
       "    </tr>\n",
       "    <tr>\n",
       "      <th>14697</th>\n",
       "      <td>0.390815</td>\n",
       "    </tr>\n",
       "  </tbody>\n",
       "</table>\n",
       "</div>"
      ],
      "text/plain": [
       "               seasonal_vaccine\n",
       "respondent_id                  \n",
       "22317                  0.350633\n",
       "1215                   0.704360\n",
       "10540                  0.174620\n",
       "7407                   0.395614\n",
       "14697                  0.390815"
      ]
     },
     "execution_count": 307,
     "metadata": {},
     "output_type": "execute_result"
    }
   ],
   "source": [
    "y_preds_rf_seasonal = pd.DataFrame(\n",
    "    {\n",
    "        \"seasonal_vaccine\": preds_rf_seasonal[:, 1],\n",
    "    },\n",
    "    index = y_eval_seasonal.index\n",
    ")\n",
    "print(\"y_preds.shape:\", y_preds_rf_seasonal.shape)\n",
    "y_preds_rf_seasonal.head()"
   ]
  },
  {
   "cell_type": "code",
   "execution_count": 308,
   "metadata": {
    "colab": {
     "base_uri": "https://localhost:8080/",
     "height": 357
    },
    "id": "UjrMPDJwNEkF",
    "outputId": "0f781bc0-82d0-4271-c385-b42fef2147fb"
   },
   "outputs": [
    {
     "data": {
      "image/png": "[encoded data removed]",
      "text/plain": [
       "<Figure size 500x350 with 1 Axes>"
      ]
     },
     "metadata": {},
     "output_type": "display_data"
    }
   ],
   "source": [
    "fig, ax = plt.subplots(1, 1, figsize=(5, 3.5))\n",
    "\n",
    "plot_roc(\n",
    "    y_eval_seasonal['seasonal_vaccine'],\n",
    "    y_preds_rf_seasonal['seasonal_vaccine'],\n",
    "    'seasonal_vaccine',\n",
    "    ax=ax\n",
    ")\n",
    "fig.tight_layout()"
   ]
  },
  {
   "cell_type": "code",
   "execution_count": 309,
   "metadata": {},
   "outputs": [
    {
     "name": "stdout",
     "output_type": "stream",
     "text": [
      "[[2352  502]\n",
      " [ 725 1763]]\n"
     ]
    },
    {
     "data": {
      "image/png": "[encoded data removed]",
      "text/plain": [
       "<Figure size 640x480 with 2 Axes>"
      ]
     },
     "metadata": {},
     "output_type": "display_data"
    }
   ],
   "source": [
    "cm = confusion_matrix(y_eval_seasonal, preds_rf_seasonal[:, 1].round())\n",
    "print(cm)\n",
    "\n",
    "disp = ConfusionMatrixDisplay(confusion_matrix=cm, display_labels=estimator_rf_seasonal.classes_)\n",
    "disp.plot()\n",
    "plt.show()"
   ]
  },
  {
   "cell_type": "markdown",
   "metadata": {},
   "source": [
    "### Algoritmo 3: KNeighbors"
   ]
  },
  {
   "cell_type": "code",
   "execution_count": 343,
   "metadata": {
    "colab": {
     "base_uri": "https://localhost:8080/",
     "height": 293
    },
    "id": "PZkCzCyPMb6f",
    "outputId": "ca159d78-995c-4e11-893a-0b664aed9f85"
   },
   "outputs": [
    {
     "data": {
      "text/plain": [
       "Pipeline(steps=[('preprocessor',\n",
       "                 ColumnTransformer(transformers=[('numeric',\n",
       "                                                  Pipeline(steps=[('standard_scaler',\n",
       "                                                                   StandardScaler()),\n",
       "                                                                  ('simple_imputer',\n",
       "                                                                   SimpleImputer(strategy='median'))]),\n",
       "                                                  array(['h1n1_concern', 'h1n1_knowledge', 'behavioral_antiviral_meds',\n",
       "       'behavioral_avoidance', 'behavioral_face_mask',\n",
       "       'behavioral_wash_hands', 'behavioral_large_gatherings',\n",
       "       '...\n",
       "       'age_group_3', 'age_group_4', 'education_0', 'education_1',\n",
       "       'education_2', 'education_3', 'race_0', 'race_1', 'race_2',\n",
       "       'race_3', 'sex_0', 'sex_1', 'marital_status_0', 'marital_status_1',\n",
       "       'rent_or_own_0', 'rent_or_own_1', 'employment_status_0',\n",
       "       'employment_status_1', 'employment_status_2', 'census_msa_0',\n",
       "       'census_msa_1', 'census_msa_2'], dtype=object))])),\n",
       "                ('estimator', KNeighborsClassifier(n_neighbors=30))])"
      ]
     },
     "execution_count": 343,
     "metadata": {},
     "output_type": "execute_result"
    }
   ],
   "source": [
    "estimator_kn_seasonal = KNeighborsClassifier(n_neighbors=30)\n",
    "\n",
    "full_pipeline = Pipeline([\n",
    "    (\"preprocessor\", preprocessor),\n",
    "    (\"estimator\", estimator_kn_seasonal),\n",
    "])\n",
    "\n",
    "full_pipeline"
   ]
  },
  {
   "cell_type": "code",
   "execution_count": 344,
   "metadata": {
    "colab": {
     "base_uri": "https://localhost:8080/"
    },
    "id": "9dowNfn8KDDa",
    "outputId": "6b4d64a4-ffaf-4698-f1f3-60b00f9b77ff"
   },
   "outputs": [
    {
     "data": {
      "text/plain": [
       "array([[0.8       , 0.2       ],\n",
       "       [0.36666667, 0.63333333],\n",
       "       [0.8       , 0.2       ],\n",
       "       ...,\n",
       "       [0.9       , 0.1       ],\n",
       "       [0.43333333, 0.56666667],\n",
       "       [0.5       , 0.5       ]])"
      ]
     },
     "execution_count": 344,
     "metadata": {},
     "output_type": "execute_result"
    }
   ],
   "source": [
    "# Train model\n",
    "full_pipeline.fit(X_train, y_train_seasonal)\n",
    "\n",
    "# Predict on evaluation set\n",
    "preds_kn_seasonal = full_pipeline.predict_proba(X_eval)\n",
    "preds_kn_seasonal"
   ]
  },
  {
   "cell_type": "code",
   "execution_count": 345,
   "metadata": {
    "colab": {
     "base_uri": "https://localhost:8080/"
    },
    "id": "Rz7fT-Q9Kk9B",
    "outputId": "85b3c006-a25d-4965-f816-1e67d81b3500"
   },
   "outputs": [
    {
     "name": "stdout",
     "output_type": "stream",
     "text": [
      "Accuracy:     0.7340\n",
      "Precision:     0.7494\n",
      "Recall:     0.6443\n",
      "\n",
      "               precision    recall  f1-score   support\n",
      "\n",
      "           0       0.72      0.81      0.77      2854\n",
      "           1       0.75      0.64      0.69      2488\n",
      "\n",
      "    accuracy                           0.73      5342\n",
      "   macro avg       0.74      0.73      0.73      5342\n",
      "weighted avg       0.74      0.73      0.73      5342\n",
      "\n"
     ]
    }
   ],
   "source": [
    "print_metrics(y_eval_seasonal, preds_kn_seasonal[:, 1].round())"
   ]
  },
  {
   "cell_type": "code",
   "execution_count": 346,
   "metadata": {},
   "outputs": [
    {
     "name": "stdout",
     "output_type": "stream",
     "text": [
      "AUC = 0.806208\n"
     ]
    }
   ],
   "source": [
    "print(f\"AUC = {roc_auc_score(y_eval_seasonal, preds_kn_seasonal[:, 1]):.6f}\")"
   ]
  },
  {
   "cell_type": "code",
   "execution_count": 347,
   "metadata": {
    "colab": {
     "base_uri": "https://localhost:8080/",
     "height": 255
    },
    "id": "_RRdcgFmM8nf",
    "outputId": "43f5f3a7-2c42-4d17-c766-b4a9283d71a5"
   },
   "outputs": [
    {
     "name": "stdout",
     "output_type": "stream",
     "text": [
      "y_preds.shape: (5342, 1)\n"
     ]
    },
    {
     "data": {
      "text/html": [
       "<div>\n",
       "<style scoped>\n",
       "    .dataframe tbody tr th:only-of-type {\n",
       "        vertical-align: middle;\n",
       "    }\n",
       "\n",
       "    .dataframe tbody tr th {\n",
       "        vertical-align: top;\n",
       "    }\n",
       "\n",
       "    .dataframe thead th {\n",
       "        text-align: right;\n",
       "    }\n",
       "</style>\n",
       "<table border=\"1\" class=\"dataframe\">\n",
       "  <thead>\n",
       "    <tr style=\"text-align: right;\">\n",
       "      <th></th>\n",
       "      <th>seasonal_vaccine</th>\n",
       "    </tr>\n",
       "    <tr>\n",
       "      <th>respondent_id</th>\n",
       "      <th></th>\n",
       "    </tr>\n",
       "  </thead>\n",
       "  <tbody>\n",
       "    <tr>\n",
       "      <th>22317</th>\n",
       "      <td>0.200000</td>\n",
       "    </tr>\n",
       "    <tr>\n",
       "      <th>1215</th>\n",
       "      <td>0.633333</td>\n",
       "    </tr>\n",
       "    <tr>\n",
       "      <th>10540</th>\n",
       "      <td>0.200000</td>\n",
       "    </tr>\n",
       "    <tr>\n",
       "      <th>7407</th>\n",
       "      <td>0.500000</td>\n",
       "    </tr>\n",
       "    <tr>\n",
       "      <th>14697</th>\n",
       "      <td>0.200000</td>\n",
       "    </tr>\n",
       "  </tbody>\n",
       "</table>\n",
       "</div>"
      ],
      "text/plain": [
       "               seasonal_vaccine\n",
       "respondent_id                  \n",
       "22317                  0.200000\n",
       "1215                   0.633333\n",
       "10540                  0.200000\n",
       "7407                   0.500000\n",
       "14697                  0.200000"
      ]
     },
     "execution_count": 347,
     "metadata": {},
     "output_type": "execute_result"
    }
   ],
   "source": [
    "y_preds_kn_seasonal = pd.DataFrame(\n",
    "    {\n",
    "        \"seasonal_vaccine\": preds_kn_seasonal[:, 1],\n",
    "    },\n",
    "    index = y_eval_seasonal.index\n",
    ")\n",
    "print(\"y_preds.shape:\", y_preds_kn_seasonal.shape)\n",
    "y_preds_kn_seasonal.head()"
   ]
  },
  {
   "cell_type": "code",
   "execution_count": 348,
   "metadata": {
    "colab": {
     "base_uri": "https://localhost:8080/",
     "height": 357
    },
    "id": "UjrMPDJwNEkF",
    "outputId": "0f781bc0-82d0-4271-c385-b42fef2147fb"
   },
   "outputs": [
    {
     "data": {
      "image/png": "[encoded data removed]",
      "text/plain": [
       "<Figure size 500x350 with 1 Axes>"
      ]
     },
     "metadata": {},
     "output_type": "display_data"
    }
   ],
   "source": [
    "fig, ax = plt.subplots(1, 1, figsize=(5, 3.5))\n",
    "\n",
    "plot_roc(\n",
    "    y_eval_seasonal['seasonal_vaccine'],\n",
    "    y_preds_kn_seasonal['seasonal_vaccine'],\n",
    "    'seasonal_vaccine',\n",
    "    ax=ax\n",
    ")\n",
    "fig.tight_layout()"
   ]
  },
  {
   "cell_type": "code",
   "execution_count": 349,
   "metadata": {},
   "outputs": [
    {
     "name": "stdout",
     "output_type": "stream",
     "text": [
      "[[2318  536]\n",
      " [ 885 1603]]\n"
     ]
    },
    {
     "data": {
      "image/png": "[encoded data removed]",
      "text/plain": [
       "<Figure size 640x480 with 2 Axes>"
      ]
     },
     "metadata": {},
     "output_type": "display_data"
    }
   ],
   "source": [
    "cm = confusion_matrix(y_eval_seasonal, preds_kn_seasonal[:, 1].round())\n",
    "print(cm)\n",
    "\n",
    "disp = ConfusionMatrixDisplay(confusion_matrix=cm, display_labels=estimator_kn_seasonal.classes_)\n",
    "disp.plot()\n",
    "plt.show()"
   ]
  },
  {
   "cell_type": "markdown",
   "metadata": {},
   "source": [
    "## MultiOutputClassifier"
   ]
  },
  {
   "cell_type": "markdown",
   "metadata": {
    "id": "fDMLJQ5gnPO9"
   },
   "source": [
    "### Algoritmo 1: Logistic Regression"
   ]
  },
  {
   "cell_type": "code",
   "execution_count": 157,
   "metadata": {
    "id": "4IOqF5LIJWUC"
   },
   "outputs": [],
   "source": [
    "# chain preprocessing into a Pipeline object\n",
    "# each step is a tuple of (name you chose, sklearn transformer)\n",
    "numeric_preprocessing_steps = Pipeline([\n",
    "    ('standard_scaler', StandardScaler()),\n",
    "    ('simple_imputer', SimpleImputer(strategy='median'))\n",
    "])\n",
    "\n",
    "# create the preprocessor stage of final pipeline\n",
    "# each entry in the transformer list is a tuple of\n",
    "# (name you choose, sklearn transformer, list of columns)\n",
    "preprocessor = ColumnTransformer(\n",
    "    transformers = [\n",
    "        (\"numeric\", numeric_preprocessing_steps, numeric_cols)\n",
    "    ],\n",
    "    remainder = \"drop\"\n",
    ")"
   ]
  },
  {
   "cell_type": "code",
   "execution_count": 158,
   "metadata": {
    "colab": {
     "base_uri": "https://localhost:8080/",
     "height": 293
    },
    "id": "PZkCzCyPMb6f",
    "outputId": "ca159d78-995c-4e11-893a-0b664aed9f85"
   },
   "outputs": [
    {
     "data": {
      "text/plain": [
       "Pipeline(steps=[('preprocessor',\n",
       "                 ColumnTransformer(transformers=[('numeric',\n",
       "                                                  Pipeline(steps=[('standard_scaler',\n",
       "                                                                   StandardScaler()),\n",
       "                                                                  ('simple_imputer',\n",
       "                                                                   SimpleImputer(strategy='median'))]),\n",
       "                                                  array(['h1n1_concern', 'h1n1_knowledge', 'behavioral_antiviral_meds',\n",
       "       'behavioral_avoidance', 'behavioral_face_mask',\n",
       "       'behavioral_wash_hands', 'behavioral_large_gatherings',\n",
       "       '...\n",
       "       'race_3', 'sex_0', 'sex_1', 'marital_status_0', 'marital_status_1',\n",
       "       'rent_or_own_0', 'rent_or_own_1', 'employment_status_0',\n",
       "       'employment_status_1', 'employment_status_2', 'census_msa_0',\n",
       "       'census_msa_1', 'census_msa_2'], dtype=object))])),\n",
       "                ('estimators',\n",
       "                 MultiOutputClassifier(estimator=LogisticRegression(C=0.5,\n",
       "                                                                    multi_class='multinomial',\n",
       "                                                                    penalty='l1',\n",
       "                                                                    solver='saga')))])"
      ]
     },
     "execution_count": 158,
     "metadata": {},
     "output_type": "execute_result"
    }
   ],
   "source": [
    "estimators = MultiOutputClassifier(\n",
    "    estimator=LogisticRegression(C=0.5, solver='saga', multi_class='multinomial', penalty='l1')\n",
    ")\n",
    "\n",
    "full_pipeline = Pipeline([\n",
    "    (\"preprocessor\", preprocessor),\n",
    "    (\"estimators\", estimators),\n",
    "])\n",
    "\n",
    "full_pipeline"
   ]
  },
  {
   "cell_type": "code",
   "execution_count": 159,
   "metadata": {
    "colab": {
     "base_uri": "https://localhost:8080/"
    },
    "id": "9dowNfn8KDDa",
    "outputId": "6b4d64a4-ffaf-4698-f1f3-60b00f9b77ff"
   },
   "outputs": [
    {
     "data": {
      "text/plain": [
       "[array([[0.98770674, 0.01229326],\n",
       "        [0.53866649, 0.46133351],\n",
       "        [0.90066045, 0.09933955],\n",
       "        ...,\n",
       "        [0.97877341, 0.02122659],\n",
       "        [0.80617567, 0.19382433],\n",
       "        [0.62049171, 0.37950829]]),\n",
       " array([[0.58708617, 0.41291383],\n",
       "        [0.24182285, 0.75817715],\n",
       "        [0.84213624, 0.15786376],\n",
       "        ...,\n",
       "        [0.90523155, 0.09476845],\n",
       "        [0.46824025, 0.53175975],\n",
       "        [0.58484367, 0.41515633]])]"
      ]
     },
     "execution_count": 159,
     "metadata": {},
     "output_type": "execute_result"
    }
   ],
   "source": [
    "# Train model\n",
    "full_pipeline.fit(X_train, y_train)\n",
    "\n",
    "# Predict on evaluation set\n",
    "preds_lr_multi = full_pipeline.predict_proba(X_eval)\n",
    "preds_lr_multi"
   ]
  },
  {
   "cell_type": "code",
   "execution_count": 160,
   "metadata": {
    "colab": {
     "base_uri": "https://localhost:8080/"
    },
    "id": "Wn9WydwLLBQA",
    "outputId": "8c91b88f-f85c-4dcd-f627-effbcd68e051"
   },
   "outputs": [
    {
     "name": "stdout",
     "output_type": "stream",
     "text": [
      "Accuracy:     0.8463\n",
      "Precision:     0.6997\n",
      "Recall:     0.4846\n",
      "\n",
      "               precision    recall  f1-score   support\n",
      "\n",
      "           0       0.87      0.94      0.91      4207\n",
      "           1       0.70      0.48      0.57      1135\n",
      "\n",
      "    accuracy                           0.85      5342\n",
      "   macro avg       0.79      0.71      0.74      5342\n",
      "weighted avg       0.84      0.85      0.84      5342\n",
      "\n"
     ]
    }
   ],
   "source": [
    "# Classification metrics can't handle a mix of binary and continuous targets\n",
    "print_metrics(y_eval_h1n1, preds_lr_multi[0][:, 1].round())"
   ]
  },
  {
   "cell_type": "code",
   "execution_count": 161,
   "metadata": {
    "colab": {
     "base_uri": "https://localhost:8080/"
    },
    "id": "Rz7fT-Q9Kk9B",
    "outputId": "85b3c006-a25d-4965-f816-1e67d81b3500"
   },
   "outputs": [
    {
     "name": "stdout",
     "output_type": "stream",
     "text": [
      "Accuracy:     0.7791\n",
      "Precision:     0.7762\n",
      "Recall:     0.7387\n",
      "\n",
      "               precision    recall  f1-score   support\n",
      "\n",
      "           0       0.78      0.81      0.80      2854\n",
      "           1       0.78      0.74      0.76      2488\n",
      "\n",
      "    accuracy                           0.78      5342\n",
      "   macro avg       0.78      0.78      0.78      5342\n",
      "weighted avg       0.78      0.78      0.78      5342\n",
      "\n"
     ]
    }
   ],
   "source": [
    "print_metrics(y_eval_seasonal, preds_lr_multi[1][:, 1].round())"
   ]
  },
  {
   "cell_type": "code",
   "execution_count": 162,
   "metadata": {},
   "outputs": [
    {
     "name": "stdout",
     "output_type": "stream",
     "text": [
      "AUC = 0.8585236060\n"
     ]
    }
   ],
   "source": [
    "print(f\"AUC = {roc_auc_score(y_eval_h1n1, preds_lr_multi[0][:, 1]):.6f}\")"
   ]
  },
  {
   "cell_type": "code",
   "execution_count": 163,
   "metadata": {},
   "outputs": [
    {
     "name": "stdout",
     "output_type": "stream",
     "text": [
      "AUC = 0.8524030976\n"
     ]
    }
   ],
   "source": [
    "print(f\"AUC = {roc_auc_score(y_eval_seasonal, preds_lr_multi[1][:, 1]):.6f}\")"
   ]
  },
  {
   "cell_type": "code",
   "execution_count": 164,
   "metadata": {
    "colab": {
     "base_uri": "https://localhost:8080/",
     "height": 255
    },
    "id": "_RRdcgFmM8nf",
    "outputId": "43f5f3a7-2c42-4d17-c766-b4a9283d71a5"
   },
   "outputs": [
    {
     "name": "stdout",
     "output_type": "stream",
     "text": [
      "y_preds.shape: (5342, 2)\n"
     ]
    },
    {
     "data": {
      "text/html": [
       "<div>\n",
       "<style scoped>\n",
       "    .dataframe tbody tr th:only-of-type {\n",
       "        vertical-align: middle;\n",
       "    }\n",
       "\n",
       "    .dataframe tbody tr th {\n",
       "        vertical-align: top;\n",
       "    }\n",
       "\n",
       "    .dataframe thead th {\n",
       "        text-align: right;\n",
       "    }\n",
       "</style>\n",
       "<table border=\"1\" class=\"dataframe\">\n",
       "  <thead>\n",
       "    <tr style=\"text-align: right;\">\n",
       "      <th></th>\n",
       "      <th>h1n1_vaccine</th>\n",
       "      <th>seasonal_vaccine</th>\n",
       "    </tr>\n",
       "    <tr>\n",
       "      <th>respondent_id</th>\n",
       "      <th></th>\n",
       "      <th></th>\n",
       "    </tr>\n",
       "  </thead>\n",
       "  <tbody>\n",
       "    <tr>\n",
       "      <th>22317</th>\n",
       "      <td>0.012293</td>\n",
       "      <td>0.412914</td>\n",
       "    </tr>\n",
       "    <tr>\n",
       "      <th>1215</th>\n",
       "      <td>0.461334</td>\n",
       "      <td>0.758177</td>\n",
       "    </tr>\n",
       "    <tr>\n",
       "      <th>10540</th>\n",
       "      <td>0.099340</td>\n",
       "      <td>0.157864</td>\n",
       "    </tr>\n",
       "    <tr>\n",
       "      <th>7407</th>\n",
       "      <td>0.148404</td>\n",
       "      <td>0.163243</td>\n",
       "    </tr>\n",
       "    <tr>\n",
       "      <th>14697</th>\n",
       "      <td>0.194856</td>\n",
       "      <td>0.333376</td>\n",
       "    </tr>\n",
       "  </tbody>\n",
       "</table>\n",
       "</div>"
      ],
      "text/plain": [
       "               h1n1_vaccine  seasonal_vaccine\n",
       "respondent_id                                \n",
       "22317              0.012293          0.412914\n",
       "1215               0.461334          0.758177\n",
       "10540              0.099340          0.157864\n",
       "7407               0.148404          0.163243\n",
       "14697              0.194856          0.333376"
      ]
     },
     "execution_count": 164,
     "metadata": {},
     "output_type": "execute_result"
    }
   ],
   "source": [
    "y_preds_lr_multi = pd.DataFrame(\n",
    "    {\n",
    "        \"h1n1_vaccine\": preds_lr_multi[0][:, 1],\n",
    "        \"seasonal_vaccine\": preds_lr_multi[1][:, 1],\n",
    "    },\n",
    "    index = y_eval.index\n",
    ")\n",
    "print(\"y_preds.shape:\", y_preds_lr_multi.shape)\n",
    "y_preds_lr_multi.head()"
   ]
  },
  {
   "cell_type": "code",
   "execution_count": 165,
   "metadata": {
    "colab": {
     "base_uri": "https://localhost:8080/",
     "height": 357
    },
    "id": "UjrMPDJwNEkF",
    "outputId": "0f781bc0-82d0-4271-c385-b42fef2147fb"
   },
   "outputs": [
    {
     "data": {
      "image/png": "[encoded data removed]",
      "text/plain": [
       "<Figure size 700x350 with 2 Axes>"
      ]
     },
     "metadata": {},
     "output_type": "display_data"
    }
   ],
   "source": [
    "fig, ax = plt.subplots(1, 2, figsize=(7, 3.5))\n",
    "\n",
    "plot_roc(\n",
    "    y_eval['h1n1_vaccine'],\n",
    "    y_preds_lr_multi['h1n1_vaccine'],\n",
    "    'h1n1_vaccine',\n",
    "    ax=ax[0]\n",
    ")\n",
    "plot_roc(\n",
    "    y_eval['seasonal_vaccine'],\n",
    "    y_preds_lr_multi['seasonal_vaccine'],\n",
    "    'seasonal_vaccine',\n",
    "    ax=ax[1]\n",
    ")\n",
    "fig.tight_layout()"
   ]
  },
  {
   "cell_type": "markdown",
   "metadata": {
    "id": "MUP62RmKnUFN"
   },
   "source": [
    "### Algoritmo 2: Naive Bayes"
   ]
  },
  {
   "cell_type": "code",
   "execution_count": 166,
   "metadata": {
    "colab": {
     "base_uri": "https://localhost:8080/",
     "height": 293
    },
    "id": "7fPKXl-PKMXF",
    "outputId": "06f4819f-9d1e-4304-d8c5-2227bf2a9c75"
   },
   "outputs": [
    {
     "data": {
      "text/plain": [
       "Pipeline(steps=[('preprocessor',\n",
       "                 ColumnTransformer(transformers=[('numeric',\n",
       "                                                  Pipeline(steps=[('standard_scaler',\n",
       "                                                                   StandardScaler()),\n",
       "                                                                  ('simple_imputer',\n",
       "                                                                   SimpleImputer(strategy='median'))]),\n",
       "                                                  array(['h1n1_concern', 'h1n1_knowledge', 'behavioral_antiviral_meds',\n",
       "       'behavioral_avoidance', 'behavioral_face_mask',\n",
       "       'behavioral_wash_hands', 'behavioral_large_gatherings',\n",
       "       '...\n",
       "       'education_2', 'education_3', 'race_0', 'race_1', 'race_2',\n",
       "       'race_3', 'sex_0', 'sex_1', 'marital_status_0', 'marital_status_1',\n",
       "       'rent_or_own_0', 'rent_or_own_1', 'employment_status_0',\n",
       "       'employment_status_1', 'employment_status_2', 'census_msa_0',\n",
       "       'census_msa_1', 'census_msa_2'], dtype=object))])),\n",
       "                ('estimators',\n",
       "                 MultiOutputClassifier(estimator=GaussianNB(var_smoothing=0.02848)))])"
      ]
     },
     "execution_count": 166,
     "metadata": {},
     "output_type": "execute_result"
    }
   ],
   "source": [
    "estimators = MultiOutputClassifier(\n",
    "    estimator=GaussianNB(var_smoothing=0.02848)\n",
    ")\n",
    "\n",
    "full_pipeline = Pipeline([\n",
    "    (\"preprocessor\", preprocessor),\n",
    "    (\"estimators\", estimators),\n",
    "])\n",
    "\n",
    "full_pipeline"
   ]
  },
  {
   "cell_type": "code",
   "execution_count": 167,
   "metadata": {
    "colab": {
     "base_uri": "https://localhost:8080/"
    },
    "id": "Xov5UsdiKcXc",
    "outputId": "7e814865-2187-44a4-9e8f-c8f8691bf2c1"
   },
   "outputs": [
    {
     "data": {
      "text/plain": [
       "[array([[9.99043482e-01, 9.56517777e-04],\n",
       "        [2.12525316e-02, 9.78747468e-01],\n",
       "        [9.98976668e-01, 1.02333172e-03],\n",
       "        ...,\n",
       "        [9.99872733e-01, 1.27267246e-04],\n",
       "        [9.03577916e-01, 9.64220840e-02],\n",
       "        [5.48115847e-02, 9.45188415e-01]]),\n",
       " array([[8.23823096e-01, 1.76176904e-01],\n",
       "        [8.02187472e-04, 9.99197813e-01],\n",
       "        [9.98345077e-01, 1.65492300e-03],\n",
       "        ...,\n",
       "        [9.71255262e-01, 2.87447380e-02],\n",
       "        [3.29073391e-02, 9.67092661e-01],\n",
       "        [3.53671748e-01, 6.46328252e-01]])]"
      ]
     },
     "execution_count": 167,
     "metadata": {},
     "output_type": "execute_result"
    }
   ],
   "source": [
    "# Train model\n",
    "full_pipeline.fit(X_train, y_train)\n",
    "\n",
    "# Predict on evaluation set\n",
    "preds_naive_multi = full_pipeline.predict_proba(X_eval)\n",
    "preds_naive_multi"
   ]
  },
  {
   "cell_type": "code",
   "execution_count": 168,
   "metadata": {
    "colab": {
     "base_uri": "https://localhost:8080/"
    },
    "id": "StjDzTp2Kg_q",
    "outputId": "d6646130-3a43-4801-e6d1-9f0e06f3e74b"
   },
   "outputs": [
    {
     "name": "stdout",
     "output_type": "stream",
     "text": [
      "Accuracy:     0.7812\n",
      "Precision:     0.4886\n",
      "Recall:     0.6396\n",
      "\n",
      "               precision    recall  f1-score   support\n",
      "\n",
      "           0       0.89      0.82      0.86      4207\n",
      "           1       0.49      0.64      0.55      1135\n",
      "\n",
      "    accuracy                           0.78      5342\n",
      "   macro avg       0.69      0.73      0.70      5342\n",
      "weighted avg       0.81      0.78      0.79      5342\n",
      "\n"
     ]
    }
   ],
   "source": [
    "print_metrics(y_eval_h1n1, preds_naive_multi[0][:, 1].round())"
   ]
  },
  {
   "cell_type": "code",
   "execution_count": 169,
   "metadata": {},
   "outputs": [
    {
     "name": "stdout",
     "output_type": "stream",
     "text": [
      "AUC = 0.8053866589\n"
     ]
    }
   ],
   "source": [
    "print(f\"AUC = {roc_auc_score(y_eval_h1n1, preds_naive_multi[0][:, 1]):.6f}\")"
   ]
  },
  {
   "cell_type": "code",
   "execution_count": 170,
   "metadata": {
    "colab": {
     "base_uri": "https://localhost:8080/"
    },
    "id": "fwFykvp9Kr7H",
    "outputId": "1069cfe2-35f7-4ed0-c47c-6bee92763121"
   },
   "outputs": [
    {
     "name": "stdout",
     "output_type": "stream",
     "text": [
      "Accuracy:     0.7276\n",
      "Precision:     0.6938\n",
      "Recall:     0.7432\n",
      "\n",
      "               precision    recall  f1-score   support\n",
      "\n",
      "           0       0.76      0.71      0.74      2854\n",
      "           1       0.69      0.74      0.72      2488\n",
      "\n",
      "    accuracy                           0.73      5342\n",
      "   macro avg       0.73      0.73      0.73      5342\n",
      "weighted avg       0.73      0.73      0.73      5342\n",
      "\n"
     ]
    }
   ],
   "source": [
    "print_metrics(y_eval_seasonal, preds_naive_multi[1][:, 1].round())"
   ]
  },
  {
   "cell_type": "code",
   "execution_count": 171,
   "metadata": {},
   "outputs": [
    {
     "name": "stdout",
     "output_type": "stream",
     "text": [
      "AUC = 0.8019135156\n"
     ]
    }
   ],
   "source": [
    "print(f\"AUC = {roc_auc_score(y_eval_seasonal, preds_naive_multi[1][:, 1]):.6f}\")"
   ]
  },
  {
   "cell_type": "code",
   "execution_count": 172,
   "metadata": {
    "colab": {
     "base_uri": "https://localhost:8080/",
     "height": 255
    },
    "id": "_IMzq4baMpSY",
    "outputId": "7440ccb2-fa3d-4e84-ea4a-fee3859f8510"
   },
   "outputs": [
    {
     "name": "stdout",
     "output_type": "stream",
     "text": [
      "y_preds.shape: (5342, 2)\n"
     ]
    },
    {
     "data": {
      "text/html": [
       "<div>\n",
       "<style scoped>\n",
       "    .dataframe tbody tr th:only-of-type {\n",
       "        vertical-align: middle;\n",
       "    }\n",
       "\n",
       "    .dataframe tbody tr th {\n",
       "        vertical-align: top;\n",
       "    }\n",
       "\n",
       "    .dataframe thead th {\n",
       "        text-align: right;\n",
       "    }\n",
       "</style>\n",
       "<table border=\"1\" class=\"dataframe\">\n",
       "  <thead>\n",
       "    <tr style=\"text-align: right;\">\n",
       "      <th></th>\n",
       "      <th>h1n1_vaccine</th>\n",
       "      <th>seasonal_vaccine</th>\n",
       "    </tr>\n",
       "    <tr>\n",
       "      <th>respondent_id</th>\n",
       "      <th></th>\n",
       "      <th></th>\n",
       "    </tr>\n",
       "  </thead>\n",
       "  <tbody>\n",
       "    <tr>\n",
       "      <th>22317</th>\n",
       "      <td>0.000957</td>\n",
       "      <td>0.176177</td>\n",
       "    </tr>\n",
       "    <tr>\n",
       "      <th>1215</th>\n",
       "      <td>0.978747</td>\n",
       "      <td>0.999198</td>\n",
       "    </tr>\n",
       "    <tr>\n",
       "      <th>10540</th>\n",
       "      <td>0.001023</td>\n",
       "      <td>0.001655</td>\n",
       "    </tr>\n",
       "    <tr>\n",
       "      <th>7407</th>\n",
       "      <td>0.000052</td>\n",
       "      <td>0.000937</td>\n",
       "    </tr>\n",
       "    <tr>\n",
       "      <th>14697</th>\n",
       "      <td>0.002279</td>\n",
       "      <td>0.001749</td>\n",
       "    </tr>\n",
       "  </tbody>\n",
       "</table>\n",
       "</div>"
      ],
      "text/plain": [
       "               h1n1_vaccine  seasonal_vaccine\n",
       "respondent_id                                \n",
       "22317              0.000957          0.176177\n",
       "1215               0.978747          0.999198\n",
       "10540              0.001023          0.001655\n",
       "7407               0.000052          0.000937\n",
       "14697              0.002279          0.001749"
      ]
     },
     "execution_count": 172,
     "metadata": {},
     "output_type": "execute_result"
    }
   ],
   "source": [
    "y_preds_naive_multi = pd.DataFrame(\n",
    "    {\n",
    "        \"h1n1_vaccine\": preds_naive_multi[0][:, 1],\n",
    "        \"seasonal_vaccine\": preds_naive_multi[1][:, 1],\n",
    "    },\n",
    "    index = y_eval.index\n",
    ")\n",
    "print(\"y_preds.shape:\", y_preds_naive_multi.shape)\n",
    "y_preds_naive_multi.head()"
   ]
  },
  {
   "cell_type": "code",
   "execution_count": 173,
   "metadata": {
    "colab": {
     "base_uri": "https://localhost:8080/",
     "height": 357
    },
    "id": "57kh3AB1MfQw",
    "outputId": "01146153-7f6f-4c28-d72a-f828c8b30491"
   },
   "outputs": [
    {
     "data": {
      "image/png": "[encoded data removed]",
      "text/plain": [
       "<Figure size 700x350 with 2 Axes>"
      ]
     },
     "metadata": {},
     "output_type": "display_data"
    }
   ],
   "source": [
    "fig, ax = plt.subplots(1, 2, figsize=(7, 3.5))\n",
    "\n",
    "plot_roc(\n",
    "    y_eval['h1n1_vaccine'],\n",
    "    y_preds_naive_multi['h1n1_vaccine'],\n",
    "    'h1n1_vaccine',\n",
    "    ax=ax[0]\n",
    ")\n",
    "plot_roc(\n",
    "    y_eval['seasonal_vaccine'],\n",
    "    y_preds_naive_multi['seasonal_vaccine'],\n",
    "    'seasonal_vaccine',\n",
    "    ax=ax[1]\n",
    ")\n",
    "fig.tight_layout()"
   ]
  },
  {
   "cell_type": "markdown",
   "metadata": {
    "id": "f6VVY8uanW_F"
   },
   "source": [
    "### Algoritmo 3: SVM"
   ]
  },
  {
   "cell_type": "code",
   "execution_count": 174,
   "metadata": {
    "colab": {
     "base_uri": "https://localhost:8080/",
     "height": 316
    },
    "id": "g4bKA2PAOZ3A",
    "outputId": "3482dc1d-7985-41d6-9f0b-5d2f0ac13289"
   },
   "outputs": [
    {
     "data": {
      "text/plain": [
       "Pipeline(steps=[('preprocessor',\n",
       "                 ColumnTransformer(transformers=[('numeric',\n",
       "                                                  Pipeline(steps=[('standard_scaler',\n",
       "                                                                   StandardScaler()),\n",
       "                                                                  ('simple_imputer',\n",
       "                                                                   SimpleImputer(strategy='median'))]),\n",
       "                                                  array(['h1n1_concern', 'h1n1_knowledge', 'behavioral_antiviral_meds',\n",
       "       'behavioral_avoidance', 'behavioral_face_mask',\n",
       "       'behavioral_wash_hands', 'behavioral_large_gatherings',\n",
       "       '...\n",
       "       'education_2', 'education_3', 'race_0', 'race_1', 'race_2',\n",
       "       'race_3', 'sex_0', 'sex_1', 'marital_status_0', 'marital_status_1',\n",
       "       'rent_or_own_0', 'rent_or_own_1', 'employment_status_0',\n",
       "       'employment_status_1', 'employment_status_2', 'census_msa_0',\n",
       "       'census_msa_1', 'census_msa_2'], dtype=object))])),\n",
       "                ('estimators',\n",
       "                 MultiOutputClassifier(estimator=SVC(C=1, gamma=0.01,\n",
       "                                                     probability=True)))])"
      ]
     },
     "execution_count": 174,
     "metadata": {},
     "output_type": "execute_result"
    }
   ],
   "source": [
    "estimators = MultiOutputClassifier(\n",
    "    estimator=SVC(C=1, gamma=0.01, kernel='rbf', probability=True)\n",
    ")\n",
    "\n",
    "full_pipeline = Pipeline([\n",
    "    (\"preprocessor\", preprocessor),\n",
    "    (\"estimators\", estimators),\n",
    "])\n",
    "\n",
    "full_pipeline"
   ]
  },
  {
   "cell_type": "code",
   "execution_count": 175,
   "metadata": {
    "colab": {
     "base_uri": "https://localhost:8080/"
    },
    "id": "lm8KRj3dUNwS",
    "outputId": "164f8d65-ab91-4e94-b5fe-29bd02aa31f3"
   },
   "outputs": [
    {
     "data": {
      "text/plain": [
       "[array([[0.95200388, 0.04799612],\n",
       "        [0.64142987, 0.35857013],\n",
       "        [0.90295805, 0.09704195],\n",
       "        ...,\n",
       "        [0.91038685, 0.08961315],\n",
       "        [0.85872831, 0.14127169],\n",
       "        [0.70029805, 0.29970195]]),\n",
       " array([[0.60544021, 0.39455979],\n",
       "        [0.16823312, 0.83176688],\n",
       "        [0.83205415, 0.16794585],\n",
       "        ...,\n",
       "        [0.92766949, 0.07233051],\n",
       "        [0.51434268, 0.48565732],\n",
       "        [0.52063894, 0.47936106]])]"
      ]
     },
     "execution_count": 175,
     "metadata": {},
     "output_type": "execute_result"
    }
   ],
   "source": [
    "# Train model\n",
    "full_pipeline.fit(X_train, y_train)\n",
    "\n",
    "# Predict on evaluation set\n",
    "preds_svm_multi = full_pipeline.predict_proba(X_eval)\n",
    "preds_svm_multi"
   ]
  },
  {
   "cell_type": "code",
   "execution_count": 176,
   "metadata": {
    "colab": {
     "base_uri": "https://localhost:8080/"
    },
    "id": "azp_0KwbUTfc",
    "outputId": "6aff0f53-4516-43b0-d065-9649ee64816f"
   },
   "outputs": [
    {
     "name": "stdout",
     "output_type": "stream",
     "text": [
      "Accuracy:     0.8493\n",
      "Precision:     0.7398\n",
      "Recall:     0.4485\n",
      "\n",
      "               precision    recall  f1-score   support\n",
      "\n",
      "           0       0.87      0.96      0.91      4207\n",
      "           1       0.74      0.45      0.56      1135\n",
      "\n",
      "    accuracy                           0.85      5342\n",
      "   macro avg       0.80      0.70      0.73      5342\n",
      "weighted avg       0.84      0.85      0.83      5342\n",
      "\n"
     ]
    }
   ],
   "source": [
    "print_metrics(y_eval_h1n1, preds_svm_multi[0][:, 1].round())"
   ]
  },
  {
   "cell_type": "code",
   "execution_count": 177,
   "metadata": {},
   "outputs": [
    {
     "name": "stdout",
     "output_type": "stream",
     "text": [
      "AUC = 0.8472074547\n"
     ]
    }
   ],
   "source": [
    "print(f\"AUC = {roc_auc_score(y_eval_h1n1, preds_svm_multi[0][:, 1]):.6f}\")"
   ]
  },
  {
   "cell_type": "code",
   "execution_count": 178,
   "metadata": {
    "colab": {
     "base_uri": "https://localhost:8080/"
    },
    "id": "Axh9URbeUVUp",
    "outputId": "1c9692b0-e6f2-4202-9fae-28633efc364e"
   },
   "outputs": [
    {
     "name": "stdout",
     "output_type": "stream",
     "text": [
      "Accuracy:     0.7815\n",
      "Precision:     0.7819\n",
      "Recall:     0.7363\n",
      "\n",
      "               precision    recall  f1-score   support\n",
      "\n",
      "           0       0.78      0.82      0.80      2854\n",
      "           1       0.78      0.74      0.76      2488\n",
      "\n",
      "    accuracy                           0.78      5342\n",
      "   macro avg       0.78      0.78      0.78      5342\n",
      "weighted avg       0.78      0.78      0.78      5342\n",
      "\n"
     ]
    }
   ],
   "source": [
    "print_metrics(y_eval_seasonal, preds_svm_multi[1][:, 1].round())"
   ]
  },
  {
   "cell_type": "code",
   "execution_count": 179,
   "metadata": {},
   "outputs": [
    {
     "name": "stdout",
     "output_type": "stream",
     "text": [
      "AUC = 0.8553729239\n"
     ]
    }
   ],
   "source": [
    "print(f\"AUC = {roc_auc_score(y_eval_seasonal, preds_svm_multi[1][:, 1]):.6f}\")"
   ]
  },
  {
   "cell_type": "code",
   "execution_count": 180,
   "metadata": {
    "colab": {
     "base_uri": "https://localhost:8080/",
     "height": 255
    },
    "id": "_MR0nSt2Ucfu",
    "outputId": "511fff65-f6b8-4e02-e4df-2127426a0525"
   },
   "outputs": [
    {
     "name": "stdout",
     "output_type": "stream",
     "text": [
      "y_preds.shape: (5342, 2)\n"
     ]
    },
    {
     "data": {
      "text/html": [
       "<div>\n",
       "<style scoped>\n",
       "    .dataframe tbody tr th:only-of-type {\n",
       "        vertical-align: middle;\n",
       "    }\n",
       "\n",
       "    .dataframe tbody tr th {\n",
       "        vertical-align: top;\n",
       "    }\n",
       "\n",
       "    .dataframe thead th {\n",
       "        text-align: right;\n",
       "    }\n",
       "</style>\n",
       "<table border=\"1\" class=\"dataframe\">\n",
       "  <thead>\n",
       "    <tr style=\"text-align: right;\">\n",
       "      <th></th>\n",
       "      <th>h1n1_vaccine</th>\n",
       "      <th>seasonal_vaccine</th>\n",
       "    </tr>\n",
       "    <tr>\n",
       "      <th>respondent_id</th>\n",
       "      <th></th>\n",
       "      <th></th>\n",
       "    </tr>\n",
       "  </thead>\n",
       "  <tbody>\n",
       "    <tr>\n",
       "      <th>22317</th>\n",
       "      <td>0.047996</td>\n",
       "      <td>0.394560</td>\n",
       "    </tr>\n",
       "    <tr>\n",
       "      <th>1215</th>\n",
       "      <td>0.358570</td>\n",
       "      <td>0.831767</td>\n",
       "    </tr>\n",
       "    <tr>\n",
       "      <th>10540</th>\n",
       "      <td>0.097042</td>\n",
       "      <td>0.167946</td>\n",
       "    </tr>\n",
       "    <tr>\n",
       "      <th>7407</th>\n",
       "      <td>0.134079</td>\n",
       "      <td>0.200439</td>\n",
       "    </tr>\n",
       "    <tr>\n",
       "      <th>14697</th>\n",
       "      <td>0.126373</td>\n",
       "      <td>0.220943</td>\n",
       "    </tr>\n",
       "  </tbody>\n",
       "</table>\n",
       "</div>"
      ],
      "text/plain": [
       "               h1n1_vaccine  seasonal_vaccine\n",
       "respondent_id                                \n",
       "22317              0.047996          0.394560\n",
       "1215               0.358570          0.831767\n",
       "10540              0.097042          0.167946\n",
       "7407               0.134079          0.200439\n",
       "14697              0.126373          0.220943"
      ]
     },
     "execution_count": 180,
     "metadata": {},
     "output_type": "execute_result"
    }
   ],
   "source": [
    "y_preds_svm_multi = pd.DataFrame(\n",
    "    {\n",
    "        \"h1n1_vaccine\": preds_svm_multi[0][:, 1],\n",
    "        \"seasonal_vaccine\": preds_svm_multi[1][:, 1],\n",
    "    },\n",
    "    index = y_eval.index\n",
    ")\n",
    "print(\"y_preds.shape:\", y_preds_svm_multi.shape)\n",
    "y_preds_svm_multi.head()"
   ]
  },
  {
   "cell_type": "code",
   "execution_count": 181,
   "metadata": {
    "colab": {
     "base_uri": "https://localhost:8080/",
     "height": 357
    },
    "id": "pRk6qSkHUlLj",
    "outputId": "3f87a6df-8b67-43a1-d6d1-16a533822085"
   },
   "outputs": [
    {
     "data": {
      "image/png": "[encoded data removed]",
      "text/plain": [
       "<Figure size 700x350 with 2 Axes>"
      ]
     },
     "metadata": {},
     "output_type": "display_data"
    }
   ],
   "source": [
    "fig, ax = plt.subplots(1, 2, figsize=(7, 3.5))\n",
    "\n",
    "plot_roc(\n",
    "    y_eval['h1n1_vaccine'],\n",
    "    y_preds_svm_multi['h1n1_vaccine'],\n",
    "    'h1n1_vaccine',\n",
    "    ax=ax[0]\n",
    ")\n",
    "plot_roc(\n",
    "    y_eval['seasonal_vaccine'],\n",
    "    y_preds_svm_multi['seasonal_vaccine'],\n",
    "    'seasonal_vaccine',\n",
    "    ax=ax[1]\n",
    ")\n",
    "fig.tight_layout()"
   ]
  },
  {
   "cell_type": "markdown",
   "metadata": {
    "id": "f6VVY8uanW_F"
   },
   "source": [
    "### Algoritmo 4: RandomForest"
   ]
  },
  {
   "cell_type": "code",
   "execution_count": 183,
   "metadata": {
    "colab": {
     "base_uri": "https://localhost:8080/",
     "height": 316
    },
    "id": "g4bKA2PAOZ3A",
    "outputId": "3482dc1d-7985-41d6-9f0b-5d2f0ac13289"
   },
   "outputs": [
    {
     "data": {
      "text/plain": [
       "Pipeline(steps=[('preprocessor',\n",
       "                 ColumnTransformer(transformers=[('numeric',\n",
       "                                                  Pipeline(steps=[('standard_scaler',\n",
       "                                                                   StandardScaler()),\n",
       "                                                                  ('simple_imputer',\n",
       "                                                                   SimpleImputer(strategy='median'))]),\n",
       "                                                  array(['h1n1_concern', 'h1n1_knowledge', 'behavioral_antiviral_meds',\n",
       "       'behavioral_avoidance', 'behavioral_face_mask',\n",
       "       'behavioral_wash_hands', 'behavioral_large_gatherings',\n",
       "       '...\n",
       "       'race_3', 'sex_0', 'sex_1', 'marital_status_0', 'marital_status_1',\n",
       "       'rent_or_own_0', 'rent_or_own_1', 'employment_status_0',\n",
       "       'employment_status_1', 'employment_status_2', 'census_msa_0',\n",
       "       'census_msa_1', 'census_msa_2'], dtype=object))])),\n",
       "                ('estimators',\n",
       "                 MultiOutputClassifier(estimator=RandomForestClassifier(criterion='entropy',\n",
       "                                                                        max_depth=8,\n",
       "                                                                        n_estimators=500,\n",
       "                                                                        random_state=42)))])"
      ]
     },
     "execution_count": 183,
     "metadata": {},
     "output_type": "execute_result"
    }
   ],
   "source": [
    "estimators = MultiOutputClassifier(\n",
    "    estimator=RandomForestClassifier(n_estimators=500, criterion='entropy', max_features='auto', max_depth=8, random_state=RANDOM_SEED)\n",
    ")\n",
    "\n",
    "full_pipeline = Pipeline([\n",
    "    (\"preprocessor\", preprocessor),\n",
    "    (\"estimators\", estimators),\n",
    "])\n",
    "\n",
    "full_pipeline"
   ]
  },
  {
   "cell_type": "code",
   "execution_count": 184,
   "metadata": {
    "colab": {
     "base_uri": "https://localhost:8080/"
    },
    "id": "lm8KRj3dUNwS",
    "outputId": "164f8d65-ab91-4e94-b5fe-29bd02aa31f3"
   },
   "outputs": [
    {
     "data": {
      "text/plain": [
       "[array([[0.9377773 , 0.0622227 ],\n",
       "        [0.50187195, 0.49812805],\n",
       "        [0.9104864 , 0.0895136 ],\n",
       "        ...,\n",
       "        [0.94842652, 0.05157348],\n",
       "        [0.71438912, 0.28561088],\n",
       "        [0.63994231, 0.36005769]]),\n",
       " array([[0.64936741, 0.35063259],\n",
       "        [0.29563974, 0.70436026],\n",
       "        [0.82538033, 0.17461967],\n",
       "        ...,\n",
       "        [0.76817547, 0.23182453],\n",
       "        [0.3836507 , 0.6163493 ],\n",
       "        [0.49005025, 0.50994975]])]"
      ]
     },
     "execution_count": 184,
     "metadata": {},
     "output_type": "execute_result"
    }
   ],
   "source": [
    "# Train model\n",
    "full_pipeline.fit(X_train, y_train)\n",
    "\n",
    "# Predict on evaluation set\n",
    "preds_rf_multi = full_pipeline.predict_proba(X_eval)\n",
    "preds_rf_multi"
   ]
  },
  {
   "cell_type": "code",
   "execution_count": 185,
   "metadata": {
    "colab": {
     "base_uri": "https://localhost:8080/"
    },
    "id": "azp_0KwbUTfc",
    "outputId": "6aff0f53-4516-43b0-d065-9649ee64816f"
   },
   "outputs": [
    {
     "name": "stdout",
     "output_type": "stream",
     "text": [
      "Accuracy:     0.8429\n",
      "Precision:     0.7960\n",
      "Recall:     0.3507\n",
      "\n",
      "               precision    recall  f1-score   support\n",
      "\n",
      "           0       0.85      0.98      0.91      4207\n",
      "           1       0.80      0.35      0.49      1135\n",
      "\n",
      "    accuracy                           0.84      5342\n",
      "   macro avg       0.82      0.66      0.70      5342\n",
      "weighted avg       0.84      0.84      0.82      5342\n",
      "\n"
     ]
    }
   ],
   "source": [
    "print_metrics(y_eval_h1n1, preds_rf_multi[0][:, 1].round())"
   ]
  },
  {
   "cell_type": "code",
   "execution_count": 186,
   "metadata": {},
   "outputs": [
    {
     "name": "stdout",
     "output_type": "stream",
     "text": [
      "AUC = 0.8575409769\n"
     ]
    }
   ],
   "source": [
    "print(f\"AUC = {roc_auc_score(y_eval_h1n1, preds_rf_multi[0][:, 1]):.6f}\")"
   ]
  },
  {
   "cell_type": "code",
   "execution_count": 187,
   "metadata": {
    "colab": {
     "base_uri": "https://localhost:8080/"
    },
    "id": "Axh9URbeUVUp",
    "outputId": "1c9692b0-e6f2-4202-9fae-28633efc364e"
   },
   "outputs": [
    {
     "name": "stdout",
     "output_type": "stream",
     "text": [
      "Accuracy:     0.7703\n",
      "Precision:     0.7784\n",
      "Recall:     0.7086\n",
      "\n",
      "               precision    recall  f1-score   support\n",
      "\n",
      "           0       0.76      0.82      0.79      2854\n",
      "           1       0.78      0.71      0.74      2488\n",
      "\n",
      "    accuracy                           0.77      5342\n",
      "   macro avg       0.77      0.77      0.77      5342\n",
      "weighted avg       0.77      0.77      0.77      5342\n",
      "\n"
     ]
    }
   ],
   "source": [
    "print_metrics(y_eval_seasonal, preds_rf_multi[1][:, 1].round())"
   ]
  },
  {
   "cell_type": "code",
   "execution_count": 188,
   "metadata": {},
   "outputs": [
    {
     "name": "stdout",
     "output_type": "stream",
     "text": [
      "AUC = 0.8495701582\n"
     ]
    }
   ],
   "source": [
    "print(f\"AUC = {roc_auc_score(y_eval_seasonal, preds_rf_multi[1][:, 1]):.6f}\")"
   ]
  },
  {
   "cell_type": "code",
   "execution_count": 189,
   "metadata": {
    "colab": {
     "base_uri": "https://localhost:8080/",
     "height": 255
    },
    "id": "_MR0nSt2Ucfu",
    "outputId": "511fff65-f6b8-4e02-e4df-2127426a0525"
   },
   "outputs": [
    {
     "name": "stdout",
     "output_type": "stream",
     "text": [
      "y_preds.shape: (5342, 2)\n"
     ]
    },
    {
     "data": {
      "text/html": [
       "<div>\n",
       "<style scoped>\n",
       "    .dataframe tbody tr th:only-of-type {\n",
       "        vertical-align: middle;\n",
       "    }\n",
       "\n",
       "    .dataframe tbody tr th {\n",
       "        vertical-align: top;\n",
       "    }\n",
       "\n",
       "    .dataframe thead th {\n",
       "        text-align: right;\n",
       "    }\n",
       "</style>\n",
       "<table border=\"1\" class=\"dataframe\">\n",
       "  <thead>\n",
       "    <tr style=\"text-align: right;\">\n",
       "      <th></th>\n",
       "      <th>h1n1_vaccine</th>\n",
       "      <th>seasonal_vaccine</th>\n",
       "    </tr>\n",
       "    <tr>\n",
       "      <th>respondent_id</th>\n",
       "      <th></th>\n",
       "      <th></th>\n",
       "    </tr>\n",
       "  </thead>\n",
       "  <tbody>\n",
       "    <tr>\n",
       "      <th>22317</th>\n",
       "      <td>0.062223</td>\n",
       "      <td>0.350633</td>\n",
       "    </tr>\n",
       "    <tr>\n",
       "      <th>1215</th>\n",
       "      <td>0.498128</td>\n",
       "      <td>0.704360</td>\n",
       "    </tr>\n",
       "    <tr>\n",
       "      <th>10540</th>\n",
       "      <td>0.089514</td>\n",
       "      <td>0.174620</td>\n",
       "    </tr>\n",
       "    <tr>\n",
       "      <th>7407</th>\n",
       "      <td>0.188101</td>\n",
       "      <td>0.395614</td>\n",
       "    </tr>\n",
       "    <tr>\n",
       "      <th>14697</th>\n",
       "      <td>0.206136</td>\n",
       "      <td>0.390815</td>\n",
       "    </tr>\n",
       "  </tbody>\n",
       "</table>\n",
       "</div>"
      ],
      "text/plain": [
       "               h1n1_vaccine  seasonal_vaccine\n",
       "respondent_id                                \n",
       "22317              0.062223          0.350633\n",
       "1215               0.498128          0.704360\n",
       "10540              0.089514          0.174620\n",
       "7407               0.188101          0.395614\n",
       "14697              0.206136          0.390815"
      ]
     },
     "execution_count": 189,
     "metadata": {},
     "output_type": "execute_result"
    }
   ],
   "source": [
    "y_preds_rf_multi = pd.DataFrame(\n",
    "    {\n",
    "        \"h1n1_vaccine\": preds_rf_multi[0][:, 1],\n",
    "        \"seasonal_vaccine\": preds_rf_multi[1][:, 1],\n",
    "    },\n",
    "    index = y_eval.index\n",
    ")\n",
    "print(\"y_preds.shape:\", y_preds_rf_multi.shape)\n",
    "y_preds_rf_multi.head()"
   ]
  },
  {
   "cell_type": "code",
   "execution_count": 190,
   "metadata": {
    "colab": {
     "base_uri": "https://localhost:8080/",
     "height": 357
    },
    "id": "pRk6qSkHUlLj",
    "outputId": "3f87a6df-8b67-43a1-d6d1-16a533822085"
   },
   "outputs": [
    {
     "data": {
      "image/png": "[encoded data removed]",
      "text/plain": [
       "<Figure size 700x350 with 2 Axes>"
      ]
     },
     "metadata": {},
     "output_type": "display_data"
    }
   ],
   "source": [
    "fig, ax = plt.subplots(1, 2, figsize=(7, 3.5))\n",
    "\n",
    "plot_roc(\n",
    "    y_eval['h1n1_vaccine'],\n",
    "    y_preds_rf_multi['h1n1_vaccine'],\n",
    "    'h1n1_vaccine',\n",
    "    ax=ax[0]\n",
    ")\n",
    "plot_roc(\n",
    "    y_eval['seasonal_vaccine'],\n",
    "    y_preds_rf_multi['seasonal_vaccine'],\n",
    "    'seasonal_vaccine',\n",
    "    ax=ax[1]\n",
    ")\n",
    "fig.tight_layout()"
   ]
  }
 ],
 "metadata": {
  "colab": {
   "provenance": [],
   "toc_visible": true
  },
  "kernelspec": {
   "display_name": "Python 3 (ipykernel)",
   "language": "python",
   "name": "python3"
  },
  "language_info": {
   "codemirror_mode": {
    "name": "ipython",
    "version": 3
   },
   "file_extension": ".py",
   "mimetype": "text/x-python",
   "name": "python",
   "nbconvert_exporter": "python",
   "pygments_lexer": "ipython3",
   "version": "3.9.13"
  }
 },
 "nbformat": 4,
 "nbformat_minor": 4
}
